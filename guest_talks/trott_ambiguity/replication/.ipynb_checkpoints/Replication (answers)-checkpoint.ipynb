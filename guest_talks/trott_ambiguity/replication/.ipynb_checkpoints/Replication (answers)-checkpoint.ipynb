{
 "cells": [
  {
   "cell_type": "markdown",
   "id": "33421e4b",
   "metadata": {},
   "source": [
    "# Replication Analysis\n",
    "\n",
    "### Partial replication of [Trott & Bergen (2022)](https://www.sciencedirect.com/science/article/pii/S0010027722000828). "
   ]
  },
  {
   "cell_type": "markdown",
   "id": "0a1bb3c7",
   "metadata": {},
   "source": [
    "### Load libraries"
   ]
  },
  {
   "cell_type": "code",
   "execution_count": 236,
   "id": "21ad7cff",
   "metadata": {},
   "outputs": [],
   "source": [
    "import matplotlib.pyplot as plt\n",
    "import numpy as np\n",
    "import pandas as pd\n",
    "import seaborn as sns\n",
    "import statsmodels.api as sm\n",
    "import statsmodels.formula.api as smf"
   ]
  },
  {
   "cell_type": "code",
   "execution_count": 237,
   "id": "02a0c91c",
   "metadata": {},
   "outputs": [],
   "source": [
    "%matplotlib inline\n",
    "%config InlineBackend.figure_format = 'retina'  # makes figs nicer!"
   ]
  },
  {
   "cell_type": "markdown",
   "id": "c564144c",
   "metadata": {},
   "source": [
    "### Load data"
   ]
  },
  {
   "cell_type": "code",
   "execution_count": 238,
   "id": "43c7ab86",
   "metadata": {
    "scrolled": true
   },
   "outputs": [
    {
     "data": {
      "text/html": [
       "<div>\n",
       "<style scoped>\n",
       "    .dataframe tbody tr th:only-of-type {\n",
       "        vertical-align: middle;\n",
       "    }\n",
       "\n",
       "    .dataframe tbody tr th {\n",
       "        vertical-align: top;\n",
       "    }\n",
       "\n",
       "    .dataframe thead th {\n",
       "        text-align: right;\n",
       "    }\n",
       "</style>\n",
       "<table border=\"1\" class=\"dataframe\">\n",
       "  <thead>\n",
       "    <tr style=\"text-align: right;\">\n",
       "      <th></th>\n",
       "      <th>Word</th>\n",
       "      <th>PhonDISC</th>\n",
       "      <th>num_sylls_est</th>\n",
       "      <th>num_homophones</th>\n",
       "      <th>neighborhood_size</th>\n",
       "      <th>p_normalized</th>\n",
       "      <th>meanings</th>\n",
       "      <th>num_phones</th>\n",
       "      <th>normalized_surprisal</th>\n",
       "    </tr>\n",
       "  </thead>\n",
       "  <tbody>\n",
       "    <tr>\n",
       "      <th>0</th>\n",
       "      <td>a</td>\n",
       "      <td>1</td>\n",
       "      <td>1</td>\n",
       "      <td>6</td>\n",
       "      <td>34</td>\n",
       "      <td>0.000382</td>\n",
       "      <td>7</td>\n",
       "      <td>1</td>\n",
       "      <td>5.240941</td>\n",
       "    </tr>\n",
       "    <tr>\n",
       "      <th>1</th>\n",
       "      <td>able</td>\n",
       "      <td>1bP</td>\n",
       "      <td>1</td>\n",
       "      <td>0</td>\n",
       "      <td>8</td>\n",
       "      <td>0.000135</td>\n",
       "      <td>1</td>\n",
       "      <td>3</td>\n",
       "      <td>1.898020</td>\n",
       "    </tr>\n",
       "    <tr>\n",
       "      <th>2</th>\n",
       "      <td>ace</td>\n",
       "      <td>1s</td>\n",
       "      <td>1</td>\n",
       "      <td>0</td>\n",
       "      <td>26</td>\n",
       "      <td>0.000307</td>\n",
       "      <td>1</td>\n",
       "      <td>2</td>\n",
       "      <td>2.668154</td>\n",
       "    </tr>\n",
       "    <tr>\n",
       "      <th>3</th>\n",
       "      <td>ache</td>\n",
       "      <td>1k</td>\n",
       "      <td>1</td>\n",
       "      <td>1</td>\n",
       "      <td>25</td>\n",
       "      <td>0.000436</td>\n",
       "      <td>2</td>\n",
       "      <td>2</td>\n",
       "      <td>2.592028</td>\n",
       "    </tr>\n",
       "    <tr>\n",
       "      <th>4</th>\n",
       "      <td>act</td>\n",
       "      <td>{kt</td>\n",
       "      <td>1</td>\n",
       "      <td>1</td>\n",
       "      <td>9</td>\n",
       "      <td>0.000088</td>\n",
       "      <td>2</td>\n",
       "      <td>3</td>\n",
       "      <td>1.958978</td>\n",
       "    </tr>\n",
       "  </tbody>\n",
       "</table>\n",
       "</div>"
      ],
      "text/plain": [
       "   Word PhonDISC  num_sylls_est  num_homophones  neighborhood_size  \\\n",
       "0     a        1              1               6                 34   \n",
       "1  able      1bP              1               0                  8   \n",
       "2   ace       1s              1               0                 26   \n",
       "3  ache       1k              1               1                 25   \n",
       "4   act      {kt              1               1                  9   \n",
       "\n",
       "   p_normalized  meanings  num_phones  normalized_surprisal  \n",
       "0      0.000382         7           1              5.240941  \n",
       "1      0.000135         1           3              1.898020  \n",
       "2      0.000307         1           2              2.668154  \n",
       "3      0.000436         2           2              2.592028  \n",
       "4      0.000088         2           3              1.958978  "
      ]
     },
     "execution_count": 238,
     "metadata": {},
     "output_type": "execute_result"
    }
   ],
   "source": [
    "df_homophones = pd.read_csv(\"data/homophones.csv\")\n",
    "df_homophones.head(5)"
   ]
  },
  {
   "cell_type": "code",
   "execution_count": 239,
   "id": "4908fc07",
   "metadata": {},
   "outputs": [
    {
     "data": {
      "text/html": [
       "<div>\n",
       "<style scoped>\n",
       "    .dataframe tbody tr th:only-of-type {\n",
       "        vertical-align: middle;\n",
       "    }\n",
       "\n",
       "    .dataframe tbody tr th {\n",
       "        vertical-align: top;\n",
       "    }\n",
       "\n",
       "    .dataframe thead th {\n",
       "        text-align: right;\n",
       "    }\n",
       "</style>\n",
       "<table border=\"1\" class=\"dataframe\">\n",
       "  <thead>\n",
       "    <tr style=\"text-align: right;\">\n",
       "      <th></th>\n",
       "      <th>PhonDISC</th>\n",
       "      <th>wordform_frequency</th>\n",
       "    </tr>\n",
       "  </thead>\n",
       "  <tbody>\n",
       "    <tr>\n",
       "      <th>0</th>\n",
       "      <td>#</td>\n",
       "      <td>1208</td>\n",
       "    </tr>\n",
       "    <tr>\n",
       "      <th>1</th>\n",
       "      <td>#\"tIkjUl1SH</td>\n",
       "      <td>29</td>\n",
       "    </tr>\n",
       "    <tr>\n",
       "      <th>2</th>\n",
       "      <td>#\"tizj@nwEl</td>\n",
       "      <td>1</td>\n",
       "    </tr>\n",
       "    <tr>\n",
       "      <th>3</th>\n",
       "      <td>#J@R</td>\n",
       "      <td>113</td>\n",
       "    </tr>\n",
       "    <tr>\n",
       "      <th>4</th>\n",
       "      <td>#J@rI</td>\n",
       "      <td>9</td>\n",
       "    </tr>\n",
       "  </tbody>\n",
       "</table>\n",
       "</div>"
      ],
      "text/plain": [
       "      PhonDISC  wordform_frequency\n",
       "0            #                1208\n",
       "1  #\"tIkjUl1SH                  29\n",
       "2  #\"tizj@nwEl                   1\n",
       "3         #J@R                 113\n",
       "4        #J@rI                   9"
      ]
     },
     "execution_count": 239,
     "metadata": {},
     "output_type": "execute_result"
    }
   ],
   "source": [
    "df_frequency_sum = pd.read_csv(\"data/wordform_frequency.csv\")\n",
    "df_frequency_sum.head(5)"
   ]
  },
  {
   "cell_type": "markdown",
   "id": "1709cd91",
   "metadata": {},
   "source": [
    "## Part 1: Descriptive statistics"
   ]
  },
  {
   "cell_type": "markdown",
   "id": "e45d87e2",
   "metadata": {},
   "source": [
    "##### Use `sns.histplot` to plot out the distribution of `meanings`."
   ]
  },
  {
   "cell_type": "code",
   "execution_count": 240,
   "id": "5ef950ee",
   "metadata": {},
   "outputs": [],
   "source": [
    "#### Your code here"
   ]
  },
  {
   "cell_type": "code",
   "execution_count": 241,
   "id": "3171ccd4",
   "metadata": {},
   "outputs": [
    {
     "data": {
      "text/plain": [
       "<AxesSubplot:xlabel='meanings', ylabel='Count'>"
      ]
     },
     "execution_count": 241,
     "metadata": {},
     "output_type": "execute_result"
    },
    {
     "data": {
      "image/png": "[encoded data removed]",
      "text/plain": [
       "<Figure size 432x288 with 1 Axes>"
      ]
     },
     "metadata": {
      "image/png": {
       "height": 261,
       "width": 401
      },
      "needs_background": "light"
     },
     "output_type": "display_data"
    }
   ],
   "source": [
    "sns.histplot(data = df_homophones, x = 'meanings')"
   ]
  },
  {
   "cell_type": "markdown",
   "id": "b730e4da",
   "metadata": {},
   "source": [
    "##### Use `sns.histplot` to plot out the distribution of `num_sylls_est`."
   ]
  },
  {
   "cell_type": "code",
   "execution_count": 242,
   "id": "7953b769",
   "metadata": {},
   "outputs": [],
   "source": [
    "#### Your code here"
   ]
  },
  {
   "cell_type": "code",
   "execution_count": 243,
   "id": "796fcc91",
   "metadata": {},
   "outputs": [
    {
     "data": {
      "text/plain": [
       "<AxesSubplot:xlabel='num_sylls_est', ylabel='Count'>"
      ]
     },
     "execution_count": 243,
     "metadata": {},
     "output_type": "execute_result"
    },
    {
     "data": {
      "image/png": "[encoded data removed]",
      "text/plain": [
       "<Figure size 432x288 with 1 Axes>"
      ]
     },
     "metadata": {
      "image/png": {
       "height": 262,
       "width": 401
      },
      "needs_background": "light"
     },
     "output_type": "display_data"
    }
   ],
   "source": [
    "sns.histplot(data = df_homophones, x = 'num_sylls_est')"
   ]
  },
  {
   "cell_type": "markdown",
   "id": "c1202b75",
   "metadata": {},
   "source": [
    "##### Use `sns.lineplot` to plot out `meanings ~ num_sylls_est`. "
   ]
  },
  {
   "cell_type": "code",
   "execution_count": 244,
   "id": "623063c9",
   "metadata": {},
   "outputs": [],
   "source": [
    "#### Your code here"
   ]
  },
  {
   "cell_type": "code",
   "execution_count": 245,
   "id": "6c0f2d57",
   "metadata": {},
   "outputs": [
    {
     "data": {
      "text/plain": [
       "<AxesSubplot:xlabel='num_sylls_est', ylabel='meanings'>"
      ]
     },
     "execution_count": 245,
     "metadata": {},
     "output_type": "execute_result"
    },
    {
     "data": {
      "image/png": "[encoded data removed]",
      "text/plain": [
       "<Figure size 432x288 with 1 Axes>"
      ]
     },
     "metadata": {
      "image/png": {
       "height": 262,
       "width": 385
      },
      "needs_background": "light"
     },
     "output_type": "display_data"
    }
   ],
   "source": [
    "sns.lineplot(data = df_homophones, x = 'num_sylls_est', y = 'meanings')"
   ]
  },
  {
   "cell_type": "markdown",
   "id": "4fc38119",
   "metadata": {},
   "source": [
    "## Part 2: Calculate expected number of meanings per wordform."
   ]
  },
  {
   "cell_type": "markdown",
   "id": "788b8065",
   "metadata": {},
   "source": [
    "##### Use `groupby` and `sum()` to figure out how many meanings are assigned to wordforms with different number of syllables."
   ]
  },
  {
   "cell_type": "code",
   "execution_count": 246,
   "id": "fd8ba7fc",
   "metadata": {},
   "outputs": [],
   "source": [
    "#### Your response here"
   ]
  },
  {
   "cell_type": "code",
   "execution_count": 247,
   "id": "6425b48a",
   "metadata": {},
   "outputs": [
    {
     "data": {
      "text/html": [
       "<div>\n",
       "<style scoped>\n",
       "    .dataframe tbody tr th:only-of-type {\n",
       "        vertical-align: middle;\n",
       "    }\n",
       "\n",
       "    .dataframe tbody tr th {\n",
       "        vertical-align: top;\n",
       "    }\n",
       "\n",
       "    .dataframe thead th {\n",
       "        text-align: right;\n",
       "    }\n",
       "</style>\n",
       "<table border=\"1\" class=\"dataframe\">\n",
       "  <thead>\n",
       "    <tr style=\"text-align: right;\">\n",
       "      <th></th>\n",
       "      <th>num_sylls_est</th>\n",
       "      <th>M</th>\n",
       "    </tr>\n",
       "  </thead>\n",
       "  <tbody>\n",
       "    <tr>\n",
       "      <th>0</th>\n",
       "      <td>1</td>\n",
       "      <td>7706</td>\n",
       "    </tr>\n",
       "    <tr>\n",
       "      <th>1</th>\n",
       "      <td>2</td>\n",
       "      <td>15247</td>\n",
       "    </tr>\n",
       "    <tr>\n",
       "      <th>2</th>\n",
       "      <td>3</td>\n",
       "      <td>11379</td>\n",
       "    </tr>\n",
       "    <tr>\n",
       "      <th>3</th>\n",
       "      <td>4</td>\n",
       "      <td>5316</td>\n",
       "    </tr>\n",
       "    <tr>\n",
       "      <th>4</th>\n",
       "      <td>5</td>\n",
       "      <td>1694</td>\n",
       "    </tr>\n",
       "  </tbody>\n",
       "</table>\n",
       "</div>"
      ],
      "text/plain": [
       "   num_sylls_est      M\n",
       "0              1   7706\n",
       "1              2  15247\n",
       "2              3  11379\n",
       "3              4   5316\n",
       "4              5   1694"
      ]
     },
     "execution_count": 247,
     "metadata": {},
     "output_type": "execute_result"
    }
   ],
   "source": [
    "df_sum = df_homophones[['num_sylls_est', 'meanings']].groupby(\n",
    "    'num_sylls_est', as_index = False).sum()\n",
    "df_sum['M'] = df_sum['meanings']\n",
    "df_sum = df_sum[['num_sylls_est', 'M']]\n",
    "df_sum.head(5)"
   ]
  },
  {
   "cell_type": "markdown",
   "id": "3a38574f",
   "metadata": {},
   "source": [
    "##### Now, merge this new dataframe from `df_homophones` using `pd.merge`.  "
   ]
  },
  {
   "cell_type": "code",
   "execution_count": 248,
   "id": "875f20eb",
   "metadata": {},
   "outputs": [],
   "source": [
    "#### Your response here"
   ]
  },
  {
   "cell_type": "code",
   "execution_count": 249,
   "id": "562666aa",
   "metadata": {},
   "outputs": [
    {
     "data": {
      "text/html": [
       "<div>\n",
       "<style scoped>\n",
       "    .dataframe tbody tr th:only-of-type {\n",
       "        vertical-align: middle;\n",
       "    }\n",
       "\n",
       "    .dataframe tbody tr th {\n",
       "        vertical-align: top;\n",
       "    }\n",
       "\n",
       "    .dataframe thead th {\n",
       "        text-align: right;\n",
       "    }\n",
       "</style>\n",
       "<table border=\"1\" class=\"dataframe\">\n",
       "  <thead>\n",
       "    <tr style=\"text-align: right;\">\n",
       "      <th></th>\n",
       "      <th>Word</th>\n",
       "      <th>PhonDISC</th>\n",
       "      <th>num_sylls_est</th>\n",
       "      <th>num_homophones</th>\n",
       "      <th>neighborhood_size</th>\n",
       "      <th>p_normalized</th>\n",
       "      <th>meanings</th>\n",
       "      <th>num_phones</th>\n",
       "      <th>normalized_surprisal</th>\n",
       "      <th>M</th>\n",
       "    </tr>\n",
       "  </thead>\n",
       "  <tbody>\n",
       "    <tr>\n",
       "      <th>0</th>\n",
       "      <td>a</td>\n",
       "      <td>1</td>\n",
       "      <td>1</td>\n",
       "      <td>6</td>\n",
       "      <td>34</td>\n",
       "      <td>0.000382</td>\n",
       "      <td>7</td>\n",
       "      <td>1</td>\n",
       "      <td>5.240941</td>\n",
       "      <td>7706</td>\n",
       "    </tr>\n",
       "    <tr>\n",
       "      <th>1</th>\n",
       "      <td>able</td>\n",
       "      <td>1bP</td>\n",
       "      <td>1</td>\n",
       "      <td>0</td>\n",
       "      <td>8</td>\n",
       "      <td>0.000135</td>\n",
       "      <td>1</td>\n",
       "      <td>3</td>\n",
       "      <td>1.898020</td>\n",
       "      <td>7706</td>\n",
       "    </tr>\n",
       "    <tr>\n",
       "      <th>2</th>\n",
       "      <td>ace</td>\n",
       "      <td>1s</td>\n",
       "      <td>1</td>\n",
       "      <td>0</td>\n",
       "      <td>26</td>\n",
       "      <td>0.000307</td>\n",
       "      <td>1</td>\n",
       "      <td>2</td>\n",
       "      <td>2.668154</td>\n",
       "      <td>7706</td>\n",
       "    </tr>\n",
       "    <tr>\n",
       "      <th>3</th>\n",
       "      <td>ache</td>\n",
       "      <td>1k</td>\n",
       "      <td>1</td>\n",
       "      <td>1</td>\n",
       "      <td>25</td>\n",
       "      <td>0.000436</td>\n",
       "      <td>2</td>\n",
       "      <td>2</td>\n",
       "      <td>2.592028</td>\n",
       "      <td>7706</td>\n",
       "    </tr>\n",
       "    <tr>\n",
       "      <th>4</th>\n",
       "      <td>act</td>\n",
       "      <td>{kt</td>\n",
       "      <td>1</td>\n",
       "      <td>1</td>\n",
       "      <td>9</td>\n",
       "      <td>0.000088</td>\n",
       "      <td>2</td>\n",
       "      <td>3</td>\n",
       "      <td>1.958978</td>\n",
       "      <td>7706</td>\n",
       "    </tr>\n",
       "  </tbody>\n",
       "</table>\n",
       "</div>"
      ],
      "text/plain": [
       "   Word PhonDISC  num_sylls_est  num_homophones  neighborhood_size  \\\n",
       "0     a        1              1               6                 34   \n",
       "1  able      1bP              1               0                  8   \n",
       "2   ace       1s              1               0                 26   \n",
       "3  ache       1k              1               1                 25   \n",
       "4   act      {kt              1               1                  9   \n",
       "\n",
       "   p_normalized  meanings  num_phones  normalized_surprisal     M  \n",
       "0      0.000382         7           1              5.240941  7706  \n",
       "1      0.000135         1           3              1.898020  7706  \n",
       "2      0.000307         1           2              2.668154  7706  \n",
       "3      0.000436         2           2              2.592028  7706  \n",
       "4      0.000088         2           3              1.958978  7706  "
      ]
     },
     "execution_count": 249,
     "metadata": {},
     "output_type": "execute_result"
    }
   ],
   "source": [
    "df_merged = pd.merge(df_homophones, df_sum)\n",
    "df_merged.head(5)"
   ]
  },
  {
   "cell_type": "markdown",
   "id": "8aab99ed",
   "metadata": {},
   "source": [
    "##### Calculate the expected number of meanings for each wordform.\n",
    "\n",
    "This is calculated as:\n",
    "\n",
    "$E_w = M * p(w)$, where $p(w)$ corresponds to `p_normalized`. "
   ]
  },
  {
   "cell_type": "code",
   "execution_count": 250,
   "id": "60baefa7",
   "metadata": {},
   "outputs": [],
   "source": [
    "#### Your response here"
   ]
  },
  {
   "cell_type": "code",
   "execution_count": 251,
   "id": "9e1abdf2",
   "metadata": {},
   "outputs": [
    {
     "data": {
      "text/html": [
       "<div>\n",
       "<style scoped>\n",
       "    .dataframe tbody tr th:only-of-type {\n",
       "        vertical-align: middle;\n",
       "    }\n",
       "\n",
       "    .dataframe tbody tr th {\n",
       "        vertical-align: top;\n",
       "    }\n",
       "\n",
       "    .dataframe thead th {\n",
       "        text-align: right;\n",
       "    }\n",
       "</style>\n",
       "<table border=\"1\" class=\"dataframe\">\n",
       "  <thead>\n",
       "    <tr style=\"text-align: right;\">\n",
       "      <th></th>\n",
       "      <th>Word</th>\n",
       "      <th>PhonDISC</th>\n",
       "      <th>num_sylls_est</th>\n",
       "      <th>num_homophones</th>\n",
       "      <th>neighborhood_size</th>\n",
       "      <th>p_normalized</th>\n",
       "      <th>meanings</th>\n",
       "      <th>num_phones</th>\n",
       "      <th>normalized_surprisal</th>\n",
       "      <th>M</th>\n",
       "      <th>expected</th>\n",
       "    </tr>\n",
       "  </thead>\n",
       "  <tbody>\n",
       "    <tr>\n",
       "      <th>0</th>\n",
       "      <td>a</td>\n",
       "      <td>1</td>\n",
       "      <td>1</td>\n",
       "      <td>6</td>\n",
       "      <td>34</td>\n",
       "      <td>0.000382</td>\n",
       "      <td>7</td>\n",
       "      <td>1</td>\n",
       "      <td>5.240941</td>\n",
       "      <td>7706</td>\n",
       "      <td>2.945007</td>\n",
       "    </tr>\n",
       "    <tr>\n",
       "      <th>1</th>\n",
       "      <td>able</td>\n",
       "      <td>1bP</td>\n",
       "      <td>1</td>\n",
       "      <td>0</td>\n",
       "      <td>8</td>\n",
       "      <td>0.000135</td>\n",
       "      <td>1</td>\n",
       "      <td>3</td>\n",
       "      <td>1.898020</td>\n",
       "      <td>7706</td>\n",
       "      <td>1.037453</td>\n",
       "    </tr>\n",
       "    <tr>\n",
       "      <th>2</th>\n",
       "      <td>ace</td>\n",
       "      <td>1s</td>\n",
       "      <td>1</td>\n",
       "      <td>0</td>\n",
       "      <td>26</td>\n",
       "      <td>0.000307</td>\n",
       "      <td>1</td>\n",
       "      <td>2</td>\n",
       "      <td>2.668154</td>\n",
       "      <td>7706</td>\n",
       "      <td>2.364392</td>\n",
       "    </tr>\n",
       "    <tr>\n",
       "      <th>3</th>\n",
       "      <td>ache</td>\n",
       "      <td>1k</td>\n",
       "      <td>1</td>\n",
       "      <td>1</td>\n",
       "      <td>25</td>\n",
       "      <td>0.000436</td>\n",
       "      <td>2</td>\n",
       "      <td>2</td>\n",
       "      <td>2.592028</td>\n",
       "      <td>7706</td>\n",
       "      <td>3.357148</td>\n",
       "    </tr>\n",
       "    <tr>\n",
       "      <th>4</th>\n",
       "      <td>act</td>\n",
       "      <td>{kt</td>\n",
       "      <td>1</td>\n",
       "      <td>1</td>\n",
       "      <td>9</td>\n",
       "      <td>0.000088</td>\n",
       "      <td>2</td>\n",
       "      <td>3</td>\n",
       "      <td>1.958978</td>\n",
       "      <td>7706</td>\n",
       "      <td>0.680917</td>\n",
       "    </tr>\n",
       "  </tbody>\n",
       "</table>\n",
       "</div>"
      ],
      "text/plain": [
       "   Word PhonDISC  num_sylls_est  num_homophones  neighborhood_size  \\\n",
       "0     a        1              1               6                 34   \n",
       "1  able      1bP              1               0                  8   \n",
       "2   ace       1s              1               0                 26   \n",
       "3  ache       1k              1               1                 25   \n",
       "4   act      {kt              1               1                  9   \n",
       "\n",
       "   p_normalized  meanings  num_phones  normalized_surprisal     M  expected  \n",
       "0      0.000382         7           1              5.240941  7706  2.945007  \n",
       "1      0.000135         1           3              1.898020  7706  1.037453  \n",
       "2      0.000307         1           2              2.668154  7706  2.364392  \n",
       "3      0.000436         2           2              2.592028  7706  3.357148  \n",
       "4      0.000088         2           3              1.958978  7706  0.680917  "
      ]
     },
     "execution_count": 251,
     "metadata": {},
     "output_type": "execute_result"
    }
   ],
   "source": [
    "df_merged['expected'] = df_merged['M'] * df_merged['p_normalized']\n",
    "df_merged.head(5)"
   ]
  },
  {
   "cell_type": "markdown",
   "id": "3d8827ea",
   "metadata": {},
   "source": [
    "##### Finally, calculate homophony delta: the difference between `meanings` and `expected`."
   ]
  },
  {
   "cell_type": "code",
   "execution_count": 252,
   "id": "ecf07177",
   "metadata": {},
   "outputs": [],
   "source": [
    "#### Your response here"
   ]
  },
  {
   "cell_type": "code",
   "execution_count": 253,
   "id": "3f69666d",
   "metadata": {},
   "outputs": [
    {
     "data": {
      "text/html": [
       "<div>\n",
       "<style scoped>\n",
       "    .dataframe tbody tr th:only-of-type {\n",
       "        vertical-align: middle;\n",
       "    }\n",
       "\n",
       "    .dataframe tbody tr th {\n",
       "        vertical-align: top;\n",
       "    }\n",
       "\n",
       "    .dataframe thead th {\n",
       "        text-align: right;\n",
       "    }\n",
       "</style>\n",
       "<table border=\"1\" class=\"dataframe\">\n",
       "  <thead>\n",
       "    <tr style=\"text-align: right;\">\n",
       "      <th></th>\n",
       "      <th>Word</th>\n",
       "      <th>PhonDISC</th>\n",
       "      <th>num_sylls_est</th>\n",
       "      <th>num_homophones</th>\n",
       "      <th>neighborhood_size</th>\n",
       "      <th>p_normalized</th>\n",
       "      <th>meanings</th>\n",
       "      <th>num_phones</th>\n",
       "      <th>normalized_surprisal</th>\n",
       "      <th>M</th>\n",
       "      <th>expected</th>\n",
       "      <th>delta</th>\n",
       "    </tr>\n",
       "  </thead>\n",
       "  <tbody>\n",
       "    <tr>\n",
       "      <th>0</th>\n",
       "      <td>a</td>\n",
       "      <td>1</td>\n",
       "      <td>1</td>\n",
       "      <td>6</td>\n",
       "      <td>34</td>\n",
       "      <td>0.000382</td>\n",
       "      <td>7</td>\n",
       "      <td>1</td>\n",
       "      <td>5.240941</td>\n",
       "      <td>7706</td>\n",
       "      <td>2.945007</td>\n",
       "      <td>4.054993</td>\n",
       "    </tr>\n",
       "    <tr>\n",
       "      <th>1</th>\n",
       "      <td>able</td>\n",
       "      <td>1bP</td>\n",
       "      <td>1</td>\n",
       "      <td>0</td>\n",
       "      <td>8</td>\n",
       "      <td>0.000135</td>\n",
       "      <td>1</td>\n",
       "      <td>3</td>\n",
       "      <td>1.898020</td>\n",
       "      <td>7706</td>\n",
       "      <td>1.037453</td>\n",
       "      <td>-0.037453</td>\n",
       "    </tr>\n",
       "    <tr>\n",
       "      <th>2</th>\n",
       "      <td>ace</td>\n",
       "      <td>1s</td>\n",
       "      <td>1</td>\n",
       "      <td>0</td>\n",
       "      <td>26</td>\n",
       "      <td>0.000307</td>\n",
       "      <td>1</td>\n",
       "      <td>2</td>\n",
       "      <td>2.668154</td>\n",
       "      <td>7706</td>\n",
       "      <td>2.364392</td>\n",
       "      <td>-1.364392</td>\n",
       "    </tr>\n",
       "    <tr>\n",
       "      <th>3</th>\n",
       "      <td>ache</td>\n",
       "      <td>1k</td>\n",
       "      <td>1</td>\n",
       "      <td>1</td>\n",
       "      <td>25</td>\n",
       "      <td>0.000436</td>\n",
       "      <td>2</td>\n",
       "      <td>2</td>\n",
       "      <td>2.592028</td>\n",
       "      <td>7706</td>\n",
       "      <td>3.357148</td>\n",
       "      <td>-1.357148</td>\n",
       "    </tr>\n",
       "    <tr>\n",
       "      <th>4</th>\n",
       "      <td>act</td>\n",
       "      <td>{kt</td>\n",
       "      <td>1</td>\n",
       "      <td>1</td>\n",
       "      <td>9</td>\n",
       "      <td>0.000088</td>\n",
       "      <td>2</td>\n",
       "      <td>3</td>\n",
       "      <td>1.958978</td>\n",
       "      <td>7706</td>\n",
       "      <td>0.680917</td>\n",
       "      <td>1.319083</td>\n",
       "    </tr>\n",
       "  </tbody>\n",
       "</table>\n",
       "</div>"
      ],
      "text/plain": [
       "   Word PhonDISC  num_sylls_est  num_homophones  neighborhood_size  \\\n",
       "0     a        1              1               6                 34   \n",
       "1  able      1bP              1               0                  8   \n",
       "2   ace       1s              1               0                 26   \n",
       "3  ache       1k              1               1                 25   \n",
       "4   act      {kt              1               1                  9   \n",
       "\n",
       "   p_normalized  meanings  num_phones  normalized_surprisal     M  expected  \\\n",
       "0      0.000382         7           1              5.240941  7706  2.945007   \n",
       "1      0.000135         1           3              1.898020  7706  1.037453   \n",
       "2      0.000307         1           2              2.668154  7706  2.364392   \n",
       "3      0.000436         2           2              2.592028  7706  3.357148   \n",
       "4      0.000088         2           3              1.958978  7706  0.680917   \n",
       "\n",
       "      delta  \n",
       "0  4.054993  \n",
       "1 -0.037453  \n",
       "2 -1.364392  \n",
       "3 -1.357148  \n",
       "4  1.319083  "
      ]
     },
     "execution_count": 253,
     "metadata": {},
     "output_type": "execute_result"
    }
   ],
   "source": [
    "df_merged['delta'] = df_merged['meanings'] - df_merged['expected']\n",
    "df_merged.head(5)"
   ]
  },
  {
   "cell_type": "markdown",
   "id": "9b6b5cb0",
   "metadata": {},
   "source": [
    "## Part 3: Merge with frequency data"
   ]
  },
  {
   "cell_type": "markdown",
   "id": "61a234bb",
   "metadata": {},
   "source": [
    "##### Now, we need to merge with our frequency data. Use `pd.merge`."
   ]
  },
  {
   "cell_type": "code",
   "execution_count": 254,
   "id": "f1795b40",
   "metadata": {},
   "outputs": [],
   "source": [
    "#### Your response here"
   ]
  },
  {
   "cell_type": "code",
   "execution_count": 255,
   "id": "6b077f92",
   "metadata": {},
   "outputs": [
    {
     "data": {
      "text/html": [
       "<div>\n",
       "<style scoped>\n",
       "    .dataframe tbody tr th:only-of-type {\n",
       "        vertical-align: middle;\n",
       "    }\n",
       "\n",
       "    .dataframe tbody tr th {\n",
       "        vertical-align: top;\n",
       "    }\n",
       "\n",
       "    .dataframe thead th {\n",
       "        text-align: right;\n",
       "    }\n",
       "</style>\n",
       "<table border=\"1\" class=\"dataframe\">\n",
       "  <thead>\n",
       "    <tr style=\"text-align: right;\">\n",
       "      <th></th>\n",
       "      <th>Word</th>\n",
       "      <th>PhonDISC</th>\n",
       "      <th>num_sylls_est</th>\n",
       "      <th>num_homophones</th>\n",
       "      <th>neighborhood_size</th>\n",
       "      <th>p_normalized</th>\n",
       "      <th>meanings</th>\n",
       "      <th>num_phones</th>\n",
       "      <th>normalized_surprisal</th>\n",
       "      <th>M</th>\n",
       "      <th>expected</th>\n",
       "      <th>delta</th>\n",
       "      <th>wordform_frequency</th>\n",
       "    </tr>\n",
       "  </thead>\n",
       "  <tbody>\n",
       "    <tr>\n",
       "      <th>0</th>\n",
       "      <td>a</td>\n",
       "      <td>1</td>\n",
       "      <td>1</td>\n",
       "      <td>6</td>\n",
       "      <td>34</td>\n",
       "      <td>0.000382</td>\n",
       "      <td>7</td>\n",
       "      <td>1</td>\n",
       "      <td>5.240941</td>\n",
       "      <td>7706</td>\n",
       "      <td>2.945007</td>\n",
       "      <td>4.054993</td>\n",
       "      <td>1267039</td>\n",
       "    </tr>\n",
       "    <tr>\n",
       "      <th>1</th>\n",
       "      <td>able</td>\n",
       "      <td>1bP</td>\n",
       "      <td>1</td>\n",
       "      <td>0</td>\n",
       "      <td>8</td>\n",
       "      <td>0.000135</td>\n",
       "      <td>1</td>\n",
       "      <td>3</td>\n",
       "      <td>1.898020</td>\n",
       "      <td>7706</td>\n",
       "      <td>1.037453</td>\n",
       "      <td>-0.037453</td>\n",
       "      <td>5888</td>\n",
       "    </tr>\n",
       "    <tr>\n",
       "      <th>2</th>\n",
       "      <td>ache</td>\n",
       "      <td>1k</td>\n",
       "      <td>1</td>\n",
       "      <td>1</td>\n",
       "      <td>25</td>\n",
       "      <td>0.000436</td>\n",
       "      <td>2</td>\n",
       "      <td>2</td>\n",
       "      <td>2.592028</td>\n",
       "      <td>7706</td>\n",
       "      <td>3.357148</td>\n",
       "      <td>-1.357148</td>\n",
       "      <td>306</td>\n",
       "    </tr>\n",
       "    <tr>\n",
       "      <th>3</th>\n",
       "      <td>act</td>\n",
       "      <td>{kt</td>\n",
       "      <td>1</td>\n",
       "      <td>1</td>\n",
       "      <td>9</td>\n",
       "      <td>0.000088</td>\n",
       "      <td>2</td>\n",
       "      <td>3</td>\n",
       "      <td>1.958978</td>\n",
       "      <td>7706</td>\n",
       "      <td>0.680917</td>\n",
       "      <td>1.319083</td>\n",
       "      <td>4975</td>\n",
       "    </tr>\n",
       "    <tr>\n",
       "      <th>4</th>\n",
       "      <td>action</td>\n",
       "      <td>{kSH</td>\n",
       "      <td>1</td>\n",
       "      <td>0</td>\n",
       "      <td>3</td>\n",
       "      <td>0.000057</td>\n",
       "      <td>1</td>\n",
       "      <td>4</td>\n",
       "      <td>1.517191</td>\n",
       "      <td>7706</td>\n",
       "      <td>0.437788</td>\n",
       "      <td>0.562212</td>\n",
       "      <td>4146</td>\n",
       "    </tr>\n",
       "  </tbody>\n",
       "</table>\n",
       "</div>"
      ],
      "text/plain": [
       "     Word PhonDISC  num_sylls_est  num_homophones  neighborhood_size  \\\n",
       "0       a        1              1               6                 34   \n",
       "1    able      1bP              1               0                  8   \n",
       "2    ache       1k              1               1                 25   \n",
       "3     act      {kt              1               1                  9   \n",
       "4  action     {kSH              1               0                  3   \n",
       "\n",
       "   p_normalized  meanings  num_phones  normalized_surprisal     M  expected  \\\n",
       "0      0.000382         7           1              5.240941  7706  2.945007   \n",
       "1      0.000135         1           3              1.898020  7706  1.037453   \n",
       "2      0.000436         2           2              2.592028  7706  3.357148   \n",
       "3      0.000088         2           3              1.958978  7706  0.680917   \n",
       "4      0.000057         1           4              1.517191  7706  0.437788   \n",
       "\n",
       "      delta  wordform_frequency  \n",
       "0  4.054993             1267039  \n",
       "1 -0.037453                5888  \n",
       "2 -1.357148                 306  \n",
       "3  1.319083                4975  \n",
       "4  0.562212                4146  "
      ]
     },
     "execution_count": 255,
     "metadata": {},
     "output_type": "execute_result"
    }
   ],
   "source": [
    "df_merged_frequency = pd.merge(df_merged, df_frequency_sum, on = \"PhonDISC\")\n",
    "df_merged_frequency.head(5)"
   ]
  },
  {
   "cell_type": "code",
   "execution_count": 256,
   "id": "98f46233",
   "metadata": {},
   "outputs": [
    {
     "data": {
      "text/plain": [
       "17201"
      ]
     },
     "execution_count": 256,
     "metadata": {},
     "output_type": "execute_result"
    }
   ],
   "source": [
    "len(df_merged_frequency)"
   ]
  },
  {
   "cell_type": "markdown",
   "id": "42470a77",
   "metadata": {},
   "source": [
    "##### The paper used log frequency, so let's convert `wordform_frequency` to `log_frequency`."
   ]
  },
  {
   "cell_type": "code",
   "execution_count": 257,
   "id": "5a544801",
   "metadata": {},
   "outputs": [],
   "source": [
    "#### Your response here"
   ]
  },
  {
   "cell_type": "code",
   "execution_count": 258,
   "id": "8f4565a8",
   "metadata": {},
   "outputs": [],
   "source": [
    "df_merged_frequency['log_freq'] = np.log10(df_merged_frequency['wordform_frequency'])"
   ]
  },
  {
   "cell_type": "markdown",
   "id": "c4874502",
   "metadata": {},
   "source": [
    "## Part 4: Replicate primary analysis"
   ]
  },
  {
   "cell_type": "markdown",
   "id": "7307df9d",
   "metadata": {},
   "source": [
    "##### Build an OLS regression model predicting `delta` from `log_freq + num_sylls_est + normalized_surprisal`."
   ]
  },
  {
   "cell_type": "code",
   "execution_count": 259,
   "id": "e3a89e56",
   "metadata": {},
   "outputs": [],
   "source": [
    "#### Your response here"
   ]
  },
  {
   "cell_type": "code",
   "execution_count": 260,
   "id": "bef53354",
   "metadata": {},
   "outputs": [
    {
     "data": {
      "text/html": [
       "<table class=\"simpletable\">\n",
       "<caption>OLS Regression Results</caption>\n",
       "<tr>\n",
       "  <th>Dep. Variable:</th>          <td>delta</td>      <th>  R-squared:         </th> <td>   0.023</td> \n",
       "</tr>\n",
       "<tr>\n",
       "  <th>Model:</th>                   <td>OLS</td>       <th>  Adj. R-squared:    </th> <td>   0.022</td> \n",
       "</tr>\n",
       "<tr>\n",
       "  <th>Method:</th>             <td>Least Squares</td>  <th>  F-statistic:       </th> <td>   132.7</td> \n",
       "</tr>\n",
       "<tr>\n",
       "  <th>Date:</th>             <td>Mon, 15 Aug 2022</td> <th>  Prob (F-statistic):</th> <td>5.12e-85</td> \n",
       "</tr>\n",
       "<tr>\n",
       "  <th>Time:</th>                 <td>14:35:45</td>     <th>  Log-Likelihood:    </th> <td> -65988.</td> \n",
       "</tr>\n",
       "<tr>\n",
       "  <th>No. Observations:</th>      <td> 17201</td>      <th>  AIC:               </th> <td>1.320e+05</td>\n",
       "</tr>\n",
       "<tr>\n",
       "  <th>Df Residuals:</th>          <td> 17197</td>      <th>  BIC:               </th> <td>1.320e+05</td>\n",
       "</tr>\n",
       "<tr>\n",
       "  <th>Df Model:</th>              <td>     3</td>      <th>                     </th>     <td> </td>    \n",
       "</tr>\n",
       "<tr>\n",
       "  <th>Covariance Type:</th>      <td>nonrobust</td>    <th>                     </th>     <td> </td>    \n",
       "</tr>\n",
       "</table>\n",
       "<table class=\"simpletable\">\n",
       "<tr>\n",
       "            <td></td>              <th>coef</th>     <th>std err</th>      <th>t</th>      <th>P>|t|</th>  <th>[0.025</th>    <th>0.975]</th>  \n",
       "</tr>\n",
       "<tr>\n",
       "  <th>Intercept</th>            <td>   -7.0420</td> <td>    0.533</td> <td>  -13.216</td> <td> 0.000</td> <td>   -8.086</td> <td>   -5.998</td>\n",
       "</tr>\n",
       "<tr>\n",
       "  <th>log_freq</th>             <td>   -0.4376</td> <td>    0.097</td> <td>   -4.507</td> <td> 0.000</td> <td>   -0.628</td> <td>   -0.247</td>\n",
       "</tr>\n",
       "<tr>\n",
       "  <th>num_sylls_est</th>        <td>    0.8283</td> <td>    0.106</td> <td>    7.788</td> <td> 0.000</td> <td>    0.620</td> <td>    1.037</td>\n",
       "</tr>\n",
       "<tr>\n",
       "  <th>normalized_surprisal</th> <td>    3.6758</td> <td>    0.195</td> <td>   18.868</td> <td> 0.000</td> <td>    3.294</td> <td>    4.058</td>\n",
       "</tr>\n",
       "</table>\n",
       "<table class=\"simpletable\">\n",
       "<tr>\n",
       "  <th>Omnibus:</th>       <td>63170.158</td> <th>  Durbin-Watson:     </th>    <td>   1.958</td>    \n",
       "</tr>\n",
       "<tr>\n",
       "  <th>Prob(Omnibus):</th>  <td> 0.000</td>   <th>  Jarque-Bera (JB):  </th> <td>48364131665.255</td>\n",
       "</tr>\n",
       "<tr>\n",
       "  <th>Skew:</th>           <td>-78.155</td>  <th>  Prob(JB):          </th>    <td>    0.00</td>    \n",
       "</tr>\n",
       "<tr>\n",
       "  <th>Kurtosis:</th>      <td>8216.189</td>  <th>  Cond. No.          </th>    <td>    22.4</td>    \n",
       "</tr>\n",
       "</table><br/><br/>Notes:<br/>[1] Standard Errors assume that the covariance matrix of the errors is correctly specified."
      ],
      "text/plain": [
       "<class 'statsmodels.iolib.summary.Summary'>\n",
       "\"\"\"\n",
       "                            OLS Regression Results                            \n",
       "==============================================================================\n",
       "Dep. Variable:                  delta   R-squared:                       0.023\n",
       "Model:                            OLS   Adj. R-squared:                  0.022\n",
       "Method:                 Least Squares   F-statistic:                     132.7\n",
       "Date:                Mon, 15 Aug 2022   Prob (F-statistic):           5.12e-85\n",
       "Time:                        14:35:45   Log-Likelihood:                -65988.\n",
       "No. Observations:               17201   AIC:                         1.320e+05\n",
       "Df Residuals:                   17197   BIC:                         1.320e+05\n",
       "Df Model:                           3                                         \n",
       "Covariance Type:            nonrobust                                         \n",
       "========================================================================================\n",
       "                           coef    std err          t      P>|t|      [0.025      0.975]\n",
       "----------------------------------------------------------------------------------------\n",
       "Intercept               -7.0420      0.533    -13.216      0.000      -8.086      -5.998\n",
       "log_freq                -0.4376      0.097     -4.507      0.000      -0.628      -0.247\n",
       "num_sylls_est            0.8283      0.106      7.788      0.000       0.620       1.037\n",
       "normalized_surprisal     3.6758      0.195     18.868      0.000       3.294       4.058\n",
       "==============================================================================\n",
       "Omnibus:                    63170.158   Durbin-Watson:                   1.958\n",
       "Prob(Omnibus):                  0.000   Jarque-Bera (JB):      48364131665.255\n",
       "Skew:                         -78.155   Prob(JB):                         0.00\n",
       "Kurtosis:                    8216.189   Cond. No.                         22.4\n",
       "==============================================================================\n",
       "\n",
       "Notes:\n",
       "[1] Standard Errors assume that the covariance matrix of the errors is correctly specified.\n",
       "\"\"\""
      ]
     },
     "execution_count": 260,
     "metadata": {},
     "output_type": "execute_result"
    }
   ],
   "source": [
    "md = smf.ols(data = df_merged_frequency,\n",
    "            formula = 'delta ~ log_freq + num_sylls_est + normalized_surprisal ').fit()\n",
    "md.summary()"
   ]
  },
  {
   "cell_type": "markdown",
   "id": "17567f21",
   "metadata": {},
   "source": [
    "##### Is the coefficient for `log_freq` significant? How would you interpret this?"
   ]
  },
  {
   "cell_type": "code",
   "execution_count": 261,
   "id": "1f298ec8",
   "metadata": {},
   "outputs": [],
   "source": [
    "#### Your response here"
   ]
  },
  {
   "cell_type": "markdown",
   "id": "05fbdaa2",
   "metadata": {},
   "source": [
    "**Answer**: Yes, and it's negative––i.e., more frequent wordforms have *fewer* meanings than their phonotactics predict. For every increase in order of magnitude (i.e., from 1 to 10 meanings), wordforms have $-.44$ meanings than predicted by their phonotactics."
   ]
  },
  {
   "cell_type": "markdown",
   "id": "2b6f6b78",
   "metadata": {},
   "source": [
    "##### Now let's plot our results. To start, we need to bin `log_freq`. Use the code below."
   ]
  },
  {
   "cell_type": "code",
   "execution_count": 264,
   "id": "3a95a12e",
   "metadata": {},
   "outputs": [],
   "source": [
    "df_merged_frequency['freq_binned'] = pd.qcut(df_merged_frequency['log_freq'],\n",
    "                                             q = 21, \n",
    "                                             duplicates = \"drop\",\n",
    "                                            labels = list(range(1, 20)))"
   ]
  },
  {
   "cell_type": "markdown",
   "id": "8fb9f4f4",
   "metadata": {},
   "source": [
    "##### Now plot `delta` by `freq_binned`."
   ]
  },
  {
   "cell_type": "code",
   "execution_count": 265,
   "id": "65deeeb9",
   "metadata": {},
   "outputs": [],
   "source": [
    "#### Your code here"
   ]
  },
  {
   "cell_type": "code",
   "execution_count": 267,
   "id": "9f813457",
   "metadata": {},
   "outputs": [
    {
     "data": {
      "text/plain": [
       "<matplotlib.lines.Line2D at 0x7fd91c2a3610>"
      ]
     },
     "execution_count": 267,
     "metadata": {},
     "output_type": "execute_result"
    },
    {
     "data": {
      "image/png": "[encoded data removed]",
      "text/plain": [
       "<Figure size 432x288 with 1 Axes>"
      ]
     },
     "metadata": {
      "image/png": {
       "height": 262,
       "width": 384
      },
      "needs_background": "light"
     },
     "output_type": "display_data"
    }
   ],
   "source": [
    "sns.pointplot(data = df_merged_frequency,\n",
    "             x = 'freq_binned',\n",
    "             y = 'delta')\n",
    "plt.axhline(y = 0, linestyle = \"dotted\", color = \"red\")"
   ]
  },
  {
   "cell_type": "markdown",
   "id": "9171f06f",
   "metadata": {},
   "source": [
    "##### You can also plot both `meanings ~ freq_binned` and `expected ~ freq_binned`."
   ]
  },
  {
   "cell_type": "code",
   "execution_count": 265,
   "id": "073459c2",
   "metadata": {},
   "outputs": [],
   "source": [
    "#### Your code here"
   ]
  },
  {
   "cell_type": "code",
   "execution_count": 283,
   "id": "37b716cb",
   "metadata": {},
   "outputs": [
    {
     "data": {
      "text/plain": [
       "Text(0, 0.5, '#meanings')"
      ]
     },
     "execution_count": 283,
     "metadata": {},
     "output_type": "execute_result"
    },
    {
     "data": {
      "image/png": "[encoded data removed]",
      "text/plain": [
       "<Figure size 432x288 with 1 Axes>"
      ]
     },
     "metadata": {
      "image/png": {
       "height": 261,
       "width": 376
      },
      "needs_background": "light"
     },
     "output_type": "display_data"
    }
   ],
   "source": [
    "sns.pointplot(data = df_merged_frequency,\n",
    "             x = 'freq_binned',\n",
    "             y = 'meanings',\n",
    "             color = \"Gray\")\n",
    "sns.pointplot(data = df_merged_frequency,\n",
    "             x = 'freq_binned',\n",
    "             y = 'expected',\n",
    "             color = \"Turquoise\")\n",
    "\n",
    "plt.xlabel(\"Frequency (binned)\")\n",
    "plt.ylabel(\"#meanings\")"
   ]
  },
  {
   "cell_type": "code",
   "execution_count": null,
   "id": "56a45b7b",
   "metadata": {},
   "outputs": [],
   "source": []
  }
 ],
 "metadata": {
  "kernelspec": {
   "display_name": "Python 3 (ipykernel)",
   "language": "python",
   "name": "python3"
  },
  "language_info": {
   "codemirror_mode": {
    "name": "ipython",
    "version": 3
   },
   "file_extension": ".py",
   "mimetype": "text/x-python",
   "name": "python",
   "nbconvert_exporter": "python",
   "pygments_lexer": "ipython3",
   "version": "3.9.12"
  }
 },
 "nbformat": 4,
 "nbformat_minor": 5
}
