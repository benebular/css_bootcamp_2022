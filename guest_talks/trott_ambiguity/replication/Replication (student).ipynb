{
 "cells": [
  {
   "cell_type": "markdown",
   "id": "33421e4b",
   "metadata": {},
   "source": [
    "# Replication Analysis\n",
    "\n",
    "### Partial replication of [Trott & Bergen (2022)](https://www.sciencedirect.com/science/article/pii/S0010027722000828). "
   ]
  },
  {
   "cell_type": "markdown",
   "id": "0a1bb3c7",
   "metadata": {},
   "source": [
    "### Load libraries"
   ]
  },
  {
   "cell_type": "code",
   "execution_count": 1,
   "id": "21ad7cff",
   "metadata": {},
   "outputs": [
    {
     "name": "stderr",
     "output_type": "stream",
     "text": [
      "/opt/anaconda3/lib/python3.9/site-packages/scipy/__init__.py:146: UserWarning: A NumPy version >=1.16.5 and <1.23.0 is required for this version of SciPy (detected version 1.23.1\n",
      "  warnings.warn(f\"A NumPy version >={np_minversion} and <{np_maxversion}\"\n"
     ]
    }
   ],
   "source": [
    "import matplotlib.pyplot as plt\n",
    "import numpy as np\n",
    "import pandas as pd\n",
    "import seaborn as sns\n",
    "import statsmodels.api as sm\n",
    "import statsmodels.formula.api as smf"
   ]
  },
  {
   "cell_type": "code",
   "execution_count": 2,
   "id": "02a0c91c",
   "metadata": {},
   "outputs": [],
   "source": [
    "%matplotlib inline\n",
    "%config InlineBackend.figure_format = 'retina'  # makes figs nicer!"
   ]
  },
  {
   "cell_type": "markdown",
   "id": "c564144c",
   "metadata": {},
   "source": [
    "### Load data"
   ]
  },
  {
   "cell_type": "code",
   "execution_count": 3,
   "id": "43c7ab86",
   "metadata": {
    "scrolled": true
   },
   "outputs": [
    {
     "data": {
      "text/html": [
       "<div>\n",
       "<style scoped>\n",
       "    .dataframe tbody tr th:only-of-type {\n",
       "        vertical-align: middle;\n",
       "    }\n",
       "\n",
       "    .dataframe tbody tr th {\n",
       "        vertical-align: top;\n",
       "    }\n",
       "\n",
       "    .dataframe thead th {\n",
       "        text-align: right;\n",
       "    }\n",
       "</style>\n",
       "<table border=\"1\" class=\"dataframe\">\n",
       "  <thead>\n",
       "    <tr style=\"text-align: right;\">\n",
       "      <th></th>\n",
       "      <th>Word</th>\n",
       "      <th>PhonDISC</th>\n",
       "      <th>num_sylls_est</th>\n",
       "      <th>num_homophones</th>\n",
       "      <th>neighborhood_size</th>\n",
       "      <th>p_normalized</th>\n",
       "      <th>meanings</th>\n",
       "      <th>num_phones</th>\n",
       "      <th>normalized_surprisal</th>\n",
       "    </tr>\n",
       "  </thead>\n",
       "  <tbody>\n",
       "    <tr>\n",
       "      <th>0</th>\n",
       "      <td>a</td>\n",
       "      <td>1</td>\n",
       "      <td>1</td>\n",
       "      <td>6</td>\n",
       "      <td>34</td>\n",
       "      <td>0.000382</td>\n",
       "      <td>7</td>\n",
       "      <td>1</td>\n",
       "      <td>5.240941</td>\n",
       "    </tr>\n",
       "    <tr>\n",
       "      <th>1</th>\n",
       "      <td>able</td>\n",
       "      <td>1bP</td>\n",
       "      <td>1</td>\n",
       "      <td>0</td>\n",
       "      <td>8</td>\n",
       "      <td>0.000135</td>\n",
       "      <td>1</td>\n",
       "      <td>3</td>\n",
       "      <td>1.898020</td>\n",
       "    </tr>\n",
       "    <tr>\n",
       "      <th>2</th>\n",
       "      <td>ace</td>\n",
       "      <td>1s</td>\n",
       "      <td>1</td>\n",
       "      <td>0</td>\n",
       "      <td>26</td>\n",
       "      <td>0.000307</td>\n",
       "      <td>1</td>\n",
       "      <td>2</td>\n",
       "      <td>2.668154</td>\n",
       "    </tr>\n",
       "    <tr>\n",
       "      <th>3</th>\n",
       "      <td>ache</td>\n",
       "      <td>1k</td>\n",
       "      <td>1</td>\n",
       "      <td>1</td>\n",
       "      <td>25</td>\n",
       "      <td>0.000436</td>\n",
       "      <td>2</td>\n",
       "      <td>2</td>\n",
       "      <td>2.592028</td>\n",
       "    </tr>\n",
       "    <tr>\n",
       "      <th>4</th>\n",
       "      <td>act</td>\n",
       "      <td>{kt</td>\n",
       "      <td>1</td>\n",
       "      <td>1</td>\n",
       "      <td>9</td>\n",
       "      <td>0.000088</td>\n",
       "      <td>2</td>\n",
       "      <td>3</td>\n",
       "      <td>1.958978</td>\n",
       "    </tr>\n",
       "  </tbody>\n",
       "</table>\n",
       "</div>"
      ],
      "text/plain": [
       "   Word PhonDISC  num_sylls_est  num_homophones  neighborhood_size  \\\n",
       "0     a        1              1               6                 34   \n",
       "1  able      1bP              1               0                  8   \n",
       "2   ace       1s              1               0                 26   \n",
       "3  ache       1k              1               1                 25   \n",
       "4   act      {kt              1               1                  9   \n",
       "\n",
       "   p_normalized  meanings  num_phones  normalized_surprisal  \n",
       "0      0.000382         7           1              5.240941  \n",
       "1      0.000135         1           3              1.898020  \n",
       "2      0.000307         1           2              2.668154  \n",
       "3      0.000436         2           2              2.592028  \n",
       "4      0.000088         2           3              1.958978  "
      ]
     },
     "execution_count": 3,
     "metadata": {},
     "output_type": "execute_result"
    }
   ],
   "source": [
    "df_homophones = pd.read_csv(\"data/homophones.csv\")\n",
    "df_homophones.head(5)"
   ]
  },
  {
   "cell_type": "code",
   "execution_count": 4,
   "id": "4908fc07",
   "metadata": {},
   "outputs": [
    {
     "data": {
      "text/html": [
       "<div>\n",
       "<style scoped>\n",
       "    .dataframe tbody tr th:only-of-type {\n",
       "        vertical-align: middle;\n",
       "    }\n",
       "\n",
       "    .dataframe tbody tr th {\n",
       "        vertical-align: top;\n",
       "    }\n",
       "\n",
       "    .dataframe thead th {\n",
       "        text-align: right;\n",
       "    }\n",
       "</style>\n",
       "<table border=\"1\" class=\"dataframe\">\n",
       "  <thead>\n",
       "    <tr style=\"text-align: right;\">\n",
       "      <th></th>\n",
       "      <th>PhonDISC</th>\n",
       "      <th>wordform_frequency</th>\n",
       "    </tr>\n",
       "  </thead>\n",
       "  <tbody>\n",
       "    <tr>\n",
       "      <th>0</th>\n",
       "      <td>#</td>\n",
       "      <td>1208</td>\n",
       "    </tr>\n",
       "    <tr>\n",
       "      <th>1</th>\n",
       "      <td>#\"tIkjUl1SH</td>\n",
       "      <td>29</td>\n",
       "    </tr>\n",
       "    <tr>\n",
       "      <th>2</th>\n",
       "      <td>#\"tizj@nwEl</td>\n",
       "      <td>1</td>\n",
       "    </tr>\n",
       "    <tr>\n",
       "      <th>3</th>\n",
       "      <td>#J@R</td>\n",
       "      <td>113</td>\n",
       "    </tr>\n",
       "    <tr>\n",
       "      <th>4</th>\n",
       "      <td>#J@rI</td>\n",
       "      <td>9</td>\n",
       "    </tr>\n",
       "  </tbody>\n",
       "</table>\n",
       "</div>"
      ],
      "text/plain": [
       "      PhonDISC  wordform_frequency\n",
       "0            #                1208\n",
       "1  #\"tIkjUl1SH                  29\n",
       "2  #\"tizj@nwEl                   1\n",
       "3         #J@R                 113\n",
       "4        #J@rI                   9"
      ]
     },
     "execution_count": 4,
     "metadata": {},
     "output_type": "execute_result"
    }
   ],
   "source": [
    "df_frequency_sum = pd.read_csv(\"data/wordform_frequency.csv\")\n",
    "df_frequency_sum.head(5)"
   ]
  },
  {
   "cell_type": "markdown",
   "id": "1709cd91",
   "metadata": {},
   "source": [
    "## Part 1: Descriptive statistics"
   ]
  },
  {
   "cell_type": "markdown",
   "id": "e45d87e2",
   "metadata": {},
   "source": [
    "##### Use `sns.histplot` to plot out the distribution of `meanings`."
   ]
  },
  {
   "cell_type": "code",
   "execution_count": 240,
   "id": "5ef950ee",
   "metadata": {},
   "outputs": [],
   "source": [
    "#### Your code here"
   ]
  },
  {
   "cell_type": "markdown",
   "id": "b730e4da",
   "metadata": {},
   "source": [
    "##### Use `sns.histplot` to plot out the distribution of `num_sylls_est`."
   ]
  },
  {
   "cell_type": "code",
   "execution_count": 242,
   "id": "7953b769",
   "metadata": {},
   "outputs": [],
   "source": [
    "#### Your code here"
   ]
  },
  {
   "cell_type": "markdown",
   "id": "c1202b75",
   "metadata": {},
   "source": [
    "##### Use `sns.lineplot` to plot out `meanings ~ num_sylls_est`. "
   ]
  },
  {
   "cell_type": "code",
   "execution_count": 244,
   "id": "623063c9",
   "metadata": {},
   "outputs": [],
   "source": [
    "#### Your code here"
   ]
  },
  {
   "cell_type": "markdown",
   "id": "4fc38119",
   "metadata": {},
   "source": [
    "## Part 2: Calculate expected number of meanings per wordform."
   ]
  },
  {
   "cell_type": "markdown",
   "id": "788b8065",
   "metadata": {},
   "source": [
    "##### Use `groupby` and `sum()` to figure out how many meanings are assigned to wordforms with different number of syllables."
   ]
  },
  {
   "cell_type": "code",
   "execution_count": 246,
   "id": "fd8ba7fc",
   "metadata": {},
   "outputs": [],
   "source": [
    "#### Your response here"
   ]
  },
  {
   "cell_type": "markdown",
   "id": "3a38574f",
   "metadata": {},
   "source": [
    "##### Now, merge this new dataframe from `df_homophones` using `pd.merge`.  "
   ]
  },
  {
   "cell_type": "code",
   "execution_count": 248,
   "id": "875f20eb",
   "metadata": {},
   "outputs": [],
   "source": [
    "#### Your response here"
   ]
  },
  {
   "cell_type": "markdown",
   "id": "8aab99ed",
   "metadata": {},
   "source": [
    "##### Calculate the expected number of meanings for each wordform.\n",
    "\n",
    "This is calculated as:\n",
    "\n",
    "$E_w = M * p(w)$, where $p(w)$ corresponds to `p_normalized`. "
   ]
  },
  {
   "cell_type": "code",
   "execution_count": 250,
   "id": "60baefa7",
   "metadata": {},
   "outputs": [],
   "source": [
    "#### Your response here"
   ]
  },
  {
   "cell_type": "markdown",
   "id": "3d8827ea",
   "metadata": {},
   "source": [
    "##### Finally, calculate homophony delta: the difference between `meanings` and `expected`."
   ]
  },
  {
   "cell_type": "code",
   "execution_count": 252,
   "id": "ecf07177",
   "metadata": {},
   "outputs": [],
   "source": [
    "#### Your response here"
   ]
  },
  {
   "cell_type": "markdown",
   "id": "9b6b5cb0",
   "metadata": {},
   "source": [
    "## Part 3: Merge with frequency data"
   ]
  },
  {
   "cell_type": "markdown",
   "id": "61a234bb",
   "metadata": {},
   "source": [
    "##### Now, we need to merge with our frequency data. Use `pd.merge`."
   ]
  },
  {
   "cell_type": "code",
   "execution_count": 254,
   "id": "f1795b40",
   "metadata": {},
   "outputs": [],
   "source": [
    "#### Your response here"
   ]
  },
  {
   "cell_type": "markdown",
   "id": "42470a77",
   "metadata": {},
   "source": [
    "##### The paper used log frequency, so let's convert `wordform_frequency` to `log_frequency`."
   ]
  },
  {
   "cell_type": "code",
   "execution_count": 257,
   "id": "5a544801",
   "metadata": {},
   "outputs": [],
   "source": [
    "#### Your response here"
   ]
  },
  {
   "cell_type": "markdown",
   "id": "c4874502",
   "metadata": {},
   "source": [
    "## Part 4: Replicate primary analysis"
   ]
  },
  {
   "cell_type": "markdown",
   "id": "7307df9d",
   "metadata": {},
   "source": [
    "##### Build an OLS regression model predicting `delta` from `log_freq + num_sylls_est + normalized_surprisal`."
   ]
  },
  {
   "cell_type": "code",
   "execution_count": 259,
   "id": "e3a89e56",
   "metadata": {},
   "outputs": [],
   "source": [
    "#### Your response here"
   ]
  },
  {
   "cell_type": "markdown",
   "id": "17567f21",
   "metadata": {},
   "source": [
    "##### Is the coefficient for `log_freq` significant? How would you interpret this?"
   ]
  },
  {
   "cell_type": "code",
   "execution_count": 261,
   "id": "1f298ec8",
   "metadata": {},
   "outputs": [],
   "source": [
    "#### Your response here"
   ]
  },
  {
   "cell_type": "markdown",
   "id": "05fbdaa2",
   "metadata": {},
   "source": [
    "**Answer**: Yes, and it's negative––i.e., more frequent wordforms have *fewer* meanings than their phonotactics predict. For every increase in order of magnitude (i.e., from 1 to 10 meanings), wordforms have $-.44$ meanings than predicted by their phonotactics."
   ]
  },
  {
   "cell_type": "markdown",
   "id": "2b6f6b78",
   "metadata": {},
   "source": [
    "##### Now let's plot our results. To start, we need to bin `log_freq`. Use the code below."
   ]
  },
  {
   "cell_type": "code",
   "execution_count": 264,
   "id": "3a95a12e",
   "metadata": {},
   "outputs": [],
   "source": [
    "df_merged_frequency['freq_binned'] = pd.qcut(df_merged_frequency['log_freq'],\n",
    "                                             q = 21, \n",
    "                                             duplicates = \"drop\",\n",
    "                                            labels = list(range(1, 20)))"
   ]
  },
  {
   "cell_type": "markdown",
   "id": "8fb9f4f4",
   "metadata": {},
   "source": [
    "##### Now plot `delta` by `freq_binned`."
   ]
  },
  {
   "cell_type": "code",
   "execution_count": 265,
   "id": "65deeeb9",
   "metadata": {},
   "outputs": [],
   "source": [
    "#### Your code here"
   ]
  },
  {
   "cell_type": "markdown",
   "id": "9171f06f",
   "metadata": {},
   "source": [
    "##### You can also plot both `meanings ~ freq_binned` and `expected ~ freq_binned`."
   ]
  },
  {
   "cell_type": "code",
   "execution_count": 265,
   "id": "073459c2",
   "metadata": {},
   "outputs": [],
   "source": [
    "#### Your code here"
   ]
  },
  {
   "cell_type": "code",
   "execution_count": null,
   "id": "56a45b7b",
   "metadata": {},
   "outputs": [],
   "source": []
  }
 ],
 "metadata": {
  "kernelspec": {
   "display_name": "Python 3 (ipykernel)",
   "language": "python",
   "name": "python3"
  },
  "language_info": {
   "codemirror_mode": {
    "name": "ipython",
    "version": 3
   },
   "file_extension": ".py",
   "mimetype": "text/x-python",
   "name": "python",
   "nbconvert_exporter": "python",
   "pygments_lexer": "ipython3",
   "version": "3.9.12"
  }
 },
 "nbformat": 4,
 "nbformat_minor": 5
}
