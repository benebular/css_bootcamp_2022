{
 "cells": [
  {
   "cell_type": "code",
   "execution_count": null,
   "id": "3d766b1c",
   "metadata": {},
   "outputs": [],
   "source": [
    "import scipy.stats as stats"
   ]
  },
  {
   "cell_type": "markdown",
   "id": "a0213ed6",
   "metadata": {},
   "source": [
    "Fill in from the confusion matrix: number of true positives, false negatives, false positives, and true negatives"
   ]
  },
  {
   "cell_type": "code",
   "execution_count": null,
   "id": "b4ab3aaf",
   "metadata": {},
   "outputs": [],
   "source": [
    "tp = \n",
    "fn = \n",
    "fp = \n",
    "tn = "
   ]
  },
  {
   "cell_type": "markdown",
   "id": "9b15356e",
   "metadata": {},
   "source": [
    "Complete the formulas for these metrics. Accuracy and f1 have been done for you."
   ]
  },
  {
   "cell_type": "code",
   "execution_count": null,
   "id": "a0970429",
   "metadata": {},
   "outputs": [],
   "source": [
    "def accuracy(tp,fn,fp,tn):\n",
    "    return (tp + tn) / (tp + fn + fp + tn)\n",
    "\n",
    "def tpr_recall(tp,fn,fp,tn):\n",
    "    return \n",
    "\n",
    "def fpr(tp,fn,fp,tn):\n",
    "    return \n",
    "\n",
    "def fnr(tp,fn,fp,tn):\n",
    "    return \n",
    "\n",
    "def tnr_specificity(tp,fn,fp,tn):\n",
    "    return\n",
    "\n",
    "def ppv_precision(tp,fn,fp,tn):\n",
    "    return \n",
    "\n",
    "def npv(tp,fn,fp,tn):\n",
    "    return \n",
    "\n",
    "def f1(tp,fn,fp,tn):\n",
    "    recall = tpr_recall(tp,fn,fp,tn)\n",
    "    precision = ppv_precision(tp,fn,fp,tn)\n",
    "    return stats.hmean([recall, precision])\n",
    "\n"
   ]
  },
  {
   "cell_type": "markdown",
   "id": "460360d0",
   "metadata": {},
   "source": [
    "Show the results!"
   ]
  },
  {
   "cell_type": "code",
   "execution_count": null,
   "id": "1d79b637",
   "metadata": {},
   "outputs": [],
   "source": [
    "print(\"Accuracy\", accuracy(tp,fn,fp,tn))\n",
    "print(\"True positive rate (recall)\", tpr_recall(tp,fn,fp,tn))\n",
    "print(\"False positive rate\", fpr(tp,fn,fp,tn))\n",
    "print(\"False negative rate\", fnr(tp,fn,fp,tn))\n",
    "print(\"True negative rate (specificity)\", tnr_specificity(tp,fn,fp,tn))\n",
    "print(\"Positive Predictive Value (precision)\", ppv_precision(tp,fn,fp,tn))\n",
    "print(\"F1-score\", f1(tp,fn,fp,tn))"
   ]
  },
  {
   "cell_type": "code",
   "execution_count": null,
   "id": "60aa70e2",
   "metadata": {},
   "outputs": [],
   "source": []
  }
 ],
 "metadata": {
  "kernelspec": {
   "display_name": "Python 3 (clean)",
   "language": "python",
   "name": "python3_clean"
  },
  "language_info": {
   "codemirror_mode": {
    "name": "ipython",
    "version": 3
   },
   "file_extension": ".py",
   "mimetype": "text/x-python",
   "name": "python",
   "nbconvert_exporter": "python",
   "pygments_lexer": "ipython3",
   "version": "3.9.5"
  }
 },
 "nbformat": 4,
 "nbformat_minor": 5
}
