{
 "cells": [
  {
   "cell_type": "code",
   "execution_count": 1,
   "id": "7132ba01",
   "metadata": {},
   "outputs": [],
   "source": [
    "import scipy.stats as stats"
   ]
  },
  {
   "cell_type": "code",
   "execution_count": 2,
   "id": "c58eca98",
   "metadata": {},
   "outputs": [],
   "source": [
    "tp = 200\n",
    "fn = 100\n",
    "fp = 50\n",
    "tn = 5000"
   ]
  },
  {
   "cell_type": "code",
   "execution_count": 3,
   "id": "63745e62",
   "metadata": {},
   "outputs": [],
   "source": [
    "def accuracy(tp,fn,fp,tn):\n",
    "    return (tp + tn) / (tp + fn + fp + tn)\n",
    "\n",
    "def tpr_recall(tp,fn,fp,tn):\n",
    "    return tp / (tp + fn)\n",
    "\n",
    "def fpr(tp,fn,fp,tn):\n",
    "    return fp / (fp + tn)\n",
    "\n",
    "def fnr(tp,fn,fp,tn):\n",
    "    return fn / (tp + fn)\n",
    "\n",
    "def tnr_specificity(tp,fn,fp,tn):\n",
    "    return tn / (fp + tn)\n",
    "\n",
    "def ppv_precision(tp,fn,fp,tn):\n",
    "    return tp / (tp + fp)\n",
    "\n",
    "def npv(tp,fn,fp,tn):\n",
    "    return tn/(fn+tn)\n",
    "\n",
    "def f1(tp,fn,fp,tn):\n",
    "    recall = tpr_recall(tp,fn,fp,tn)\n",
    "    precision = ppv_precision(tp,fn,fp,tn)\n",
    "    return stats.hmean([recall, precision])\n",
    "\n"
   ]
  },
  {
   "cell_type": "code",
   "execution_count": 4,
   "id": "d082eb3a",
   "metadata": {},
   "outputs": [
    {
     "name": "stdout",
     "output_type": "stream",
     "text": [
      "Accuracy 0.9719626168224299\n",
      "True positive rate (recall) 0.6666666666666666\n",
      "False positive rate 0.009900990099009901\n",
      "False negative rate 0.3333333333333333\n",
      "True negative rate (specificity) 0.9900990099009901\n",
      "Positive Predictive Value (precision) 0.8\n",
      "F1-score 0.7272727272727273\n"
     ]
    }
   ],
   "source": [
    "print(\"Accuracy\", accuracy(tp,fn,fp,tn))\n",
    "print(\"True positive rate (recall)\", tpr_recall(tp,fn,fp,tn))\n",
    "print(\"False positive rate\", fpr(tp,fn,fp,tn))\n",
    "print(\"False negative rate\", fnr(tp,fn,fp,tn))\n",
    "print(\"True negative rate (specificity)\", tnr_specificity(tp,fn,fp,tn))\n",
    "print(\"Positive Predictive Value (precision)\", ppv_precision(tp,fn,fp,tn))\n",
    "print(\"F1-score\", f1(tp,fn,fp,tn))"
   ]
  },
  {
   "cell_type": "code",
   "execution_count": null,
   "id": "3b982dbc",
   "metadata": {},
   "outputs": [],
   "source": []
  }
 ],
 "metadata": {
  "kernelspec": {
   "display_name": "Python 3 (clean)",
   "language": "python",
   "name": "python3_clean"
  },
  "language_info": {
   "codemirror_mode": {
    "name": "ipython",
    "version": 3
   },
   "file_extension": ".py",
   "mimetype": "text/x-python",
   "name": "python",
   "nbconvert_exporter": "python",
   "pygments_lexer": "ipython3",
   "version": "3.9.5"
  }
 },
 "nbformat": 4,
 "nbformat_minor": 5
}
