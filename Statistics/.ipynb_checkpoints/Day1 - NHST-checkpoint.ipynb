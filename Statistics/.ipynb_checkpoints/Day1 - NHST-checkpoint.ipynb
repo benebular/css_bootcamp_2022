{
 "cells": [
  {
   "cell_type": "markdown",
   "id": "3bb4c144",
   "metadata": {
    "slideshow": {
     "slide_type": "slide"
    }
   },
   "source": [
    "# NHST: Theoretical Foundations\n",
    "\n",
    "### Sean Trott\n",
    "\n",
    "### CSS Bootcamp"
   ]
  },
  {
   "cell_type": "code",
   "execution_count": 1,
   "id": "5e22995c",
   "metadata": {
    "slideshow": {
     "slide_type": "skip"
    }
   },
   "outputs": [],
   "source": [
    "## Imports\n",
    "import math\n",
    "import pandas as pd\n",
    "import numpy as np\n",
    "import matplotlib.pyplot as plt\n",
    "import seaborn as sns\n",
    "import scipy.stats as ss"
   ]
  },
  {
   "cell_type": "code",
   "execution_count": 2,
   "id": "3b895a4c",
   "metadata": {
    "slideshow": {
     "slide_type": "skip"
    }
   },
   "outputs": [],
   "source": [
    "%matplotlib inline\n",
    "%config InlineBackend.figure_format = 'retina'  # makes figs nicer!"
   ]
  },
  {
   "cell_type": "markdown",
   "id": "42adbbe3",
   "metadata": {
    "slideshow": {
     "slide_type": "slide"
    }
   },
   "source": [
    "# Who Am I?\n",
    "\n",
    "- [Assistant Teaching Professor in Cognitive Science + CSS](https://seantrott.github.io/)\n",
    "- [Teaching: statistics, programming, language and cognition](https://seantrott.github.io/teaching/)\n",
    "- [Research interests: language evolution, psycholinguistics, NLP](https://seantrott.github.io/research/)  "
   ]
  },
  {
   "cell_type": "markdown",
   "id": "8528887f",
   "metadata": {
    "slideshow": {
     "slide_type": "slide"
    }
   },
   "source": [
    "# High-level learning outcomes of this week\n",
    "\n",
    "##### [Null Hypothesis Significance Testing (NHST)](https://en.wikipedia.org/wiki/Statistical_hypothesis_testing)\n",
    "\n",
    "- **Explain** the theoretical foundations  \n",
    "- **Implement** a t-test in Python  \n",
    "- **Evaluate** the result of a given test\n",
    "\n",
    "##### [Linear regression](https://en.wikipedia.org/wiki/Linear_regression): \n",
    "\n",
    "- **Implement** using Python\n",
    "- **Interpret** coefficients, **examine** residuals, and **predict** new data  \n",
    "\n",
    "##### [Beyond linear regression](https://en.wikipedia.org/wiki/Generalized_linear_model): \n",
    "\n",
    "- **Explain** the motivation for mixed/multilevel models  \n",
    "- **Implement** other families of regression models (e.g., logistic regression)"
   ]
  },
  {
   "cell_type": "markdown",
   "id": "dc9be468",
   "metadata": {
    "slideshow": {
     "slide_type": "slide"
    }
   },
   "source": [
    "# Today's focus\n",
    "\n",
    "- **Implement** several basic descriptive statistics in Python  \n",
    "- **Describe** properties of a distribution (e.g., skew, etc.)\n",
    "- **Explain** the theoretical foundations of NHST   \n"
   ]
  },
  {
   "cell_type": "markdown",
   "id": "8100d1be",
   "metadata": {
    "slideshow": {
     "slide_type": "slide"
    }
   },
   "source": [
    "# Part 1: Background on Statistics"
   ]
  },
  {
   "cell_type": "markdown",
   "id": "02eaa1dc",
   "metadata": {
    "slideshow": {
     "slide_type": "slide"
    }
   },
   "source": [
    "# What is statistics?\n",
    "\n",
    "**Statistics** is all about quantifying and interpreting *variation*.\n",
    "\n",
    "- **Descriptive statistics**: tools for *summarizing* and *organizing* a set of observations.  \n",
    " - Examples: mean, standard deviation\n",
    "- **Inferential statistics**: tools for making *generalizations* from (i.e, \"going beyond\") a set of observations. \n",
    " - Usually, this means extrapolating from a **sample** to a **population**.\n",
    " - Examples: t-test, chi-squared test\n",
    "\n"
   ]
  },
  {
   "cell_type": "markdown",
   "id": "d0e86722",
   "metadata": {
    "slideshow": {
     "slide_type": "slide"
    }
   },
   "source": [
    "# Check-in\n",
    "\n",
    "Which of the following are examples of *inferential* vs. *descriptive* statements?\n",
    "\n",
    "- The average height of Sean Trott's immediate family is 5'5\".\n",
    "- Based on a survey of 5,000 people, the average height of California residents is 5'4\".  \n",
    "- In a recent global survey, job satisfaction was positively correlated with self-reported happiness. \n",
    "- Job satisfaction leads to increased happiness.\n"
   ]
  },
  {
   "cell_type": "markdown",
   "id": "1f7c7cd3",
   "metadata": {
    "slideshow": {
     "slide_type": "slide"
    }
   },
   "source": [
    "# Populations vs. samples\n",
    "\n",
    "##### A **population** is a set of observations (or more often, *potential* observations) we're interested in.\n",
    "\n",
    "- Examples: all residents of San Diego.  \n",
    "- A **parameter** is a value reflecting the entire population of interest (e.g., average height).  \n",
    "\n",
    "##### A **sample** is an *actual* set of observations, from which we make **generalizations** about a population.\n",
    "\n",
    "- Examples: a sample of 100 UCSD undergraduates.  \n",
    "- A **statistic** is a value reflecting the sample (e.g., average height). "
   ]
  },
  {
   "cell_type": "markdown",
   "id": "19435944",
   "metadata": {
    "slideshow": {
     "slide_type": "slide"
    }
   },
   "source": [
    "# Check-in\n",
    "\n",
    "Will the **sample statistic** always be equal to the underlying **population parameter**? Why or why not?\n"
   ]
  },
  {
   "cell_type": "markdown",
   "id": "d4144c97",
   "metadata": {
    "slideshow": {
     "slide_type": "slide"
    }
   },
   "source": [
    "# Sampling Error\n",
    "\n",
    "#### A sample statistic will rarely be *identical* to the population parameter.\n",
    "\n",
    "- Sometimes a given sample *over*estimates, sometimes it *under*estimates.  \n",
    "- We'll return to this later with the Central Limit Theorem (CLT).  \n",
    "\n",
    "\n",
    "#### The difference between the sample vs. population is sometimes called [**sampling error**](https://en.wikipedia.org/wiki/Sampling_error).\n",
    "\n"
   ]
  },
  {
   "cell_type": "code",
   "execution_count": 3,
   "id": "8f08e04b",
   "metadata": {
    "slideshow": {
     "slide_type": "slide"
    }
   },
   "outputs": [
    {
     "data": {
      "text/plain": [
       "<AxesSubplot:ylabel='Count'>"
      ]
     },
     "execution_count": 3,
     "metadata": {},
     "output_type": "execute_result"
    },
    {
     "data": {
      "image/png": "[encoded data removed]",
      "text/plain": [
       "<Figure size 432x288 with 1 Axes>"
      ]
     },
     "metadata": {
      "image/png": {
       "height": 248,
       "width": 388
      },
      "needs_background": "light"
     },
     "output_type": "display_data"
    }
   ],
   "source": [
    "# First, let's simulate a \"population\" of 5K heights\n",
    "np.random.seed(seed=10)\n",
    "pop = np.random.normal(loc = 65, \n",
    "                       scale = 3,\n",
    "                       size = 5000)\n",
    "\n",
    "sns.histplot(x = pop)"
   ]
  },
  {
   "cell_type": "code",
   "execution_count": 4,
   "id": "727a2f0c",
   "metadata": {
    "slideshow": {
     "slide_type": "-"
    }
   },
   "outputs": [
    {
     "data": {
      "text/plain": [
       "64.91"
      ]
     },
     "execution_count": 4,
     "metadata": {},
     "output_type": "execute_result"
    }
   ],
   "source": [
    "# The true mean of this population is as follows\n",
    "round(pop.mean(), 2)"
   ]
  },
  {
   "cell_type": "markdown",
   "id": "eb97671c",
   "metadata": {
    "slideshow": {
     "slide_type": "slide"
    }
   },
   "source": [
    "### Sampling error in action\n",
    "\n",
    "We can take a small sample from the population, and compare the mean of that sample (usually denoted with $\\bar{X}$) to the mean of the population (usually denoted with $\\mu$). "
   ]
  },
  {
   "cell_type": "code",
   "execution_count": 5,
   "id": "9ce26427",
   "metadata": {
    "slideshow": {
     "slide_type": "-"
    }
   },
   "outputs": [
    {
     "name": "stdout",
     "output_type": "stream",
     "text": [
      "Sample mean: 65.31\n",
      "Population mean: 64.91\n"
     ]
    }
   ],
   "source": [
    "# Now, let's take a small \"sample\" from that population.\n",
    "sample = np.random.choice(pop, 100, replace = False)\n",
    "# And let's look at the mean of the sample...\n",
    "print(\"Sample mean: {X}\".format(X = round(sample.mean(), 2)))\n",
    "print(\"Population mean: {X}\".format(X = round(pop.mean(), 2)))"
   ]
  },
  {
   "cell_type": "markdown",
   "id": "2aa3779b",
   "metadata": {
    "slideshow": {
     "slide_type": "slide"
    }
   },
   "source": [
    "### Preview: random variables and sampling\n",
    "\n",
    "- Depending on **sample**, there are many possible values that $\\bar{X}$ could take on.  \n",
    " - Thus, $\\bar{X}$ is a **random variable**, which is sampled from a distribution of possible sample means. \n",
    " - $\\bar{X}$ is also an **unbiased estimator** of $\\mu$.\n",
    "- This will become relevant for the Central Limit Theorem later on."
   ]
  },
  {
   "cell_type": "markdown",
   "id": "5385cd11",
   "metadata": {
    "slideshow": {
     "slide_type": "slide"
    }
   },
   "source": [
    "# Part 2: Descriptive Statistics\n",
    "\n",
    "**Descriptive statistics**: tools for *summarizing* and *organizing* a set of observations.\n",
    "\n",
    "This includes:\n",
    "\n",
    "- Measures of **central tendency** \n",
    "- Measures of **dispersion** \n",
    "\n",
    "Here, we'll also be discussing (qualitative) assessments of the **shape** of a distribution."
   ]
  },
  {
   "cell_type": "markdown",
   "id": "e562d2f0",
   "metadata": {
    "slideshow": {
     "slide_type": "slide"
    }
   },
   "source": [
    "# Measures of central tendency\n",
    "\n",
    "The three most common measures of central tendency are:\n",
    "\n",
    "- Mean  \n",
    "- Median  \n",
    "- Mode"
   ]
  },
  {
   "cell_type": "markdown",
   "id": "7cf66820",
   "metadata": {
    "slideshow": {
     "slide_type": "slide"
    }
   },
   "source": [
    "## Computing the *mean*\n",
    "\n",
    "The **mean** is defined as the sum of all values, divided by the number of observations.\n",
    "\n",
    "$\\mu = \\frac{1}{n} * \\sum_{i=1}^{n}{x_i}$\n",
    "\n",
    "Properties of the mean:\n",
    "\n",
    "- Can only be used with *quantitative* data.  \n",
    "- Sum of deviations from the mean = 0.  \n",
    "- Most affected by outliers / distribution *shape*.  "
   ]
  },
  {
   "cell_type": "markdown",
   "id": "46c7359d",
   "metadata": {
    "slideshow": {
     "slide_type": "slide"
    }
   },
   "source": [
    "## Q: How would we calculate the mean of this list?"
   ]
  },
  {
   "cell_type": "code",
   "execution_count": 6,
   "id": "3366dee3",
   "metadata": {
    "slideshow": {
     "slide_type": "-"
    }
   },
   "outputs": [
    {
     "data": {
      "text/plain": [
       "[2, 4, 3, 3, 7, 10]"
      ]
     },
     "execution_count": 6,
     "metadata": {},
     "output_type": "execute_result"
    }
   ],
   "source": [
    "observations = [2, 4, 3, 3, 7, 10]\n",
    "observations"
   ]
  },
  {
   "cell_type": "markdown",
   "id": "77b8086e",
   "metadata": {
    "slideshow": {
     "slide_type": "slide"
    }
   },
   "source": [
    "### Use `sum` to calculate the sum, then `len` to get the number of observations."
   ]
  },
  {
   "cell_type": "code",
   "execution_count": 7,
   "id": "fc6bcde7",
   "metadata": {
    "slideshow": {
     "slide_type": "-"
    }
   },
   "outputs": [
    {
     "data": {
      "text/plain": [
       "4.833333333333333"
      ]
     },
     "execution_count": 7,
     "metadata": {},
     "output_type": "execute_result"
    }
   ],
   "source": [
    "sum(observations) / len(observations)"
   ]
  },
  {
   "cell_type": "markdown",
   "id": "79fc3d30",
   "metadata": {
    "slideshow": {
     "slide_type": "slide"
    }
   },
   "source": [
    "### With `numpy`, we can call `np.mean(ARRAY)`."
   ]
  },
  {
   "cell_type": "code",
   "execution_count": 8,
   "id": "65166815",
   "metadata": {
    "slideshow": {
     "slide_type": "-"
    }
   },
   "outputs": [
    {
     "data": {
      "text/plain": [
       "4.833333333333333"
      ]
     },
     "execution_count": 8,
     "metadata": {},
     "output_type": "execute_result"
    }
   ],
   "source": [
    "np.mean(observations)"
   ]
  },
  {
   "cell_type": "markdown",
   "id": "e168f846",
   "metadata": {
    "slideshow": {
     "slide_type": "slide"
    }
   },
   "source": [
    "### We can also convert it to a `numpy array`."
   ]
  },
  {
   "cell_type": "code",
   "execution_count": 9,
   "id": "8a82546d",
   "metadata": {
    "slideshow": {
     "slide_type": "-"
    }
   },
   "outputs": [
    {
     "data": {
      "text/plain": [
       "4.833333333333333"
      ]
     },
     "execution_count": 9,
     "metadata": {},
     "output_type": "execute_result"
    }
   ],
   "source": [
    "observations_np = np.array(observations)\n",
    "observations_np.mean()"
   ]
  },
  {
   "cell_type": "markdown",
   "id": "51c89048",
   "metadata": {
    "slideshow": {
     "slide_type": "slide"
    }
   },
   "source": [
    "## Computing the *median*\n",
    "\n",
    "The **median** is defined as the value separating the upper 50% from the lower 50% of a distribution.\n",
    "\n",
    "- Order all observations from least to greatest  \n",
    "- Find the value in the middle  \n",
    "\n",
    "If there's an *even* number of observations, we take the average of the *middle two*.\n",
    "\n",
    "The median is **less affected by outliers** (or distribution **skew**) than the mean."
   ]
  },
  {
   "cell_type": "markdown",
   "id": "20b8e643",
   "metadata": {
    "slideshow": {
     "slide_type": "slide"
    }
   },
   "source": [
    "### With `numpy`, we can call `np.median(ARRAY)`."
   ]
  },
  {
   "cell_type": "code",
   "execution_count": 10,
   "id": "3b6e2595",
   "metadata": {
    "slideshow": {
     "slide_type": "-"
    }
   },
   "outputs": [
    {
     "data": {
      "text/plain": [
       "3.5"
      ]
     },
     "execution_count": 10,
     "metadata": {},
     "output_type": "execute_result"
    }
   ],
   "source": [
    "np.median(observations_np)"
   ]
  },
  {
   "cell_type": "markdown",
   "id": "c11e081c",
   "metadata": {
    "slideshow": {
     "slide_type": "slide"
    }
   },
   "source": [
    "## Computing the *mode*\n",
    "\n",
    "The **mode** is defined as the most frequent value in a distribution.\n",
    "\n",
    "Unlike `mean` and `median`, it can be used with qualitative/categorical data. "
   ]
  },
  {
   "cell_type": "markdown",
   "id": "5c3d2542",
   "metadata": {
    "slideshow": {
     "slide_type": "slide"
    }
   },
   "source": [
    "### Approach 1: `numpy.unique` "
   ]
  },
  {
   "cell_type": "code",
   "execution_count": 11,
   "id": "c7d5807b",
   "metadata": {
    "slideshow": {
     "slide_type": "-"
    }
   },
   "outputs": [
    {
     "name": "stdout",
     "output_type": "stream",
     "text": [
      "[ 2  3  4  7 10]\n",
      "[1 2 1 1 1]\n"
     ]
    }
   ],
   "source": [
    "# First, get COUNTS of each value\n",
    "vals, counts = np.unique(observations_np, return_counts=True)\n",
    "print(vals)\n",
    "print(counts)"
   ]
  },
  {
   "cell_type": "code",
   "execution_count": 12,
   "id": "09af9492",
   "metadata": {
    "slideshow": {
     "slide_type": "-"
    }
   },
   "outputs": [
    {
     "name": "stdout",
     "output_type": "stream",
     "text": [
      "3\n"
     ]
    }
   ],
   "source": [
    "index = np.argmax(counts)\n",
    "print(vals[index])"
   ]
  },
  {
   "cell_type": "markdown",
   "id": "6895ef77",
   "metadata": {
    "slideshow": {
     "slide_type": "slide"
    }
   },
   "source": [
    "### With `scipy.stats`, we can call `scipy.stats.mode(ARRAY)`."
   ]
  },
  {
   "cell_type": "code",
   "execution_count": 13,
   "id": "3dd5996b",
   "metadata": {
    "slideshow": {
     "slide_type": "-"
    }
   },
   "outputs": [
    {
     "name": "stdout",
     "output_type": "stream",
     "text": [
      "[3]\n",
      "[2]\n"
     ]
    }
   ],
   "source": [
    "mode = ss.mode(observations_np)\n",
    "print(mode.mode)\n",
    "print(mode.count)"
   ]
  },
  {
   "cell_type": "markdown",
   "id": "d767aa13",
   "metadata": {
    "slideshow": {
     "slide_type": "slide"
    }
   },
   "source": [
    "## Central Tendency and distribution shape\n",
    "\n",
    "Some measures of central tendency are more affected by **distribution shape** than others.\n",
    "\n",
    "Which measure of central tendency would be largest for the distribution below?"
   ]
  },
  {
   "cell_type": "code",
   "execution_count": 14,
   "id": "3ff1e4fb",
   "metadata": {
    "slideshow": {
     "slide_type": "-"
    }
   },
   "outputs": [
    {
     "data": {
      "text/plain": [
       "<AxesSubplot:ylabel='Count'>"
      ]
     },
     "execution_count": 14,
     "metadata": {},
     "output_type": "execute_result"
    },
    {
     "data": {
      "image/png": "[encoded data removed]",
      "text/plain": [
       "<Figure size 432x288 with 1 Axes>"
      ]
     },
     "metadata": {
      "image/png": {
       "height": 248,
       "width": 392
      },
      "needs_background": "light"
     },
     "output_type": "display_data"
    }
   ],
   "source": [
    "## Generate a skewed distribution\n",
    "obs_skewed = ss.skewnorm.rvs(10, size = 1000)\n",
    "sns.histplot(obs_skewed)"
   ]
  },
  {
   "cell_type": "markdown",
   "id": "48f8fc82",
   "metadata": {
    "slideshow": {
     "slide_type": "slide"
    }
   },
   "source": [
    "#### The mean is more affected than the median."
   ]
  },
  {
   "cell_type": "code",
   "execution_count": 15,
   "id": "1a63ba14",
   "metadata": {
    "slideshow": {
     "slide_type": "-"
    }
   },
   "outputs": [
    {
     "data": {
      "text/plain": [
       "<matplotlib.lines.Line2D at 0x7fa977fbf250>"
      ]
     },
     "execution_count": 15,
     "metadata": {},
     "output_type": "execute_result"
    },
    {
     "data": {
      "image/png": "[encoded data removed]",
      "text/plain": [
       "<Figure size 432x288 with 1 Axes>"
      ]
     },
     "metadata": {
      "image/png": {
       "height": 248,
       "width": 392
      },
      "needs_background": "light"
     },
     "output_type": "display_data"
    }
   ],
   "source": [
    "## Plot MEAN vs. MEDIAN of distribution\n",
    "sns.histplot(obs_skewed)\n",
    "plt.axvline(obs_skewed.mean(), linestyle = \"dotted\", color = \"red\")\n",
    "plt.axvline(np.median(obs_skewed), linestyle = \"dashed\", color = \"green\")"
   ]
  },
  {
   "cell_type": "markdown",
   "id": "06207a3f",
   "metadata": {
    "slideshow": {
     "slide_type": "slide"
    }
   },
   "source": [
    "# Distribution Shape\n",
    "\n",
    "Frequency distributions can have different **shapes**. \n",
    "\n",
    "- **Normal Distribution** is very common  \n",
    "- But many distributions are **skewed**  \n",
    "- And some distributions are **bimodal** (or trimodal, etc.)"
   ]
  },
  {
   "cell_type": "markdown",
   "id": "99abc575",
   "metadata": {
    "slideshow": {
     "slide_type": "slide"
    }
   },
   "source": [
    "## Normal Distribution\n",
    "\n",
    "- As we'll see, this distribution is very important for inferential statistics.  \n",
    "- Defined by a mean ($\\mu$) and standard deviation ($\\sigma$)  \n",
    "- The distribution is **symmetric**"
   ]
  },
  {
   "cell_type": "code",
   "execution_count": 16,
   "id": "dc941fb7",
   "metadata": {
    "slideshow": {
     "slide_type": "-"
    }
   },
   "outputs": [
    {
     "data": {
      "text/plain": [
       "<AxesSubplot:ylabel='Count'>"
      ]
     },
     "execution_count": 16,
     "metadata": {},
     "output_type": "execute_result"
    },
    {
     "data": {
      "image/png": "[encoded data removed]",
      "text/plain": [
       "<Figure size 432x288 with 1 Axes>"
      ]
     },
     "metadata": {
      "image/png": {
       "height": 248,
       "width": 389
      },
      "needs_background": "light"
     },
     "output_type": "display_data"
    }
   ],
   "source": [
    "# We can use np.random.normal to make a normal distribution\n",
    "pop = np.random.normal(loc = 0, scale = 1,size = 5000)\n",
    "\n",
    "sns.histplot(x = pop)"
   ]
  },
  {
   "cell_type": "markdown",
   "id": "15a5d240",
   "metadata": {
    "slideshow": {
     "slide_type": "slide"
    }
   },
   "source": [
    "## Distribution skew\n",
    "\n",
    "**Skew** is when extreme values elongate the \"tail\" of a distribution.\n",
    "\n",
    "- Positive skew (\"right-skewed\"): extreme values on the right tail  \n",
    "- Negative skew (\"left-skewed\"): extreme values on the left tail"
   ]
  },
  {
   "cell_type": "code",
   "execution_count": 17,
   "id": "1ab3bb25",
   "metadata": {
    "slideshow": {
     "slide_type": "-"
    }
   },
   "outputs": [
    {
     "data": {
      "image/png": "[encoded data removed]",
      "text/plain": [
       "<Figure size 432x288 with 2 Axes>"
      ]
     },
     "metadata": {
      "image/png": {
       "height": 248,
       "width": 375
      },
      "needs_background": "light"
     },
     "output_type": "display_data"
    }
   ],
   "source": [
    "## Generate a skewed distribution\n",
    "rskew = ss.skewnorm.rvs(100, size = 1000)\n",
    "lskew = ss.skewnorm.rvs(-100, size = 1000)\n",
    "\n",
    "f, (ax1, ax2) = plt.subplots(1, 2, sharey=True)\n",
    "L = ax1.hist(rskew, alpha = .5)\n",
    "R = ax2.hist(lskew, alpha = .5)"
   ]
  },
  {
   "cell_type": "markdown",
   "id": "4f503652",
   "metadata": {
    "slideshow": {
     "slide_type": "slide"
    }
   },
   "source": [
    "## Multimodal distribution\n",
    "\n",
    "- A **multimodal distribution** (as the name implies) has multiple **modes** or peaks. \n",
    "- Sometimes suggests distinct **generative processes** giving rise to data."
   ]
  },
  {
   "cell_type": "code",
   "execution_count": 18,
   "id": "317b5a14",
   "metadata": {
    "slideshow": {
     "slide_type": "-"
    }
   },
   "outputs": [
    {
     "data": {
      "text/plain": [
       "<AxesSubplot:ylabel='Count'>"
      ]
     },
     "execution_count": 18,
     "metadata": {},
     "output_type": "execute_result"
    },
    {
     "data": {
      "image/png": "[encoded data removed]",
      "text/plain": [
       "<Figure size 432x288 with 1 Axes>"
      ]
     },
     "metadata": {
      "image/png": {
       "height": 248,
       "width": 388
      },
      "needs_background": "light"
     },
     "output_type": "display_data"
    }
   ],
   "source": [
    "# Make two normal distributions, then put them together.\n",
    "pop1 = np.random.normal(loc = 0, scale = 1,size = 5000)\n",
    "pop2 = np.random.normal(loc = 5, scale = 1,size = 5000)\n",
    "pop_all = np.concatenate((pop1, pop2))\n",
    "\n",
    "sns.histplot(x = pop_all)"
   ]
  },
  {
   "cell_type": "markdown",
   "id": "b594cf76",
   "metadata": {
    "slideshow": {
     "slide_type": "slide"
    }
   },
   "source": [
    "# Measures of dispersion\n",
    "\n",
    "**Dispersion** (or **variability**) is the degree to which measures in a distribution are \"spread out\" or **dispersed**.\n",
    "\n",
    "- Averages only tell part of the story!  \n",
    "- Common measures:  \n",
    " - Range  \n",
    " - Standard deviation"
   ]
  },
  {
   "cell_type": "markdown",
   "id": "b2780a30",
   "metadata": {
    "slideshow": {
     "slide_type": "slide"
    }
   },
   "source": [
    "## Range\n",
    "\n",
    "**Range** is defined as the difference between the maximum and minimum values in a distribution.\n",
    "\n",
    "- Advantage: Very intuitive.\n",
    "- Limitation: Only accounts for *two scores* in a distribution.  "
   ]
  },
  {
   "cell_type": "code",
   "execution_count": 19,
   "id": "05c253d9",
   "metadata": {
    "slideshow": {
     "slide_type": "-"
    }
   },
   "outputs": [
    {
     "name": "stdout",
     "output_type": "stream",
     "text": [
      "Range: 8\n"
     ]
    }
   ],
   "source": [
    "rng = max(observations_np) - min(observations_np)\n",
    "print(\"Range: {X}\".format(X=rng))"
   ]
  },
  {
   "cell_type": "markdown",
   "id": "b0fe1934",
   "metadata": {
    "slideshow": {
     "slide_type": "slide"
    }
   },
   "source": [
    "## Standard Deviation\n",
    "\n",
    "**Standard Deviation** is the typical amount that scores **deviate** from the mean of a distribution.\n",
    "\n",
    "- Critical for both descriptive and inferential statistics  \n",
    "- As with mean, different notation for sample ($s$ or $SD$) vs. population ($\\sigma$)"
   ]
  },
  {
   "cell_type": "markdown",
   "id": "e8de1c90",
   "metadata": {
    "slideshow": {
     "slide_type": "slide"
    }
   },
   "source": [
    "## Calculating SD \n",
    "\n",
    "Two distinct formulas, depending on whether you're measuring **population** or **sample**. \n",
    "\n",
    "Let's start with population SD:\n",
    "\n",
    "$\\sigma = \\sqrt{\\frac{SS_{X}}{N}}$\n",
    "\n",
    "Where:\n",
    "\n",
    "- $SS_X$ is the **sum of squares** of X.  \n",
    "- $N$ is the number of observations."
   ]
  },
  {
   "cell_type": "markdown",
   "id": "6764c168",
   "metadata": {
    "slideshow": {
     "slide_type": "slide"
    }
   },
   "source": [
    "### Understanding Sum of Squares\n",
    "\n",
    "The **sum of squares** is the sum of *squared deviations* between each score in $X$ and the mean of $X$.\n",
    "\n",
    "$SS_X = \\sum_{i}^{N}(x_i - \\mu)^2$"
   ]
  },
  {
   "cell_type": "code",
   "execution_count": 20,
   "id": "0e5a6b47",
   "metadata": {
    "slideshow": {
     "slide_type": "-"
    }
   },
   "outputs": [
    {
     "data": {
      "text/plain": [
       "46.833333333333336"
      ]
     },
     "execution_count": 20,
     "metadata": {},
     "output_type": "execute_result"
    }
   ],
   "source": [
    "ssx = sum((observations_np - observations_np.mean())**2)\n",
    "ssx"
   ]
  },
  {
   "cell_type": "code",
   "execution_count": 21,
   "id": "ce42e781",
   "metadata": {
    "slideshow": {
     "slide_type": "-"
    }
   },
   "outputs": [
    {
     "data": {
      "text/plain": [
       "2.793842435706702"
      ]
     },
     "execution_count": 21,
     "metadata": {},
     "output_type": "execute_result"
    }
   ],
   "source": [
    "## Then divide SSX by N and take SQRT\n",
    "pop_SD = math.sqrt(ssx/observations_np.size)\n",
    "pop_SD"
   ]
  },
  {
   "cell_type": "markdown",
   "id": "3ac35ab2",
   "metadata": {
    "slideshow": {
     "slide_type": "slide"
    }
   },
   "source": [
    "### Calling `np.std`\n",
    "\n",
    "Note that this will by default calculate the **population standard deviation**!"
   ]
  },
  {
   "cell_type": "code",
   "execution_count": 22,
   "id": "dc1438f3",
   "metadata": {
    "slideshow": {
     "slide_type": "-"
    }
   },
   "outputs": [
    {
     "data": {
      "text/plain": [
       "2.793842435706702"
      ]
     },
     "execution_count": 22,
     "metadata": {},
     "output_type": "execute_result"
    }
   ],
   "source": [
    "observations_np.std()"
   ]
  },
  {
   "cell_type": "markdown",
   "id": "5cb9a739",
   "metadata": {
    "slideshow": {
     "slide_type": "slide"
    }
   },
   "source": [
    "### Sample SD\n",
    "\n",
    "If we use the same formula on a **sample**, we'll tend to *underestimate* the population standard deviation ($\\sigma$).\n",
    "\n",
    "- I.e., this formula is a **biased estimator** of $\\sigma$.\n",
    "- Instead, we add a **correction* ($n-1$) for this bias.  \n",
    "\n",
    "$SD = \\sqrt{\\frac{SS_{X}}{n-1}}$\n",
    "\n",
    "See [this paper](https://www.tandfonline.com/doi/pdf/10.1080/00494925.1979.11972378?casa_token=8-_5sCulE1QAAAAA:8NZORA5O9N-hPW7C6rjA2MtIfOXApotz5blAzqjU94SWhrqxFvnwsmjPOJMLpBU7BgyExrzvH0c) and more for details on why $n-1$."
   ]
  },
  {
   "cell_type": "code",
   "execution_count": 23,
   "id": "857412a6",
   "metadata": {
    "slideshow": {
     "slide_type": "slide"
    }
   },
   "outputs": [
    {
     "data": {
      "text/plain": [
       "3.0605010483034745"
      ]
     },
     "execution_count": 23,
     "metadata": {},
     "output_type": "execute_result"
    }
   ],
   "source": [
    "## For sample. divide by n - 1 instead\n",
    "sample_SD = math.sqrt(ssx/(observations_np.size-1))\n",
    "sample_SD"
   ]
  },
  {
   "cell_type": "code",
   "execution_count": 24,
   "id": "297094dc",
   "metadata": {
    "slideshow": {
     "slide_type": "-"
    }
   },
   "outputs": [
    {
     "data": {
      "text/plain": [
       "3.0605010483034745"
      ]
     },
     "execution_count": 24,
     "metadata": {},
     "output_type": "execute_result"
    }
   ],
   "source": [
    "## Compare to numpy output\n",
    "np.std(observations_np, ddof=1)"
   ]
  },
  {
   "cell_type": "markdown",
   "id": "96d295b8",
   "metadata": {
    "slideshow": {
     "slide_type": "slide"
    }
   },
   "source": [
    "# Introducing the z-score\n",
    "\n",
    "A **z-score** is a standardized measure of how many any given point deviates from the mean:\n",
    "\n",
    "$Z = \\frac{X - \\mu}{\\sigma}$\n",
    "\n",
    "This allows us to quantify the **distance** (in standardized units) between a point and the mean."
   ]
  },
  {
   "cell_type": "code",
   "execution_count": 25,
   "id": "a25f4bb1",
   "metadata": {
    "slideshow": {
     "slide_type": "-"
    }
   },
   "outputs": [
    {
     "data": {
      "text/plain": [
       "array([-1.01413498, -0.29827499, -0.65620498, -0.65620498,  0.77551498,\n",
       "        1.84930496])"
      ]
     },
     "execution_count": 25,
     "metadata": {},
     "output_type": "execute_result"
    }
   ],
   "source": [
    "observations_z = (observations_np - observations_np.mean())/observations_np.std()\n",
    "observations_z"
   ]
  },
  {
   "cell_type": "markdown",
   "id": "31cdde68",
   "metadata": {
    "slideshow": {
     "slide_type": "slide"
    }
   },
   "source": [
    "## Standard normal distribution\n",
    "\n",
    "The **standard normal distribution** is the result of **z-scoring** a normal distribution, which yields a distribution with the following parameters:  \n",
    "\n",
    "- $\\mu = 0$\n",
    "- $\\sigma = 1$\n",
    "\n",
    "\n",
    "This will also be important when we discuss inferential statistics."
   ]
  },
  {
   "cell_type": "code",
   "execution_count": 26,
   "id": "ba875e57",
   "metadata": {
    "slideshow": {
     "slide_type": "slide"
    }
   },
   "outputs": [
    {
     "data": {
      "image/png": "[encoded data removed]",
      "text/plain": [
       "<Figure size 432x288 with 2 Axes>"
      ]
     },
     "metadata": {
      "image/png": {
       "height": 248,
       "width": 381
      },
      "needs_background": "light"
     },
     "output_type": "display_data"
    }
   ],
   "source": [
    "# First, make a normal distribution\n",
    "pop = np.random.normal(loc = 5000, scale = 50,size = 5000)\n",
    "# Now, z-score it \n",
    "pop_z = (pop - pop.mean()) / pop.std()\n",
    "\n",
    "f, (ax1, ax2) = plt.subplots(1, 2, sharey=True)\n",
    "og = ax1.hist(pop, alpha = .5)\n",
    "og_z = ax2.hist(pop_z, alpha = .5)"
   ]
  },
  {
   "cell_type": "markdown",
   "id": "2accbf18",
   "metadata": {
    "slideshow": {
     "slide_type": "slide"
    }
   },
   "source": [
    "# Part 3: Sampling Distributions"
   ]
  },
  {
   "cell_type": "markdown",
   "id": "021222f5",
   "metadata": {
    "slideshow": {
     "slide_type": "slide"
    }
   },
   "source": [
    "## Samples and Estimators\n",
    "\n",
    "- Often, we're interested in more than just *describing a sample*.  \n",
    "- Rather, we want to **generalize** from a sample to a population.\n",
    "- More formally: we **estimate** the *population parameter* ($\\mu$) from a *sample statistic* ($\\bar{X}$)"
   ]
  },
  {
   "cell_type": "markdown",
   "id": "c5af0123",
   "metadata": {
    "slideshow": {
     "slide_type": "slide"
    }
   },
   "source": [
    "## Check-in\n",
    "\n",
    "What does it mean for $\\bar{X}$ to be an **unbiased estimate** of $\\mu$?"
   ]
  },
  {
   "cell_type": "markdown",
   "id": "321129fb",
   "metadata": {
    "slideshow": {
     "slide_type": "slide"
    }
   },
   "source": [
    "## Sampling distributions\n",
    "\n",
    "- $\\bar{X}$ is not *identical* to $\\mu$  \n",
    "- But if we took many samples from $\\mu$, the distribution of **sample means** would be **normally distributed** around $\\mu$. \n",
    " - Hence, on average, it's *unbiased*: the **mean** of this distribution is equal to $\\mu$.  \n",
    "- The distribution of *all possible* samples of size $n$ is called a **sampling distribution**."
   ]
  },
  {
   "cell_type": "markdown",
   "id": "5a6a5e6a",
   "metadata": {
    "slideshow": {
     "slide_type": "slide"
    }
   },
   "source": [
    "#### Illustration of sampling distribution\n",
    "\n",
    "First, we simulate a ground gruth population."
   ]
  },
  {
   "cell_type": "code",
   "execution_count": 27,
   "id": "28ac37b6",
   "metadata": {
    "slideshow": {
     "slide_type": "-"
    }
   },
   "outputs": [
    {
     "data": {
      "image/png": "[encoded data removed]",
      "text/plain": [
       "<Figure size 432x288 with 1 Axes>"
      ]
     },
     "metadata": {
      "image/png": {
       "height": 248,
       "width": 388
      },
      "needs_background": "light"
     },
     "output_type": "display_data"
    }
   ],
   "source": [
    "np.random.seed(seed=10)\n",
    "pop = np.random.normal(loc = 65, scale = 3, size = 5000)\n",
    "g = sns.histplot(pop)"
   ]
  },
  {
   "cell_type": "markdown",
   "id": "58a1b864",
   "metadata": {
    "slideshow": {
     "slide_type": "slide"
    }
   },
   "source": [
    "#### Illustration of sampling distribution\n",
    "\n",
    "Now, we sample from that population 300 times, with each sample size $n = 5$. What do we notice about the distribution of those sample means? (Note this is not a \"true\" sampling distribution in that it's not every possible sample.)"
   ]
  },
  {
   "cell_type": "code",
   "execution_count": 28,
   "id": "4e3773c4",
   "metadata": {
    "slideshow": {
     "slide_type": "-"
    }
   },
   "outputs": [
    {
     "data": {
      "text/plain": [
       "Text(0.5, 0, 'Sample mean (n = 5)')"
      ]
     },
     "execution_count": 28,
     "metadata": {},
     "output_type": "execute_result"
    },
    {
     "data": {
      "image/png": "[encoded data removed]",
      "text/plain": [
       "<Figure size 432x288 with 1 Axes>"
      ]
     },
     "metadata": {
      "image/png": {
       "height": 261,
       "width": 382
      },
      "needs_background": "light"
     },
     "output_type": "display_data"
    }
   ],
   "source": [
    "sample_means_n5 = []\n",
    "for _ in range(300):\n",
    "    sample = np.random.choice(pop, size = 5, replace = False)\n",
    "    sample_means_n5.append(sample.mean())\n",
    "    \n",
    "g = sns.histplot(sample_means_n5)\n",
    "plt.xlabel(\"Sample mean (n = 5)\")"
   ]
  },
  {
   "cell_type": "markdown",
   "id": "1ef3b77f",
   "metadata": {
    "slideshow": {
     "slide_type": "slide"
    }
   },
   "source": [
    "## Why $n$ matters\n",
    "\n",
    "Now let's compare several distributions:  \n",
    "\n",
    "- The original population  \n",
    "- Sampling distribution with $n = 15$  \n",
    "- Sampling distribution with $n = 40$"
   ]
  },
  {
   "cell_type": "markdown",
   "id": "30fabef6",
   "metadata": {
    "slideshow": {
     "slide_type": "slide"
    }
   },
   "source": [
    "### Collecting sample means with $n=40$"
   ]
  },
  {
   "cell_type": "code",
   "execution_count": 29,
   "id": "c94cac76",
   "metadata": {
    "slideshow": {
     "slide_type": "-"
    }
   },
   "outputs": [],
   "source": [
    "sample_means_n40 = []\n",
    "for _ in range(300):\n",
    "    sample = np.random.choice(pop, size = 40, replace = False)\n",
    "    sample_means_n40.append(sample.mean())"
   ]
  },
  {
   "cell_type": "code",
   "execution_count": 30,
   "id": "e82332f9",
   "metadata": {
    "slideshow": {
     "slide_type": "slide"
    }
   },
   "outputs": [
    {
     "data": {
      "image/png": "[encoded data removed]",
      "text/plain": [
       "<Figure size 648x288 with 3 Axes>"
      ]
     },
     "metadata": {
      "image/png": {
       "height": 263,
       "width": 549
      },
      "needs_background": "light"
     },
     "output_type": "display_data"
    }
   ],
   "source": [
    "## Now, we visualize them altogether\n",
    "f, (ax1, ax2, ax3) = plt.subplots(1, 3, sharex = True)\n",
    "f.set_figwidth(9)\n",
    "og = ax1.hist(pop, alpha = .5)\n",
    "ax1.title.set_text(\"Population\")\n",
    "og_s1 = ax2.hist(sample_means_n5, alpha = .5)\n",
    "ax2.title.set_text(\"Sample means (n = 5)\")\n",
    "og_s2 = ax3.hist(sample_means_n40, alpha = .5)\n",
    "ax3.title.set_text(\"Sample means (n = 40)\")"
   ]
  },
  {
   "cell_type": "markdown",
   "id": "1d1f2c5b",
   "metadata": {
    "slideshow": {
     "slide_type": "slide"
    }
   },
   "source": [
    "## Why $n$ matters\n",
    "\n",
    "As $n$ increases: \n",
    "\n",
    "- Sampling distribution looks increasingly **normal**  \n",
    "- The variance of our sampling distribution **decreases**. \n",
    "\n",
    "This is, in essence, the [Central Limit Theorem](https://en.wikipedia.org/wiki/Central_limit_theorem)."
   ]
  },
  {
   "cell_type": "markdown",
   "id": "bdf3d697",
   "metadata": {
    "slideshow": {
     "slide_type": "slide"
    }
   },
   "source": [
    "## Check-in\n",
    "\n",
    "Would this apply to non-normal distributions, such as a right-skewed distribution?"
   ]
  },
  {
   "cell_type": "markdown",
   "id": "c68ad8ef",
   "metadata": {
    "slideshow": {
     "slide_type": "slide"
    }
   },
   "source": [
    "## Check-in\n",
    "\n",
    "Would this apply to non-normal distributions, such as a right-skewed distribution? \n",
    "\n",
    "**Answer**: Yes! Even for a skewed population, the distribution of sample means will be normal (and increasingly so as $n$ increases).\n",
    "\n",
    "- See today's lab for more examples of sampling distributions"
   ]
  },
  {
   "cell_type": "markdown",
   "id": "ec9ef83a",
   "metadata": {
    "slideshow": {
     "slide_type": "slide"
    }
   },
   "source": [
    "### Why do sampling distributions matter?\n",
    "\n",
    "As we'll see, the notion of a **sampling distribution**––and the Central Limit Theorem––is central to Null Hypothesis Significance Testing."
   ]
  },
  {
   "cell_type": "markdown",
   "id": "47bece41",
   "metadata": {
    "slideshow": {
     "slide_type": "slide"
    }
   },
   "source": [
    "# Part 4: Introduction to NHST\n",
    "\n",
    "[NHST](https://en.wikipedia.org/wiki/Statistical_hypothesis_testing) is an approach to inferential statistics which involves making a **decision** about **rejecting** or **failing to reject** the null hypothesis.\n",
    "\n",
    "We'll break this topic into several components:  \n",
    "\n",
    "- Intuition: null vs. alternate hypotheses  \n",
    "- Connecting to sampling distributions  \n",
    "- The **z-test**: our first hypothesis test"
   ]
  },
  {
   "cell_type": "markdown",
   "id": "092a9a63",
   "metadata": {
    "slideshow": {
     "slide_type": "slide"
    }
   },
   "source": [
    "## 4a. Building intuition\n",
    "\n",
    "Consider the following scenario:\n",
    "\n",
    "> A researcher is interested in whether a new test prep course improves SAT performance. Somehow, we already know population-level mean: it's $520$. We also know that population $\\sigma = 5$. \n",
    "\n",
    "> They randomly assign 10 students to take the course, who then take the SAT. The researcher calculates the average SAT score for those students: it's $530$. \n",
    "\n",
    "Did the test prep work? **How would we know?**"
   ]
  },
  {
   "cell_type": "markdown",
   "id": "a7ea9957",
   "metadata": {
    "slideshow": {
     "slide_type": "slide"
    }
   },
   "source": [
    "## High-level hypothesis space\n",
    "\n",
    "Fundamentally, we're asking whether that **sample mean** ($\\bar{X} = 530$) is:\n",
    "\n",
    "- Higher than the **population mean** ($\\mu = 520$)?\n",
    "- No different (or perhaps lower) than the **population mean** ($\\mu = 520$)?\n",
    "\n",
    "I.e., is it any different from what we'd expect if they *hadn't* taken the course?"
   ]
  },
  {
   "cell_type": "markdown",
   "id": "59ff61c5",
   "metadata": {
    "slideshow": {
     "slide_type": "slide"
    }
   },
   "source": [
    "### Describing the hypothesis space\n",
    "\n",
    "These possibilities correspond to distinct **hypotheses**:\n",
    "\n",
    "- $H_0$ (**Null Hypothesis**): The test prep course did *not* improve performance (the sample is not from a different \"population\").  \n",
    "- $H_1$ (**Alternate Hypothesis**): The test prep course *did* improve performance (the sample is from a different \"population\").\n",
    "\n",
    "We can express these more formally:\n",
    "\n",
    "- $H_0: \\bar{X} = \\mu$  \n",
    "- $H_1: \\bar{X} > \\mu$"
   ]
  },
  {
   "cell_type": "markdown",
   "id": "28a773fc",
   "metadata": {
    "slideshow": {
     "slide_type": "slide"
    }
   },
   "source": [
    "### Note: one-tailed vs. two-tailed\n",
    "\n",
    "Hypothesis tests can be either:\n",
    "\n",
    "- **One-tailed**: I.e., testing a *directional* difference (\"The sample mean is *greater* than population mean.\")\n",
    "- **Two-tailed**: I.e., testing *any* difference (\"The sample mean is *different* from the population mean.\")\n",
    "\n",
    "This will affect exactly how the **p-value** is calculated––i.e., are you sampling from *both* sides of the distribution, or just one?"
   ]
  },
  {
   "cell_type": "markdown",
   "id": "00fdde0b",
   "metadata": {
    "slideshow": {
     "slide_type": "slide"
    }
   },
   "source": [
    "### Contending with sampling error\n",
    "\n",
    "Of course, **sampling error** makes it very likely that $\\bar{X} ≠ \\mu$.\n",
    "\n",
    "- This doesn't mean $H_0$ is false!  \n",
    "- Even two samples drawn from the same population will have different means.  \n",
    "\n",
    "**How different is truly different?**"
   ]
  },
  {
   "cell_type": "markdown",
   "id": "022e4b63",
   "metadata": {
    "slideshow": {
     "slide_type": "slide"
    }
   },
   "source": [
    "## 4b. Connecting to sampling distributions\n",
    "\n",
    "Key insights:\n",
    "\n",
    "- [Central Limit Theorem](https://en.wikipedia.org/wiki/Central_limit_theorem) states that as $n$ increases, distribution of sample means is increasingly normal.  \n",
    "- A normal distribution can be **z-scored** and turned into the **standard normal distribution**.  \n",
    "\n",
    "Because this is a **probability distribution**, we can calculate the *probability* of any given value (e.g., $\\bar{X}$) having been sampled from that distribution!"
   ]
  },
  {
   "cell_type": "markdown",
   "id": "b685ce07",
   "metadata": {
    "slideshow": {
     "slide_type": "slide"
    }
   },
   "source": [
    "### Using cumulative distribution functions\n",
    "\n",
    "To calculate this probability, we use a **cumulative distribution function** (or CDF).\n",
    "\n",
    "- Note: in practice, you won't need to calculate this by hand––most packages will give you a *p-value* automatically.  \n",
    "- But remember: a *p-value* depends on **which** sampling distribution you're assuming as your null hypothesis.  "
   ]
  },
  {
   "cell_type": "markdown",
   "id": "cde1da78",
   "metadata": {
    "slideshow": {
     "slide_type": "slide"
    }
   },
   "source": [
    "#### Defining the standard normal distribution  "
   ]
  },
  {
   "cell_type": "code",
   "execution_count": 94,
   "id": "48d0d216",
   "metadata": {
    "slideshow": {
     "slide_type": "-"
    }
   },
   "outputs": [
    {
     "data": {
      "text/plain": [
       "<scipy.stats._distn_infrastructure.rv_frozen at 0x7fa965753730>"
      ]
     },
     "execution_count": 94,
     "metadata": {},
     "output_type": "execute_result"
    }
   ],
   "source": [
    "s_norm = ss.norm(loc = 0, scale = 1)\n",
    "s_norm"
   ]
  },
  {
   "cell_type": "markdown",
   "id": "e91db434",
   "metadata": {
    "slideshow": {
     "slide_type": "slide"
    }
   },
   "source": [
    "#### Now, we can use `s_norm.cdf(X)` to calculate $p(≤X)$\n",
    "\n",
    "**Check-in**: Why is $p(≤X) = 0$?"
   ]
  },
  {
   "cell_type": "code",
   "execution_count": 95,
   "id": "1acf41b7",
   "metadata": {
    "slideshow": {
     "slide_type": "-"
    }
   },
   "outputs": [
    {
     "data": {
      "text/plain": [
       "0.5"
      ]
     },
     "execution_count": 95,
     "metadata": {},
     "output_type": "execute_result"
    }
   ],
   "source": [
    "s_norm.cdf(0)"
   ]
  },
  {
   "cell_type": "code",
   "execution_count": 96,
   "id": "17996ed0",
   "metadata": {
    "slideshow": {
     "slide_type": "-"
    }
   },
   "outputs": [
    {
     "data": {
      "text/plain": [
       "0.8413447460685429"
      ]
     },
     "execution_count": 96,
     "metadata": {},
     "output_type": "execute_result"
    }
   ],
   "source": [
    "s_norm.cdf(1)"
   ]
  },
  {
   "cell_type": "markdown",
   "id": "cd8e97f0",
   "metadata": {
    "slideshow": {
     "slide_type": "slide"
    }
   },
   "source": [
    "#### We can also plot the CDF through some set of points"
   ]
  },
  {
   "cell_type": "code",
   "execution_count": 97,
   "id": "d5d96aba",
   "metadata": {
    "slideshow": {
     "slide_type": "-"
    }
   },
   "outputs": [
    {
     "data": {
      "text/plain": [
       "Text(0, 0.5, 'P(≤X)')"
      ]
     },
     "execution_count": 97,
     "metadata": {},
     "output_type": "execute_result"
    },
    {
     "data": {
      "image/png": "[encoded data removed]",
      "text/plain": [
       "<Figure size 432x288 with 1 Axes>"
      ]
     },
     "metadata": {
      "image/png": {
       "height": 261,
       "width": 385
      },
      "needs_background": "light"
     },
     "output_type": "display_data"
    }
   ],
   "source": [
    "points = np.linspace(-3, 3, 50)\n",
    "points_cdf = s_norm.cdf(points)\n",
    "p = plt.plot(points, points_cdf)\n",
    "plt.xlabel(\"X\")\n",
    "plt.ylabel(\"P(≤X)\")"
   ]
  },
  {
   "cell_type": "markdown",
   "id": "b92aef35",
   "metadata": {
    "slideshow": {
     "slide_type": "slide"
    }
   },
   "source": [
    "#### Check-in: How would we calculate $p(>X)$?"
   ]
  },
  {
   "cell_type": "markdown",
   "id": "712c8f22",
   "metadata": {
    "slideshow": {
     "slide_type": "slide"
    }
   },
   "source": [
    "#### To calculate $p(>X)$, simply subtract $1 - p(≤X)$"
   ]
  },
  {
   "cell_type": "code",
   "execution_count": 98,
   "id": "5bbd3948",
   "metadata": {
    "slideshow": {
     "slide_type": "skip"
    }
   },
   "outputs": [
    {
     "data": {
      "text/plain": [
       "0.15865525393145707"
      ]
     },
     "execution_count": 98,
     "metadata": {},
     "output_type": "execute_result"
    }
   ],
   "source": [
    "1 - s_norm.cdf(1)"
   ]
  },
  {
   "cell_type": "code",
   "execution_count": 99,
   "id": "dbed7d56",
   "metadata": {
    "slideshow": {
     "slide_type": "skip"
    }
   },
   "outputs": [
    {
     "data": {
      "text/plain": [
       "True"
      ]
     },
     "execution_count": 99,
     "metadata": {},
     "output_type": "execute_result"
    }
   ],
   "source": [
    "# Normal distribution is *symmetric*\n",
    "(1 - s_norm.cdf(1)) == s_norm.cdf(-1)"
   ]
  },
  {
   "cell_type": "markdown",
   "id": "edd8474c",
   "metadata": {
    "slideshow": {
     "slide_type": "slide"
    }
   },
   "source": [
    "## Probabilistic truth\n",
    "\n",
    "This notion of scientific truth is a **probabilistic one**.  \n",
    "\n",
    "Concretely, it gives us: $p(≥\\bar{X} | H_0)$.\n",
    "\n",
    "- $p(≥\\bar{X}$ is the probability of obtaining a value at least as large (or as **extreme**) as $\\bar{X}$.  \n",
    "- This is **conditioned** on the null hypothesis ($H_0$) being *true*.\n",
    "\n",
    "If the null hypothesis was true, what is the likelihood of obtaining a sample mean this extreme by chance?"
   ]
  },
  {
   "cell_type": "markdown",
   "id": "2d6e978e",
   "metadata": {
    "slideshow": {
     "slide_type": "slide"
    }
   },
   "source": [
    "## 4c. Z-test\n",
    "\n",
    "Returning to our original example: \n",
    "\n",
    "> A researcher is interested in whether a new test prep course improves SAT performance. Somehow, we already know population-level mean: it's $520$. We also know that population $\\sigma = 5$. \n",
    "\n",
    "> They randomly assign 10 students to take the course, who then take the SAT. The researcher calculates the average SAT score for those students: it's $530$. \n",
    "\n",
    "**Did the test work**?"
   ]
  },
  {
   "cell_type": "markdown",
   "id": "265c6062",
   "metadata": {
    "slideshow": {
     "slide_type": "slide"
    }
   },
   "source": [
    "### Step 1: are sample and population mean different?\n",
    "\n",
    "This is easier to answer:\n",
    "\n",
    "$\\bar{X} - \\mu$"
   ]
  },
  {
   "cell_type": "code",
   "execution_count": 100,
   "id": "a9c86b69",
   "metadata": {
    "slideshow": {
     "slide_type": "-"
    }
   },
   "outputs": [
    {
     "data": {
      "text/plain": [
       "10"
      ]
     },
     "execution_count": 100,
     "metadata": {},
     "output_type": "execute_result"
    }
   ],
   "source": [
    "diff = 530 - 520\n",
    "diff"
   ]
  },
  {
   "cell_type": "markdown",
   "id": "cd42ec14",
   "metadata": {
    "slideshow": {
     "slide_type": "slide"
    }
   },
   "source": [
    "### Step 2: setting up our sampling distribution\n",
    "\n",
    "Recall that our sampling distribution represents the set of **sample means** we'd get if we were sampling from the true population.\n",
    "\n",
    "Thus, our sampling distribution is *parameterized* by:\n",
    "\n",
    "- The standard deviation of the population: $\\sigma = 5$  \n",
    "- The size of our sample: $n = 10$"
   ]
  },
  {
   "cell_type": "markdown",
   "id": "d8952dc1",
   "metadata": {
    "slideshow": {
     "slide_type": "slide"
    }
   },
   "source": [
    "### Revisiting the CLT\n",
    "\n",
    "Recall that our distribution of sample means will be **normal**, and that it'll also have a particular **standard deviation**. "
   ]
  },
  {
   "cell_type": "code",
   "execution_count": 101,
   "id": "2b074b99",
   "metadata": {
    "slideshow": {
     "slide_type": "-"
    }
   },
   "outputs": [
    {
     "data": {
      "text/plain": [
       "1.5498461236993128"
      ]
     },
     "execution_count": 101,
     "metadata": {},
     "output_type": "execute_result"
    }
   ],
   "source": [
    "np.random.seed(10)\n",
    "POP = np.random.normal(loc = 520, scale = 5, size = 5000)\n",
    "sample_means = []\n",
    "for i in range(10000):\n",
    "    sample = np.random.choice(POP, size = 10, replace = False)\n",
    "    sample_means.append(sample.mean())\n",
    "sample_means = np.array(sample_means)\n",
    "sample_means.std()"
   ]
  },
  {
   "cell_type": "markdown",
   "id": "c4c5c680",
   "metadata": {
    "slideshow": {
     "slide_type": "slide"
    }
   },
   "source": [
    "### An easier, analytical solution\n",
    "\n",
    "It turns out that the **standard error of the mean** can be obtained with a simple formula:\n",
    "\n",
    "$\\sigma_{\\bar{X}} = \\frac{\\sigma}{\\sqrt{n}}$\n",
    "\n",
    "- $\\sigma_{\\bar{X}}$ = standard error of the mean.\n",
    "- $\\sigma$ = standard deviation of the population.  \n",
    "- $n$ = sample size.  "
   ]
  },
  {
   "cell_type": "code",
   "execution_count": 102,
   "id": "55dd7e51",
   "metadata": {
    "slideshow": {
     "slide_type": "-"
    }
   },
   "outputs": [
    {
     "data": {
      "text/plain": [
       "1.5811388300841895"
      ]
     },
     "execution_count": 102,
     "metadata": {},
     "output_type": "execute_result"
    }
   ],
   "source": [
    "se_mean = 5/math.sqrt(10)\n",
    "se_mean"
   ]
  },
  {
   "cell_type": "markdown",
   "id": "8dce75bf",
   "metadata": {
    "slideshow": {
     "slide_type": "slide"
    }
   },
   "source": [
    "### Step 3: Putting it altogether\n",
    "\n",
    "The whole formula for the **z-test** is given by:\n",
    "\n",
    "$Z_\\bar{X} = \\frac{\\bar{X} -\\mu}{\\sigma_{\\bar{X}}}$"
   ]
  },
  {
   "cell_type": "code",
   "execution_count": 103,
   "id": "afc23954",
   "metadata": {
    "slideshow": {
     "slide_type": "-"
    }
   },
   "outputs": [
    {
     "data": {
      "text/plain": [
       "6.324555320336759"
      ]
     },
     "execution_count": 103,
     "metadata": {},
     "output_type": "execute_result"
    }
   ],
   "source": [
    "z = diff / se_mean\n",
    "z"
   ]
  },
  {
   "cell_type": "markdown",
   "id": "9b2ac488",
   "metadata": {
    "slideshow": {
     "slide_type": "slide"
    }
   },
   "source": [
    "### Finding a p-value\n",
    "\n",
    "Now that we have a value for $Z_\\bar{X}$, we want to know how **likely** it is to obtain a value at least that large. \n",
    "\n",
    "And we can use the **standard normal distribution** as our sampling distribution!"
   ]
  },
  {
   "cell_type": "code",
   "execution_count": 104,
   "id": "eb996615",
   "metadata": {
    "slideshow": {
     "slide_type": "-"
    }
   },
   "outputs": [
    {
     "data": {
      "text/plain": [
       "1.269814253745949e-10"
      ]
     },
     "execution_count": 104,
     "metadata": {},
     "output_type": "execute_result"
    }
   ],
   "source": [
    "pop_dist = ss.norm(loc = 0, scale = 1)\n",
    "p = 1 - pop_dist.cdf(z)\n",
    "p"
   ]
  },
  {
   "cell_type": "markdown",
   "id": "fe29f27d",
   "metadata": {
    "slideshow": {
     "slide_type": "slide"
    }
   },
   "source": [
    "# Conclusion\n",
    "\n",
    "This concludes the introduction to NHST! Hopefully now, you can:\n",
    "\n",
    "- **Implement** several basic descriptive statistics in Python  \n",
    "- **Describe** properties of a distribution (e.g., skew, etc.)\n",
    "- **Explain** the theoretical foundations of NHST   "
   ]
  }
 ],
 "metadata": {
  "celltoolbar": "Slideshow",
  "kernelspec": {
   "display_name": "Python 3 (ipykernel)",
   "language": "python",
   "name": "python3"
  },
  "language_info": {
   "codemirror_mode": {
    "name": "ipython",
    "version": 3
   },
   "file_extension": ".py",
   "mimetype": "text/x-python",
   "name": "python",
   "nbconvert_exporter": "python",
   "pygments_lexer": "ipython3",
   "version": "3.9.12"
  }
 },
 "nbformat": 4,
 "nbformat_minor": 5
}
