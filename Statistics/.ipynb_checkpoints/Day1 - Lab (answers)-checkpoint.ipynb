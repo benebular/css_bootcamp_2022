{
 "cells": [
  {
   "cell_type": "markdown",
   "id": "074b9528",
   "metadata": {},
   "source": [
    "# CSS Bootcamp\n",
    "\n",
    "## Day 1 (NHST): Lab\n",
    "\n",
    "This lab is intended to accompany **Day 1** of the week on **Statistics**, which focuses on:\n",
    "\n",
    "- Basic descriptive statistics  \n",
    "- Sampling error and the Central Limit Theorem  \n",
    "- Philosophy of NHST (e.g., signal detection theory) \n",
    "\n",
    "This lab has some \"free response\" questions, in which you are asked to describe or make some inference from a graph. \n",
    "\n",
    "It also has questions requiring you to program answers in Python. In some cases, this will use built-in functions we've discussed in class (either today, or previous weeks). In others, there'll be a built-in function that we *haven't* discussed, which you will have to look up in the documentation. And in other cases, you'll be asked to write an original function.\n",
    "\n",
    "Please reach out for help if anything is unclear!"
   ]
  },
  {
   "cell_type": "markdown",
   "id": "678c7b8b",
   "metadata": {},
   "source": [
    "#### Key imports\n",
    "\n",
    "Here, we import some of the libraries that will be critical for the lab."
   ]
  },
  {
   "cell_type": "code",
   "execution_count": 259,
   "id": "ffb60af5",
   "metadata": {},
   "outputs": [],
   "source": [
    "import matplotlib.pyplot as plt\n",
    "import math\n",
    "import numpy as np\n",
    "import seaborn as sns\n",
    "import scipy.stats as ss\n",
    "import pandas as pd"
   ]
  },
  {
   "cell_type": "code",
   "execution_count": 2,
   "id": "d8671fc4",
   "metadata": {},
   "outputs": [],
   "source": [
    "%matplotlib inline\n",
    "%config InlineBackend.figure_format = 'retina'  # makes figs nicer!"
   ]
  },
  {
   "cell_type": "markdown",
   "id": "08ac697a",
   "metadata": {},
   "source": [
    "We're also going to be working with one of the datasets found in `seaborn`."
   ]
  },
  {
   "cell_type": "code",
   "execution_count": 3,
   "id": "4abd56bb",
   "metadata": {},
   "outputs": [
    {
     "data": {
      "text/html": [
       "<div>\n",
       "<style scoped>\n",
       "    .dataframe tbody tr th:only-of-type {\n",
       "        vertical-align: middle;\n",
       "    }\n",
       "\n",
       "    .dataframe tbody tr th {\n",
       "        vertical-align: top;\n",
       "    }\n",
       "\n",
       "    .dataframe thead th {\n",
       "        text-align: right;\n",
       "    }\n",
       "</style>\n",
       "<table border=\"1\" class=\"dataframe\">\n",
       "  <thead>\n",
       "    <tr style=\"text-align: right;\">\n",
       "      <th></th>\n",
       "      <th>total_bill</th>\n",
       "      <th>tip</th>\n",
       "      <th>sex</th>\n",
       "      <th>smoker</th>\n",
       "      <th>day</th>\n",
       "      <th>time</th>\n",
       "      <th>size</th>\n",
       "    </tr>\n",
       "  </thead>\n",
       "  <tbody>\n",
       "    <tr>\n",
       "      <th>0</th>\n",
       "      <td>16.99</td>\n",
       "      <td>1.01</td>\n",
       "      <td>Female</td>\n",
       "      <td>No</td>\n",
       "      <td>Sun</td>\n",
       "      <td>Dinner</td>\n",
       "      <td>2</td>\n",
       "    </tr>\n",
       "    <tr>\n",
       "      <th>1</th>\n",
       "      <td>10.34</td>\n",
       "      <td>1.66</td>\n",
       "      <td>Male</td>\n",
       "      <td>No</td>\n",
       "      <td>Sun</td>\n",
       "      <td>Dinner</td>\n",
       "      <td>3</td>\n",
       "    </tr>\n",
       "  </tbody>\n",
       "</table>\n",
       "</div>"
      ],
      "text/plain": [
       "   total_bill   tip     sex smoker  day    time  size\n",
       "0       16.99  1.01  Female     No  Sun  Dinner     2\n",
       "1       10.34  1.66    Male     No  Sun  Dinner     3"
      ]
     },
     "execution_count": 3,
     "metadata": {},
     "output_type": "execute_result"
    }
   ],
   "source": [
    "df_tips = sns.load_dataset(\"tips\")\n",
    "df_tips.head(2)"
   ]
  },
  {
   "cell_type": "markdown",
   "id": "484fcf18",
   "metadata": {},
   "source": [
    "## Part 1: Descriptive Statistics\n",
    "\n",
    "In this section, you'll plot data, then calculate basic descriptive statistics for different sets of observations."
   ]
  },
  {
   "cell_type": "markdown",
   "id": "48a0caaf",
   "metadata": {},
   "source": [
    "### 1A. Plotting data"
   ]
  },
  {
   "cell_type": "markdown",
   "id": "ddd42f04",
   "metadata": {},
   "source": [
    "##### Plot the distribution of tip amounts from the `df_tips` dataframe (the correct column is `tip`)."
   ]
  },
  {
   "cell_type": "code",
   "execution_count": 4,
   "id": "74610452",
   "metadata": {},
   "outputs": [],
   "source": [
    "#### Your code here"
   ]
  },
  {
   "cell_type": "code",
   "execution_count": 5,
   "id": "d79b0a32",
   "metadata": {},
   "outputs": [
    {
     "data": {
      "text/plain": [
       "<AxesSubplot:xlabel='tip', ylabel='Count'>"
      ]
     },
     "execution_count": 5,
     "metadata": {},
     "output_type": "execute_result"
    },
    {
     "data": {
      "image/png": "[encoded data removed]",
      "text/plain": [
       "<Figure size 432x288 with 1 Axes>"
      ]
     },
     "metadata": {
      "image/png": {
       "height": 261,
       "width": 382
      },
      "needs_background": "light"
     },
     "output_type": "display_data"
    }
   ],
   "source": [
    "sns.histplot(df_tips['tip'])"
   ]
  },
  {
   "cell_type": "markdown",
   "id": "cff374bd",
   "metadata": {},
   "source": [
    "##### How would you describe the **shape** of this distribution? Is it normal or skewed? If skewed, in what direction?"
   ]
  },
  {
   "cell_type": "code",
   "execution_count": 6,
   "id": "184c2b6f",
   "metadata": {},
   "outputs": [],
   "source": [
    "#### Your response here"
   ]
  },
  {
   "cell_type": "markdown",
   "id": "aae9c69a",
   "metadata": {},
   "source": [
    "##### Create a new variable, called `tip_pct`. This is the `tip` amount divided by the `total_bill` amount"
   ]
  },
  {
   "cell_type": "code",
   "execution_count": 7,
   "id": "d714cb52",
   "metadata": {},
   "outputs": [],
   "source": [
    "#### Your code here"
   ]
  },
  {
   "cell_type": "code",
   "execution_count": 8,
   "id": "c9d9550f",
   "metadata": {},
   "outputs": [],
   "source": [
    "df_tips['tip_pct'] = df_tips['tip'] / df_tips['total_bill']"
   ]
  },
  {
   "cell_type": "markdown",
   "id": "e1c47622",
   "metadata": {},
   "source": [
    "##### Now plot a histogram of this variable. Is it normal or skewed? If skewed, in what direction?"
   ]
  },
  {
   "cell_type": "code",
   "execution_count": 9,
   "id": "a05f7cd0",
   "metadata": {},
   "outputs": [],
   "source": [
    "#### Your code here"
   ]
  },
  {
   "cell_type": "code",
   "execution_count": 10,
   "id": "f442ca33",
   "metadata": {},
   "outputs": [
    {
     "data": {
      "text/plain": [
       "<AxesSubplot:xlabel='tip_pct', ylabel='Count'>"
      ]
     },
     "execution_count": 10,
     "metadata": {},
     "output_type": "execute_result"
    },
    {
     "data": {
      "image/png": "[encoded data removed]",
      "text/plain": [
       "<Figure size 432x288 with 1 Axes>"
      ]
     },
     "metadata": {
      "image/png": {
       "height": 262,
       "width": 382
      },
      "needs_background": "light"
     },
     "output_type": "display_data"
    }
   ],
   "source": [
    "sns.histplot(df_tips['tip_pct'])"
   ]
  },
  {
   "cell_type": "markdown",
   "id": "5fd8e796",
   "metadata": {},
   "source": [
    "### 1B. Central Tendency"
   ]
  },
  {
   "cell_type": "markdown",
   "id": "899c08df",
   "metadata": {},
   "source": [
    "##### What is the `mean` tip proportion (`tip_pct`)?"
   ]
  },
  {
   "cell_type": "code",
   "execution_count": 11,
   "id": "8205f53d",
   "metadata": {},
   "outputs": [],
   "source": [
    "#### Your code here"
   ]
  },
  {
   "cell_type": "code",
   "execution_count": 12,
   "id": "0484ccce",
   "metadata": {},
   "outputs": [
    {
     "data": {
      "text/plain": [
       "0.16080258172250478"
      ]
     },
     "execution_count": 12,
     "metadata": {},
     "output_type": "execute_result"
    }
   ],
   "source": [
    "df_tips['tip_pct'].mean()"
   ]
  },
  {
   "cell_type": "markdown",
   "id": "f56329f5",
   "metadata": {},
   "source": [
    "##### What is the `median` tip proportion (`tip_pct`)?"
   ]
  },
  {
   "cell_type": "code",
   "execution_count": 13,
   "id": "2892479f",
   "metadata": {},
   "outputs": [],
   "source": [
    "#### Your code here"
   ]
  },
  {
   "cell_type": "code",
   "execution_count": 14,
   "id": "57e8b7d7",
   "metadata": {},
   "outputs": [
    {
     "data": {
      "text/plain": [
       "0.15476977125802577"
      ]
     },
     "execution_count": 14,
     "metadata": {},
     "output_type": "execute_result"
    }
   ],
   "source": [
    "df_tips['tip_pct'].median()"
   ]
  },
  {
   "cell_type": "markdown",
   "id": "213ee503",
   "metadata": {},
   "source": [
    "##### What's higher, the mean or the median? Explain why, using the graph of `tip_pct` from above as justification."
   ]
  },
  {
   "cell_type": "code",
   "execution_count": 15,
   "id": "3dc092b0",
   "metadata": {},
   "outputs": [],
   "source": [
    "#### Your response here"
   ]
  },
  {
   "cell_type": "markdown",
   "id": "bc45cd0a",
   "metadata": {},
   "source": [
    "##### Plot the distribution of `tip_pct` values again, this time with a dotted vertical line representing the `mean` proportion."
   ]
  },
  {
   "cell_type": "code",
   "execution_count": 16,
   "id": "38135abe",
   "metadata": {},
   "outputs": [],
   "source": [
    "#### Your code here"
   ]
  },
  {
   "cell_type": "code",
   "execution_count": 17,
   "id": "a863ba92",
   "metadata": {},
   "outputs": [
    {
     "data": {
      "text/plain": [
       "<matplotlib.lines.Line2D at 0x7fe17027a220>"
      ]
     },
     "execution_count": 17,
     "metadata": {},
     "output_type": "execute_result"
    },
    {
     "data": {
      "image/png": "[encoded data removed]",
      "text/plain": [
       "<Figure size 432x288 with 1 Axes>"
      ]
     },
     "metadata": {
      "image/png": {
       "height": 262,
       "width": 382
      },
      "needs_background": "light"
     },
     "output_type": "display_data"
    }
   ],
   "source": [
    "sns.histplot(df_tips['tip_pct'])\n",
    "plt.axvline(x = df_tips['tip_pct'].mean(), linestyle=\"dotted\", color = \"red\")"
   ]
  },
  {
   "cell_type": "markdown",
   "id": "f93bd6fa",
   "metadata": {},
   "source": [
    "### 1C. Dispersion"
   ]
  },
  {
   "cell_type": "markdown",
   "id": "fe978833",
   "metadata": {},
   "source": [
    "##### What is the minimum and maximum tip proportion (`tip_pct`)?"
   ]
  },
  {
   "cell_type": "code",
   "execution_count": 18,
   "id": "7d79f9b7",
   "metadata": {},
   "outputs": [],
   "source": [
    "#### Your code here"
   ]
  },
  {
   "cell_type": "code",
   "execution_count": 19,
   "id": "f7199c37",
   "metadata": {},
   "outputs": [
    {
     "data": {
      "text/plain": [
       "0.710344827586207"
      ]
     },
     "execution_count": 19,
     "metadata": {},
     "output_type": "execute_result"
    }
   ],
   "source": [
    "df_tips['tip_pct'].max()"
   ]
  },
  {
   "cell_type": "code",
   "execution_count": 20,
   "id": "d6d5e183",
   "metadata": {},
   "outputs": [
    {
     "data": {
      "text/plain": [
       "0.03563813585135547"
      ]
     },
     "execution_count": 20,
     "metadata": {},
     "output_type": "execute_result"
    }
   ],
   "source": [
    "df_tips['tip_pct'].min()"
   ]
  },
  {
   "cell_type": "markdown",
   "id": "0240567a",
   "metadata": {},
   "source": [
    "##### Calculate the distribution of squared errors for `tip_pct`\n",
    "\n",
    "The formula is as follows:\n",
    "\n",
    "$\\epsilon = (x_i - \\mu)^2$\n",
    "\n",
    "Where $\\mu$ is the mean of $x$, and each $x_i$ is one of the observations of $x$."
   ]
  },
  {
   "cell_type": "code",
   "execution_count": 21,
   "id": "c3fec73b",
   "metadata": {},
   "outputs": [],
   "source": [
    "#### Your code here"
   ]
  },
  {
   "cell_type": "code",
   "execution_count": 22,
   "id": "6a8f5e96",
   "metadata": {},
   "outputs": [],
   "source": [
    "errors = (df_tips['tip_pct'] - df_tips['tip_pct'].mean())**2"
   ]
  },
  {
   "cell_type": "markdown",
   "id": "98db5ec6",
   "metadata": {},
   "source": [
    "##### Create a scatterplot comparing the `squared error` (y-axis) for a given datapoint to the original `tip_pct` (x-axis).\n",
    "\n",
    "**Hint**: You can use `sns.scatterplot`, e.g.,:\n",
    "\n",
    "```\n",
    "sns.scatterplot(x = ...,\n",
    "                y = ...)\n",
    "```"
   ]
  },
  {
   "cell_type": "code",
   "execution_count": 23,
   "id": "dc4cabac",
   "metadata": {},
   "outputs": [],
   "source": [
    "#### Your code here"
   ]
  },
  {
   "cell_type": "code",
   "execution_count": 24,
   "id": "ef26b5a4",
   "metadata": {},
   "outputs": [
    {
     "data": {
      "text/plain": [
       "Text(0, 0.5, 'MSE')"
      ]
     },
     "execution_count": 24,
     "metadata": {},
     "output_type": "execute_result"
    },
    {
     "data": {
      "image/png": "[encoded data removed]",
      "text/plain": [
       "<Figure size 432x288 with 1 Axes>"
      ]
     },
     "metadata": {
      "image/png": {
       "height": 262,
       "width": 391
      },
      "needs_background": "light"
     },
     "output_type": "display_data"
    }
   ],
   "source": [
    "sns.scatterplot(x = df_tips['tip_pct'],\n",
    "                y = errors)\n",
    "plt.ylabel(\"MSE\")"
   ]
  },
  {
   "cell_type": "markdown",
   "id": "a33fd56d",
   "metadata": {},
   "source": [
    "##### Write a function to calculate sample standard deviation of an input vector `x`."
   ]
  },
  {
   "cell_type": "code",
   "execution_count": 25,
   "id": "e6ae1738",
   "metadata": {},
   "outputs": [],
   "source": [
    "#### Your code here"
   ]
  },
  {
   "cell_type": "code",
   "execution_count": 26,
   "id": "46929dcc",
   "metadata": {},
   "outputs": [],
   "source": [
    "#### Starter function\n",
    "def calculate_sample_sd(x):\n",
    "    \"\"\"Calculate sample standard deviation of x. Assume x is a numpy array or pd.Series\"\"\"\n",
    "    pass"
   ]
  },
  {
   "cell_type": "code",
   "execution_count": 27,
   "id": "c0e11017",
   "metadata": {},
   "outputs": [],
   "source": [
    "def calculate_sample_sd(x):\n",
    "    \"\"\"Calculate sample standard deviation of x. Assume x is a numpy array or pd.Series\"\"\"\n",
    "    error = (x - x.mean())**2\n",
    "    return math.sqrt(error.sum()/(len(x) - 1))"
   ]
  },
  {
   "cell_type": "markdown",
   "id": "28a550ee",
   "metadata": {},
   "source": [
    "##### Compare the output of your function to calling `std` on the `tip_pct` column of the `pandas` dataframe."
   ]
  },
  {
   "cell_type": "code",
   "execution_count": 28,
   "id": "308882d5",
   "metadata": {},
   "outputs": [],
   "source": [
    "#### Your code here"
   ]
  },
  {
   "cell_type": "code",
   "execution_count": 29,
   "id": "f130fb57",
   "metadata": {},
   "outputs": [
    {
     "data": {
      "text/plain": [
       "0.061072204191571944"
      ]
     },
     "execution_count": 29,
     "metadata": {},
     "output_type": "execute_result"
    }
   ],
   "source": [
    "df_tips['tip_pct'].std()"
   ]
  },
  {
   "cell_type": "code",
   "execution_count": 30,
   "id": "52947d52",
   "metadata": {},
   "outputs": [
    {
     "data": {
      "text/plain": [
       "0.06107220419157193"
      ]
     },
     "execution_count": 30,
     "metadata": {},
     "output_type": "execute_result"
    }
   ],
   "source": [
    "calculate_sample_sd(df_tips['tip_pct'])"
   ]
  },
  {
   "cell_type": "markdown",
   "id": "306589cc",
   "metadata": {},
   "source": [
    "##### Convert the values in `tip_pct` to z-scores.\n",
    "\n",
    "Recall that a **z-score** is defined as:\n",
    "\n",
    "$Z = \\frac{x - \\mu}{\\sigma}$\n",
    "\n",
    "Where:\n",
    "\n",
    "- $mu$ = mean of distribution  \n",
    "- $\\sigma$ = standard deviation of distribution"
   ]
  },
  {
   "cell_type": "code",
   "execution_count": 28,
   "id": "9bbd1a05",
   "metadata": {},
   "outputs": [],
   "source": [
    "#### Your code here"
   ]
  },
  {
   "cell_type": "code",
   "execution_count": 125,
   "id": "477d0e53",
   "metadata": {},
   "outputs": [],
   "source": [
    "Z_tip = (df_tips['tip_pct'] - df_tips['tip_pct'].mean())/df_tips['tip_pct'].std()"
   ]
  },
  {
   "cell_type": "markdown",
   "id": "35b30d32",
   "metadata": {},
   "source": [
    "##### Plot a histogram of those z-scores."
   ]
  },
  {
   "cell_type": "code",
   "execution_count": 126,
   "id": "4f352e15",
   "metadata": {},
   "outputs": [],
   "source": [
    "#### Your code here"
   ]
  },
  {
   "cell_type": "code",
   "execution_count": 129,
   "id": "cdbe424d",
   "metadata": {},
   "outputs": [
    {
     "data": {
      "text/plain": [
       "Text(0.5, 0, 'Z (Tip %)')"
      ]
     },
     "execution_count": 129,
     "metadata": {},
     "output_type": "execute_result"
    },
    {
     "data": {
      "image/png": "[encoded data removed]",
      "text/plain": [
       "<Figure size 432x288 with 1 Axes>"
      ]
     },
     "metadata": {
      "image/png": {
       "height": 261,
       "width": 382
      },
      "needs_background": "light"
     },
     "output_type": "display_data"
    }
   ],
   "source": [
    "sns.histplot(Z_tip)\n",
    "plt.xlabel(\"Z (Tip %)\")"
   ]
  },
  {
   "cell_type": "markdown",
   "id": "d46d051f",
   "metadata": {},
   "source": [
    "## Part 2: Sampling Error and CLT\n",
    "\n",
    "Now that you've had some practice with basic descriptive statistics, we'll put them into action as we tackle **inferential statistics**.\n",
    "\n",
    "The notion of **sampling error** is at the heart of inferential statistics. We can almost never observe an entire population of interest, so we rely on random, representative samples instead. Using these samples, we calculate **sample statistics**, which we use to try to *estimate* the underlying **population parameter**."
   ]
  },
  {
   "cell_type": "markdown",
   "id": "90b0afbe",
   "metadata": {},
   "source": [
    "### 2A. Sampling"
   ]
  },
  {
   "cell_type": "markdown",
   "id": "dec370a4",
   "metadata": {},
   "source": [
    "##### Use `numpy.random.choice` to take a random sample of size 10 of the `tip_pct` column.\n",
    "\n",
    "**Note (1)**: Set `replace = False` to make sure you don't sample the same observation twice.\n",
    "\n",
    "**Note (2)**: You can also sample directly from the `pandas` column using the [`sample` function](https://pandas.pydata.org/docs/reference/api/pandas.DataFrame.sample.html)."
   ]
  },
  {
   "cell_type": "code",
   "execution_count": 31,
   "id": "aa25e5df",
   "metadata": {},
   "outputs": [],
   "source": [
    "#### Your code here"
   ]
  },
  {
   "cell_type": "code",
   "execution_count": 32,
   "id": "561bca44",
   "metadata": {},
   "outputs": [],
   "source": [
    "tip_sample = np.random.choice(df_tips['tip_pct'], size = 10, replace = False)"
   ]
  },
  {
   "cell_type": "markdown",
   "id": "422eeede",
   "metadata": {},
   "source": [
    "##### Calculate the mean of this sample."
   ]
  },
  {
   "cell_type": "code",
   "execution_count": 33,
   "id": "f656cfb6",
   "metadata": {},
   "outputs": [],
   "source": [
    "#### Your code here"
   ]
  },
  {
   "cell_type": "code",
   "execution_count": 34,
   "id": "062429f2",
   "metadata": {},
   "outputs": [
    {
     "data": {
      "text/plain": [
       "0.16158961949863593"
      ]
     },
     "execution_count": 34,
     "metadata": {},
     "output_type": "execute_result"
    }
   ],
   "source": [
    "tip_sample.mean()"
   ]
  },
  {
   "cell_type": "markdown",
   "id": "19052d83",
   "metadata": {},
   "source": [
    "##### How does this compare to the true mean of the distribution? Is it equal? Larger or smaller?\n",
    "\n",
    "**Note**: Try running the *sample* multiple times to get an intuitive sense for how much this value varies."
   ]
  },
  {
   "cell_type": "code",
   "execution_count": 35,
   "id": "92babadf",
   "metadata": {},
   "outputs": [],
   "source": [
    "#### Your response here"
   ]
  },
  {
   "cell_type": "markdown",
   "id": "d0592a74",
   "metadata": {},
   "source": [
    "##### Calculate the root mean squared error (RMSE) of one of these sample means with respect to the true mean.\n",
    "\n",
    "MSE is defined as:\n",
    "\n",
    "$\\epsilon = \\sqrt{(\\bar{x} - \\mu)^2}$\n",
    "\n",
    "Where $\\mu$ is the true mean, and $\\bar{x}$ is the mean of our sample."
   ]
  },
  {
   "cell_type": "code",
   "execution_count": 36,
   "id": "214ffd72",
   "metadata": {},
   "outputs": [],
   "source": [
    "#### Your response here"
   ]
  },
  {
   "cell_type": "code",
   "execution_count": 37,
   "id": "752a4c29",
   "metadata": {},
   "outputs": [
    {
     "data": {
      "text/plain": [
       "0.0007870377761311498"
      ]
     },
     "execution_count": 37,
     "metadata": {},
     "output_type": "execute_result"
    }
   ],
   "source": [
    "math.sqrt((tip_sample.mean() - df_tips['tip_pct'].mean())**2)"
   ]
  },
  {
   "cell_type": "markdown",
   "id": "b4b1f5f9",
   "metadata": {},
   "source": [
    "### 2B. Sampling error"
   ]
  },
  {
   "cell_type": "markdown",
   "id": "9b2d06cd",
   "metadata": {},
   "source": [
    "##### Now write a function to take `N` samples of size `size` from an input vector `x` (without replacement), and return the distribution of sample means."
   ]
  },
  {
   "cell_type": "code",
   "execution_count": 38,
   "id": "7c96e320",
   "metadata": {},
   "outputs": [],
   "source": [
    "#### Your code here"
   ]
  },
  {
   "cell_type": "code",
   "execution_count": 39,
   "id": "d3ba5de3",
   "metadata": {},
   "outputs": [],
   "source": [
    "#### Starter function\n",
    "def sampling_distribution(x, N, size):\n",
    "    \"\"\"Take N samples from x of size 'size', and calculate the mean of each sample.\"\"\"\n",
    "    pass"
   ]
  },
  {
   "cell_type": "code",
   "execution_count": 40,
   "id": "17880a0b",
   "metadata": {},
   "outputs": [],
   "source": [
    "#### Starter function\n",
    "def sampling_distribution(x, N, size):\n",
    "    \"\"\"Take N samples from x of size 'size', and calculate the mean of each sample.\"\"\"\n",
    "    sample_means = []\n",
    "    for i in range(N):\n",
    "        sample = np.random.choice(x, size = size, replace = False)\n",
    "        sample_means.append(sample.mean())\n",
    "    \n",
    "    return np.array(sample_means)"
   ]
  },
  {
   "cell_type": "markdown",
   "id": "160c9b9c",
   "metadata": {},
   "source": [
    "##### Use this function to take 50 samples of size 20 from `tip_pct`. What's the mean of this distribution of sample means?"
   ]
  },
  {
   "cell_type": "code",
   "execution_count": 41,
   "id": "857830a7",
   "metadata": {},
   "outputs": [],
   "source": [
    "#### Your code here"
   ]
  },
  {
   "cell_type": "code",
   "execution_count": 42,
   "id": "d68672ac",
   "metadata": {},
   "outputs": [
    {
     "data": {
      "text/plain": [
       "0.16006970055507366"
      ]
     },
     "execution_count": 42,
     "metadata": {},
     "output_type": "execute_result"
    }
   ],
   "source": [
    "sm = sampling_distribution(df_tips['tip_pct'], N = 50, size = 20)\n",
    "sm.mean()"
   ]
  },
  {
   "cell_type": "markdown",
   "id": "3cb213eb",
   "metadata": {},
   "source": [
    "##### Create a histogram of these sample means."
   ]
  },
  {
   "cell_type": "code",
   "execution_count": 43,
   "id": "c3f7b00f",
   "metadata": {},
   "outputs": [],
   "source": [
    "#### Your code here"
   ]
  },
  {
   "cell_type": "code",
   "execution_count": 44,
   "id": "c9d5efe8",
   "metadata": {},
   "outputs": [
    {
     "data": {
      "text/plain": [
       "<AxesSubplot:ylabel='Count'>"
      ]
     },
     "execution_count": 44,
     "metadata": {},
     "output_type": "execute_result"
    },
    {
     "data": {
      "image/png": "[encoded data removed]",
      "text/plain": [
       "<Figure size 432x288 with 1 Axes>"
      ]
     },
     "metadata": {
      "image/png": {
       "height": 248,
       "width": 382
      },
      "needs_background": "light"
     },
     "output_type": "display_data"
    }
   ],
   "source": [
    "sns.histplot(sm)"
   ]
  },
  {
   "cell_type": "markdown",
   "id": "58c62b4f",
   "metadata": {},
   "source": [
    "##### Create a list of integer values ranging from 1 to 150.\n",
    "\n",
    "**Note**: Use `list(range(...))` to do this."
   ]
  },
  {
   "cell_type": "code",
   "execution_count": 45,
   "id": "01862f2a",
   "metadata": {},
   "outputs": [],
   "source": [
    "#### Your code here"
   ]
  },
  {
   "cell_type": "code",
   "execution_count": 46,
   "id": "3c9c1af0",
   "metadata": {},
   "outputs": [
    {
     "data": {
      "text/plain": [
       "150"
      ]
     },
     "execution_count": 46,
     "metadata": {},
     "output_type": "execute_result"
    }
   ],
   "source": [
    "sample_sizes = list(range(1, 151))\n",
    "max(sample_sizes)"
   ]
  },
  {
   "cell_type": "markdown",
   "id": "d43f2953",
   "metadata": {},
   "source": [
    "### This next problem will involve multiple steps.\n",
    "\n",
    "Steps:\n",
    "\n",
    "1. Use a `for` loop to iterate through each size from the list above. These are our **sample sizes**.\n",
    "2. For each **sample size**, take **50** samples of that size from `tip_pct` (using the `sampling_distribution`) function you've just defined).  \n",
    "3. For each of those sampling distributions, calculate the RMSE between the *mean* of that sampling distribution and the true mean of `tip_pct`.  \n",
    "4. Store all these RMSE values in a list. "
   ]
  },
  {
   "cell_type": "code",
   "execution_count": 47,
   "id": "bd5fed37",
   "metadata": {},
   "outputs": [],
   "source": [
    "#### Your code here"
   ]
  },
  {
   "cell_type": "code",
   "execution_count": 48,
   "id": "a97a61ec",
   "metadata": {},
   "outputs": [],
   "source": [
    "avg_error = []\n",
    "for size in sample_sizes:\n",
    "    sm = sampling_distribution(df_tips['tip_pct'], N = 50, size = size)\n",
    "    error = math.sqrt((sm.mean() - df_tips['tip_pct'].mean())**2)\n",
    "    avg_error.append(error)"
   ]
  },
  {
   "cell_type": "markdown",
   "id": "cf5bd798",
   "metadata": {},
   "source": [
    "##### Create a `scatterplot` comparing `sample_sizes` to `avg_error`. "
   ]
  },
  {
   "cell_type": "code",
   "execution_count": 49,
   "id": "9812380f",
   "metadata": {},
   "outputs": [],
   "source": [
    "#### Your code here"
   ]
  },
  {
   "cell_type": "code",
   "execution_count": 50,
   "id": "f904ed44",
   "metadata": {},
   "outputs": [
    {
     "data": {
      "text/plain": [
       "Text(0, 0.5, 'RMSE')"
      ]
     },
     "execution_count": 50,
     "metadata": {},
     "output_type": "execute_result"
    },
    {
     "data": {
      "image/png": "[encoded data removed]",
      "text/plain": [
       "<Figure size 432x288 with 1 Axes>"
      ]
     },
     "metadata": {
      "image/png": {
       "height": 261,
       "width": 398
      },
      "needs_background": "light"
     },
     "output_type": "display_data"
    }
   ],
   "source": [
    "sns.scatterplot(x = sample_sizes,\n",
    "               y = avg_error)\n",
    "plt.xlabel(\"Sample size\")\n",
    "plt.ylabel(\"RMSE\")"
   ]
  },
  {
   "cell_type": "markdown",
   "id": "5c54ede9",
   "metadata": {},
   "source": [
    "##### What do you notice? Is there a trend here at all?"
   ]
  },
  {
   "cell_type": "code",
   "execution_count": 198,
   "id": "6fd77bf3",
   "metadata": {},
   "outputs": [],
   "source": [
    "#### Your response here"
   ]
  },
  {
   "cell_type": "markdown",
   "id": "49efaea5",
   "metadata": {},
   "source": [
    "### 2C. Central Limit Theorem\n",
    "\n",
    "Now we're going to apply these insights to several different distributions (and distribution shapes)."
   ]
  },
  {
   "cell_type": "markdown",
   "id": "39da4a6e",
   "metadata": {},
   "source": [
    "##### First, consider this highly right-skewed distribution."
   ]
  },
  {
   "cell_type": "code",
   "execution_count": 96,
   "id": "a551a1a8",
   "metadata": {},
   "outputs": [
    {
     "data": {
      "text/plain": [
       "<AxesSubplot:ylabel='Count'>"
      ]
     },
     "execution_count": 96,
     "metadata": {},
     "output_type": "execute_result"
    },
    {
     "data": {
      "image/png": "[encoded data removed]",
      "text/plain": [
       "<Figure size 432x288 with 1 Axes>"
      ]
     },
     "metadata": {
      "image/png": {
       "height": 248,
       "width": 388
      },
      "needs_background": "light"
     },
     "output_type": "display_data"
    }
   ],
   "source": [
    "obs_skewed = ss.skewnorm.rvs(100, size = 1000)\n",
    "sns.histplot(obs_skewed)"
   ]
  },
  {
   "cell_type": "markdown",
   "id": "a621b7ed",
   "metadata": {},
   "source": [
    "##### Use your `sampling_distribution` function to create a distribution of sample means: `50` samples of size `1`. Create a histogram of this distribution."
   ]
  },
  {
   "cell_type": "code",
   "execution_count": 100,
   "id": "193006e3",
   "metadata": {},
   "outputs": [],
   "source": [
    "#### Your code here"
   ]
  },
  {
   "cell_type": "code",
   "execution_count": 101,
   "id": "5a79245c",
   "metadata": {},
   "outputs": [
    {
     "data": {
      "text/plain": [
       "<AxesSubplot:ylabel='Count'>"
      ]
     },
     "execution_count": 101,
     "metadata": {},
     "output_type": "execute_result"
    },
    {
     "data": {
      "image/png": "[encoded data removed]",
      "text/plain": [
       "<Figure size 432x288 with 1 Axes>"
      ]
     },
     "metadata": {
      "image/png": {
       "height": 248,
       "width": 397
      },
      "needs_background": "light"
     },
     "output_type": "display_data"
    }
   ],
   "source": [
    "sm = sampling_distribution(obs_skewed, N = 50, size = 1)\n",
    "sns.histplot(sm)"
   ]
  },
  {
   "cell_type": "markdown",
   "id": "8f4071c3",
   "metadata": {},
   "source": [
    "##### Use your `sampling_distribution` function to create a distribution of sample means: `50` samples of size `10`. Create a histogram of this distribution."
   ]
  },
  {
   "cell_type": "code",
   "execution_count": 91,
   "id": "353b61a0",
   "metadata": {},
   "outputs": [],
   "source": [
    "#### Your code here"
   ]
  },
  {
   "cell_type": "code",
   "execution_count": 102,
   "id": "aef2aea8",
   "metadata": {},
   "outputs": [
    {
     "data": {
      "text/plain": [
       "<AxesSubplot:ylabel='Count'>"
      ]
     },
     "execution_count": 102,
     "metadata": {},
     "output_type": "execute_result"
    },
    {
     "data": {
      "image/png": "[encoded data removed]",
      "text/plain": [
       "<Figure size 432x288 with 1 Axes>"
      ]
     },
     "metadata": {
      "image/png": {
       "height": 248,
       "width": 382
      },
      "needs_background": "light"
     },
     "output_type": "display_data"
    }
   ],
   "source": [
    "sm = sampling_distribution(obs_skewed, N = 50, size = 10)\n",
    "sns.histplot(sm)"
   ]
  },
  {
   "cell_type": "markdown",
   "id": "87545b36",
   "metadata": {},
   "source": [
    "##### Use your `sampling_distribution` function to create a distribution of sample means: `50` samples of size `20`. Create a histogram of this distribution."
   ]
  },
  {
   "cell_type": "code",
   "execution_count": 103,
   "id": "11cc1479",
   "metadata": {},
   "outputs": [],
   "source": [
    "#### Your code here"
   ]
  },
  {
   "cell_type": "code",
   "execution_count": 104,
   "id": "e7770b94",
   "metadata": {},
   "outputs": [
    {
     "data": {
      "text/plain": [
       "<AxesSubplot:ylabel='Count'>"
      ]
     },
     "execution_count": 104,
     "metadata": {},
     "output_type": "execute_result"
    },
    {
     "data": {
      "image/png": "[encoded data removed]",
      "text/plain": [
       "<Figure size 432x288 with 1 Axes>"
      ]
     },
     "metadata": {
      "image/png": {
       "height": 248,
       "width": 382
      },
      "needs_background": "light"
     },
     "output_type": "display_data"
    }
   ],
   "source": [
    "sm = sampling_distribution(obs_skewed, N = 50, size = 20)\n",
    "sns.histplot(sm)"
   ]
  },
  {
   "cell_type": "markdown",
   "id": "0044c957",
   "metadata": {},
   "source": [
    "##### What do you notice about these distributions of sample means? \n",
    "\n",
    "As you write your answer, think about both:\n",
    "\n",
    "1. The **shape** of the distribution of sample means.  \n",
    "2. The **variance** of the distribution of sample means."
   ]
  },
  {
   "cell_type": "code",
   "execution_count": 105,
   "id": "3c45239b",
   "metadata": {},
   "outputs": [],
   "source": [
    "#### Your response here"
   ]
  },
  {
   "cell_type": "markdown",
   "id": "7c793d49",
   "metadata": {},
   "source": [
    "##### How does this relate to the `RMSE ~ sample_size` plot we looked at earlier?"
   ]
  },
  {
   "cell_type": "code",
   "execution_count": 105,
   "id": "8b2576f3",
   "metadata": {},
   "outputs": [],
   "source": [
    "#### Your response here"
   ]
  },
  {
   "cell_type": "markdown",
   "id": "2d06aa34",
   "metadata": {},
   "source": [
    "### Congratulations!\n",
    "\n",
    "These insights are the conceptual foundation of the **Central Limit Theorem**."
   ]
  },
  {
   "cell_type": "markdown",
   "id": "d7a9f50c",
   "metadata": {},
   "source": [
    "## Part 3: Philosophy of NHST\n",
    "\n",
    "The notion of a sampling distribution is central to **Null Hypothesis Significance Testing**, or **NHST**. Combined with probability theory, this allows us to make inferences about the probability of obtaining a particular result (e.g., a test statistic), under some sampling distribution (which usually represents the null hypothesis).\n",
    "\n",
    "In this section, the exercises will focus on a couple topics:\n",
    "\n",
    "- Basic probability (with an emphasis on probability *functions*)  \n",
    "- The philosophical nuts and bolts of NHST: null vs. alternate hypotheses  \n",
    "- Signal detection theory"
   ]
  },
  {
   "cell_type": "markdown",
   "id": "da2cf029",
   "metadata": {},
   "source": [
    "### 3A. Probability and normal distributions\n",
    "\n",
    "Recall that the **standard normal distribution** is the result of **z-scoring** an already normal distribution. This results in a distribution with the following parameters:\n",
    "\n",
    "- The **mean** ($\\mu$) is 0.  \n",
    "- The **standard deviation** ($\\sigma$) is 1."
   ]
  },
  {
   "cell_type": "code",
   "execution_count": 179,
   "id": "e342d356",
   "metadata": {},
   "outputs": [],
   "source": [
    "## Creates a standard normal distribution object\n",
    "sn_dist = ss.norm(0, 1) "
   ]
  },
  {
   "cell_type": "markdown",
   "id": "84d90d95",
   "metadata": {},
   "source": [
    "###### Use the `pdf` function to calculate the probability density of a set of points."
   ]
  },
  {
   "cell_type": "code",
   "execution_count": 158,
   "id": "35f1d9d3",
   "metadata": {},
   "outputs": [],
   "source": [
    "#### Your code here\n",
    "points =  np.linspace(-3, 3, num = 50)\n",
    "### ...."
   ]
  },
  {
   "cell_type": "code",
   "execution_count": 180,
   "id": "592f160a",
   "metadata": {},
   "outputs": [],
   "source": [
    "points_pdf = sn_dist.pdf(points)"
   ]
  },
  {
   "cell_type": "markdown",
   "id": "e81cd4d1",
   "metadata": {},
   "source": [
    "###### Plot the probability density of those points relative to the points themselves."
   ]
  },
  {
   "cell_type": "code",
   "execution_count": 184,
   "id": "958f6def",
   "metadata": {},
   "outputs": [],
   "source": [
    "#### Your code here"
   ]
  },
  {
   "cell_type": "code",
   "execution_count": 190,
   "id": "d4705343",
   "metadata": {},
   "outputs": [
    {
     "data": {
      "text/plain": [
       "[<matplotlib.lines.Line2D at 0x7fe15f0a8250>]"
      ]
     },
     "execution_count": 190,
     "metadata": {},
     "output_type": "execute_result"
    },
    {
     "data": {
      "image/png": "[encoded data removed]",
      "text/plain": [
       "<Figure size 432x288 with 1 Axes>"
      ]
     },
     "metadata": {
      "image/png": {
       "height": 248,
       "width": 378
      },
      "needs_background": "light"
     },
     "output_type": "display_data"
    }
   ],
   "source": [
    "plt.plot(points, points_pdf)"
   ]
  },
  {
   "cell_type": "markdown",
   "id": "cf5625dd",
   "metadata": {},
   "source": [
    "###### Now use the `cdf` function to calculate the cumulative density for that set of points."
   ]
  },
  {
   "cell_type": "code",
   "execution_count": 191,
   "id": "615041b4",
   "metadata": {},
   "outputs": [],
   "source": [
    "#### Your code here\n",
    "points =  np.linspace(-3, 3, num = 50)\n",
    "### ...."
   ]
  },
  {
   "cell_type": "code",
   "execution_count": 192,
   "id": "44b8cf10",
   "metadata": {},
   "outputs": [],
   "source": [
    "points_cdf = sn_dist.cdf(points)"
   ]
  },
  {
   "cell_type": "markdown",
   "id": "96123b3d",
   "metadata": {},
   "source": [
    "###### Plot the cumulative density of those points relative to the points themselves."
   ]
  },
  {
   "cell_type": "code",
   "execution_count": 193,
   "id": "a6b7d749",
   "metadata": {},
   "outputs": [],
   "source": [
    "#### Your code here"
   ]
  },
  {
   "cell_type": "code",
   "execution_count": 194,
   "id": "28002f84",
   "metadata": {},
   "outputs": [
    {
     "data": {
      "text/plain": [
       "[<matplotlib.lines.Line2D at 0x7fe15f41cb50>]"
      ]
     },
     "execution_count": 194,
     "metadata": {},
     "output_type": "execute_result"
    },
    {
     "data": {
      "image/png": "[encoded data removed]",
      "text/plain": [
       "<Figure size 432x288 with 1 Axes>"
      ]
     },
     "metadata": {
      "image/png": {
       "height": 248,
       "width": 372
      },
      "needs_background": "light"
     },
     "output_type": "display_data"
    }
   ],
   "source": [
    "plt.plot(points, points_cdf)"
   ]
  },
  {
   "cell_type": "markdown",
   "id": "19d5d255",
   "metadata": {},
   "source": [
    "###### What is the probability of obtaining a value less than or equal to -1?"
   ]
  },
  {
   "cell_type": "code",
   "execution_count": 204,
   "id": "5402e16b",
   "metadata": {},
   "outputs": [],
   "source": [
    "#### Your code here"
   ]
  },
  {
   "cell_type": "code",
   "execution_count": 205,
   "id": "782dc36e",
   "metadata": {},
   "outputs": [
    {
     "data": {
      "text/plain": [
       "0.15865525393145707"
      ]
     },
     "execution_count": 205,
     "metadata": {},
     "output_type": "execute_result"
    }
   ],
   "source": [
    "sn_dist.cdf(-1)"
   ]
  },
  {
   "cell_type": "markdown",
   "id": "49ede1c7",
   "metadata": {},
   "source": [
    "###### What is the probability of obtaining a value less than or equal to 1?"
   ]
  },
  {
   "cell_type": "code",
   "execution_count": 206,
   "id": "9dda0107",
   "metadata": {},
   "outputs": [],
   "source": [
    "#### Your code here"
   ]
  },
  {
   "cell_type": "code",
   "execution_count": 207,
   "id": "0e73d33c",
   "metadata": {},
   "outputs": [
    {
     "data": {
      "text/plain": [
       "0.8413447460685429"
      ]
     },
     "execution_count": 207,
     "metadata": {},
     "output_type": "execute_result"
    }
   ],
   "source": [
    "sn_dist.cdf(1)"
   ]
  },
  {
   "cell_type": "markdown",
   "id": "8be32654",
   "metadata": {},
   "source": [
    "###### What is the probability of obtaining a value between 0 and 1?"
   ]
  },
  {
   "cell_type": "code",
   "execution_count": 208,
   "id": "0a9db9cb",
   "metadata": {},
   "outputs": [],
   "source": [
    "#### Your code here"
   ]
  },
  {
   "cell_type": "code",
   "execution_count": 209,
   "id": "46da5f72",
   "metadata": {},
   "outputs": [
    {
     "data": {
      "text/plain": [
       "0.3413447460685429"
      ]
     },
     "execution_count": 209,
     "metadata": {},
     "output_type": "execute_result"
    }
   ],
   "source": [
    "sn_dist.cdf(1) - sn_dist.cdf(0)"
   ]
  },
  {
   "cell_type": "markdown",
   "id": "a5b01117",
   "metadata": {},
   "source": [
    "###### What is the probability of obtaining a value larger than 1?"
   ]
  },
  {
   "cell_type": "code",
   "execution_count": 210,
   "id": "bb651667",
   "metadata": {},
   "outputs": [],
   "source": [
    "#### Your code here"
   ]
  },
  {
   "cell_type": "code",
   "execution_count": 203,
   "id": "ee23ff98",
   "metadata": {},
   "outputs": [
    {
     "data": {
      "text/plain": [
       "0.15865525393145707"
      ]
     },
     "execution_count": 203,
     "metadata": {},
     "output_type": "execute_result"
    }
   ],
   "source": [
    "1 - sn_dist.cdf(1)"
   ]
  },
  {
   "cell_type": "markdown",
   "id": "2f4e4f74",
   "metadata": {},
   "source": [
    "###### What is the probability of obtaining a value larger than 2 or smaller than -2? (This is called a two-tailed test.)"
   ]
  },
  {
   "cell_type": "code",
   "execution_count": 213,
   "id": "ad0919b8",
   "metadata": {},
   "outputs": [],
   "source": [
    "#### Your code here"
   ]
  },
  {
   "cell_type": "code",
   "execution_count": 211,
   "id": "8c264481",
   "metadata": {},
   "outputs": [
    {
     "data": {
      "text/plain": [
       "0.0455002638963584"
      ]
     },
     "execution_count": 211,
     "metadata": {},
     "output_type": "execute_result"
    }
   ],
   "source": [
    "(1 - sn_dist.cdf(2)) + sn_dist.cdf(-2)"
   ]
  },
  {
   "cell_type": "markdown",
   "id": "6237bf11",
   "metadata": {},
   "source": [
    "### 3B. Null vs. alternate hypotheses\n",
    "\n",
    "Now that you've had some hands-on practice with the underlying distributions, we'll turn to the theoretical or philosophical foundations of NHST.\n",
    "\n",
    "NHST is centered around the contrasting notions of a **null hypothesis** vs. an **alternate hypothesis**.\n",
    "\n",
    "Consider the following scenario:\n",
    "\n",
    "> A researcher is interested in whether a new drug decreases blood pressure. They give the drug to 10 individuals, and find that after taking the drug their blood pressure is 75. The hypothesized **population mean** is 80, with a standard deviation of 4.5. Did the drug work?"
   ]
  },
  {
   "cell_type": "markdown",
   "id": "820b059c",
   "metadata": {},
   "source": [
    "###### First, what is the null hypothesis? (Write this in the notation discussed in class.)"
   ]
  },
  {
   "cell_type": "code",
   "execution_count": 232,
   "id": "2e883ca8",
   "metadata": {},
   "outputs": [],
   "source": [
    "#### Your response here"
   ]
  },
  {
   "cell_type": "markdown",
   "id": "15182c42",
   "metadata": {},
   "source": [
    "$H_0: \\mu = \\bar{X}$"
   ]
  },
  {
   "cell_type": "markdown",
   "id": "bc98e27b",
   "metadata": {},
   "source": [
    "###### What is the alternative hypothesis? (Write this in the notation discussed in class.)"
   ]
  },
  {
   "cell_type": "code",
   "execution_count": 233,
   "id": "dc3c43e6",
   "metadata": {},
   "outputs": [],
   "source": [
    "#### Your response here"
   ]
  },
  {
   "cell_type": "markdown",
   "id": "65854bf7",
   "metadata": {},
   "source": [
    "$H_0: \\mu > \\bar{X}$"
   ]
  },
  {
   "cell_type": "markdown",
   "id": "8deb8586",
   "metadata": {},
   "source": [
    "###### Is this a two-tailed or one-tailed test?"
   ]
  },
  {
   "cell_type": "code",
   "execution_count": 234,
   "id": "c9b77135",
   "metadata": {},
   "outputs": [],
   "source": [
    "#### Your response here"
   ]
  },
  {
   "cell_type": "markdown",
   "id": "0a71af57",
   "metadata": {},
   "source": [
    "One-tailed: we're primarily asking whether blood pressure is lower."
   ]
  },
  {
   "cell_type": "markdown",
   "id": "385b4eec",
   "metadata": {},
   "source": [
    "###### What is the difference between the sample mean and population mean?"
   ]
  },
  {
   "cell_type": "code",
   "execution_count": 235,
   "id": "ba464094",
   "metadata": {},
   "outputs": [],
   "source": [
    "#### Your response here"
   ]
  },
  {
   "cell_type": "code",
   "execution_count": 236,
   "id": "860a33a2",
   "metadata": {},
   "outputs": [
    {
     "data": {
      "text/plain": [
       "-5"
      ]
     },
     "execution_count": 236,
     "metadata": {},
     "output_type": "execute_result"
    }
   ],
   "source": [
    "diff_sample = 75 - 80\n",
    "diff_sample"
   ]
  },
  {
   "cell_type": "markdown",
   "id": "043b5143",
   "metadata": {},
   "source": [
    "###### What is the standard error of the mean?"
   ]
  },
  {
   "cell_type": "code",
   "execution_count": 237,
   "id": "e0242260",
   "metadata": {},
   "outputs": [],
   "source": [
    "#### Your response here"
   ]
  },
  {
   "cell_type": "code",
   "execution_count": 241,
   "id": "6235157f",
   "metadata": {},
   "outputs": [
    {
     "data": {
      "text/plain": [
       "1.4230249470757705"
      ]
     },
     "execution_count": 241,
     "metadata": {},
     "output_type": "execute_result"
    }
   ],
   "source": [
    "se_mean = 4.5 / math.sqrt(10)\n",
    "se_mean"
   ]
  },
  {
   "cell_type": "markdown",
   "id": "45687af4",
   "metadata": {},
   "source": [
    "###### What is the z-statistic?"
   ]
  },
  {
   "cell_type": "code",
   "execution_count": 242,
   "id": "b5f80a04",
   "metadata": {},
   "outputs": [],
   "source": [
    "#### Your response here"
   ]
  },
  {
   "cell_type": "code",
   "execution_count": 243,
   "id": "a9df8376",
   "metadata": {},
   "outputs": [
    {
     "data": {
      "text/plain": [
       "-3.513641844631533"
      ]
     },
     "execution_count": 243,
     "metadata": {},
     "output_type": "execute_result"
    }
   ],
   "source": [
    "z_stat = diff_sample / se_mean\n",
    "z_stat"
   ]
  },
  {
   "cell_type": "markdown",
   "id": "78a74aab",
   "metadata": {},
   "source": [
    "###### What is the probability of obtaining a z-statistic less than or equal to this value?"
   ]
  },
  {
   "cell_type": "code",
   "execution_count": 244,
   "id": "5086cdd3",
   "metadata": {},
   "outputs": [],
   "source": [
    "#### Your response here"
   ]
  },
  {
   "cell_type": "code",
   "execution_count": 245,
   "id": "7b0ce9eb",
   "metadata": {},
   "outputs": [
    {
     "data": {
      "text/plain": [
       "0.00022100417451771965"
      ]
     },
     "execution_count": 245,
     "metadata": {},
     "output_type": "execute_result"
    }
   ],
   "source": [
    "sn_dist.cdf(z_stat)"
   ]
  },
  {
   "cell_type": "markdown",
   "id": "93974003",
   "metadata": {},
   "source": [
    "###### Assuming an alpha of 0.05, would we reject the null hypothesis?"
   ]
  },
  {
   "cell_type": "code",
   "execution_count": 244,
   "id": "ad6a0362",
   "metadata": {},
   "outputs": [],
   "source": [
    "#### Your response here"
   ]
  },
  {
   "cell_type": "markdown",
   "id": "8fa4ac4d",
   "metadata": {},
   "source": [
    "Yes, $p < .05$, so we reject the null hypothesis."
   ]
  },
  {
   "cell_type": "markdown",
   "id": "fd427994",
   "metadata": {},
   "source": [
    "### 3C. Signal detection: false alarms and misses\n",
    "\n",
    "NHST involves making relatively discrete **decisions**: do we **Reject** or **Fail to Reject** the null hypothesis?\n",
    "\n",
    "As the last question implies, central to this decision is our value of **alpha**: essentially, our tolerance threshold for getting a false positive."
   ]
  },
  {
   "cell_type": "markdown",
   "id": "17a60c31",
   "metadata": {},
   "source": [
    "###### Suppose you run 5 hypothesis tests, where the true underlying effect is zero (but of course, you don't know this yet). Given an alpha of .05, is the probability that at least one of them will be a false positive?"
   ]
  },
  {
   "cell_type": "code",
   "execution_count": 270,
   "id": "1f016035",
   "metadata": {},
   "outputs": [],
   "source": [
    "#### Your response here"
   ]
  },
  {
   "cell_type": "code",
   "execution_count": 271,
   "id": "e559efda",
   "metadata": {},
   "outputs": [
    {
     "data": {
      "text/plain": [
       "0.22621906250000023"
      ]
     },
     "execution_count": 271,
     "metadata": {},
     "output_type": "execute_result"
    }
   ],
   "source": [
    "num_tests = 5\n",
    "1 - .95**num_tests"
   ]
  },
  {
   "cell_type": "markdown",
   "id": "34a9af50",
   "metadata": {},
   "source": [
    "###### Create a graph showing that the probability of obtaining at least one false positive result increases with the number of tests that you run (from `1` to `100`), given three alpha levels: `.05`, `.01`, and `.001`."
   ]
  },
  {
   "cell_type": "code",
   "execution_count": 272,
   "id": "250ca9b5",
   "metadata": {},
   "outputs": [],
   "source": [
    "#### Your response here"
   ]
  },
  {
   "cell_type": "code",
   "execution_count": 275,
   "id": "fc8758d4",
   "metadata": {},
   "outputs": [
    {
     "data": {
      "text/plain": [
       "Text(0, 0.5, 'P(at least one FP)')"
      ]
     },
     "execution_count": 275,
     "metadata": {},
     "output_type": "execute_result"
    },
    {
     "data": {
      "image/png": "[encoded data removed]",
      "text/plain": [
       "<Figure size 432x288 with 1 Axes>"
      ]
     },
     "metadata": {
      "image/png": {
       "height": 261,
       "width": 385
      },
      "needs_background": "light"
     },
     "output_type": "display_data"
    }
   ],
   "source": [
    "num_tests = np.array(list(range(1, 100)))\n",
    "\n",
    "results = []\n",
    "for alpha in [0.05, .01, .001]:\n",
    "    curve = 1 - (1 - alpha)**num_tests\n",
    "    results.append({alpha: curve})\n",
    "    plt.plot(num_tests, curve, label = \"Alpha = {x}\".format(x=str(alpha)))\n",
    "\n",
    "plt.legend()\n",
    "plt.xlabel(\"#Tests run\")\n",
    "plt.ylabel(\"P(at least one FP)\")"
   ]
  },
  {
   "cell_type": "code",
   "execution_count": null,
   "id": "8728fe91",
   "metadata": {},
   "outputs": [],
   "source": []
  }
 ],
 "metadata": {
  "kernelspec": {
   "display_name": "Python 3 (ipykernel)",
   "language": "python",
   "name": "python3"
  },
  "language_info": {
   "codemirror_mode": {
    "name": "ipython",
    "version": 3
   },
   "file_extension": ".py",
   "mimetype": "text/x-python",
   "name": "python",
   "nbconvert_exporter": "python",
   "pygments_lexer": "ipython3",
   "version": "3.9.12"
  }
 },
 "nbformat": 4,
 "nbformat_minor": 5
}
