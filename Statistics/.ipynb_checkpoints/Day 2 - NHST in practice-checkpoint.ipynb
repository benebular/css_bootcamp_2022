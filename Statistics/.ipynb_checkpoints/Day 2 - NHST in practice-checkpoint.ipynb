{
 "cells": [
  {
   "cell_type": "markdown",
   "id": "4715949c",
   "metadata": {},
   "source": [
    "# NHST: Theoretical Foundations\n",
    "\n",
    "### Sean Trott\n",
    "\n",
    "### CSS Bootcamp"
   ]
  },
  {
   "cell_type": "code",
   "execution_count": 1,
   "id": "7928d66a",
   "metadata": {},
   "outputs": [],
   "source": [
    "## Imports\n",
    "import math\n",
    "import pandas as pd\n",
    "import numpy as np\n",
    "import matplotlib.pyplot as plt\n",
    "import seaborn as sns\n",
    "import scipy.stats as ss"
   ]
  },
  {
   "cell_type": "code",
   "execution_count": 2,
   "id": "e2bb90a5",
   "metadata": {},
   "outputs": [],
   "source": [
    "%matplotlib inline\n",
    "%config InlineBackend.figure_format = 'retina'  # makes figs nicer!"
   ]
  },
  {
   "cell_type": "markdown",
   "id": "31b9b99b",
   "metadata": {},
   "source": [
    "# High-level learning outcomes of this week\n",
    "\n",
    "##### [Null Hypothesis Significance Testing (NHST)](https://en.wikipedia.org/wiki/Statistical_hypothesis_testing)\n",
    "\n",
    "- **Explain** the theoretical foundations  \n",
    "- **Implement** a t-test in Python  \n",
    "- **Evaluate** the result of a given test\n",
    "\n",
    "##### [Linear regression](https://en.wikipedia.org/wiki/Linear_regression): \n",
    "\n",
    "- **Implement** using Python\n",
    "- **Interpret** coefficients, **examine** residuals, and **predict** new data  \n",
    "\n",
    "##### [Beyond linear regression](https://en.wikipedia.org/wiki/Generalized_linear_model): \n",
    "\n",
    "- **Explain** the motivation for mixed/multilevel models  \n",
    "- **Implement** other families of regression models (e.g., logistic regression)"
   ]
  },
  {
   "cell_type": "markdown",
   "id": "6dbc4aec",
   "metadata": {},
   "source": [
    "# Today's focus\n",
    "\n",
    "- **Implement** a t-test in Python.  \n",
    "- **Evaluate** the result of a t-test with respect to a research hypothesis.   "
   ]
  },
  {
   "cell_type": "markdown",
   "id": "db5efbab",
   "metadata": {},
   "source": [
    "# Part 1: \n",
    "\n",
    "..."
   ]
  },
  {
   "cell_type": "markdown",
   "id": "0c9ca622",
   "metadata": {},
   "source": [
    "Plan:\n",
    "\n",
    "- Brief review of Day 1  \n",
    "- Limitations of z-test: \n",
    " - Must know population SD  \n",
    " - Typically, we're often dealing with two samples––not just comparing to some imagined population. The most classic case would be an experiment with two conditions.  \n",
    "\n",
    "\n",
    "**Confidence Intervals**?"
   ]
  },
  {
   "cell_type": "code",
   "execution_count": 16,
   "id": "58abba82",
   "metadata": {},
   "outputs": [],
   "source": [
    "np.random.seed(seed=10)\n",
    "x1 = np.random.normal(loc = 10, scale = 3, size = 10)\n",
    "x2 = np.random.normal(loc = 15, scale = 3, size = 10)"
   ]
  },
  {
   "cell_type": "code",
   "execution_count": 17,
   "id": "e321a5de",
   "metadata": {},
   "outputs": [
    {
     "data": {
      "text/plain": [
       "Ttest_indResult(statistic=-4.541890179276123, pvalue=0.0002525682921960609)"
      ]
     },
     "execution_count": 17,
     "metadata": {},
     "output_type": "execute_result"
    }
   ],
   "source": [
    "t = ss.ttest_ind(x1, x2)\n",
    "t"
   ]
  },
  {
   "cell_type": "code",
   "execution_count": null,
   "id": "b8b9ef7a",
   "metadata": {},
   "outputs": [],
   "source": []
  }
 ],
 "metadata": {
  "kernelspec": {
   "display_name": "Python 3 (ipykernel)",
   "language": "python",
   "name": "python3"
  },
  "language_info": {
   "codemirror_mode": {
    "name": "ipython",
    "version": 3
   },
   "file_extension": ".py",
   "mimetype": "text/x-python",
   "name": "python",
   "nbconvert_exporter": "python",
   "pygments_lexer": "ipython3",
   "version": "3.9.12"
  }
 },
 "nbformat": 4,
 "nbformat_minor": 5
}
