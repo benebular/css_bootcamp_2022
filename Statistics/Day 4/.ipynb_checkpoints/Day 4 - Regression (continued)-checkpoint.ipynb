{
 "cells": [
  {
   "cell_type": "markdown",
   "id": "4715949c",
   "metadata": {
    "slideshow": {
     "slide_type": "slide"
    }
   },
   "source": [
    "# Regression, continued\n",
    "\n",
    "### Sean Trott\n",
    "\n",
    "### CSS Bootcamp"
   ]
  },
  {
   "cell_type": "code",
   "execution_count": 1,
   "id": "7928d66a",
   "metadata": {
    "slideshow": {
     "slide_type": "skip"
    }
   },
   "outputs": [
    {
     "name": "stderr",
     "output_type": "stream",
     "text": [
      "/opt/anaconda3/lib/python3.9/site-packages/scipy/__init__.py:146: UserWarning: A NumPy version >=1.16.5 and <1.23.0 is required for this version of SciPy (detected version 1.23.1\n",
      "  warnings.warn(f\"A NumPy version >={np_minversion} and <{np_maxversion}\"\n"
     ]
    }
   ],
   "source": [
    "## Imports\n",
    "import math\n",
    "import pandas as pd\n",
    "import numpy as np\n",
    "import matplotlib.pyplot as plt\n",
    "import statsmodels.api as sm\n",
    "import statsmodels.formula.api as smf\n",
    "import seaborn as sns\n",
    "import scipy.stats as ss"
   ]
  },
  {
   "cell_type": "code",
   "execution_count": 2,
   "id": "e2bb90a5",
   "metadata": {
    "slideshow": {
     "slide_type": "skip"
    }
   },
   "outputs": [],
   "source": [
    "%matplotlib inline\n",
    "%config InlineBackend.figure_format = 'retina'  # makes figs nicer!"
   ]
  },
  {
   "cell_type": "markdown",
   "id": "31b9b99b",
   "metadata": {
    "slideshow": {
     "slide_type": "slide"
    }
   },
   "source": [
    "# High-level learning outcomes of this week\n",
    "\n",
    "##### [Null Hypothesis Significance Testing (NHST)](https://en.wikipedia.org/wiki/Statistical_hypothesis_testing)\n",
    "\n",
    "- **Explain** the theoretical foundations  \n",
    "- **Implement** a t-test in Python  \n",
    "- **Evaluate** the result of a given test\n",
    "\n",
    "\n",
    "##### [Linear regression](https://en.wikipedia.org/wiki/Linear_regression): \n",
    "\n",
    "- **Implement** using Python\n",
    "- **Interpret** coefficients, **examine** residuals, and **predict** new data  \n",
    "\n",
    "\n",
    "##### [Beyond linear regression](https://en.wikipedia.org/wiki/Generalized_linear_model): \n",
    "\n",
    "- **Explain** the motivation for mixed/multilevel models  \n",
    "- **Implement** other families of regression models (e.g., logistic regression)"
   ]
  },
  {
   "cell_type": "markdown",
   "id": "8c4bea65",
   "metadata": {
    "slideshow": {
     "slide_type": "slide"
    }
   },
   "source": [
    "# Today's focus\n",
    "\n",
    "- **Explain** the motivation for *multivariate linear regression*.  \n",
    "- **Implement** multiple regression in Python using `statmodels`.  \n",
    "- **Interpret** the coefficients from multivariate linear regression models.  \n",
    "- **Explain** the theoretical foundations of logistic regression."
   ]
  },
  {
   "cell_type": "markdown",
   "id": "7de9417e",
   "metadata": {
    "slideshow": {
     "slide_type": "slide"
    }
   },
   "source": [
    "# Part 0: Review"
   ]
  },
  {
   "cell_type": "markdown",
   "id": "f0421503",
   "metadata": {
    "slideshow": {
     "slide_type": "slide"
    }
   },
   "source": [
    "## Last time: linear regression\n",
    "\n",
    "- Goal: find the **best-fitting line** between $X$ and $Y$.  \n",
    "\n",
    " $\\Large Y = \\beta_0 + \\beta_1X_1$  \n",
    " \n",
    " \n",
    "- Try to find the parameters $\\beta_0, \\beta_1$ that minimize **sum squared error**, i.e., $\\sum_i^n\\hat{y}_i - y_i^2$.  \n",
    "- $X$ can be either **continuous** or **categorical**. \n",
    " - If **continuous**, $\\beta_1$ reflects *average increase in $Y$ for each 1-unit increase in $X$*. \n",
    " - If **categorical**, $\\beta_1$ reflects *difference between the means of $Y$ for each category of $X$*.  "
   ]
  },
  {
   "cell_type": "markdown",
   "id": "1b40cf66",
   "metadata": {
    "slideshow": {
     "slide_type": "slide"
    }
   },
   "source": [
    "# Part 1: Intro to multiple regression"
   ]
  },
  {
   "cell_type": "markdown",
   "id": "6c8b479e",
   "metadata": {
    "slideshow": {
     "slide_type": "slide"
    }
   },
   "source": [
    "## What about multiple predictors?\n",
    "\n",
    "- So far, we've focused on **univariate** regression: a single predictor $X$.  \n",
    "- But we can *extend* this model to include multiple predictors $X_1, ..., X_n$.  \n",
    "\n",
    " $\\Large Y = \\beta_0 + \\beta_1X_1  + \\beta_2X_2  + ... + \\beta_nX_n $\n",
    " \n",
    " \n",
    "- In this case, we learn a unique $\\beta$ for each predictor.  "
   ]
  },
  {
   "cell_type": "markdown",
   "id": "4cd0207d",
   "metadata": {
    "slideshow": {
     "slide_type": "slide"
    }
   },
   "source": [
    "## How do we interpret these parameters?\n",
    "\n",
    "- Each coefficient $\\beta_j$ reflects:\n",
    " - **Amount of change** in $Y$ associated with changes in $X_j$... \n",
    " - ...holding all other variables **constant** (i.e., *ceteris paribus*).  \n",
    "- Each prediction $\\hat{y}_i$ reflects the *particular features* associated with a given observation $X_i$.  "
   ]
  },
  {
   "cell_type": "markdown",
   "id": "ebbe444b",
   "metadata": {
    "slideshow": {
     "slide_type": "slide"
    }
   },
   "source": [
    "## Check-in: Why would we even want multiple predictors?"
   ]
  },
  {
   "cell_type": "markdown",
   "id": "505e9c9e",
   "metadata": {
    "slideshow": {
     "slide_type": "slide"
    }
   },
   "source": [
    "## Why multiple predictors? (pt. 1)\n",
    "\n",
    "- Oft-cited reason is **statistical control**. \n",
    "- If we don't account for **confounds**, we might detect a spurious relationship between $X_1$ and $Y$.\n",
    " - E.g., correlation between *shark attacks* and *ice cream sales*.  \n",
    "  - What is the \"hidden variable\" here?\n",
    "- Once we account for a confound, the estimated relationship between $X_1$ and $Y$ might be much smaller or disappear altogether."
   ]
  },
  {
   "cell_type": "markdown",
   "id": "8b30dffc",
   "metadata": {
    "slideshow": {
     "slide_type": "slide"
    }
   },
   "source": [
    "## Quick note on causality\n",
    "\n",
    "- Arguably, controlling for a variable assumes we're interested in [**causal inference**](https://journals.sagepub.com/doi/full/10.1177/25152459221095823).  \n",
    "- If we just want to quantify the correlation between $X$ and $Y$, we should just measure that.  \n",
    "- But if we want to **infer** something causal, e.g., $X \\to Y$, we need to eliminate alternative explanations.  \n",
    " - There's a whole [subfield](http://bayes.cs.ucla.edu/BOOK-2K/) dedicated to the philosophy of causal inference with statistics.  \n",
    " - More on causality and confounds later!"
   ]
  },
  {
   "cell_type": "markdown",
   "id": "ef022755",
   "metadata": {
    "slideshow": {
     "slide_type": "slide"
    }
   },
   "source": [
    "## Why multiple predictors? (pt. 2)\n",
    "\n",
    "- In general, adding more parameters can **improve model fit**. \n",
    " - Though it can also cause **overfitting**.  \n",
    "- So if our goal is better predictions, adding more variables to the model can add more **information** about $Y$.  \n",
    "- Caution: we should be *principled* when adding variables.\n",
    " - I.e., is there a theoretical reason why this variable should improve the model?  "
   ]
  },
  {
   "cell_type": "markdown",
   "id": "f1559d14",
   "metadata": {
    "slideshow": {
     "slide_type": "slide"
    }
   },
   "source": [
    "## Statistical control: a demonstration\n",
    "\n",
    "- Suppose $Y$ is the rate of shark attacks, which are correlated with temperature ($X_1$).  \n",
    "- But temperature is also correlated with ice cream sales ($X_2$)...  \n",
    "- If we just calculate `Y ~ X_2`, we'll probably find a significant coefficient for ice cream sales.  \n",
    " - But this would be spurious!"
   ]
  },
  {
   "cell_type": "markdown",
   "id": "be39c121",
   "metadata": {
    "slideshow": {
     "slide_type": "slide"
    }
   },
   "source": [
    "### Setting up our relationships\n",
    "\n",
    "- First, we create a linear relationship between temperature (in Fahrenheit) and attacks (per million). "
   ]
  },
  {
   "cell_type": "code",
   "execution_count": 34,
   "id": "43944254",
   "metadata": {
    "slideshow": {
     "slide_type": "-"
    }
   },
   "outputs": [
    {
     "data": {
      "text/plain": [
       "Text(0, 0.5, 'Shark attacks (per million)')"
      ]
     },
     "execution_count": 34,
     "metadata": {},
     "output_type": "execute_result"
    },
    {
     "data": {
      "image/png": "[encoded data removed]",
      "text/plain": [
       "<Figure size 432x288 with 1 Axes>"
      ]
     },
     "metadata": {
      "image/png": {
       "height": 261,
       "width": 382
      },
      "needs_background": "light"
     },
     "output_type": "display_data"
    }
   ],
   "source": [
    "np.random.seed(1)\n",
    "temperature = np.random.normal(loc = 70, scale = 10, size = 50)\n",
    "attacks = 5 + temperature * .16 + np.random.normal(loc = 0, scale = 1, size = 50)\n",
    "plt.scatter(temperature, attacks)\n",
    "plt.xlabel(\"Temperature\")\n",
    "plt.ylabel(\"Shark attacks (per million)\")"
   ]
  },
  {
   "cell_type": "markdown",
   "id": "82dcc645",
   "metadata": {
    "slideshow": {
     "slide_type": "slide"
    }
   },
   "source": [
    "### Setting up our relationships\n",
    "\n",
    "- Now, we create a linear relationship between temperature (in Fahrenheit) and ice cream sales (per billion \\$). "
   ]
  },
  {
   "cell_type": "code",
   "execution_count": 35,
   "id": "15f273b8",
   "metadata": {
    "slideshow": {
     "slide_type": "-"
    }
   },
   "outputs": [
    {
     "data": {
      "text/plain": [
       "Text(0, 0.5, 'Ice cream sales (per billion $)')"
      ]
     },
     "execution_count": 35,
     "metadata": {},
     "output_type": "execute_result"
    },
    {
     "data": {
      "image/png": "[encoded data removed]",
      "text/plain": [
       "<Figure size 432x288 with 1 Axes>"
      ]
     },
     "metadata": {
      "image/png": {
       "height": 262,
       "width": 388
      },
      "needs_background": "light"
     },
     "output_type": "display_data"
    }
   ],
   "source": [
    "sales = 10 + temperature * 1.3 + np.random.normal(loc = 0, scale = 15, size = 50)\n",
    "plt.scatter(temperature, sales)\n",
    "plt.xlabel(\"Temperature\")\n",
    "plt.ylabel(\"Ice cream sales (per billion $)\")"
   ]
  },
  {
   "cell_type": "markdown",
   "id": "ada6ba3f",
   "metadata": {
    "slideshow": {
     "slide_type": "slide"
    }
   },
   "source": [
    "### A spurious finding\n",
    "\n",
    "- Now, it looks like there's a significant relationship between ice cream sales and shark attacks!  \n",
    "- But we *know* that $Y$ was not produced by $X_2$ in the **data-generating process**.  "
   ]
  },
  {
   "cell_type": "code",
   "execution_count": 36,
   "id": "0ce51b82",
   "metadata": {
    "slideshow": {
     "slide_type": "-"
    }
   },
   "outputs": [
    {
     "data": {
      "text/plain": [
       "Text(0.5, 0, 'Ice cream sales (per billion $)')"
      ]
     },
     "execution_count": 36,
     "metadata": {},
     "output_type": "execute_result"
    },
    {
     "data": {
      "image/png": "[encoded data removed]",
      "text/plain": [
       "<Figure size 432x288 with 1 Axes>"
      ]
     },
     "metadata": {
      "image/png": {
       "height": 261,
       "width": 386
      },
      "needs_background": "light"
     },
     "output_type": "display_data"
    }
   ],
   "source": [
    "plt.scatter(sales, attacks)\n",
    "plt.ylabel(\"Shark attacks (per million)\")\n",
    "plt.xlabel(\"Ice cream sales (per billion $)\")"
   ]
  },
  {
   "cell_type": "markdown",
   "id": "88ced900",
   "metadata": {
    "slideshow": {
     "slide_type": "slide"
    }
   },
   "source": [
    "### A spurious finding\n",
    "\n",
    "- This spurious result is confirmed by the results of a univariate linear regression."
   ]
  },
  {
   "cell_type": "code",
   "execution_count": 37,
   "id": "0ae55de8",
   "metadata": {
    "slideshow": {
     "slide_type": "-"
    }
   },
   "outputs": [
    {
     "data": {
      "text/html": [
       "<table class=\"simpletable\">\n",
       "<caption>OLS Regression Results</caption>\n",
       "<tr>\n",
       "  <th>Dep. Variable:</th>         <td>Attacks</td>     <th>  R-squared:         </th> <td>   0.380</td>\n",
       "</tr>\n",
       "<tr>\n",
       "  <th>Model:</th>                   <td>OLS</td>       <th>  Adj. R-squared:    </th> <td>   0.367</td>\n",
       "</tr>\n",
       "<tr>\n",
       "  <th>Method:</th>             <td>Least Squares</td>  <th>  F-statistic:       </th> <td>   29.39</td>\n",
       "</tr>\n",
       "<tr>\n",
       "  <th>Date:</th>             <td>Fri, 12 Aug 2022</td> <th>  Prob (F-statistic):</th> <td>1.89e-06</td>\n",
       "</tr>\n",
       "<tr>\n",
       "  <th>Time:</th>                 <td>15:18:10</td>     <th>  Log-Likelihood:    </th> <td> -86.169</td>\n",
       "</tr>\n",
       "<tr>\n",
       "  <th>No. Observations:</th>      <td>    50</td>      <th>  AIC:               </th> <td>   176.3</td>\n",
       "</tr>\n",
       "<tr>\n",
       "  <th>Df Residuals:</th>          <td>    48</td>      <th>  BIC:               </th> <td>   180.2</td>\n",
       "</tr>\n",
       "<tr>\n",
       "  <th>Df Model:</th>              <td>     1</td>      <th>                     </th>     <td> </td>   \n",
       "</tr>\n",
       "<tr>\n",
       "  <th>Covariance Type:</th>      <td>nonrobust</td>    <th>                     </th>     <td> </td>   \n",
       "</tr>\n",
       "</table>\n",
       "<table class=\"simpletable\">\n",
       "<tr>\n",
       "      <td></td>         <th>coef</th>     <th>std err</th>      <th>t</th>      <th>P>|t|</th>  <th>[0.025</th>    <th>0.975]</th>  \n",
       "</tr>\n",
       "<tr>\n",
       "  <th>Intercept</th> <td>   10.4552</td> <td>    1.097</td> <td>    9.533</td> <td> 0.000</td> <td>    8.250</td> <td>   12.660</td>\n",
       "</tr>\n",
       "<tr>\n",
       "  <th>Sales</th>     <td>    0.0574</td> <td>    0.011</td> <td>    5.421</td> <td> 0.000</td> <td>    0.036</td> <td>    0.079</td>\n",
       "</tr>\n",
       "</table>\n",
       "<table class=\"simpletable\">\n",
       "<tr>\n",
       "  <th>Omnibus:</th>       <td> 1.705</td> <th>  Durbin-Watson:     </th> <td>   2.008</td>\n",
       "</tr>\n",
       "<tr>\n",
       "  <th>Prob(Omnibus):</th> <td> 0.426</td> <th>  Jarque-Bera (JB):  </th> <td>   1.632</td>\n",
       "</tr>\n",
       "<tr>\n",
       "  <th>Skew:</th>          <td>-0.413</td> <th>  Prob(JB):          </th> <td>   0.442</td>\n",
       "</tr>\n",
       "<tr>\n",
       "  <th>Kurtosis:</th>      <td> 2.682</td> <th>  Cond. No.          </th> <td>    581.</td>\n",
       "</tr>\n",
       "</table><br/><br/>Notes:<br/>[1] Standard Errors assume that the covariance matrix of the errors is correctly specified."
      ],
      "text/plain": [
       "<class 'statsmodels.iolib.summary.Summary'>\n",
       "\"\"\"\n",
       "                            OLS Regression Results                            \n",
       "==============================================================================\n",
       "Dep. Variable:                Attacks   R-squared:                       0.380\n",
       "Model:                            OLS   Adj. R-squared:                  0.367\n",
       "Method:                 Least Squares   F-statistic:                     29.39\n",
       "Date:                Fri, 12 Aug 2022   Prob (F-statistic):           1.89e-06\n",
       "Time:                        15:18:10   Log-Likelihood:                -86.169\n",
       "No. Observations:                  50   AIC:                             176.3\n",
       "Df Residuals:                      48   BIC:                             180.2\n",
       "Df Model:                           1                                         \n",
       "Covariance Type:            nonrobust                                         \n",
       "==============================================================================\n",
       "                 coef    std err          t      P>|t|      [0.025      0.975]\n",
       "------------------------------------------------------------------------------\n",
       "Intercept     10.4552      1.097      9.533      0.000       8.250      12.660\n",
       "Sales          0.0574      0.011      5.421      0.000       0.036       0.079\n",
       "==============================================================================\n",
       "Omnibus:                        1.705   Durbin-Watson:                   2.008\n",
       "Prob(Omnibus):                  0.426   Jarque-Bera (JB):                1.632\n",
       "Skew:                          -0.413   Prob(JB):                        0.442\n",
       "Kurtosis:                       2.682   Cond. No.                         581.\n",
       "==============================================================================\n",
       "\n",
       "Notes:\n",
       "[1] Standard Errors assume that the covariance matrix of the errors is correctly specified.\n",
       "\"\"\""
      ]
     },
     "execution_count": 37,
     "metadata": {},
     "output_type": "execute_result"
    }
   ],
   "source": [
    "df = pd.DataFrame({'Attacks': attacks, 'Sales': sales, 'Temperature': temperature})\n",
    "mod = smf.ols(data = df, formula = \"Attacks ~ Sales\").fit()\n",
    "mod.summary()"
   ]
  },
  {
   "cell_type": "markdown",
   "id": "84e5543e",
   "metadata": {
    "slideshow": {
     "slide_type": "slide"
    }
   },
   "source": [
    "### A spurious finding\n",
    "\n",
    "- According to the model:\n",
    " - For each 1-unit increase in `Sales`, we have a $0.06$ increase in the rate of `Attacks.`. "
   ]
  },
  {
   "cell_type": "code",
   "execution_count": 38,
   "id": "493835a7",
   "metadata": {
    "slideshow": {
     "slide_type": "-"
    }
   },
   "outputs": [
    {
     "data": {
      "text/plain": [
       "Intercept    10.455220\n",
       "Sales         0.057394\n",
       "dtype: float64"
      ]
     },
     "execution_count": 38,
     "metadata": {},
     "output_type": "execute_result"
    }
   ],
   "source": [
    "mod.params"
   ]
  },
  {
   "cell_type": "markdown",
   "id": "99964553",
   "metadata": {
    "slideshow": {
     "slide_type": "slide"
    }
   },
   "source": [
    "### Adjusting for `Temperature`\n",
    "\n",
    "- But if we include *both* `Sales` and `Temperature` in the model, we get a different picture. "
   ]
  },
  {
   "cell_type": "code",
   "execution_count": 39,
   "id": "e2f1464f",
   "metadata": {
    "slideshow": {
     "slide_type": "-"
    }
   },
   "outputs": [
    {
     "data": {
      "text/html": [
       "<table class=\"simpletable\">\n",
       "<caption>OLS Regression Results</caption>\n",
       "<tr>\n",
       "  <th>Dep. Variable:</th>         <td>Attacks</td>     <th>  R-squared:         </th> <td>   0.794</td>\n",
       "</tr>\n",
       "<tr>\n",
       "  <th>Model:</th>                   <td>OLS</td>       <th>  Adj. R-squared:    </th> <td>   0.785</td>\n",
       "</tr>\n",
       "<tr>\n",
       "  <th>Method:</th>             <td>Least Squares</td>  <th>  F-statistic:       </th> <td>   90.57</td>\n",
       "</tr>\n",
       "<tr>\n",
       "  <th>Date:</th>             <td>Fri, 12 Aug 2022</td> <th>  Prob (F-statistic):</th> <td>7.52e-17</td>\n",
       "</tr>\n",
       "<tr>\n",
       "  <th>Time:</th>                 <td>15:18:10</td>     <th>  Log-Likelihood:    </th> <td> -58.614</td>\n",
       "</tr>\n",
       "<tr>\n",
       "  <th>No. Observations:</th>      <td>    50</td>      <th>  AIC:               </th> <td>   123.2</td>\n",
       "</tr>\n",
       "<tr>\n",
       "  <th>Df Residuals:</th>          <td>    47</td>      <th>  BIC:               </th> <td>   129.0</td>\n",
       "</tr>\n",
       "<tr>\n",
       "  <th>Df Model:</th>              <td>     2</td>      <th>                     </th>     <td> </td>   \n",
       "</tr>\n",
       "<tr>\n",
       "  <th>Covariance Type:</th>      <td>nonrobust</td>    <th>                     </th>     <td> </td>   \n",
       "</tr>\n",
       "</table>\n",
       "<table class=\"simpletable\">\n",
       "<tr>\n",
       "       <td></td>          <th>coef</th>     <th>std err</th>      <th>t</th>      <th>P>|t|</th>  <th>[0.025</th>    <th>0.975]</th>  \n",
       "</tr>\n",
       "<tr>\n",
       "  <th>Intercept</th>   <td>    5.2941</td> <td>    0.831</td> <td>    6.374</td> <td> 0.000</td> <td>    3.623</td> <td>    6.965</td>\n",
       "</tr>\n",
       "<tr>\n",
       "  <th>Sales</th>       <td>   -0.0026</td> <td>    0.009</td> <td>   -0.298</td> <td> 0.767</td> <td>   -0.020</td> <td>    0.015</td>\n",
       "</tr>\n",
       "<tr>\n",
       "  <th>Temperature</th> <td>    0.1617</td> <td>    0.017</td> <td>    9.721</td> <td> 0.000</td> <td>    0.128</td> <td>    0.195</td>\n",
       "</tr>\n",
       "</table>\n",
       "<table class=\"simpletable\">\n",
       "<tr>\n",
       "  <th>Omnibus:</th>       <td> 1.743</td> <th>  Durbin-Watson:     </th> <td>   1.618</td>\n",
       "</tr>\n",
       "<tr>\n",
       "  <th>Prob(Omnibus):</th> <td> 0.418</td> <th>  Jarque-Bera (JB):  </th> <td>   0.912</td>\n",
       "</tr>\n",
       "<tr>\n",
       "  <th>Skew:</th>          <td>-0.195</td> <th>  Prob(JB):          </th> <td>   0.634</td>\n",
       "</tr>\n",
       "<tr>\n",
       "  <th>Kurtosis:</th>      <td> 3.534</td> <th>  Cond. No.          </th> <td>    911.</td>\n",
       "</tr>\n",
       "</table><br/><br/>Notes:<br/>[1] Standard Errors assume that the covariance matrix of the errors is correctly specified."
      ],
      "text/plain": [
       "<class 'statsmodels.iolib.summary.Summary'>\n",
       "\"\"\"\n",
       "                            OLS Regression Results                            \n",
       "==============================================================================\n",
       "Dep. Variable:                Attacks   R-squared:                       0.794\n",
       "Model:                            OLS   Adj. R-squared:                  0.785\n",
       "Method:                 Least Squares   F-statistic:                     90.57\n",
       "Date:                Fri, 12 Aug 2022   Prob (F-statistic):           7.52e-17\n",
       "Time:                        15:18:10   Log-Likelihood:                -58.614\n",
       "No. Observations:                  50   AIC:                             123.2\n",
       "Df Residuals:                      47   BIC:                             129.0\n",
       "Df Model:                           2                                         \n",
       "Covariance Type:            nonrobust                                         \n",
       "===============================================================================\n",
       "                  coef    std err          t      P>|t|      [0.025      0.975]\n",
       "-------------------------------------------------------------------------------\n",
       "Intercept       5.2941      0.831      6.374      0.000       3.623       6.965\n",
       "Sales          -0.0026      0.009     -0.298      0.767      -0.020       0.015\n",
       "Temperature     0.1617      0.017      9.721      0.000       0.128       0.195\n",
       "==============================================================================\n",
       "Omnibus:                        1.743   Durbin-Watson:                   1.618\n",
       "Prob(Omnibus):                  0.418   Jarque-Bera (JB):                0.912\n",
       "Skew:                          -0.195   Prob(JB):                        0.634\n",
       "Kurtosis:                       3.534   Cond. No.                         911.\n",
       "==============================================================================\n",
       "\n",
       "Notes:\n",
       "[1] Standard Errors assume that the covariance matrix of the errors is correctly specified.\n",
       "\"\"\""
      ]
     },
     "execution_count": 39,
     "metadata": {},
     "output_type": "execute_result"
    }
   ],
   "source": [
    "mod = smf.ols(data = df, formula = \"Attacks ~ Sales + Temperature\").fit()\n",
    "mod.summary()"
   ]
  },
  {
   "cell_type": "markdown",
   "id": "0fae771e",
   "metadata": {
    "slideshow": {
     "slide_type": "slide"
    }
   },
   "source": [
    "### Adjusting for `Temperature`\n",
    "\n",
    "- But if we include *both* `Sales` and `Temperature` in the model, we get a different picture.  \n",
    "- Holding `Temperature` constant, there's a near-zero predicted change in `Attacks` as `Sales` increases."
   ]
  },
  {
   "cell_type": "code",
   "execution_count": 40,
   "id": "97f30149",
   "metadata": {
    "slideshow": {
     "slide_type": "-"
    }
   },
   "outputs": [
    {
     "name": "stdout",
     "output_type": "stream",
     "text": [
      "Coef = -0.0026, p = 0.7668\n"
     ]
    }
   ],
   "source": [
    "print(\"Coef = {x}, p = {p}\".format(x = round(mod.params['Sales'], 4), p = round(mod.pvalues['Sales'], 4)))"
   ]
  },
  {
   "cell_type": "markdown",
   "id": "3e77180c",
   "metadata": {
    "slideshow": {
     "slide_type": "slide"
    }
   },
   "source": [
    "## Interim summary\n",
    "\n",
    "- Multiple regression allows us to include *multiple predictors* in a linear regression model.  \n",
    "- This is helpful for:\n",
    " - Building more accurate models.  \n",
    " - Controlling for statistical [confounds, particularly if we're interested in causal inference](https://en.wikipedia.org/wiki/Confounding). "
   ]
  },
  {
   "cell_type": "markdown",
   "id": "9ac37cfc",
   "metadata": {
    "slideshow": {
     "slide_type": "slide"
    }
   },
   "source": [
    "# Part 2: Multiple regression in Python"
   ]
  },
  {
   "cell_type": "markdown",
   "id": "3a5265dd",
   "metadata": {
    "slideshow": {
     "slide_type": "slide"
    }
   },
   "source": [
    "## Dataset: Age of Acquisition data\n",
    "\n",
    "- Let's revisit the `AoA` data we looked at last lecture.  \n",
    "- Several key variables:\n",
    " - `Conc`: how concrete is the word?\n",
    " - `SUBTLEX`: how many times did the word occur in a large corpus?\n",
    " - `AoA`: at what age, on average, do children learn this word?"
   ]
  },
  {
   "cell_type": "code",
   "execution_count": 41,
   "id": "12b5bc40",
   "metadata": {
    "slideshow": {
     "slide_type": "-"
    }
   },
   "outputs": [
    {
     "data": {
      "text/html": [
       "<div>\n",
       "<style scoped>\n",
       "    .dataframe tbody tr th:only-of-type {\n",
       "        vertical-align: middle;\n",
       "    }\n",
       "\n",
       "    .dataframe tbody tr th {\n",
       "        vertical-align: top;\n",
       "    }\n",
       "\n",
       "    .dataframe thead th {\n",
       "        text-align: right;\n",
       "    }\n",
       "</style>\n",
       "<table border=\"1\" class=\"dataframe\">\n",
       "  <thead>\n",
       "    <tr style=\"text-align: right;\">\n",
       "      <th></th>\n",
       "      <th>Word</th>\n",
       "      <th>Conc</th>\n",
       "      <th>SUBTLEX</th>\n",
       "      <th>AoA</th>\n",
       "    </tr>\n",
       "  </thead>\n",
       "  <tbody>\n",
       "    <tr>\n",
       "      <th>0</th>\n",
       "      <td>roadsweeper</td>\n",
       "      <td>4.85</td>\n",
       "      <td>0</td>\n",
       "      <td>9.83</td>\n",
       "    </tr>\n",
       "    <tr>\n",
       "      <th>1</th>\n",
       "      <td>traindriver</td>\n",
       "      <td>4.54</td>\n",
       "      <td>0</td>\n",
       "      <td>8.34</td>\n",
       "    </tr>\n",
       "  </tbody>\n",
       "</table>\n",
       "</div>"
      ],
      "text/plain": [
       "          Word  Conc  SUBTLEX   AoA\n",
       "0  roadsweeper  4.85        0  9.83\n",
       "1  traindriver  4.54        0  8.34"
      ]
     },
     "execution_count": 41,
     "metadata": {},
     "output_type": "execute_result"
    }
   ],
   "source": [
    "df_words = pd.read_csv(\"data/lecture/words.csv\")\n",
    "df_words.head(2)"
   ]
  },
  {
   "cell_type": "markdown",
   "id": "42c1e51f",
   "metadata": {
    "slideshow": {
     "slide_type": "slide"
    }
   },
   "source": [
    "## Revisiting the concreteness effect\n",
    "\n",
    "- Last time, we found that `AoA` was significantly related to `Conc` in a linear model.  \n",
    "- But there's also *independent* evidence that: \n",
    " - **Concreteness** is related to **word frequency**.  \n",
    " - **Word frequency** is related to `AoA`.  \n",
    "\n",
    "What if the **concreteness** finding is spurious? How could we know?"
   ]
  },
  {
   "cell_type": "markdown",
   "id": "4fa6cf2b",
   "metadata": {
    "slideshow": {
     "slide_type": "slide"
    }
   },
   "source": [
    "### Adjusting for frequency\n",
    "\n",
    "- To test this question, we need to add **frequency** to the model.  \n",
    "- But `SUBTLEX` is extremely right-skewed, so we might want to **log-transform** it."
   ]
  },
  {
   "cell_type": "code",
   "execution_count": 42,
   "id": "94af15ca",
   "metadata": {
    "slideshow": {
     "slide_type": "-"
    }
   },
   "outputs": [
    {
     "data": {
      "text/plain": [
       "Text(0.5, 0, 'Log Frequency')"
      ]
     },
     "execution_count": 42,
     "metadata": {},
     "output_type": "execute_result"
    },
    {
     "data": {
      "image/png": "[encoded data removed]",
      "text/plain": [
       "<Figure size 432x288 with 1 Axes>"
      ]
     },
     "metadata": {
      "image/png": {
       "height": 261,
       "width": 395
      },
      "needs_background": "light"
     },
     "output_type": "display_data"
    }
   ],
   "source": [
    "df_words['log_freq'] = np.log10(df_words['SUBTLEX'] + 1)\n",
    "sns.histplot(data = df_words, x = 'log_freq')\n",
    "plt.xlabel(\"Log Frequency\")"
   ]
  },
  {
   "cell_type": "markdown",
   "id": "05f82673",
   "metadata": {
    "slideshow": {
     "slide_type": "slide"
    }
   },
   "source": [
    "### Adjusting for frequency\n",
    "\n",
    "- Now we can build a model with both predictors:\n",
    " - `Conc`\n",
    " - `log_freq`"
   ]
  },
  {
   "cell_type": "code",
   "execution_count": 43,
   "id": "d3ddd31f",
   "metadata": {
    "slideshow": {
     "slide_type": "-"
    }
   },
   "outputs": [
    {
     "data": {
      "text/html": [
       "<table class=\"simpletable\">\n",
       "<caption>OLS Regression Results</caption>\n",
       "<tr>\n",
       "  <th>Dep. Variable:</th>           <td>AoA</td>       <th>  R-squared:         </th> <td>   0.424</td> \n",
       "</tr>\n",
       "<tr>\n",
       "  <th>Model:</th>                   <td>OLS</td>       <th>  Adj. R-squared:    </th> <td>   0.424</td> \n",
       "</tr>\n",
       "<tr>\n",
       "  <th>Method:</th>             <td>Least Squares</td>  <th>  F-statistic:       </th> <td>   8792.</td> \n",
       "</tr>\n",
       "<tr>\n",
       "  <th>Date:</th>             <td>Fri, 12 Aug 2022</td> <th>  Prob (F-statistic):</th>  <td>  0.00</td>  \n",
       "</tr>\n",
       "<tr>\n",
       "  <th>Time:</th>                 <td>15:18:12</td>     <th>  Log-Likelihood:    </th> <td> -51454.</td> \n",
       "</tr>\n",
       "<tr>\n",
       "  <th>No. Observations:</th>      <td> 23860</td>      <th>  AIC:               </th> <td>1.029e+05</td>\n",
       "</tr>\n",
       "<tr>\n",
       "  <th>Df Residuals:</th>          <td> 23857</td>      <th>  BIC:               </th> <td>1.029e+05</td>\n",
       "</tr>\n",
       "<tr>\n",
       "  <th>Df Model:</th>              <td>     2</td>      <th>                     </th>     <td> </td>    \n",
       "</tr>\n",
       "<tr>\n",
       "  <th>Covariance Type:</th>      <td>nonrobust</td>    <th>                     </th>     <td> </td>    \n",
       "</tr>\n",
       "</table>\n",
       "<table class=\"simpletable\">\n",
       "<tr>\n",
       "      <td></td>         <th>coef</th>     <th>std err</th>      <th>t</th>      <th>P>|t|</th>  <th>[0.025</th>    <th>0.975]</th>  \n",
       "</tr>\n",
       "<tr>\n",
       "  <th>Intercept</th> <td>   15.2212</td> <td>    0.047</td> <td>  324.395</td> <td> 0.000</td> <td>   15.129</td> <td>   15.313</td>\n",
       "</tr>\n",
       "<tr>\n",
       "  <th>Conc</th>      <td>   -0.7906</td> <td>    0.013</td> <td>  -59.773</td> <td> 0.000</td> <td>   -0.817</td> <td>   -0.765</td>\n",
       "</tr>\n",
       "<tr>\n",
       "  <th>log_freq</th>  <td>   -1.6037</td> <td>    0.015</td> <td> -107.886</td> <td> 0.000</td> <td>   -1.633</td> <td>   -1.575</td>\n",
       "</tr>\n",
       "</table>\n",
       "<table class=\"simpletable\">\n",
       "<tr>\n",
       "  <th>Omnibus:</th>       <td>34.875</td> <th>  Durbin-Watson:     </th> <td>   1.837</td>\n",
       "</tr>\n",
       "<tr>\n",
       "  <th>Prob(Omnibus):</th> <td> 0.000</td> <th>  Jarque-Bera (JB):  </th> <td>  35.041</td>\n",
       "</tr>\n",
       "<tr>\n",
       "  <th>Skew:</th>          <td> 0.090</td> <th>  Prob(JB):          </th> <td>2.46e-08</td>\n",
       "</tr>\n",
       "<tr>\n",
       "  <th>Kurtosis:</th>      <td> 3.052</td> <th>  Cond. No.          </th> <td>    13.7</td>\n",
       "</tr>\n",
       "</table><br/><br/>Notes:<br/>[1] Standard Errors assume that the covariance matrix of the errors is correctly specified."
      ],
      "text/plain": [
       "<class 'statsmodels.iolib.summary.Summary'>\n",
       "\"\"\"\n",
       "                            OLS Regression Results                            \n",
       "==============================================================================\n",
       "Dep. Variable:                    AoA   R-squared:                       0.424\n",
       "Model:                            OLS   Adj. R-squared:                  0.424\n",
       "Method:                 Least Squares   F-statistic:                     8792.\n",
       "Date:                Fri, 12 Aug 2022   Prob (F-statistic):               0.00\n",
       "Time:                        15:18:12   Log-Likelihood:                -51454.\n",
       "No. Observations:               23860   AIC:                         1.029e+05\n",
       "Df Residuals:                   23857   BIC:                         1.029e+05\n",
       "Df Model:                           2                                         \n",
       "Covariance Type:            nonrobust                                         \n",
       "==============================================================================\n",
       "                 coef    std err          t      P>|t|      [0.025      0.975]\n",
       "------------------------------------------------------------------------------\n",
       "Intercept     15.2212      0.047    324.395      0.000      15.129      15.313\n",
       "Conc          -0.7906      0.013    -59.773      0.000      -0.817      -0.765\n",
       "log_freq      -1.6037      0.015   -107.886      0.000      -1.633      -1.575\n",
       "==============================================================================\n",
       "Omnibus:                       34.875   Durbin-Watson:                   1.837\n",
       "Prob(Omnibus):                  0.000   Jarque-Bera (JB):               35.041\n",
       "Skew:                           0.090   Prob(JB):                     2.46e-08\n",
       "Kurtosis:                       3.052   Cond. No.                         13.7\n",
       "==============================================================================\n",
       "\n",
       "Notes:\n",
       "[1] Standard Errors assume that the covariance matrix of the errors is correctly specified.\n",
       "\"\"\""
      ]
     },
     "execution_count": 43,
     "metadata": {},
     "output_type": "execute_result"
    }
   ],
   "source": [
    "mod = smf.ols(data = df_words, formula = \"AoA ~ Conc + log_freq\").fit()\n",
    "mod.summary()"
   ]
  },
  {
   "cell_type": "markdown",
   "id": "8383ea8f",
   "metadata": {
    "slideshow": {
     "slide_type": "slide"
    }
   },
   "source": [
    "### Inspecting our parameters\n",
    "\n",
    "**What should we conclude**?"
   ]
  },
  {
   "cell_type": "code",
   "execution_count": 44,
   "id": "3d8a9878",
   "metadata": {
    "slideshow": {
     "slide_type": "-"
    }
   },
   "outputs": [
    {
     "name": "stdout",
     "output_type": "stream",
     "text": [
      "Concreteness: Coef = -0.7906, p = 0.0\n",
      "Log Frequency: Coef = -1.6037, p = 0.0\n"
     ]
    }
   ],
   "source": [
    "print(\"Concreteness: Coef = {x}, p = {p}\".format(x = round(mod.params['Conc'], 4), \n",
    "                                                 p = round(mod.pvalues['Conc'], 4)))\n",
    "print(\"Log Frequency: Coef = {x}, p = {p}\".format(x = round(mod.params['log_freq'], 4), \n",
    "                                                 p = round(mod.pvalues['Conc'], 4)))"
   ]
  },
  {
   "cell_type": "markdown",
   "id": "eed1e13d",
   "metadata": {
    "slideshow": {
     "slide_type": "slide"
    }
   },
   "source": [
    "## Interpreting our model \n",
    "\n",
    "- The significant coefficient for `Conc` remains even after controlling for `log_freq`.  \n",
    " - I.e., the effect is **robust** to controlling for frequency.\n",
    "- Further, we replicate the finding that more **frequent** words are learned earlier, on average.  \n",
    "- Also note that the $R^2$ of the model is considerably higher than a model with only `Conc` (which had $R^2 = .143$)"
   ]
  },
  {
   "cell_type": "code",
   "execution_count": 45,
   "id": "8b7e89c3",
   "metadata": {
    "slideshow": {
     "slide_type": "-"
    }
   },
   "outputs": [
    {
     "data": {
      "text/plain": [
       "0.42430540232719816"
      ]
     },
     "execution_count": 45,
     "metadata": {},
     "output_type": "execute_result"
    }
   ],
   "source": [
    "mod.rsquared"
   ]
  },
  {
   "cell_type": "markdown",
   "id": "031400c2",
   "metadata": {
    "slideshow": {
     "slide_type": "slide"
    }
   },
   "source": [
    "## Check-in: what can we conclude, given that the $R^2$ is so much higher in this model?"
   ]
  },
  {
   "cell_type": "markdown",
   "id": "e7f5063f",
   "metadata": {
    "slideshow": {
     "slide_type": "slide"
    }
   },
   "source": [
    "## Wrapping up: multiple regression\n",
    "\n",
    "- Models with multiple predictors can be built using the same function as the univariate models we already discussed. \n",
    "- What do the parameters \"mean\"?\n",
    " - **Amount of change** in $Y$ associated with changes in $X_j$... \n",
    " - ...holding all other variables **constant** (i.e., *ceteris paribus*).  \n",
    "- Many more important topics here, like [statistical interactions](https://en.wikipedia.org/wiki/Interaction_(statistics)). "
   ]
  },
  {
   "cell_type": "markdown",
   "id": "77164a95",
   "metadata": {
    "slideshow": {
     "slide_type": "slide"
    }
   },
   "source": [
    "# Part 3: Logistic regression"
   ]
  },
  {
   "cell_type": "markdown",
   "id": "b6068994",
   "metadata": {
    "slideshow": {
     "slide_type": "slide"
    }
   },
   "source": [
    "## Preface\n",
    "\n",
    "- Not nearly enough time to cover logistic regression in depth.  \n",
    "- If you're looking for more resources:\n",
    " - [I have a tutorial on binary classification in R](https://seantrott.github.io/binary_classification_R/).\n",
    " - [Professor Ellis has a great lecture on logistic regression (also in R)](https://cogs137.github.io/website/syllabus/).\n",
    "- Onto logistic regression!"
   ]
  },
  {
   "cell_type": "markdown",
   "id": "aea9f580",
   "metadata": {
    "slideshow": {
     "slide_type": "slide"
    }
   },
   "source": [
    "## When outcomes are binary\n",
    "\n",
    "- So far, we've focused on **continuous** response variables.  \n",
    " - `Relatedness`. \n",
    " - `Price`. \n",
    " - `Age of acquisition`. \n",
    "- But often, our response variable is **binary**, i.e., there are two possible responses."
   ]
  },
  {
   "cell_type": "markdown",
   "id": "f9990a81",
   "metadata": {
    "slideshow": {
     "slide_type": "slide"
    }
   },
   "source": [
    "### Check-in: can you think of any examples of binary outcome variables?"
   ]
  },
  {
   "cell_type": "markdown",
   "id": "924b0492",
   "metadata": {
    "slideshow": {
     "slide_type": "slide"
    }
   },
   "source": [
    "## When outcomes are binary\n",
    "\n",
    "- Many examples of research questions with **binary outcome variables**. \n",
    " - Is email `spam` or `not spam`?  \n",
    " - Is the diagnosis `positive` or `negative`? \n",
    " - Is a credit card transaction `fraudulent` or `not fraudulent`?  \n",
    "- Each problem is a [**classification problem**](https://en.wikipedia.org/wiki/Statistical_classification).  \n",
    " - Note: classification can involve $>2$ categories, but we'll focus here on binary variables. \n",
    "- Fundamentally, this is about **assigning probabilities**: how likely is $X_i$ to be one category vs. the other?"
   ]
  },
  {
   "cell_type": "markdown",
   "id": "7f1a88af",
   "metadata": {
    "slideshow": {
     "slide_type": "slide"
    }
   },
   "source": [
    "## Dataset: spam emails\n",
    "\n",
    "- This is an important (and sometimes hard) problem: is an email `spam` or `not spam`? "
   ]
  },
  {
   "cell_type": "code",
   "execution_count": 71,
   "id": "a3baadf1",
   "metadata": {
    "slideshow": {
     "slide_type": "-"
    }
   },
   "outputs": [
    {
     "data": {
      "text/html": [
       "<div>\n",
       "<style scoped>\n",
       "    .dataframe tbody tr th:only-of-type {\n",
       "        vertical-align: middle;\n",
       "    }\n",
       "\n",
       "    .dataframe tbody tr th {\n",
       "        vertical-align: top;\n",
       "    }\n",
       "\n",
       "    .dataframe thead th {\n",
       "        text-align: right;\n",
       "    }\n",
       "</style>\n",
       "<table border=\"1\" class=\"dataframe\">\n",
       "  <thead>\n",
       "    <tr style=\"text-align: right;\">\n",
       "      <th></th>\n",
       "      <th>spam</th>\n",
       "      <th>to_multiple</th>\n",
       "      <th>from</th>\n",
       "      <th>cc</th>\n",
       "      <th>sent_email</th>\n",
       "      <th>time</th>\n",
       "      <th>image</th>\n",
       "      <th>attach</th>\n",
       "      <th>dollar</th>\n",
       "      <th>winner</th>\n",
       "      <th>...</th>\n",
       "      <th>viagra</th>\n",
       "      <th>password</th>\n",
       "      <th>num_char</th>\n",
       "      <th>line_breaks</th>\n",
       "      <th>format</th>\n",
       "      <th>re_subj</th>\n",
       "      <th>exclaim_subj</th>\n",
       "      <th>urgent_subj</th>\n",
       "      <th>exclaim_mess</th>\n",
       "      <th>number</th>\n",
       "    </tr>\n",
       "  </thead>\n",
       "  <tbody>\n",
       "    <tr>\n",
       "      <th>0</th>\n",
       "      <td>0</td>\n",
       "      <td>0</td>\n",
       "      <td>1</td>\n",
       "      <td>0</td>\n",
       "      <td>0</td>\n",
       "      <td>2012-01-01T06:16:41Z</td>\n",
       "      <td>0</td>\n",
       "      <td>0</td>\n",
       "      <td>0</td>\n",
       "      <td>no</td>\n",
       "      <td>...</td>\n",
       "      <td>0</td>\n",
       "      <td>0</td>\n",
       "      <td>11.370</td>\n",
       "      <td>202</td>\n",
       "      <td>1</td>\n",
       "      <td>0</td>\n",
       "      <td>0</td>\n",
       "      <td>0</td>\n",
       "      <td>0</td>\n",
       "      <td>big</td>\n",
       "    </tr>\n",
       "    <tr>\n",
       "      <th>1</th>\n",
       "      <td>0</td>\n",
       "      <td>0</td>\n",
       "      <td>1</td>\n",
       "      <td>0</td>\n",
       "      <td>0</td>\n",
       "      <td>2012-01-01T07:03:59Z</td>\n",
       "      <td>0</td>\n",
       "      <td>0</td>\n",
       "      <td>0</td>\n",
       "      <td>no</td>\n",
       "      <td>...</td>\n",
       "      <td>0</td>\n",
       "      <td>0</td>\n",
       "      <td>10.504</td>\n",
       "      <td>202</td>\n",
       "      <td>1</td>\n",
       "      <td>0</td>\n",
       "      <td>0</td>\n",
       "      <td>0</td>\n",
       "      <td>1</td>\n",
       "      <td>small</td>\n",
       "    </tr>\n",
       "  </tbody>\n",
       "</table>\n",
       "<p>2 rows × 21 columns</p>\n",
       "</div>"
      ],
      "text/plain": [
       "   spam  to_multiple  from  cc  sent_email                  time  image  \\\n",
       "0     0            0     1   0           0  2012-01-01T06:16:41Z      0   \n",
       "1     0            0     1   0           0  2012-01-01T07:03:59Z      0   \n",
       "\n",
       "   attach  dollar winner  ...  viagra  password  num_char  line_breaks  \\\n",
       "0       0       0     no  ...       0         0    11.370          202   \n",
       "1       0       0     no  ...       0         0    10.504          202   \n",
       "\n",
       "   format  re_subj  exclaim_subj  urgent_subj  exclaim_mess  number  \n",
       "0       1        0             0            0             0     big  \n",
       "1       1        0             0            0             1   small  \n",
       "\n",
       "[2 rows x 21 columns]"
      ]
     },
     "execution_count": 71,
     "metadata": {},
     "output_type": "execute_result"
    }
   ],
   "source": [
    "df_spam = pd.read_csv(\"data/lecture/email.csv\")\n",
    "df_spam.head(2)"
   ]
  },
  {
   "cell_type": "markdown",
   "id": "5a334c25",
   "metadata": {
    "slideshow": {
     "slide_type": "slide"
    }
   },
   "source": [
    "## Possible markers of spam...\n",
    "\n",
    "- Maybe longer emails are less likely to be spam?"
   ]
  },
  {
   "cell_type": "code",
   "execution_count": 72,
   "id": "f83976f3",
   "metadata": {
    "slideshow": {
     "slide_type": "-"
    }
   },
   "outputs": [
    {
     "data": {
      "text/plain": [
       "<AxesSubplot:xlabel='spam', ylabel='num_char'>"
      ]
     },
     "execution_count": 72,
     "metadata": {},
     "output_type": "execute_result"
    },
    {
     "data": {
      "image/png": "[encoded data removed]",
      "text/plain": [
       "<Figure size 432x288 with 1 Axes>"
      ]
     },
     "metadata": {
      "image/png": {
       "height": 261,
       "width": 389
      },
      "needs_background": "light"
     },
     "output_type": "display_data"
    }
   ],
   "source": [
    "sns.boxplot(data = df_spam, x = 'spam', y = 'num_char')"
   ]
  },
  {
   "cell_type": "markdown",
   "id": "54092822",
   "metadata": {
    "slideshow": {
     "slide_type": "slide"
    }
   },
   "source": [
    "## Possible markers of spam...\n",
    "\n",
    "- Maybe emails with the word \"winner\" are more likely to be spam?"
   ]
  },
  {
   "cell_type": "code",
   "execution_count": 73,
   "id": "fcad99ac",
   "metadata": {
    "slideshow": {
     "slide_type": "-"
    }
   },
   "outputs": [
    {
     "data": {
      "text/plain": [
       "Text(0, 0.5, 'Proportion of spam')"
      ]
     },
     "execution_count": 73,
     "metadata": {},
     "output_type": "execute_result"
    },
    {
     "data": {
      "image/png": "[encoded data removed]",
      "text/plain": [
       "<Figure size 432x288 with 1 Axes>"
      ]
     },
     "metadata": {
      "image/png": {
       "height": 261,
       "width": 391
      },
      "needs_background": "light"
     },
     "output_type": "display_data"
    }
   ],
   "source": [
    "sns.barplot(data = df_spam, x = 'winner', y = 'spam')\n",
    "plt.xlabel(\"Email mentions 'winner'\")\n",
    "plt.ylabel(\"Proportion of spam\")"
   ]
  },
  {
   "cell_type": "markdown",
   "id": "bf22acd0",
   "metadata": {
    "slideshow": {
     "slide_type": "slide"
    }
   },
   "source": [
    "## Why not linear regression?\n",
    "\n",
    "- We *could* treat `spam` as a continuous response variable and use linear regression.  \n",
    "- But then our regression line goes beyond $[0, 1]$, which doesn't make any sense for probabilities."
   ]
  },
  {
   "cell_type": "code",
   "execution_count": 74,
   "id": "902c02c5",
   "metadata": {
    "slideshow": {
     "slide_type": "-"
    }
   },
   "outputs": [
    {
     "data": {
      "text/plain": [
       "<seaborn.axisgrid.FacetGrid at 0x7fcb017eab50>"
      ]
     },
     "execution_count": 74,
     "metadata": {},
     "output_type": "execute_result"
    },
    {
     "data": {
      "image/png": "[encoded data removed]",
      "text/plain": [
       "<Figure size 360x360 with 1 Axes>"
      ]
     },
     "metadata": {
      "image/png": {
       "height": 351,
       "width": 352
      },
      "needs_background": "light"
     },
     "output_type": "display_data"
    }
   ],
   "source": [
    "sns.lmplot(data = df_spam,\n",
    "          x = 'num_char', y = 'spam')"
   ]
  },
  {
   "cell_type": "markdown",
   "id": "be57e4ed",
   "metadata": {
    "slideshow": {
     "slide_type": "slide"
    }
   },
   "source": [
    "## Framing the problem\n",
    "\n",
    "- Treat each outcome (`spam` vs. `not spam`) as **Bernoulli trials**, i.e., \"success\" and \"failure\".  \n",
    "- Each trial has an independent probability of success, $p_i$.  \n",
    " - In the absence of any other predictors, this would just be the **proportion of spam emails**, i.e., $p(spam)$. \n",
    "- We can then use predictors to **model** $p_i$, **conditioned** on those variables.  \n",
    " - I.e., $p(spam | winner=True)$  \n",
    "- As it turns out, we can **transform** the linear model to produce the appropriate range of outputs, $[0, 1]$. "
   ]
  },
  {
   "cell_type": "markdown",
   "id": "c26add7a",
   "metadata": {
    "slideshow": {
     "slide_type": "slide"
    }
   },
   "source": [
    "## Background: generalizing the linear model\n",
    "\n",
    "- [**Generalized linear models** (GLMs)](https://en.wikipedia.org/wiki/Generalized_linear_model) are generalizations of linear regression. \n",
    "- Each GLM has:\n",
    " - A probability distribution representing the *generative* model for the outcome variable.  \n",
    " - A linear model: $\\eta = \\beta_0 + \\beta_1X_1 + ... + \\beta_nX_n$\n",
    " - A **link function** relating the linear model to the outcome we're interested in. \n",
    "- Logistic regression is a specific kind of GLM.  "
   ]
  },
  {
   "cell_type": "markdown",
   "id": "e615f812",
   "metadata": {
    "slideshow": {
     "slide_type": "slide"
    }
   },
   "source": [
    "### Logistic regression\n",
    "\n",
    "- Logistic regression uses a **logit link function**.  \n",
    "\n",
    "$\\Large logit(p) = log(\\frac{p}{1 - p})$  \n",
    "\n",
    "\n",
    "- Takes a value between $[0, 1]$ and maps it to a value between $[-\\infty, \\infty]$.  \n",
    "- Also called the **log odds**.  "
   ]
  },
  {
   "cell_type": "code",
   "execution_count": 82,
   "id": "b497bfd6",
   "metadata": {
    "slideshow": {
     "slide_type": "-"
    }
   },
   "outputs": [
    {
     "data": {
      "image/png": "[encoded data removed]",
      "text/plain": [
       "<Figure size 432x288 with 1 Axes>"
      ]
     },
     "metadata": {
      "image/png": {
       "height": 248,
       "width": 370
      },
      "needs_background": "light"
     },
     "output_type": "display_data"
    }
   ],
   "source": [
    "p = np.linspace(0.01, .99, num = 100)\n",
    "logit = np.log((p/(1-p)))\n",
    "plot = plt.plot(p, logit)"
   ]
  },
  {
   "cell_type": "markdown",
   "id": "2bc05afb",
   "metadata": {
    "slideshow": {
     "slide_type": "slide"
    }
   },
   "source": [
    "### Logistic regression\n",
    "\n",
    "- The **inverse logit function** converts the **log odds** back to probability-space.\n",
    "\n",
    "$\\Large \\frac{exp(x)}{1 + exp(x)}$  \n",
    "\n",
    "- This is also called the **logistic function**."
   ]
  },
  {
   "cell_type": "code",
   "execution_count": 84,
   "id": "1ee28a6c",
   "metadata": {
    "slideshow": {
     "slide_type": "-"
    }
   },
   "outputs": [
    {
     "data": {
      "image/png": "[encoded data removed]",
      "text/plain": [
       "<Figure size 432x288 with 1 Axes>"
      ]
     },
     "metadata": {
      "image/png": {
       "height": 248,
       "width": 372
      },
      "needs_background": "light"
     },
     "output_type": "display_data"
    }
   ],
   "source": [
    "log_odds = np.linspace(-10, 10, num = 200) \n",
    "probs = np.exp(log_odds)/ (1 + np.exp(log_odds))\n",
    "plot = plt.plot(log_odds, probs)"
   ]
  },
  {
   "cell_type": "markdown",
   "id": "8eb97194",
   "metadata": {
    "slideshow": {
     "slide_type": "slide"
    }
   },
   "source": [
    "### Logistic regression\n",
    "\n",
    "- With logistic regression, we're fitting a linear model with a **logit link**.  \n",
    "\n",
    "$\\Large log(\\frac{p}{1 - p}) = \\beta_0 + \\beta_1X_1 + ... + \\beta_nX_n$\n",
    "\n",
    "\n",
    "- Technically, we're learning a linear relationship between $X$ and the **log odds** of our outcome.  \n"
   ]
  },
  {
   "cell_type": "markdown",
   "id": "456d5dda",
   "metadata": {
    "slideshow": {
     "slide_type": "slide"
    }
   },
   "source": [
    "### Check-in: can we interpret each parameter directly as reflecting linear changes in the probability of the outcome?"
   ]
  },
  {
   "cell_type": "markdown",
   "id": "32d69932",
   "metadata": {
    "slideshow": {
     "slide_type": "slide"
    }
   },
   "source": [
    "### Probability ≠ log-odds\n",
    "\n",
    "- Our parameters $\\beta_0, ..., \\beta_n$ reflect linear changes in **log-odds**.  \n",
    "- Log-odds is *not* linearly related to probability.  \n",
    "- To get probabilities, we need to apply the logistic function.\n",
    "\n",
    "$\\Large \\frac{exp(x)}{1 + exp(x)}$  \n"
   ]
  },
  {
   "cell_type": "markdown",
   "id": "02e29e1c",
   "metadata": {
    "slideshow": {
     "slide_type": "slide"
    }
   },
   "source": [
    "## Logistic regression in Python\n",
    "\n",
    "- The `statsmodels` package *also* has a logistic regression method (`logit`).  \n",
    "- The syntax is basically the same:  \n",
    " - `formula`: specifies outcome, predictors, etc.  \n",
    " - `data`: specifies dataframe to use.  \n",
    " - `fit()`: call this to fit the function.  "
   ]
  },
  {
   "cell_type": "markdown",
   "id": "c71caf80",
   "metadata": {
    "slideshow": {
     "slide_type": "slide"
    }
   },
   "source": [
    "### Logistic regression in action\n",
    "\n",
    "- Let's build a simple model predicting `spam` from `num_char`.  "
   ]
  },
  {
   "cell_type": "code",
   "execution_count": 85,
   "id": "e4af1d50",
   "metadata": {
    "slideshow": {
     "slide_type": "-"
    }
   },
   "outputs": [
    {
     "name": "stdout",
     "output_type": "stream",
     "text": [
      "Optimization terminated successfully.\n",
      "         Current function value: 0.299210\n",
      "         Iterations 8\n"
     ]
    },
    {
     "data": {
      "text/html": [
       "<table class=\"simpletable\">\n",
       "<caption>Logit Regression Results</caption>\n",
       "<tr>\n",
       "  <th>Dep. Variable:</th>         <td>spam</td>       <th>  No. Observations:  </th>  <td>  3921</td>  \n",
       "</tr>\n",
       "<tr>\n",
       "  <th>Model:</th>                 <td>Logit</td>      <th>  Df Residuals:      </th>  <td>  3919</td>  \n",
       "</tr>\n",
       "<tr>\n",
       "  <th>Method:</th>                 <td>MLE</td>       <th>  Df Model:          </th>  <td>     1</td>  \n",
       "</tr>\n",
       "<tr>\n",
       "  <th>Date:</th>            <td>Fri, 12 Aug 2022</td> <th>  Pseudo R-squ.:     </th>  <td>0.03725</td> \n",
       "</tr>\n",
       "<tr>\n",
       "  <th>Time:</th>                <td>16:00:24</td>     <th>  Log-Likelihood:    </th> <td> -1173.2</td> \n",
       "</tr>\n",
       "<tr>\n",
       "  <th>converged:</th>             <td>True</td>       <th>  LL-Null:           </th> <td> -1218.6</td> \n",
       "</tr>\n",
       "<tr>\n",
       "  <th>Covariance Type:</th>     <td>nonrobust</td>    <th>  LLR p-value:       </th> <td>1.607e-21</td>\n",
       "</tr>\n",
       "</table>\n",
       "<table class=\"simpletable\">\n",
       "<tr>\n",
       "      <td></td>         <th>coef</th>     <th>std err</th>      <th>z</th>      <th>P>|z|</th>  <th>[0.025</th>    <th>0.975]</th>  \n",
       "</tr>\n",
       "<tr>\n",
       "  <th>Intercept</th> <td>   -1.7987</td> <td>    0.072</td> <td>  -25.135</td> <td> 0.000</td> <td>   -1.939</td> <td>   -1.658</td>\n",
       "</tr>\n",
       "<tr>\n",
       "  <th>num_char</th>  <td>   -0.0621</td> <td>    0.008</td> <td>   -7.746</td> <td> 0.000</td> <td>   -0.078</td> <td>   -0.046</td>\n",
       "</tr>\n",
       "</table>"
      ],
      "text/plain": [
       "<class 'statsmodels.iolib.summary.Summary'>\n",
       "\"\"\"\n",
       "                           Logit Regression Results                           \n",
       "==============================================================================\n",
       "Dep. Variable:                   spam   No. Observations:                 3921\n",
       "Model:                          Logit   Df Residuals:                     3919\n",
       "Method:                           MLE   Df Model:                            1\n",
       "Date:                Fri, 12 Aug 2022   Pseudo R-squ.:                 0.03725\n",
       "Time:                        16:00:24   Log-Likelihood:                -1173.2\n",
       "converged:                       True   LL-Null:                       -1218.6\n",
       "Covariance Type:            nonrobust   LLR p-value:                 1.607e-21\n",
       "==============================================================================\n",
       "                 coef    std err          z      P>|z|      [0.025      0.975]\n",
       "------------------------------------------------------------------------------\n",
       "Intercept     -1.7987      0.072    -25.135      0.000      -1.939      -1.658\n",
       "num_char      -0.0621      0.008     -7.746      0.000      -0.078      -0.046\n",
       "==============================================================================\n",
       "\"\"\""
      ]
     },
     "execution_count": 85,
     "metadata": {},
     "output_type": "execute_result"
    }
   ],
   "source": [
    "mod = smf.logit(formula='spam ~ num_char', data=df_spam).fit(disp=0)\n",
    "mod.summary()"
   ]
  },
  {
   "cell_type": "markdown",
   "id": "212e4046",
   "metadata": {
    "slideshow": {
     "slide_type": "slide"
    }
   },
   "source": [
    "### Check-in: how should we interpret these coefficients?"
   ]
  },
  {
   "cell_type": "code",
   "execution_count": 86,
   "id": "ec91a3eb",
   "metadata": {
    "slideshow": {
     "slide_type": "-"
    }
   },
   "outputs": [
    {
     "data": {
      "text/plain": [
       "Intercept   -1.798738\n",
       "num_char    -0.062071\n",
       "dtype: float64"
      ]
     },
     "execution_count": 86,
     "metadata": {},
     "output_type": "execute_result"
    }
   ],
   "source": [
    "mod.params"
   ]
  },
  {
   "cell_type": "markdown",
   "id": "50e1e4aa",
   "metadata": {
    "slideshow": {
     "slide_type": "slide"
    }
   },
   "source": [
    "## Interpreting our model\n",
    "\n",
    "- We could write this out using the **linear equation**. \n",
    "\n",
    "$\\Large log(\\frac{p}{1 - p}) = -1.8 - 0.06X_{length}$  \n",
    "\n",
    "- These parameters do *not* directly reflect probabilities.\n",
    " - $\\beta_0 = -1.8$: predicted **log-odds** of `spam` when $length = 0$.  \n",
    " - $\\beta_1 = -.06$: for each additional character in an email, predicted change in **log-odds** of `spam`.  \n",
    "\n",
    "- To extract predicted probabilities, we'd need to:\n",
    " - First calculated predicted log-odds.  \n",
    " - Then convert to probability-space using the logistic function.\n",
    " \n",
    " $\\Large \\frac{exp(x)}{1 + exp(x)}$  "
   ]
  },
  {
   "cell_type": "markdown",
   "id": "e13e94dd",
   "metadata": {
    "slideshow": {
     "slide_type": "slide"
    }
   },
   "source": [
    "## Extracting probabilities\n",
    "\n",
    "- What is the predicted `p(spam)` for an email with 0 characters?  \n",
    "- This is equivalent to the intercept.  "
   ]
  },
  {
   "cell_type": "code",
   "execution_count": 87,
   "id": "87e6e61f",
   "metadata": {
    "slideshow": {
     "slide_type": "-"
    }
   },
   "outputs": [
    {
     "data": {
      "text/plain": [
       "0.1418510649004878"
      ]
     },
     "execution_count": 87,
     "metadata": {},
     "output_type": "execute_result"
    }
   ],
   "source": [
    "log_odds = -1.8 # Just the intercept\n",
    "p = np.exp(log_odds) / (1 + np.exp(log_odds))\n",
    "p"
   ]
  },
  {
   "cell_type": "markdown",
   "id": "4b5aaacf",
   "metadata": {
    "slideshow": {
     "slide_type": "slide"
    }
   },
   "source": [
    "## Extracting probabilities\n",
    "\n",
    "- What is the predicted `p(spam)` for an email with 100 characters?  "
   ]
  },
  {
   "cell_type": "code",
   "execution_count": 88,
   "id": "7ad70164",
   "metadata": {
    "slideshow": {
     "slide_type": "-"
    }
   },
   "outputs": [
    {
     "data": {
      "text/plain": [
       "0.00040956716498605043"
      ]
     },
     "execution_count": 88,
     "metadata": {},
     "output_type": "execute_result"
    }
   ],
   "source": [
    "log_odds = -1.8 - .06*100 # Now we add in length\n",
    "p = np.exp(log_odds) / (1 + np.exp(log_odds))\n",
    "p"
   ]
  },
  {
   "cell_type": "markdown",
   "id": "46cea93a",
   "metadata": {
    "slideshow": {
     "slide_type": "slide"
    }
   },
   "source": [
    "### Logistic regression with a categorical predictor\n",
    "\n",
    "- Now let's use `winner` instead of `num_char` as our predictor. "
   ]
  },
  {
   "cell_type": "code",
   "execution_count": 107,
   "id": "3da97bc2",
   "metadata": {
    "slideshow": {
     "slide_type": "-"
    }
   },
   "outputs": [
    {
     "data": {
      "text/html": [
       "<table class=\"simpletable\">\n",
       "<caption>Logit Regression Results</caption>\n",
       "<tr>\n",
       "  <th>Dep. Variable:</th>         <td>spam</td>       <th>  No. Observations:  </th>  <td>  3921</td>  \n",
       "</tr>\n",
       "<tr>\n",
       "  <th>Model:</th>                 <td>Logit</td>      <th>  Df Residuals:      </th>  <td>  3919</td>  \n",
       "</tr>\n",
       "<tr>\n",
       "  <th>Method:</th>                 <td>MLE</td>       <th>  Df Model:          </th>  <td>     1</td>  \n",
       "</tr>\n",
       "<tr>\n",
       "  <th>Date:</th>            <td>Fri, 12 Aug 2022</td> <th>  Pseudo R-squ.:     </th>  <td>0.01005</td> \n",
       "</tr>\n",
       "<tr>\n",
       "  <th>Time:</th>                <td>16:19:25</td>     <th>  Log-Likelihood:    </th> <td> -1206.3</td> \n",
       "</tr>\n",
       "<tr>\n",
       "  <th>converged:</th>             <td>True</td>       <th>  LL-Null:           </th> <td> -1218.6</td> \n",
       "</tr>\n",
       "<tr>\n",
       "  <th>Covariance Type:</th>     <td>nonrobust</td>    <th>  LLR p-value:       </th> <td>7.410e-07</td>\n",
       "</tr>\n",
       "</table>\n",
       "<table class=\"simpletable\">\n",
       "<tr>\n",
       "        <td></td>           <th>coef</th>     <th>std err</th>      <th>z</th>      <th>P>|z|</th>  <th>[0.025</th>    <th>0.975]</th>  \n",
       "</tr>\n",
       "<tr>\n",
       "  <th>Intercept</th>     <td>   -2.3140</td> <td>    0.056</td> <td>  -41.121</td> <td> 0.000</td> <td>   -2.424</td> <td>   -2.204</td>\n",
       "</tr>\n",
       "<tr>\n",
       "  <th>winner[T.yes]</th> <td>    1.5256</td> <td>    0.275</td> <td>    5.538</td> <td> 0.000</td> <td>    0.986</td> <td>    2.066</td>\n",
       "</tr>\n",
       "</table>"
      ],
      "text/plain": [
       "<class 'statsmodels.iolib.summary.Summary'>\n",
       "\"\"\"\n",
       "                           Logit Regression Results                           \n",
       "==============================================================================\n",
       "Dep. Variable:                   spam   No. Observations:                 3921\n",
       "Model:                          Logit   Df Residuals:                     3919\n",
       "Method:                           MLE   Df Model:                            1\n",
       "Date:                Fri, 12 Aug 2022   Pseudo R-squ.:                 0.01005\n",
       "Time:                        16:19:25   Log-Likelihood:                -1206.3\n",
       "converged:                       True   LL-Null:                       -1218.6\n",
       "Covariance Type:            nonrobust   LLR p-value:                 7.410e-07\n",
       "=================================================================================\n",
       "                    coef    std err          z      P>|z|      [0.025      0.975]\n",
       "---------------------------------------------------------------------------------\n",
       "Intercept        -2.3140      0.056    -41.121      0.000      -2.424      -2.204\n",
       "winner[T.yes]     1.5256      0.275      5.538      0.000       0.986       2.066\n",
       "=================================================================================\n",
       "\"\"\""
      ]
     },
     "execution_count": 107,
     "metadata": {},
     "output_type": "execute_result"
    }
   ],
   "source": [
    "mod = smf.logit(formula='spam ~ winner', data=df_spam).fit(disp=0)\n",
    "mod.summary()"
   ]
  },
  {
   "cell_type": "markdown",
   "id": "d610abd1",
   "metadata": {
    "slideshow": {
     "slide_type": "slide"
    }
   },
   "source": [
    "### Check-in: how should we interpret these coefficients?"
   ]
  },
  {
   "cell_type": "code",
   "execution_count": 90,
   "id": "27c23866",
   "metadata": {
    "slideshow": {
     "slide_type": "-"
    }
   },
   "outputs": [
    {
     "data": {
      "text/plain": [
       "Intercept       -2.314047\n",
       "winner[T.yes]    1.525589\n",
       "dtype: float64"
      ]
     },
     "execution_count": 90,
     "metadata": {},
     "output_type": "execute_result"
    }
   ],
   "source": [
    "mod.params"
   ]
  },
  {
   "cell_type": "markdown",
   "id": "04c75852",
   "metadata": {
    "slideshow": {
     "slide_type": "slide"
    }
   },
   "source": [
    "## Extracting probabilities\n",
    "\n",
    "- What is the predicted `p(spam)` for an email without the word `winner`?  "
   ]
  },
  {
   "cell_type": "code",
   "execution_count": 91,
   "id": "526eb003",
   "metadata": {
    "slideshow": {
     "slide_type": "-"
    }
   },
   "outputs": [
    {
     "data": {
      "text/plain": [
       "0.08996629504796422"
      ]
     },
     "execution_count": 91,
     "metadata": {},
     "output_type": "execute_result"
    }
   ],
   "source": [
    "log_odds = mod.params['Intercept'] # Just the intercept\n",
    "p = np.exp(log_odds) / (1 + np.exp(log_odds))\n",
    "p"
   ]
  },
  {
   "cell_type": "markdown",
   "id": "caad848e",
   "metadata": {
    "slideshow": {
     "slide_type": "slide"
    }
   },
   "source": [
    "## Extracting probabilities\n",
    "\n",
    "- What is the predicted `p(spam)` for an email **with** the word `winner`?  "
   ]
  },
  {
   "cell_type": "code",
   "execution_count": 93,
   "id": "0e1da7db",
   "metadata": {
    "slideshow": {
     "slide_type": "-"
    }
   },
   "outputs": [
    {
     "data": {
      "text/plain": [
       "0.31250000000000006"
      ]
     },
     "execution_count": 93,
     "metadata": {},
     "output_type": "execute_result"
    }
   ],
   "source": [
    "log_odds = mod.params['Intercept'] + mod.params['winner[T.yes]'] \n",
    "p = np.exp(log_odds) / (1 + np.exp(log_odds))\n",
    "p"
   ]
  },
  {
   "cell_type": "markdown",
   "id": "8ec18d89",
   "metadata": {
    "slideshow": {
     "slide_type": "slide"
    }
   },
   "source": [
    "## Multiple logistic regression\n",
    "\n",
    "- As with linear regression, we can add multiple predictors.  "
   ]
  },
  {
   "cell_type": "code",
   "execution_count": 106,
   "id": "f0c215d2",
   "metadata": {
    "slideshow": {
     "slide_type": "-"
    }
   },
   "outputs": [
    {
     "data": {
      "text/html": [
       "<table class=\"simpletable\">\n",
       "<caption>Logit Regression Results</caption>\n",
       "<tr>\n",
       "  <th>Dep. Variable:</th>         <td>spam</td>       <th>  No. Observations:  </th>  <td>  3921</td>  \n",
       "</tr>\n",
       "<tr>\n",
       "  <th>Model:</th>                 <td>Logit</td>      <th>  Df Residuals:      </th>  <td>  3918</td>  \n",
       "</tr>\n",
       "<tr>\n",
       "  <th>Method:</th>                 <td>MLE</td>       <th>  Df Model:          </th>  <td>     2</td>  \n",
       "</tr>\n",
       "<tr>\n",
       "  <th>Date:</th>            <td>Fri, 12 Aug 2022</td> <th>  Pseudo R-squ.:     </th>  <td>0.05154</td> \n",
       "</tr>\n",
       "<tr>\n",
       "  <th>Time:</th>                <td>16:19:05</td>     <th>  Log-Likelihood:    </th> <td> -1155.8</td> \n",
       "</tr>\n",
       "<tr>\n",
       "  <th>converged:</th>             <td>True</td>       <th>  LL-Null:           </th> <td> -1218.6</td> \n",
       "</tr>\n",
       "<tr>\n",
       "  <th>Covariance Type:</th>     <td>nonrobust</td>    <th>  LLR p-value:       </th> <td>5.321e-28</td>\n",
       "</tr>\n",
       "</table>\n",
       "<table class=\"simpletable\">\n",
       "<tr>\n",
       "        <td></td>           <th>coef</th>     <th>std err</th>      <th>z</th>      <th>P>|z|</th>  <th>[0.025</th>    <th>0.975]</th>  \n",
       "</tr>\n",
       "<tr>\n",
       "  <th>Intercept</th>     <td>   -1.8291</td> <td>    0.072</td> <td>  -25.412</td> <td> 0.000</td> <td>   -1.970</td> <td>   -1.688</td>\n",
       "</tr>\n",
       "<tr>\n",
       "  <th>winner[T.yes]</th> <td>    1.9653</td> <td>    0.300</td> <td>    6.542</td> <td> 0.000</td> <td>    1.376</td> <td>    2.554</td>\n",
       "</tr>\n",
       "<tr>\n",
       "  <th>num_char</th>      <td>   -0.0653</td> <td>    0.008</td> <td>   -8.109</td> <td> 0.000</td> <td>   -0.081</td> <td>   -0.050</td>\n",
       "</tr>\n",
       "</table>"
      ],
      "text/plain": [
       "<class 'statsmodels.iolib.summary.Summary'>\n",
       "\"\"\"\n",
       "                           Logit Regression Results                           \n",
       "==============================================================================\n",
       "Dep. Variable:                   spam   No. Observations:                 3921\n",
       "Model:                          Logit   Df Residuals:                     3918\n",
       "Method:                           MLE   Df Model:                            2\n",
       "Date:                Fri, 12 Aug 2022   Pseudo R-squ.:                 0.05154\n",
       "Time:                        16:19:05   Log-Likelihood:                -1155.8\n",
       "converged:                       True   LL-Null:                       -1218.6\n",
       "Covariance Type:            nonrobust   LLR p-value:                 5.321e-28\n",
       "=================================================================================\n",
       "                    coef    std err          z      P>|z|      [0.025      0.975]\n",
       "---------------------------------------------------------------------------------\n",
       "Intercept        -1.8291      0.072    -25.412      0.000      -1.970      -1.688\n",
       "winner[T.yes]     1.9653      0.300      6.542      0.000       1.376       2.554\n",
       "num_char         -0.0653      0.008     -8.109      0.000      -0.081      -0.050\n",
       "=================================================================================\n",
       "\"\"\""
      ]
     },
     "execution_count": 106,
     "metadata": {},
     "output_type": "execute_result"
    }
   ],
   "source": [
    "mod = smf.logit(formula='spam ~ winner + num_char', data=df_spam).fit(disp=0)\n",
    "mod.summary()"
   ]
  },
  {
   "cell_type": "markdown",
   "id": "b63b1538",
   "metadata": {
    "slideshow": {
     "slide_type": "slide"
    }
   },
   "source": [
    "### Check-in: how would we interpret the coefficients for multiple logistic regression?"
   ]
  },
  {
   "cell_type": "markdown",
   "id": "4440e1bb",
   "metadata": {
    "slideshow": {
     "slide_type": "slide"
    }
   },
   "source": [
    "### Check-in: how would we interpret the coefficients for multiple logistic regression?\n",
    "\n",
    "- Each coefficient $\\beta_j$ reflects:\n",
    " - **Amount of change** in **log-odds** of outcome associated with changes in $X_j$... \n",
    " - ...holding all other variables **constant** (i.e., *ceteris paribus*).  "
   ]
  },
  {
   "cell_type": "markdown",
   "id": "526fafbf",
   "metadata": {
    "slideshow": {
     "slide_type": "slide"
    }
   },
   "source": [
    "### Check-in: how could we measure the \"goodness-of-fit\" of our models?"
   ]
  },
  {
   "cell_type": "markdown",
   "id": "9b09f5b3",
   "metadata": {
    "slideshow": {
     "slide_type": "slide"
    }
   },
   "source": [
    "## Evaluating our models\n",
    "\n",
    "- Because our outcome is categorical, traditional $R^2$ won't work.  \n",
    "- Many approaches:\n",
    " - **Accuracy**: if we convert $p_i$ to `spam` ($p_i > .5$) vs. `not spam` ($p_i ≤ .5$), what proportion of our predictions are correct?  \n",
    " - [**Precision** vs. **recall**](https://en.wikipedia.org/wiki/Precision_and_recall):\n",
    "    - Precision: what proportion of emails predicted to be `spam` *are* actually spam?\n",
    "    - Recall: what proportion of true `spam` was predicted to be spam?  \n",
    " - [**Likelihood ratio comparison**](https://seantrott.github.io/model_comparison/): how much more *likely* are our observed data under our full model vs. a simpler model?  \n",
    " - [**Akaike Information Criterion**](https://en.wikipedia.org/wiki/Akaike_information_criterion): a measure of model fit rooted in information theory and model likelihood.  \n",
    "- Much more we could discuss here!"
   ]
  },
  {
   "cell_type": "markdown",
   "id": "f9f27a52",
   "metadata": {
    "slideshow": {
     "slide_type": "slide"
    }
   },
   "source": [
    "## Extracting AIC. \n",
    "\n",
    "- Our fit `model` object has an associated `aic` value.  \n",
    "- This won't make much sense out of context, so typically we **compare** these AIC values across different models under consideration.  \n",
    "- A lower AIC value is better."
   ]
  },
  {
   "cell_type": "code",
   "execution_count": 105,
   "id": "6b032db4",
   "metadata": {
    "slideshow": {
     "slide_type": "-"
    }
   },
   "outputs": [
    {
     "name": "stdout",
     "output_type": "stream",
     "text": [
      "AIC of full model: 2317.5782764154965\n",
      "AIC of reduced model: 2350.4011465188078\n"
     ]
    }
   ],
   "source": [
    "mod_full = smf.logit(formula='spam ~ winner + num_char', data=df_spam).fit(disp=0)\n",
    "mod_length = smf.logit(formula='spam ~ num_char', data=df_spam).fit(disp=0)\n",
    "print(\"AIC of full model: {x}\".format(x = mod_full.aic))\n",
    "print(\"AIC of reduced model: {x}\".format(x = mod_length.aic))"
   ]
  },
  {
   "cell_type": "markdown",
   "id": "4216bc9b",
   "metadata": {
    "slideshow": {
     "slide_type": "slide"
    }
   },
   "source": [
    "### Questions on logistic regression?"
   ]
  },
  {
   "cell_type": "markdown",
   "id": "42f3af03",
   "metadata": {
    "slideshow": {
     "slide_type": "slide"
    }
   },
   "source": [
    "# Conclusion\n",
    "\n",
    "- Lots of hard content today, but hopefully you're a little more confident:\n",
    " - **Explaining** the motivation for *multivariate linear regression*.  \n",
    " - **Implementing** multiple regression in Python using `statmodels`.  \n",
    " - **Interpreting** the coefficients from multivariate linear regression models.  \n",
    " - **Explaining** the theoretical foundations of logistic regression."
   ]
  }
 ],
 "metadata": {
  "celltoolbar": "Slideshow",
  "kernelspec": {
   "display_name": "Python 3 (ipykernel)",
   "language": "python",
   "name": "python3"
  },
  "language_info": {
   "codemirror_mode": {
    "name": "ipython",
    "version": 3
   },
   "file_extension": ".py",
   "mimetype": "text/x-python",
   "name": "python",
   "nbconvert_exporter": "python",
   "pygments_lexer": "ipython3",
   "version": "3.9.12"
  }
 },
 "nbformat": 4,
 "nbformat_minor": 5
}
