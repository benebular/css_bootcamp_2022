{
 "cells": [
  {
   "cell_type": "markdown",
   "id": "dbde9975",
   "metadata": {},
   "source": [
    "# CSS Bootcamp\n",
    "\n",
    "## Day 4 (Multiple and logistic regression): Lab\n",
    "\n",
    "This lab is intended to accompany **Day 4** of the week on **Statistics**, which focuses on:\n",
    "\n",
    "- Building and interpreting **multiple linear regression** models.  \n",
    "- The theoretical foundations of **logistic regression**.  \n",
    "- Building and interpreting **logistic regression** models. \n",
    "\n",
    "This lab has some \"free response\" questions, in which you are asked to describe or make some inference from a graph. \n",
    "\n",
    "It also has questions requiring you to program answers in Python. In some cases, this will use built-in functions we've discussed in class (either today, or previous weeks). In others, there'll be a built-in function that we *haven't* discussed, which you will have to look up in the documentation. And in other cases, you'll be asked to write an original function.\n",
    "\n",
    "Please reach out for help if anything is unclear!"
   ]
  },
  {
   "cell_type": "markdown",
   "id": "5f6ab139",
   "metadata": {},
   "source": [
    "#### Key imports\n",
    "\n",
    "Here, we import some of the libraries that will be critical for the lab."
   ]
  },
  {
   "cell_type": "code",
   "execution_count": 1,
   "id": "3971aaee",
   "metadata": {
    "scrolled": true
   },
   "outputs": [
    {
     "name": "stderr",
     "output_type": "stream",
     "text": [
      "/opt/anaconda3/lib/python3.9/site-packages/scipy/__init__.py:146: UserWarning: A NumPy version >=1.16.5 and <1.23.0 is required for this version of SciPy (detected version 1.23.1\n",
      "  warnings.warn(f\"A NumPy version >={np_minversion} and <{np_maxversion}\"\n"
     ]
    }
   ],
   "source": [
    "import matplotlib.pyplot as plt\n",
    "import math\n",
    "import numpy as np\n",
    "import seaborn as sns\n",
    "import scipy.stats as ss\n",
    "import statsmodels.formula.api as smf\n",
    "import pandas as pd\n",
    "\n",
    "%matplotlib inline\n",
    "%config InlineBackend.figure_format = 'retina'  # makes figs nicer!"
   ]
  },
  {
   "cell_type": "markdown",
   "id": "b537633b",
   "metadata": {},
   "source": [
    "# Part 1: Multiple linear regression"
   ]
  },
  {
   "cell_type": "markdown",
   "id": "651809e4",
   "metadata": {},
   "source": [
    "In this first section, we'll revisit a dataset from **Day 3**, which contains judgments about the **relatedness** of ambiguous words across different contexts.  "
   ]
  },
  {
   "cell_type": "markdown",
   "id": "725f0bd1",
   "metadata": {},
   "source": [
    "##### Load data\n",
    "\n",
    "First, let's load a version of the dataset, which can be found in `data/lab/raw-c.csv`. (I've copied the same data file from the `data/lab` folder under the **Day 3** directory for ease of use.)"
   ]
  },
  {
   "cell_type": "code",
   "execution_count": 2,
   "id": "e3839c3c",
   "metadata": {},
   "outputs": [
    {
     "data": {
      "text/html": [
       "<div>\n",
       "<style scoped>\n",
       "    .dataframe tbody tr th:only-of-type {\n",
       "        vertical-align: middle;\n",
       "    }\n",
       "\n",
       "    .dataframe tbody tr th {\n",
       "        vertical-align: top;\n",
       "    }\n",
       "\n",
       "    .dataframe thead th {\n",
       "        text-align: right;\n",
       "    }\n",
       "</style>\n",
       "<table border=\"1\" class=\"dataframe\">\n",
       "  <thead>\n",
       "    <tr style=\"text-align: right;\">\n",
       "      <th></th>\n",
       "      <th>word</th>\n",
       "      <th>sentence1</th>\n",
       "      <th>sentence2</th>\n",
       "      <th>same</th>\n",
       "      <th>ambiguity_type</th>\n",
       "      <th>mean_relatedness</th>\n",
       "      <th>distance_bert</th>\n",
       "      <th>distance_elmo</th>\n",
       "    </tr>\n",
       "  </thead>\n",
       "  <tbody>\n",
       "    <tr>\n",
       "      <th>0</th>\n",
       "      <td>act</td>\n",
       "      <td>It was a desperate act.</td>\n",
       "      <td>It was a magic act.</td>\n",
       "      <td>False</td>\n",
       "      <td>Polysemy</td>\n",
       "      <td>2.181818</td>\n",
       "      <td>0.204110</td>\n",
       "      <td>0.034093</td>\n",
       "    </tr>\n",
       "    <tr>\n",
       "      <th>1</th>\n",
       "      <td>act</td>\n",
       "      <td>It was a desperate act.</td>\n",
       "      <td>It was a comedic act.</td>\n",
       "      <td>False</td>\n",
       "      <td>Polysemy</td>\n",
       "      <td>2.000000</td>\n",
       "      <td>0.215616</td>\n",
       "      <td>0.045927</td>\n",
       "    </tr>\n",
       "    <tr>\n",
       "      <th>2</th>\n",
       "      <td>act</td>\n",
       "      <td>It was a humane act.</td>\n",
       "      <td>It was a magic act.</td>\n",
       "      <td>False</td>\n",
       "      <td>Polysemy</td>\n",
       "      <td>2.818182</td>\n",
       "      <td>0.191488</td>\n",
       "      <td>0.042351</td>\n",
       "    </tr>\n",
       "    <tr>\n",
       "      <th>3</th>\n",
       "      <td>act</td>\n",
       "      <td>It was a humane act.</td>\n",
       "      <td>It was a comedic act.</td>\n",
       "      <td>False</td>\n",
       "      <td>Polysemy</td>\n",
       "      <td>2.809524</td>\n",
       "      <td>0.225272</td>\n",
       "      <td>0.057707</td>\n",
       "    </tr>\n",
       "    <tr>\n",
       "      <th>4</th>\n",
       "      <td>act</td>\n",
       "      <td>It was a desperate act.</td>\n",
       "      <td>It was a humane act.</td>\n",
       "      <td>True</td>\n",
       "      <td>Polysemy</td>\n",
       "      <td>3.900000</td>\n",
       "      <td>0.167990</td>\n",
       "      <td>0.041440</td>\n",
       "    </tr>\n",
       "  </tbody>\n",
       "</table>\n",
       "</div>"
      ],
      "text/plain": [
       "  word                sentence1              sentence2   same ambiguity_type  \\\n",
       "0  act  It was a desperate act.    It was a magic act.  False       Polysemy   \n",
       "1  act  It was a desperate act.  It was a comedic act.  False       Polysemy   \n",
       "2  act     It was a humane act.    It was a magic act.  False       Polysemy   \n",
       "3  act     It was a humane act.  It was a comedic act.  False       Polysemy   \n",
       "4  act  It was a desperate act.   It was a humane act.   True       Polysemy   \n",
       "\n",
       "   mean_relatedness  distance_bert  distance_elmo  \n",
       "0          2.181818       0.204110       0.034093  \n",
       "1          2.000000       0.215616       0.045927  \n",
       "2          2.818182       0.191488       0.042351  \n",
       "3          2.809524       0.225272       0.057707  \n",
       "4          3.900000       0.167990       0.041440  "
      ]
     },
     "execution_count": 2,
     "metadata": {},
     "output_type": "execute_result"
    }
   ],
   "source": [
    "df_rawc = pd.read_csv(\"data/lab/raw-c.csv\")\n",
    "df_rawc.head(5)"
   ]
  },
  {
   "cell_type": "markdown",
   "id": "e028a233",
   "metadata": {},
   "source": [
    "##### First, build a linear model using `statsmodels` predicting `mean_relatedness`, with `distance_bert` and `same` as predictors."
   ]
  },
  {
   "cell_type": "code",
   "execution_count": 10,
   "id": "ae9a4534",
   "metadata": {},
   "outputs": [],
   "source": [
    "#### Your code here."
   ]
  },
  {
   "cell_type": "markdown",
   "id": "46fd13c5",
   "metadata": {},
   "source": [
    "##### Write out the linear equation corresponding to these parameters."
   ]
  },
  {
   "cell_type": "code",
   "execution_count": 32,
   "id": "2431215c",
   "metadata": {},
   "outputs": [],
   "source": [
    "#### Your code here."
   ]
  },
  {
   "cell_type": "markdown",
   "id": "0f71deae",
   "metadata": {},
   "source": [
    "##### According to this model, what is the predicted relatedness for `different sense` pairs that have a distance of $0.3$?"
   ]
  },
  {
   "cell_type": "code",
   "execution_count": 33,
   "id": "d3a0d0f1",
   "metadata": {},
   "outputs": [],
   "source": [
    "#### Your code here."
   ]
  },
  {
   "cell_type": "markdown",
   "id": "1a554b67",
   "metadata": {},
   "source": [
    "##### According to this model, what is the predicted relatedness for `same sense` pairs that have a distance of $0.3$?"
   ]
  },
  {
   "cell_type": "code",
   "execution_count": 35,
   "id": "28b851b8",
   "metadata": {},
   "outputs": [],
   "source": [
    "#### Your code here."
   ]
  },
  {
   "cell_type": "markdown",
   "id": "57a9db6c",
   "metadata": {},
   "source": [
    "##### Use `predict` to collect the model's predictions, then plot them against the real values of `mean_relatedness`.\n",
    "\n",
    "Note: when visualizing this, I found it helpful to use `sns.scatterplot`, and set the `hue` to `df_rawc['same']`. "
   ]
  },
  {
   "cell_type": "code",
   "execution_count": 37,
   "id": "83598472",
   "metadata": {},
   "outputs": [],
   "source": [
    "#### Your code here."
   ]
  },
  {
   "cell_type": "markdown",
   "id": "2813425c",
   "metadata": {},
   "source": [
    "##### Plot the model's residuals against `distance_bert`. "
   ]
  },
  {
   "cell_type": "code",
   "execution_count": 39,
   "id": "78faf3ad",
   "metadata": {},
   "outputs": [],
   "source": [
    "#### Your code here."
   ]
  },
  {
   "cell_type": "markdown",
   "id": "c270b21b",
   "metadata": {},
   "source": [
    "##### How would you interpret these residuals? Is there evidence of heteroscedasticity?"
   ]
  },
  {
   "cell_type": "code",
   "execution_count": 41,
   "id": "7bd253f0",
   "metadata": {},
   "outputs": [],
   "source": [
    "#### Your response here."
   ]
  },
  {
   "cell_type": "markdown",
   "id": "13619b54",
   "metadata": {},
   "source": [
    "##### Build and compare (visually, e.g., in a barplot) the $R^2$ of three models (described below).\n",
    "\n",
    "- A model with only `same`. \n",
    "- A model with only `distance_bert`.\n",
    "- A model with both parameters."
   ]
  },
  {
   "cell_type": "code",
   "execution_count": 30,
   "id": "1b5fe7b1",
   "metadata": {},
   "outputs": [],
   "source": [
    "#### Your response here."
   ]
  },
  {
   "cell_type": "markdown",
   "id": "34d77b9d",
   "metadata": {},
   "source": [
    "##### Considering each of the \"reduced\" models (e.g., `Same` and `Distance`), which model has a bigger difference in $R^2$ with `Both`? What does this mean?"
   ]
  },
  {
   "cell_type": "code",
   "execution_count": 48,
   "id": "0d27e0f8",
   "metadata": {},
   "outputs": [],
   "source": [
    "#### Your response here."
   ]
  },
  {
   "cell_type": "markdown",
   "id": "e9a4d5fa",
   "metadata": {},
   "source": [
    "# Part 2: Logistic regression"
   ]
  },
  {
   "cell_type": "markdown",
   "id": "c6e4c000",
   "metadata": {},
   "source": [
    "### Predicting hiring discrimination.\n",
    "\n",
    "In this section, we'll consider a [dataset](https://www.openintro.org/data/index.php?data=resume) from a [now well-known paper](https://www.aeaweb.org/articles?id=10.1257/0002828042002561) (Bertrand & Mullainathan , 2004). Here's what the authors did:\n",
    "\n",
    "> We study race in the labor market by sending fictitious resumes to help-wanted ads in Boston and Chicago newspapers. To manipulate perceived race, resumes are randomly assigned African-American- or White-sounding names. \n",
    "\n",
    "The authors then measured whether resumes received a **callback** (yes or no).\n",
    "\n",
    "Importantly, this was an **experiment**: resumes were randomly assigned to one of two treatment conditions (i.e., whether the name given was judged separately as being more likely to belong to an African-American or White applicant.)"
   ]
  },
  {
   "cell_type": "markdown",
   "id": "68295028",
   "metadata": {},
   "source": [
    "#### Load data\n",
    "\n",
    "The data can be found in `data/lab/resume.csv`). There are a *ton* of columns/variables here, but for our purposes, we're focused on just a couple:\n",
    "\n",
    "- `received_callback`: whether or not a resume received a callback.  \n",
    "- `years_experience`: how many years of experience the applicant has.  \n",
    "- `race`: whether the resume was coded as `white` or `black`.  "
   ]
  },
  {
   "cell_type": "code",
   "execution_count": 83,
   "id": "6b21feca",
   "metadata": {},
   "outputs": [
    {
     "data": {
      "text/html": [
       "<div>\n",
       "<style scoped>\n",
       "    .dataframe tbody tr th:only-of-type {\n",
       "        vertical-align: middle;\n",
       "    }\n",
       "\n",
       "    .dataframe tbody tr th {\n",
       "        vertical-align: top;\n",
       "    }\n",
       "\n",
       "    .dataframe thead th {\n",
       "        text-align: right;\n",
       "    }\n",
       "</style>\n",
       "<table border=\"1\" class=\"dataframe\">\n",
       "  <thead>\n",
       "    <tr style=\"text-align: right;\">\n",
       "      <th></th>\n",
       "      <th>job_ad_id</th>\n",
       "      <th>job_city</th>\n",
       "      <th>job_industry</th>\n",
       "      <th>job_type</th>\n",
       "      <th>job_fed_contractor</th>\n",
       "      <th>job_equal_opp_employer</th>\n",
       "      <th>job_ownership</th>\n",
       "      <th>job_req_any</th>\n",
       "      <th>job_req_communication</th>\n",
       "      <th>job_req_education</th>\n",
       "      <th>...</th>\n",
       "      <th>honors</th>\n",
       "      <th>worked_during_school</th>\n",
       "      <th>years_experience</th>\n",
       "      <th>computer_skills</th>\n",
       "      <th>special_skills</th>\n",
       "      <th>volunteer</th>\n",
       "      <th>military</th>\n",
       "      <th>employment_holes</th>\n",
       "      <th>has_email_address</th>\n",
       "      <th>resume_quality</th>\n",
       "    </tr>\n",
       "  </thead>\n",
       "  <tbody>\n",
       "    <tr>\n",
       "      <th>0</th>\n",
       "      <td>384</td>\n",
       "      <td>Chicago</td>\n",
       "      <td>manufacturing</td>\n",
       "      <td>supervisor</td>\n",
       "      <td>NaN</td>\n",
       "      <td>1</td>\n",
       "      <td>unknown</td>\n",
       "      <td>1</td>\n",
       "      <td>0</td>\n",
       "      <td>0</td>\n",
       "      <td>...</td>\n",
       "      <td>0</td>\n",
       "      <td>0</td>\n",
       "      <td>6</td>\n",
       "      <td>1</td>\n",
       "      <td>0</td>\n",
       "      <td>0</td>\n",
       "      <td>0</td>\n",
       "      <td>1</td>\n",
       "      <td>0</td>\n",
       "      <td>low</td>\n",
       "    </tr>\n",
       "    <tr>\n",
       "      <th>1</th>\n",
       "      <td>384</td>\n",
       "      <td>Chicago</td>\n",
       "      <td>manufacturing</td>\n",
       "      <td>supervisor</td>\n",
       "      <td>NaN</td>\n",
       "      <td>1</td>\n",
       "      <td>unknown</td>\n",
       "      <td>1</td>\n",
       "      <td>0</td>\n",
       "      <td>0</td>\n",
       "      <td>...</td>\n",
       "      <td>0</td>\n",
       "      <td>1</td>\n",
       "      <td>6</td>\n",
       "      <td>1</td>\n",
       "      <td>0</td>\n",
       "      <td>1</td>\n",
       "      <td>1</td>\n",
       "      <td>0</td>\n",
       "      <td>1</td>\n",
       "      <td>high</td>\n",
       "    </tr>\n",
       "  </tbody>\n",
       "</table>\n",
       "<p>2 rows × 30 columns</p>\n",
       "</div>"
      ],
      "text/plain": [
       "   job_ad_id job_city   job_industry    job_type  job_fed_contractor  \\\n",
       "0        384  Chicago  manufacturing  supervisor                 NaN   \n",
       "1        384  Chicago  manufacturing  supervisor                 NaN   \n",
       "\n",
       "   job_equal_opp_employer job_ownership  job_req_any  job_req_communication  \\\n",
       "0                       1       unknown            1                      0   \n",
       "1                       1       unknown            1                      0   \n",
       "\n",
       "   job_req_education  ... honors  worked_during_school  years_experience  \\\n",
       "0                  0  ...      0                     0                 6   \n",
       "1                  0  ...      0                     1                 6   \n",
       "\n",
       "  computer_skills  special_skills volunteer military employment_holes  \\\n",
       "0               1               0         0        0                1   \n",
       "1               1               0         1        1                0   \n",
       "\n",
       "   has_email_address  resume_quality  \n",
       "0                  0             low  \n",
       "1                  1            high  \n",
       "\n",
       "[2 rows x 30 columns]"
      ]
     },
     "execution_count": 83,
     "metadata": {},
     "output_type": "execute_result"
    }
   ],
   "source": [
    "df_resume = pd.read_csv(\"data/lab/resume.csv\")\n",
    "df_resume.head(2)"
   ]
  },
  {
   "cell_type": "markdown",
   "id": "2c356421",
   "metadata": {},
   "source": [
    "##### How many observations are there in this dataset?"
   ]
  },
  {
   "cell_type": "code",
   "execution_count": 84,
   "id": "8fdef707",
   "metadata": {},
   "outputs": [],
   "source": [
    "#### Your code here"
   ]
  },
  {
   "cell_type": "markdown",
   "id": "b10abfba",
   "metadata": {},
   "source": [
    "##### What proportion of people received a callback?"
   ]
  },
  {
   "cell_type": "code",
   "execution_count": 86,
   "id": "74f0b2f2",
   "metadata": {},
   "outputs": [],
   "source": [
    "#### Your code here"
   ]
  },
  {
   "cell_type": "markdown",
   "id": "8a1ba683",
   "metadata": {},
   "source": [
    "##### How many resumes were coded as `white` and how many as `black`?"
   ]
  },
  {
   "cell_type": "code",
   "execution_count": 88,
   "id": "c1017d82",
   "metadata": {},
   "outputs": [],
   "source": [
    "#### Your code here"
   ]
  },
  {
   "cell_type": "markdown",
   "id": "03b4c447",
   "metadata": {},
   "source": [
    "##### What is the average `years_experience`, and what does the distribution look like?"
   ]
  },
  {
   "cell_type": "code",
   "execution_count": 91,
   "id": "a92d99f5",
   "metadata": {},
   "outputs": [],
   "source": [
    "#### Your code here"
   ]
  },
  {
   "cell_type": "markdown",
   "id": "cccc73b7",
   "metadata": {},
   "source": [
    "##### Let's start simple. Fit a model using `smf.logit` predicting `received_callback` from `years_experience`. "
   ]
  },
  {
   "cell_type": "code",
   "execution_count": 94,
   "id": "b92f94ff",
   "metadata": {},
   "outputs": [],
   "source": [
    "#### Your code here"
   ]
  },
  {
   "cell_type": "markdown",
   "id": "f83d1bf7",
   "metadata": {},
   "source": [
    "##### Print out the parameters using `mod.params`.  "
   ]
  },
  {
   "cell_type": "code",
   "execution_count": 96,
   "id": "66220d64",
   "metadata": {},
   "outputs": [],
   "source": [
    "#### Your code here"
   ]
  },
  {
   "cell_type": "markdown",
   "id": "7e8c7690",
   "metadata": {},
   "source": [
    "##### Write out the equation corresponding to these parameters.\n",
    "\n",
    "Remember that $Y$ is actually the **log odds**, i.e., $log(\\frac{p(y)}{1 - p(y)})$."
   ]
  },
  {
   "cell_type": "code",
   "execution_count": 99,
   "id": "24950180",
   "metadata": {},
   "outputs": [],
   "source": [
    "#### Your code here"
   ]
  },
  {
   "cell_type": "markdown",
   "id": "6ed31968",
   "metadata": {},
   "source": [
    "##### What is the predicted log-odds of someone with 2 years of experience getting a callback?"
   ]
  },
  {
   "cell_type": "code",
   "execution_count": 103,
   "id": "7a8bb85d",
   "metadata": {},
   "outputs": [],
   "source": [
    "#### Your code here"
   ]
  },
  {
   "cell_type": "markdown",
   "id": "ea141172",
   "metadata": {},
   "source": [
    "##### What is the predicted probability of someone with 2 years of experience getting a callback?\n",
    "\n",
    "Recall that log-odds (here, $LO$) can be converted to probability using the following equation:\n",
    "\n",
    "$\\Large \\frac{e^{LO}}{1 + e^{LO}}$"
   ]
  },
  {
   "cell_type": "code",
   "execution_count": 105,
   "id": "0ed6beac",
   "metadata": {},
   "outputs": [],
   "source": [
    "#### Your code here"
   ]
  },
  {
   "cell_type": "markdown",
   "id": "c7098924",
   "metadata": {},
   "source": [
    "##### Consider a (ridiculous) range of years of experience, from $1$ to $200$. Use the equations above to produce a probability of getting a callback for each value of `years_experience`. Then plot these using `sns.lineplot`. "
   ]
  },
  {
   "cell_type": "code",
   "execution_count": 115,
   "id": "2bd83dff",
   "metadata": {},
   "outputs": [],
   "source": [
    "#### Your code here"
   ]
  },
  {
   "cell_type": "markdown",
   "id": "05113cdb",
   "metadata": {},
   "source": [
    "##### Now add `race` as a covariate to the model predicting `received_callback` (along with a covariate of `years_experience`). "
   ]
  },
  {
   "cell_type": "code",
   "execution_count": 94,
   "id": "e0ae95eb",
   "metadata": {},
   "outputs": [],
   "source": [
    "#### Your code here"
   ]
  },
  {
   "cell_type": "markdown",
   "id": "98e11045",
   "metadata": {},
   "source": [
    "##### Compare the AIC of this more complex model to the model with just `years_experience`. "
   ]
  },
  {
   "cell_type": "code",
   "execution_count": 94,
   "id": "3fbcadae",
   "metadata": {},
   "outputs": [],
   "source": [
    "#### Your code here"
   ]
  },
  {
   "cell_type": "markdown",
   "id": "6eb7e204",
   "metadata": {},
   "source": [
    "##### Which AIC is bigger? What does that mean about the more complex model? Is it better? Why or why not?"
   ]
  },
  {
   "cell_type": "code",
   "execution_count": 94,
   "id": "775c66fc",
   "metadata": {},
   "outputs": [],
   "source": [
    "#### Your code here"
   ]
  },
  {
   "cell_type": "markdown",
   "id": "b23ff27f",
   "metadata": {},
   "source": [
    "##### Print out the parameters of the more complex model using `params`.  Are these significant?"
   ]
  },
  {
   "cell_type": "code",
   "execution_count": 139,
   "id": "6cfae7bb",
   "metadata": {},
   "outputs": [],
   "source": [
    "#### Your code here"
   ]
  },
  {
   "cell_type": "markdown",
   "id": "17a33043",
   "metadata": {},
   "source": [
    "##### Write out the equation corresponding to these parameters.\n",
    "\n",
    "Remember that $Y$ is actually the **log odds**, i.e., $log(\\frac{p(y)}{1 - p(y)})$."
   ]
  },
  {
   "cell_type": "code",
   "execution_count": 141,
   "id": "603386cc",
   "metadata": {},
   "outputs": [],
   "source": [
    "#### Your code here"
   ]
  },
  {
   "cell_type": "markdown",
   "id": "7d9323d4",
   "metadata": {},
   "source": [
    "##### How should we interpret the $\\beta$ parameter for `race`? What does this mean?\n",
    "\n",
    "Notes:\n",
    "\n",
    "- Feel free to answer this qualitatively (we'll be more precise in a moment).\n",
    "- This answer should include a reference to how the levels of `race` are coded.  "
   ]
  },
  {
   "cell_type": "code",
   "execution_count": 142,
   "id": "2298a89e",
   "metadata": {},
   "outputs": [],
   "source": [
    "#### Your response here"
   ]
  },
  {
   "cell_type": "markdown",
   "id": "eba5615a",
   "metadata": {},
   "source": [
    "##### What is the predicted log-odds of a Black applicant with 2 years of experience getting a callback?"
   ]
  },
  {
   "cell_type": "code",
   "execution_count": 143,
   "id": "7bc01991",
   "metadata": {},
   "outputs": [],
   "source": [
    "#### Your code here"
   ]
  },
  {
   "cell_type": "markdown",
   "id": "56f91219",
   "metadata": {},
   "source": [
    "##### What is the predicted probability of a Black applicant with 2 years of experience getting a callback?\n",
    "\n",
    "Recall that log-odds (here, $LO$) can be converted to probability using the following equation:\n",
    "\n",
    "$\\Large \\frac{e^{LO}}{1 + e^{LO}}$"
   ]
  },
  {
   "cell_type": "code",
   "execution_count": 145,
   "id": "b5455dff",
   "metadata": {},
   "outputs": [],
   "source": [
    "#### Your code here"
   ]
  },
  {
   "cell_type": "markdown",
   "id": "a0a4e068",
   "metadata": {},
   "source": [
    "##### What is the predicted log-odds of a White applicant with 2 years of experience getting a callback?"
   ]
  },
  {
   "cell_type": "code",
   "execution_count": 147,
   "id": "b0a0340c",
   "metadata": {},
   "outputs": [],
   "source": [
    "#### Your code here"
   ]
  },
  {
   "cell_type": "markdown",
   "id": "221cf3bc",
   "metadata": {},
   "source": [
    "##### What is the predicted probability of a White applicant with 2 years of experience getting a callback?\n",
    "\n",
    "Recall that log-odds (here, $LO$) can be converted to probability using the following equation:\n",
    "\n",
    "$\\Large \\frac{e^{LO}}{1 + e^{LO}}$"
   ]
  },
  {
   "cell_type": "code",
   "execution_count": 149,
   "id": "22478e58",
   "metadata": {},
   "outputs": [],
   "source": [
    "#### Your code here"
   ]
  },
  {
   "cell_type": "markdown",
   "id": "a7394599",
   "metadata": {},
   "source": [
    "##### Once again, consider a range of `years_experience` from $1$ to $200$. This time, use the parameters from the updated model to calculate `p(callback)` for this range. Do this twice––first assuming the applicants are Black, then assuming they are White."
   ]
  },
  {
   "cell_type": "code",
   "execution_count": 151,
   "id": "91b6b3c0",
   "metadata": {},
   "outputs": [],
   "source": [
    "#### Your code here"
   ]
  },
  {
   "cell_type": "markdown",
   "id": "347ff7e6",
   "metadata": {},
   "source": [
    "##### Based on these results, what should we conclude about racial discrimination in the application process?"
   ]
  },
  {
   "cell_type": "code",
   "execution_count": 131,
   "id": "50132198",
   "metadata": {},
   "outputs": [],
   "source": [
    "#### Your code here"
   ]
  },
  {
   "cell_type": "markdown",
   "id": "9171807a",
   "metadata": {},
   "source": [
    "# Conclusion\n",
    "\n",
    "Congratulations! You've now:\n",
    "\n",
    "- Built and interpreted multiple linear regression models.  \n",
    "- Built and interpreted multiple logistic regression models.  \n",
    "- Replicated some of the key analyses in a seminal paper looking at discrimination in the job market.  "
   ]
  }
 ],
 "metadata": {
  "kernelspec": {
   "display_name": "Python 3 (ipykernel)",
   "language": "python",
   "name": "python3"
  },
  "language_info": {
   "codemirror_mode": {
    "name": "ipython",
    "version": 3
   },
   "file_extension": ".py",
   "mimetype": "text/x-python",
   "name": "python",
   "nbconvert_exporter": "python",
   "pygments_lexer": "ipython3",
   "version": "3.9.12"
  }
 },
 "nbformat": 4,
 "nbformat_minor": 5
}
