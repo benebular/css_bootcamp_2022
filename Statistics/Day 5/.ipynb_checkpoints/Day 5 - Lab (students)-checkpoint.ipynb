{
 "cells": [
  {
   "cell_type": "markdown",
   "id": "dbde9975",
   "metadata": {},
   "source": [
    "# CSS Bootcamp\n",
    "\n",
    "## Day 5 (Mixed models): Lab\n",
    "\n",
    "This lab is intended to accompany **Day 5** of the week on **Statistics**, which focuses on:\n",
    "\n",
    "- Implementing and interpreting **logistic regression** models in Python.  \n",
    "- Common **pitfalls** with regression models.  \n",
    "- Conceptual foundations of **mixed/multilevel models**.  \n",
    "- **Implementing** mixed/multilevel models in Python.\n",
    "\n",
    "This lab has some \"free response\" questions, in which you are asked to describe or make some inference from a graph. \n",
    "\n",
    "It also has questions requiring you to program answers in Python. In some cases, this will use built-in functions we've discussed in class (either today, or previous weeks). In others, there'll be a built-in function that we *haven't* discussed, which you will have to look up in the documentation. And in other cases, you'll be asked to write an original function.\n",
    "\n",
    "Please reach out for help if anything is unclear!"
   ]
  },
  {
   "cell_type": "markdown",
   "id": "5f6ab139",
   "metadata": {},
   "source": [
    "#### Key imports\n",
    "\n",
    "Here, we import some of the libraries that will be critical for the lab."
   ]
  },
  {
   "cell_type": "code",
   "execution_count": 1,
   "id": "3971aaee",
   "metadata": {},
   "outputs": [
    {
     "name": "stderr",
     "output_type": "stream",
     "text": [
      "/opt/anaconda3/lib/python3.9/site-packages/scipy/__init__.py:146: UserWarning: A NumPy version >=1.16.5 and <1.23.0 is required for this version of SciPy (detected version 1.23.1\n",
      "  warnings.warn(f\"A NumPy version >={np_minversion} and <{np_maxversion}\"\n"
     ]
    }
   ],
   "source": [
    "import matplotlib.pyplot as plt\n",
    "import math\n",
    "import numpy as np\n",
    "import seaborn as sns\n",
    "import scipy.stats as ss\n",
    "import statsmodels.formula.api as smf\n",
    "import pandas as pd\n",
    "\n",
    "%matplotlib inline\n",
    "%config InlineBackend.figure_format = 'retina'  # makes figs nicer!"
   ]
  },
  {
   "cell_type": "markdown",
   "id": "aeee2324",
   "metadata": {},
   "source": [
    "# Part 1: Logistic regression review"
   ]
  },
  {
   "cell_type": "markdown",
   "id": "36b69ad2",
   "metadata": {},
   "source": [
    "## Dataset: chocolate or not?\n",
    "\n",
    "The [dataset we'll be using was taken from Kaggle](https://www.kaggle.com/code/venkatchidambaram/chocolate-or-not/data), and contains information about a number of different candies, including:\n",
    "\n",
    "- `chocolate`: whether it's a chocolate candy or not.  \n",
    "- `caramel`: whether it has caramel or not.  \n",
    "- `hard`:  whether it's a hard candy\n",
    "- `bar`:  whether it's a candy bar\n",
    "\n",
    "And many more. See the [538 description](https://fivethirtyeight-r.netlify.app/reference/candy_rankings.html) for more details.\n",
    "\n",
    "In this section, we'll be focusing on predicting whether a given candy is **chocolate** or **not**."
   ]
  },
  {
   "cell_type": "markdown",
   "id": "cdbdbf0e",
   "metadata": {},
   "source": [
    "#### Load data"
   ]
  },
  {
   "cell_type": "code",
   "execution_count": 2,
   "id": "0d921aa1",
   "metadata": {},
   "outputs": [
    {
     "data": {
      "text/html": [
       "<div>\n",
       "<style scoped>\n",
       "    .dataframe tbody tr th:only-of-type {\n",
       "        vertical-align: middle;\n",
       "    }\n",
       "\n",
       "    .dataframe tbody tr th {\n",
       "        vertical-align: top;\n",
       "    }\n",
       "\n",
       "    .dataframe thead th {\n",
       "        text-align: right;\n",
       "    }\n",
       "</style>\n",
       "<table border=\"1\" class=\"dataframe\">\n",
       "  <thead>\n",
       "    <tr style=\"text-align: right;\">\n",
       "      <th></th>\n",
       "      <th>competitorname</th>\n",
       "      <th>chocolate</th>\n",
       "      <th>fruity</th>\n",
       "      <th>caramel</th>\n",
       "      <th>peanutyalmondy</th>\n",
       "      <th>nougat</th>\n",
       "      <th>crispedricewafer</th>\n",
       "      <th>hard</th>\n",
       "      <th>bar</th>\n",
       "      <th>pluribus</th>\n",
       "      <th>sugarpercent</th>\n",
       "      <th>pricepercent</th>\n",
       "      <th>winpercent</th>\n",
       "    </tr>\n",
       "  </thead>\n",
       "  <tbody>\n",
       "    <tr>\n",
       "      <th>0</th>\n",
       "      <td>100 Grand</td>\n",
       "      <td>1</td>\n",
       "      <td>0</td>\n",
       "      <td>1</td>\n",
       "      <td>0</td>\n",
       "      <td>0</td>\n",
       "      <td>1</td>\n",
       "      <td>0</td>\n",
       "      <td>1</td>\n",
       "      <td>0</td>\n",
       "      <td>0.732</td>\n",
       "      <td>0.860</td>\n",
       "      <td>66.971725</td>\n",
       "    </tr>\n",
       "    <tr>\n",
       "      <th>1</th>\n",
       "      <td>3 Musketeers</td>\n",
       "      <td>1</td>\n",
       "      <td>0</td>\n",
       "      <td>0</td>\n",
       "      <td>0</td>\n",
       "      <td>1</td>\n",
       "      <td>0</td>\n",
       "      <td>0</td>\n",
       "      <td>1</td>\n",
       "      <td>0</td>\n",
       "      <td>0.604</td>\n",
       "      <td>0.511</td>\n",
       "      <td>67.602936</td>\n",
       "    </tr>\n",
       "    <tr>\n",
       "      <th>2</th>\n",
       "      <td>One dime</td>\n",
       "      <td>0</td>\n",
       "      <td>0</td>\n",
       "      <td>0</td>\n",
       "      <td>0</td>\n",
       "      <td>0</td>\n",
       "      <td>0</td>\n",
       "      <td>0</td>\n",
       "      <td>0</td>\n",
       "      <td>0</td>\n",
       "      <td>0.011</td>\n",
       "      <td>0.116</td>\n",
       "      <td>32.261086</td>\n",
       "    </tr>\n",
       "    <tr>\n",
       "      <th>3</th>\n",
       "      <td>One quarter</td>\n",
       "      <td>0</td>\n",
       "      <td>0</td>\n",
       "      <td>0</td>\n",
       "      <td>0</td>\n",
       "      <td>0</td>\n",
       "      <td>0</td>\n",
       "      <td>0</td>\n",
       "      <td>0</td>\n",
       "      <td>0</td>\n",
       "      <td>0.011</td>\n",
       "      <td>0.511</td>\n",
       "      <td>46.116505</td>\n",
       "    </tr>\n",
       "    <tr>\n",
       "      <th>4</th>\n",
       "      <td>Air Heads</td>\n",
       "      <td>0</td>\n",
       "      <td>1</td>\n",
       "      <td>0</td>\n",
       "      <td>0</td>\n",
       "      <td>0</td>\n",
       "      <td>0</td>\n",
       "      <td>0</td>\n",
       "      <td>0</td>\n",
       "      <td>0</td>\n",
       "      <td>0.906</td>\n",
       "      <td>0.511</td>\n",
       "      <td>52.341465</td>\n",
       "    </tr>\n",
       "  </tbody>\n",
       "</table>\n",
       "</div>"
      ],
      "text/plain": [
       "  competitorname  chocolate  fruity  caramel  peanutyalmondy  nougat  \\\n",
       "0      100 Grand          1       0        1               0       0   \n",
       "1   3 Musketeers          1       0        0               0       1   \n",
       "2       One dime          0       0        0               0       0   \n",
       "3    One quarter          0       0        0               0       0   \n",
       "4      Air Heads          0       1        0               0       0   \n",
       "\n",
       "   crispedricewafer  hard  bar  pluribus  sugarpercent  pricepercent  \\\n",
       "0                 1     0    1         0         0.732         0.860   \n",
       "1                 0     0    1         0         0.604         0.511   \n",
       "2                 0     0    0         0         0.011         0.116   \n",
       "3                 0     0    0         0         0.011         0.511   \n",
       "4                 0     0    0         0         0.906         0.511   \n",
       "\n",
       "   winpercent  \n",
       "0   66.971725  \n",
       "1   67.602936  \n",
       "2   32.261086  \n",
       "3   46.116505  \n",
       "4   52.341465  "
      ]
     },
     "execution_count": 2,
     "metadata": {},
     "output_type": "execute_result"
    }
   ],
   "source": [
    "df_chocolate = pd.read_csv(\"data/lab/chocolate.csv\")\n",
    "df_chocolate.head(5)"
   ]
  },
  {
   "cell_type": "markdown",
   "id": "f7141b6e",
   "metadata": {},
   "source": [
    "##### Use `seaborn` to make a `barplot` showing the proportion of chocolate candies as a function of `caramel`."
   ]
  },
  {
   "cell_type": "code",
   "execution_count": 3,
   "id": "978bda6a",
   "metadata": {},
   "outputs": [],
   "source": [
    "#### Your code here"
   ]
  },
  {
   "cell_type": "markdown",
   "id": "05a421db",
   "metadata": {},
   "source": [
    "##### Use `seaborn` to make a `barplot` showing the proportion of chocolate candy bars as a function of `bar`."
   ]
  },
  {
   "cell_type": "code",
   "execution_count": 5,
   "id": "5179df92",
   "metadata": {},
   "outputs": [],
   "source": [
    "#### Your code here"
   ]
  },
  {
   "cell_type": "markdown",
   "id": "c0613abd",
   "metadata": {},
   "source": [
    "##### Use `seaborn` to make a `barplot` showing the proportion of chocolate candy bars as a function of `hard`."
   ]
  },
  {
   "cell_type": "code",
   "execution_count": 7,
   "id": "00badc09",
   "metadata": {},
   "outputs": [],
   "source": [
    "#### Your code here"
   ]
  },
  {
   "cell_type": "markdown",
   "id": "14786054",
   "metadata": {},
   "source": [
    "##### Now build a logistic regression model using `statsmodels`, predicting `chocolate` from `hard`."
   ]
  },
  {
   "cell_type": "code",
   "execution_count": 9,
   "id": "2813b63b",
   "metadata": {},
   "outputs": [],
   "source": [
    "#### Your code here"
   ]
  },
  {
   "cell_type": "markdown",
   "id": "23ff1c5f",
   "metadata": {},
   "source": [
    "##### Write out this model as a linear equation."
   ]
  },
  {
   "cell_type": "code",
   "execution_count": 11,
   "id": "d67f2821",
   "metadata": {},
   "outputs": [],
   "source": [
    "#### Your code here"
   ]
  },
  {
   "cell_type": "markdown",
   "id": "8474dd3e",
   "metadata": {},
   "source": [
    "##### What is the predicted log-odds of being a chocolate candy for candies that *aren't* hard?"
   ]
  },
  {
   "cell_type": "code",
   "execution_count": 12,
   "id": "422d0720",
   "metadata": {},
   "outputs": [],
   "source": [
    "#### Your code here"
   ]
  },
  {
   "cell_type": "markdown",
   "id": "f44a821f",
   "metadata": {},
   "source": [
    "##### What is the predicted probability of being a chocolate candy for candies that *aren't* hard?"
   ]
  },
  {
   "cell_type": "code",
   "execution_count": 14,
   "id": "e803a0fb",
   "metadata": {},
   "outputs": [],
   "source": [
    "#### Your code here"
   ]
  },
  {
   "cell_type": "markdown",
   "id": "c8e26f6d",
   "metadata": {},
   "source": [
    "##### What is the predicted probability of being a chocolate candy for candies that are hard?"
   ]
  },
  {
   "cell_type": "code",
   "execution_count": 16,
   "id": "f57261b8",
   "metadata": {},
   "outputs": [],
   "source": [
    "#### Your code here"
   ]
  },
  {
   "cell_type": "markdown",
   "id": "4c876dad",
   "metadata": {},
   "source": [
    "##### Now build a series of logistic regression models (described below). For each model, extract the AIC. Then compare and plot these AIC values in a barplot.\n",
    "\n",
    "Models:\n",
    "\n",
    "- `hard` only\n",
    "- `bar` only\n",
    "- `caramel` only\n",
    "- `hard + bar + caramel`"
   ]
  },
  {
   "cell_type": "code",
   "execution_count": 18,
   "id": "2cce052c",
   "metadata": {},
   "outputs": [],
   "source": [
    "#### Your code here"
   ]
  },
  {
   "cell_type": "markdown",
   "id": "3068ab3f",
   "metadata": {},
   "source": [
    "##### Based on these results, what would you say about the relative predictive power of each parameter (`hard`, `bar`, and `caramel`)? Do some add more information than others? If so, which ones?"
   ]
  },
  {
   "cell_type": "code",
   "execution_count": 20,
   "id": "9fbb298a",
   "metadata": {},
   "outputs": [],
   "source": [
    "#### Your response here"
   ]
  },
  {
   "cell_type": "markdown",
   "id": "2be9969f",
   "metadata": {},
   "source": [
    "**Answer**: It seems that `bar` is the most informative parameter. The AIC is almost as low as the model with *all* parameters, despite only having `bar`. This is not true of `hard` and `caramel`."
   ]
  },
  {
   "cell_type": "markdown",
   "id": "3dd6c01b",
   "metadata": {},
   "source": [
    "##### (Optional / take-home): Explore some of the other variables in the dataframe. Which ones are the most predictive?"
   ]
  },
  {
   "cell_type": "code",
   "execution_count": 21,
   "id": "cfb9a53c",
   "metadata": {},
   "outputs": [],
   "source": [
    "#### Your response here"
   ]
  },
  {
   "cell_type": "markdown",
   "id": "c6dddd3e",
   "metadata": {},
   "source": [
    "# Part 2: Mixed effects models"
   ]
  },
  {
   "cell_type": "markdown",
   "id": "d2b31829",
   "metadata": {},
   "source": [
    "## Dataset: Experimental data\n",
    "\n",
    "We'll be considering a dataset with data that I collected for my PhD dissertation. This is an extension of the RAW-C project mentioned earlier. \n",
    "\n",
    "Here, instead of rating the **relatedness** of different word usages, subjects responded in a sentence plausibility task. We measured their reaction time (RT) and accuracy. In this analysis, we'll ask whether differences in `log(RT)` correspond to the key **manipulation** of `same` vs. `different` sense––while controlling for subject-wide differences."
   ]
  },
  {
   "cell_type": "markdown",
   "id": "10bc5dd9",
   "metadata": {},
   "source": [
    "#### Load data"
   ]
  },
  {
   "cell_type": "code",
   "execution_count": 56,
   "id": "3752e1f8",
   "metadata": {},
   "outputs": [
    {
     "data": {
      "text/html": [
       "<div>\n",
       "<style scoped>\n",
       "    .dataframe tbody tr th:only-of-type {\n",
       "        vertical-align: middle;\n",
       "    }\n",
       "\n",
       "    .dataframe tbody tr th {\n",
       "        vertical-align: top;\n",
       "    }\n",
       "\n",
       "    .dataframe thead th {\n",
       "        text-align: right;\n",
       "    }\n",
       "</style>\n",
       "<table border=\"1\" class=\"dataframe\">\n",
       "  <thead>\n",
       "    <tr style=\"text-align: right;\">\n",
       "      <th></th>\n",
       "      <th>distance_bert</th>\n",
       "      <th>same</th>\n",
       "      <th>log_rt</th>\n",
       "      <th>subject</th>\n",
       "    </tr>\n",
       "  </thead>\n",
       "  <tbody>\n",
       "    <tr>\n",
       "      <th>0</th>\n",
       "      <td>0.226773</td>\n",
       "      <td>False</td>\n",
       "      <td>7.272398</td>\n",
       "      <td>u6tgegpyj0</td>\n",
       "    </tr>\n",
       "    <tr>\n",
       "      <th>1</th>\n",
       "      <td>0.273911</td>\n",
       "      <td>False</td>\n",
       "      <td>7.355002</td>\n",
       "      <td>1vz3fdcvtw</td>\n",
       "    </tr>\n",
       "    <tr>\n",
       "      <th>2</th>\n",
       "      <td>0.226773</td>\n",
       "      <td>False</td>\n",
       "      <td>7.388328</td>\n",
       "      <td>mwacu22792</td>\n",
       "    </tr>\n",
       "    <tr>\n",
       "      <th>3</th>\n",
       "      <td>0.122557</td>\n",
       "      <td>True</td>\n",
       "      <td>7.027315</td>\n",
       "      <td>v75fv9pagb</td>\n",
       "    </tr>\n",
       "    <tr>\n",
       "      <th>4</th>\n",
       "      <td>0.122557</td>\n",
       "      <td>True</td>\n",
       "      <td>7.186144</td>\n",
       "      <td>9fkbaxk3zu</td>\n",
       "    </tr>\n",
       "  </tbody>\n",
       "</table>\n",
       "</div>"
      ],
      "text/plain": [
       "   distance_bert   same    log_rt     subject\n",
       "0       0.226773  False  7.272398  u6tgegpyj0\n",
       "1       0.273911  False  7.355002  1vz3fdcvtw\n",
       "2       0.226773  False  7.388328  mwacu22792\n",
       "3       0.122557   True  7.027315  v75fv9pagb\n",
       "4       0.122557   True  7.186144  9fkbaxk3zu"
      ]
     },
     "execution_count": 56,
     "metadata": {},
     "output_type": "execute_result"
    }
   ],
   "source": [
    "df_polysemy = pd.read_csv(\"data/lab/rt.csv\")\n",
    "df_polysemy.head(5)"
   ]
  },
  {
   "cell_type": "markdown",
   "id": "c860e311",
   "metadata": {},
   "source": [
    "##### First, plot `log_rt` as a function of `same`. "
   ]
  },
  {
   "cell_type": "code",
   "execution_count": 57,
   "id": "328c3c2d",
   "metadata": {},
   "outputs": [],
   "source": [
    "#### Your code here"
   ]
  },
  {
   "cell_type": "markdown",
   "id": "90e18d9d",
   "metadata": {},
   "source": [
    "##### Now, build a ordinary regression model predicting `log_rt` from `same`."
   ]
  },
  {
   "cell_type": "code",
   "execution_count": 59,
   "id": "bdd5024d",
   "metadata": {},
   "outputs": [],
   "source": [
    "#### Your code here"
   ]
  },
  {
   "cell_type": "markdown",
   "id": "4a4781f5",
   "metadata": {},
   "source": [
    "##### Inspect the parameters. How would you interpret the coefficient for `same`?"
   ]
  },
  {
   "cell_type": "code",
   "execution_count": 61,
   "id": "9ed81cae",
   "metadata": {},
   "outputs": [],
   "source": [
    "#### Your code here"
   ]
  },
  {
   "cell_type": "markdown",
   "id": "ab5e7e0d",
   "metadata": {},
   "source": [
    "##### Are there any sources of non-independence in this dataset? If so, what are they?"
   ]
  },
  {
   "cell_type": "code",
   "execution_count": 46,
   "id": "6ca7de1b",
   "metadata": {},
   "outputs": [],
   "source": [
    "#### Your code here"
   ]
  },
  {
   "cell_type": "markdown",
   "id": "0f7497b6",
   "metadata": {},
   "source": [
    "##### Build a `mixedlm` model accounting for `subject`-level non-independence (i.e., random intercepts for subjects)."
   ]
  },
  {
   "cell_type": "code",
   "execution_count": 68,
   "id": "fe12d4b9",
   "metadata": {},
   "outputs": [],
   "source": [
    "#### Your code here"
   ]
  },
  {
   "cell_type": "markdown",
   "id": "6ede4504",
   "metadata": {},
   "source": [
    "##### Now a `mixedlm` model with only `subject`-level random intercepts, omitting the fixed effect of `same`."
   ]
  },
  {
   "cell_type": "code",
   "execution_count": 68,
   "id": "5c7d6d82",
   "metadata": {},
   "outputs": [],
   "source": [
    "#### Your code here"
   ]
  },
  {
   "cell_type": "markdown",
   "id": "3c59984b",
   "metadata": {},
   "source": [
    "##### How many more parameters does the full model have than the reduced model?"
   ]
  },
  {
   "cell_type": "code",
   "execution_count": 73,
   "id": "a5ac3c47",
   "metadata": {},
   "outputs": [],
   "source": [
    "#### Your code here"
   ]
  },
  {
   "cell_type": "markdown",
   "id": "66ac43de",
   "metadata": {},
   "source": [
    "##### Using the method discussed in class, conduct a LRT comparing the full to reduced model."
   ]
  },
  {
   "cell_type": "code",
   "execution_count": 74,
   "id": "35f60f1f",
   "metadata": {},
   "outputs": [],
   "source": [
    "#### Your code here"
   ]
  },
  {
   "cell_type": "markdown",
   "id": "addf0be2",
   "metadata": {},
   "source": [
    "##### Based on this result, does the fixed effect of `same` improve the model?"
   ]
  },
  {
   "cell_type": "code",
   "execution_count": 73,
   "id": "b5eab5d5",
   "metadata": {},
   "outputs": [],
   "source": [
    "#### Your code here"
   ]
  },
  {
   "cell_type": "markdown",
   "id": "96e87f12",
   "metadata": {},
   "source": [
    "# Conclusion\n",
    "\n",
    "Congratulations, you've now gotten some more practice building **logistic regression** models, *and* building mixed models in Python!"
   ]
  }
 ],
 "metadata": {
  "kernelspec": {
   "display_name": "Python 3 (ipykernel)",
   "language": "python",
   "name": "python3"
  },
  "language_info": {
   "codemirror_mode": {
    "name": "ipython",
    "version": 3
   },
   "file_extension": ".py",
   "mimetype": "text/x-python",
   "name": "python",
   "nbconvert_exporter": "python",
   "pygments_lexer": "ipython3",
   "version": "3.9.12"
  }
 },
 "nbformat": 4,
 "nbformat_minor": 5
}
