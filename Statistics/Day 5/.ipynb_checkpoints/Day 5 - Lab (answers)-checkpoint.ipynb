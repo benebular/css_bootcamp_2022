{
 "cells": [
  {
   "cell_type": "markdown",
   "id": "dbde9975",
   "metadata": {},
   "source": [
    "# CSS Bootcamp\n",
    "\n",
    "## Day 5 (Mixed models): Lab\n",
    "\n",
    "This lab is intended to accompany **Day 5** of the week on **Statistics**, which focuses on:\n",
    "\n",
    "- Implementing and interpreting **logistic regression** models in Python.  \n",
    "- Common **pitfalls** with regression models.  \n",
    "- Conceptual foundations of **mixed/multilevel models**.  \n",
    "- **Implementing** mixed/multilevel models in Python.\n",
    "\n",
    "This lab has some \"free response\" questions, in which you are asked to describe or make some inference from a graph. \n",
    "\n",
    "It also has questions requiring you to program answers in Python. In some cases, this will use built-in functions we've discussed in class (either today, or previous weeks). In others, there'll be a built-in function that we *haven't* discussed, which you will have to look up in the documentation. And in other cases, you'll be asked to write an original function.\n",
    "\n",
    "Please reach out for help if anything is unclear!"
   ]
  },
  {
   "cell_type": "markdown",
   "id": "5f6ab139",
   "metadata": {},
   "source": [
    "#### Key imports\n",
    "\n",
    "Here, we import some of the libraries that will be critical for the lab."
   ]
  },
  {
   "cell_type": "code",
   "execution_count": 1,
   "id": "3971aaee",
   "metadata": {},
   "outputs": [
    {
     "name": "stderr",
     "output_type": "stream",
     "text": [
      "/opt/anaconda3/lib/python3.9/site-packages/scipy/__init__.py:146: UserWarning: A NumPy version >=1.16.5 and <1.23.0 is required for this version of SciPy (detected version 1.23.1\n",
      "  warnings.warn(f\"A NumPy version >={np_minversion} and <{np_maxversion}\"\n"
     ]
    }
   ],
   "source": [
    "import matplotlib.pyplot as plt\n",
    "import math\n",
    "import numpy as np\n",
    "import seaborn as sns\n",
    "import scipy.stats as ss\n",
    "import statsmodels.formula.api as smf\n",
    "import pandas as pd\n",
    "\n",
    "%matplotlib inline\n",
    "%config InlineBackend.figure_format = 'retina'  # makes figs nicer!"
   ]
  },
  {
   "cell_type": "markdown",
   "id": "aeee2324",
   "metadata": {},
   "source": [
    "# Part 1: Logistic regression review"
   ]
  },
  {
   "cell_type": "markdown",
   "id": "36b69ad2",
   "metadata": {},
   "source": [
    "## Dataset: chocolate or not?\n",
    "\n",
    "The [dataset we'll be using was taken from Kaggle](https://www.kaggle.com/code/venkatchidambaram/chocolate-or-not/data), and contains information about a number of different candies, including:\n",
    "\n",
    "- `chocolate`: whether it's a chocolate candy or not.  \n",
    "- `caramel`: whether it has caramel or not.  \n",
    "- `hard`:  whether it's a hard candy\n",
    "- `bar`:  whether it's a candy bar\n",
    "\n",
    "And many more. See the [538 description](https://fivethirtyeight-r.netlify.app/reference/candy_rankings.html) for more details.\n",
    "\n",
    "In this section, we'll be focusing on predicting whether a given candy is **chocolate** or **not**."
   ]
  },
  {
   "cell_type": "markdown",
   "id": "cdbdbf0e",
   "metadata": {},
   "source": [
    "#### Load data"
   ]
  },
  {
   "cell_type": "code",
   "execution_count": 2,
   "id": "0d921aa1",
   "metadata": {},
   "outputs": [
    {
     "data": {
      "text/html": [
       "<div>\n",
       "<style scoped>\n",
       "    .dataframe tbody tr th:only-of-type {\n",
       "        vertical-align: middle;\n",
       "    }\n",
       "\n",
       "    .dataframe tbody tr th {\n",
       "        vertical-align: top;\n",
       "    }\n",
       "\n",
       "    .dataframe thead th {\n",
       "        text-align: right;\n",
       "    }\n",
       "</style>\n",
       "<table border=\"1\" class=\"dataframe\">\n",
       "  <thead>\n",
       "    <tr style=\"text-align: right;\">\n",
       "      <th></th>\n",
       "      <th>competitorname</th>\n",
       "      <th>chocolate</th>\n",
       "      <th>fruity</th>\n",
       "      <th>caramel</th>\n",
       "      <th>peanutyalmondy</th>\n",
       "      <th>nougat</th>\n",
       "      <th>crispedricewafer</th>\n",
       "      <th>hard</th>\n",
       "      <th>bar</th>\n",
       "      <th>pluribus</th>\n",
       "      <th>sugarpercent</th>\n",
       "      <th>pricepercent</th>\n",
       "      <th>winpercent</th>\n",
       "    </tr>\n",
       "  </thead>\n",
       "  <tbody>\n",
       "    <tr>\n",
       "      <th>0</th>\n",
       "      <td>100 Grand</td>\n",
       "      <td>1</td>\n",
       "      <td>0</td>\n",
       "      <td>1</td>\n",
       "      <td>0</td>\n",
       "      <td>0</td>\n",
       "      <td>1</td>\n",
       "      <td>0</td>\n",
       "      <td>1</td>\n",
       "      <td>0</td>\n",
       "      <td>0.732</td>\n",
       "      <td>0.860</td>\n",
       "      <td>66.971725</td>\n",
       "    </tr>\n",
       "    <tr>\n",
       "      <th>1</th>\n",
       "      <td>3 Musketeers</td>\n",
       "      <td>1</td>\n",
       "      <td>0</td>\n",
       "      <td>0</td>\n",
       "      <td>0</td>\n",
       "      <td>1</td>\n",
       "      <td>0</td>\n",
       "      <td>0</td>\n",
       "      <td>1</td>\n",
       "      <td>0</td>\n",
       "      <td>0.604</td>\n",
       "      <td>0.511</td>\n",
       "      <td>67.602936</td>\n",
       "    </tr>\n",
       "    <tr>\n",
       "      <th>2</th>\n",
       "      <td>One dime</td>\n",
       "      <td>0</td>\n",
       "      <td>0</td>\n",
       "      <td>0</td>\n",
       "      <td>0</td>\n",
       "      <td>0</td>\n",
       "      <td>0</td>\n",
       "      <td>0</td>\n",
       "      <td>0</td>\n",
       "      <td>0</td>\n",
       "      <td>0.011</td>\n",
       "      <td>0.116</td>\n",
       "      <td>32.261086</td>\n",
       "    </tr>\n",
       "    <tr>\n",
       "      <th>3</th>\n",
       "      <td>One quarter</td>\n",
       "      <td>0</td>\n",
       "      <td>0</td>\n",
       "      <td>0</td>\n",
       "      <td>0</td>\n",
       "      <td>0</td>\n",
       "      <td>0</td>\n",
       "      <td>0</td>\n",
       "      <td>0</td>\n",
       "      <td>0</td>\n",
       "      <td>0.011</td>\n",
       "      <td>0.511</td>\n",
       "      <td>46.116505</td>\n",
       "    </tr>\n",
       "    <tr>\n",
       "      <th>4</th>\n",
       "      <td>Air Heads</td>\n",
       "      <td>0</td>\n",
       "      <td>1</td>\n",
       "      <td>0</td>\n",
       "      <td>0</td>\n",
       "      <td>0</td>\n",
       "      <td>0</td>\n",
       "      <td>0</td>\n",
       "      <td>0</td>\n",
       "      <td>0</td>\n",
       "      <td>0.906</td>\n",
       "      <td>0.511</td>\n",
       "      <td>52.341465</td>\n",
       "    </tr>\n",
       "  </tbody>\n",
       "</table>\n",
       "</div>"
      ],
      "text/plain": [
       "  competitorname  chocolate  fruity  caramel  peanutyalmondy  nougat  \\\n",
       "0      100 Grand          1       0        1               0       0   \n",
       "1   3 Musketeers          1       0        0               0       1   \n",
       "2       One dime          0       0        0               0       0   \n",
       "3    One quarter          0       0        0               0       0   \n",
       "4      Air Heads          0       1        0               0       0   \n",
       "\n",
       "   crispedricewafer  hard  bar  pluribus  sugarpercent  pricepercent  \\\n",
       "0                 1     0    1         0         0.732         0.860   \n",
       "1                 0     0    1         0         0.604         0.511   \n",
       "2                 0     0    0         0         0.011         0.116   \n",
       "3                 0     0    0         0         0.011         0.511   \n",
       "4                 0     0    0         0         0.906         0.511   \n",
       "\n",
       "   winpercent  \n",
       "0   66.971725  \n",
       "1   67.602936  \n",
       "2   32.261086  \n",
       "3   46.116505  \n",
       "4   52.341465  "
      ]
     },
     "execution_count": 2,
     "metadata": {},
     "output_type": "execute_result"
    }
   ],
   "source": [
    "df_chocolate = pd.read_csv(\"data/lab/chocolate.csv\")\n",
    "df_chocolate.head(5)"
   ]
  },
  {
   "cell_type": "markdown",
   "id": "f7141b6e",
   "metadata": {},
   "source": [
    "##### Use `seaborn` to make a `barplot` showing the proportion of chocolate candies as a function of `caramel`."
   ]
  },
  {
   "cell_type": "code",
   "execution_count": 3,
   "id": "978bda6a",
   "metadata": {},
   "outputs": [],
   "source": [
    "#### Your code here"
   ]
  },
  {
   "cell_type": "code",
   "execution_count": 4,
   "id": "3e9c2bb3",
   "metadata": {},
   "outputs": [
    {
     "data": {
      "text/plain": [
       "<AxesSubplot:xlabel='caramel', ylabel='chocolate'>"
      ]
     },
     "execution_count": 4,
     "metadata": {},
     "output_type": "execute_result"
    },
    {
     "data": {
      "image/png": "[encoded data removed]",
      "text/plain": [
       "<Figure size 432x288 with 1 Axes>"
      ]
     },
     "metadata": {
      "image/png": {
       "height": 261,
       "width": 385
      },
      "needs_background": "light"
     },
     "output_type": "display_data"
    }
   ],
   "source": [
    "sns.barplot(data = df_chocolate,\n",
    "           x = 'caramel',\n",
    "           y = 'chocolate')"
   ]
  },
  {
   "cell_type": "markdown",
   "id": "05a421db",
   "metadata": {},
   "source": [
    "##### Use `seaborn` to make a `barplot` showing the proportion of chocolate candy bars as a function of `bar`."
   ]
  },
  {
   "cell_type": "code",
   "execution_count": 5,
   "id": "5179df92",
   "metadata": {},
   "outputs": [],
   "source": [
    "#### Your code here"
   ]
  },
  {
   "cell_type": "code",
   "execution_count": 6,
   "id": "73a96e67",
   "metadata": {},
   "outputs": [
    {
     "data": {
      "text/plain": [
       "<AxesSubplot:xlabel='bar', ylabel='chocolate'>"
      ]
     },
     "execution_count": 6,
     "metadata": {},
     "output_type": "execute_result"
    },
    {
     "data": {
      "image/png": "[encoded data removed]",
      "text/plain": [
       "<Figure size 432x288 with 1 Axes>"
      ]
     },
     "metadata": {
      "image/png": {
       "height": 261,
       "width": 385
      },
      "needs_background": "light"
     },
     "output_type": "display_data"
    }
   ],
   "source": [
    "sns.barplot(data = df_chocolate,\n",
    "           x = 'bar',\n",
    "           y = 'chocolate')"
   ]
  },
  {
   "cell_type": "markdown",
   "id": "c0613abd",
   "metadata": {},
   "source": [
    "##### Use `seaborn` to make a `barplot` showing the proportion of chocolate candy bars as a function of `hard`."
   ]
  },
  {
   "cell_type": "code",
   "execution_count": 7,
   "id": "00badc09",
   "metadata": {},
   "outputs": [],
   "source": [
    "#### Your code here"
   ]
  },
  {
   "cell_type": "code",
   "execution_count": 8,
   "id": "bdb28c74",
   "metadata": {},
   "outputs": [
    {
     "data": {
      "text/plain": [
       "<AxesSubplot:xlabel='hard', ylabel='chocolate'>"
      ]
     },
     "execution_count": 8,
     "metadata": {},
     "output_type": "execute_result"
    },
    {
     "data": {
      "image/png": "[encoded data removed]",
      "text/plain": [
       "<Figure size 432x288 with 1 Axes>"
      ]
     },
     "metadata": {
      "image/png": {
       "height": 261,
       "width": 385
      },
      "needs_background": "light"
     },
     "output_type": "display_data"
    }
   ],
   "source": [
    "sns.barplot(data = df_chocolate,\n",
    "           x = 'hard',\n",
    "           y = 'chocolate')"
   ]
  },
  {
   "cell_type": "markdown",
   "id": "14786054",
   "metadata": {},
   "source": [
    "##### Now build a logistic regression model using `statsmodels`, predicting `chocolate` from `hard`."
   ]
  },
  {
   "cell_type": "code",
   "execution_count": 9,
   "id": "2813b63b",
   "metadata": {},
   "outputs": [],
   "source": [
    "#### Your code here"
   ]
  },
  {
   "cell_type": "code",
   "execution_count": 10,
   "id": "fddc34b8",
   "metadata": {},
   "outputs": [
    {
     "name": "stdout",
     "output_type": "stream",
     "text": [
      "Optimization terminated successfully.\n",
      "         Current function value: 0.613714\n",
      "         Iterations 7\n"
     ]
    },
    {
     "data": {
      "text/html": [
       "<table class=\"simpletable\">\n",
       "<caption>Logit Regression Results</caption>\n",
       "<tr>\n",
       "  <th>Dep. Variable:</th>       <td>chocolate</td>    <th>  No. Observations:  </th>  <td>    85</td>  \n",
       "</tr>\n",
       "<tr>\n",
       "  <th>Model:</th>                 <td>Logit</td>      <th>  Df Residuals:      </th>  <td>    83</td>  \n",
       "</tr>\n",
       "<tr>\n",
       "  <th>Method:</th>                 <td>MLE</td>       <th>  Df Model:          </th>  <td>     1</td>  \n",
       "</tr>\n",
       "<tr>\n",
       "  <th>Date:</th>            <td>Sun, 14 Aug 2022</td> <th>  Pseudo R-squ.:     </th>  <td>0.1037</td>  \n",
       "</tr>\n",
       "<tr>\n",
       "  <th>Time:</th>                <td>20:35:37</td>     <th>  Log-Likelihood:    </th> <td> -52.166</td> \n",
       "</tr>\n",
       "<tr>\n",
       "  <th>converged:</th>             <td>True</td>       <th>  LL-Null:           </th> <td> -58.204</td> \n",
       "</tr>\n",
       "<tr>\n",
       "  <th>Covariance Type:</th>     <td>nonrobust</td>    <th>  LLR p-value:       </th> <td>0.0005107</td>\n",
       "</tr>\n",
       "</table>\n",
       "<table class=\"simpletable\">\n",
       "<tr>\n",
       "      <td></td>         <th>coef</th>     <th>std err</th>      <th>z</th>      <th>P>|z|</th>  <th>[0.025</th>    <th>0.975]</th>  \n",
       "</tr>\n",
       "<tr>\n",
       "  <th>Intercept</th> <td>    0.0572</td> <td>    0.239</td> <td>    0.239</td> <td> 0.811</td> <td>   -0.412</td> <td>    0.526</td>\n",
       "</tr>\n",
       "<tr>\n",
       "  <th>hard</th>      <td>   -2.6962</td> <td>    1.062</td> <td>   -2.538</td> <td> 0.011</td> <td>   -4.778</td> <td>   -0.614</td>\n",
       "</tr>\n",
       "</table>"
      ],
      "text/plain": [
       "<class 'statsmodels.iolib.summary.Summary'>\n",
       "\"\"\"\n",
       "                           Logit Regression Results                           \n",
       "==============================================================================\n",
       "Dep. Variable:              chocolate   No. Observations:                   85\n",
       "Model:                          Logit   Df Residuals:                       83\n",
       "Method:                           MLE   Df Model:                            1\n",
       "Date:                Sun, 14 Aug 2022   Pseudo R-squ.:                  0.1037\n",
       "Time:                        20:35:37   Log-Likelihood:                -52.166\n",
       "converged:                       True   LL-Null:                       -58.204\n",
       "Covariance Type:            nonrobust   LLR p-value:                 0.0005107\n",
       "==============================================================================\n",
       "                 coef    std err          z      P>|z|      [0.025      0.975]\n",
       "------------------------------------------------------------------------------\n",
       "Intercept      0.0572      0.239      0.239      0.811      -0.412       0.526\n",
       "hard          -2.6962      1.062     -2.538      0.011      -4.778      -0.614\n",
       "==============================================================================\n",
       "\"\"\""
      ]
     },
     "execution_count": 10,
     "metadata": {},
     "output_type": "execute_result"
    }
   ],
   "source": [
    "mod = smf.logit(formula = 'chocolate ~ hard', data = df_chocolate).fit()\n",
    "mod.summary()"
   ]
  },
  {
   "cell_type": "markdown",
   "id": "23ff1c5f",
   "metadata": {},
   "source": [
    "##### Write out this model as a linear equation."
   ]
  },
  {
   "cell_type": "code",
   "execution_count": 11,
   "id": "d67f2821",
   "metadata": {},
   "outputs": [],
   "source": [
    "#### Your code here"
   ]
  },
  {
   "cell_type": "markdown",
   "id": "4ef97d4f",
   "metadata": {},
   "source": [
    "$log(\\frac{p(y)}{1 - p(y)}) = 0.06 - 2.7X_{hard}$"
   ]
  },
  {
   "cell_type": "markdown",
   "id": "8474dd3e",
   "metadata": {},
   "source": [
    "##### What is the predicted log-odds of being a chocolate candy for candies that *aren't* hard?"
   ]
  },
  {
   "cell_type": "code",
   "execution_count": 12,
   "id": "422d0720",
   "metadata": {},
   "outputs": [],
   "source": [
    "#### Your code here"
   ]
  },
  {
   "cell_type": "code",
   "execution_count": 13,
   "id": "952edf7e",
   "metadata": {},
   "outputs": [
    {
     "data": {
      "text/plain": [
       "0.06"
      ]
     },
     "execution_count": 13,
     "metadata": {},
     "output_type": "execute_result"
    }
   ],
   "source": [
    "log_odds = 0.06\n",
    "log_odds"
   ]
  },
  {
   "cell_type": "markdown",
   "id": "f44a821f",
   "metadata": {},
   "source": [
    "##### What is the predicted probability of being a chocolate candy for candies that *aren't* hard?"
   ]
  },
  {
   "cell_type": "code",
   "execution_count": 14,
   "id": "e803a0fb",
   "metadata": {},
   "outputs": [],
   "source": [
    "#### Your code here"
   ]
  },
  {
   "cell_type": "code",
   "execution_count": 15,
   "id": "a326bbde",
   "metadata": {},
   "outputs": [
    {
     "data": {
      "text/plain": [
       "0.5149955016194101"
      ]
     },
     "execution_count": 15,
     "metadata": {},
     "output_type": "execute_result"
    }
   ],
   "source": [
    "np.exp(log_odds) / (1 + np.exp(log_odds))"
   ]
  },
  {
   "cell_type": "markdown",
   "id": "c8e26f6d",
   "metadata": {},
   "source": [
    "##### What is the predicted probability of being a chocolate candy for candies that are hard?"
   ]
  },
  {
   "cell_type": "code",
   "execution_count": 16,
   "id": "f57261b8",
   "metadata": {},
   "outputs": [],
   "source": [
    "#### Your code here"
   ]
  },
  {
   "cell_type": "code",
   "execution_count": 17,
   "id": "6f2d9e76",
   "metadata": {},
   "outputs": [
    {
     "data": {
      "text/plain": [
       "0.06660803557509065"
      ]
     },
     "execution_count": 17,
     "metadata": {},
     "output_type": "execute_result"
    }
   ],
   "source": [
    "log_odds = 0.06 - 2.7\n",
    "np.exp(log_odds) / (1 + np.exp(log_odds))"
   ]
  },
  {
   "cell_type": "markdown",
   "id": "4c876dad",
   "metadata": {},
   "source": [
    "##### Now build a series of logistic regression models (described below). For each model, extract the AIC. Then compare and plot these AIC values in a barplot.\n",
    "\n",
    "Models:\n",
    "\n",
    "- `hard` only\n",
    "- `bar` only\n",
    "- `caramel` only\n",
    "- `hard + bar + caramel`"
   ]
  },
  {
   "cell_type": "code",
   "execution_count": 18,
   "id": "2cce052c",
   "metadata": {},
   "outputs": [],
   "source": [
    "#### Your code here"
   ]
  },
  {
   "cell_type": "code",
   "execution_count": 19,
   "id": "a6b7d3d5",
   "metadata": {},
   "outputs": [
    {
     "data": {
      "text/plain": [
       "<AxesSubplot:xlabel='model', ylabel='aic'>"
      ]
     },
     "execution_count": 19,
     "metadata": {},
     "output_type": "execute_result"
    },
    {
     "data": {
      "image/png": "[encoded data removed]",
      "text/plain": [
       "<Figure size 432x288 with 1 Axes>"
      ]
     },
     "metadata": {
      "image/png": {
       "height": 264,
       "width": 388
      },
      "needs_background": "light"
     },
     "output_type": "display_data"
    }
   ],
   "source": [
    "mod_hard = smf.logit(formula = 'chocolate ~ hard', data = df_chocolate).fit(disp=0)\n",
    "mod_bar = smf.logit(formula = 'chocolate ~ bar', data = df_chocolate).fit(disp=0)\n",
    "mod_caramel = smf.logit(formula = 'chocolate ~ caramel', data = df_chocolate).fit(disp=0)\n",
    "mod_all = smf.logit(formula = 'chocolate ~ hard + bar + caramel', data = df_chocolate).fit(disp=0)\n",
    "\n",
    "df_results = pd.DataFrame({'aic': [mod_hard.aic, mod_bar.aic, mod_caramel.aic, mod_all.aic],\n",
    "                         'model': ['hard', 'bar', 'caramel', 'all parameters']})\n",
    "\n",
    "sns.barplot(data = df_results,\n",
    "           x = 'model',\n",
    "           y = 'aic')"
   ]
  },
  {
   "cell_type": "markdown",
   "id": "3068ab3f",
   "metadata": {},
   "source": [
    "##### Based on these results, what would you say about the relative predictive power of each parameter (`hard`, `bar`, and `caramel`)? Do some add more information than others? If so, which ones?"
   ]
  },
  {
   "cell_type": "code",
   "execution_count": 20,
   "id": "9fbb298a",
   "metadata": {},
   "outputs": [],
   "source": [
    "#### Your response here"
   ]
  },
  {
   "cell_type": "markdown",
   "id": "2be9969f",
   "metadata": {},
   "source": [
    "**Answer**: It seems that `bar` is the most informative parameter. The AIC is almost as low as the model with *all* parameters, despite only having `bar`. This is not true of `hard` and `caramel`."
   ]
  },
  {
   "cell_type": "markdown",
   "id": "3dd6c01b",
   "metadata": {},
   "source": [
    "##### (Optional / take-home): Explore some of the other variables in the dataframe. Which ones are the most predictive?"
   ]
  },
  {
   "cell_type": "code",
   "execution_count": 21,
   "id": "cfb9a53c",
   "metadata": {},
   "outputs": [],
   "source": [
    "#### Your response here"
   ]
  },
  {
   "cell_type": "markdown",
   "id": "c6dddd3e",
   "metadata": {},
   "source": [
    "# Part 2: Mixed effects models"
   ]
  },
  {
   "cell_type": "markdown",
   "id": "d2b31829",
   "metadata": {},
   "source": [
    "## Dataset: Experimental data\n",
    "\n",
    "We'll be considering a dataset with data that I collected for my PhD dissertation. This is an extension of the RAW-C project mentioned earlier. \n",
    "\n",
    "Here, instead of rating the **relatedness** of different word usages, subjects responded in a sentence plausibility task. We measured their reaction time (RT) and accuracy. In this analysis, we'll ask whether differences in `log(RT)` correspond to the key **manipulation** of `same` vs. `different` sense––while controlling for subject-wide differences."
   ]
  },
  {
   "cell_type": "markdown",
   "id": "10bc5dd9",
   "metadata": {},
   "source": [
    "#### Load data"
   ]
  },
  {
   "cell_type": "code",
   "execution_count": 56,
   "id": "3752e1f8",
   "metadata": {},
   "outputs": [
    {
     "data": {
      "text/html": [
       "<div>\n",
       "<style scoped>\n",
       "    .dataframe tbody tr th:only-of-type {\n",
       "        vertical-align: middle;\n",
       "    }\n",
       "\n",
       "    .dataframe tbody tr th {\n",
       "        vertical-align: top;\n",
       "    }\n",
       "\n",
       "    .dataframe thead th {\n",
       "        text-align: right;\n",
       "    }\n",
       "</style>\n",
       "<table border=\"1\" class=\"dataframe\">\n",
       "  <thead>\n",
       "    <tr style=\"text-align: right;\">\n",
       "      <th></th>\n",
       "      <th>distance_bert</th>\n",
       "      <th>same</th>\n",
       "      <th>log_rt</th>\n",
       "      <th>subject</th>\n",
       "    </tr>\n",
       "  </thead>\n",
       "  <tbody>\n",
       "    <tr>\n",
       "      <th>0</th>\n",
       "      <td>0.226773</td>\n",
       "      <td>False</td>\n",
       "      <td>7.272398</td>\n",
       "      <td>u6tgegpyj0</td>\n",
       "    </tr>\n",
       "    <tr>\n",
       "      <th>1</th>\n",
       "      <td>0.273911</td>\n",
       "      <td>False</td>\n",
       "      <td>7.355002</td>\n",
       "      <td>1vz3fdcvtw</td>\n",
       "    </tr>\n",
       "    <tr>\n",
       "      <th>2</th>\n",
       "      <td>0.226773</td>\n",
       "      <td>False</td>\n",
       "      <td>7.388328</td>\n",
       "      <td>mwacu22792</td>\n",
       "    </tr>\n",
       "    <tr>\n",
       "      <th>3</th>\n",
       "      <td>0.122557</td>\n",
       "      <td>True</td>\n",
       "      <td>7.027315</td>\n",
       "      <td>v75fv9pagb</td>\n",
       "    </tr>\n",
       "    <tr>\n",
       "      <th>4</th>\n",
       "      <td>0.122557</td>\n",
       "      <td>True</td>\n",
       "      <td>7.186144</td>\n",
       "      <td>9fkbaxk3zu</td>\n",
       "    </tr>\n",
       "  </tbody>\n",
       "</table>\n",
       "</div>"
      ],
      "text/plain": [
       "   distance_bert   same    log_rt     subject\n",
       "0       0.226773  False  7.272398  u6tgegpyj0\n",
       "1       0.273911  False  7.355002  1vz3fdcvtw\n",
       "2       0.226773  False  7.388328  mwacu22792\n",
       "3       0.122557   True  7.027315  v75fv9pagb\n",
       "4       0.122557   True  7.186144  9fkbaxk3zu"
      ]
     },
     "execution_count": 56,
     "metadata": {},
     "output_type": "execute_result"
    }
   ],
   "source": [
    "df_polysemy = pd.read_csv(\"data/lab/rt.csv\")\n",
    "df_polysemy.head(5)"
   ]
  },
  {
   "cell_type": "markdown",
   "id": "c860e311",
   "metadata": {},
   "source": [
    "##### First, plot `log_rt` as a function of `same`. "
   ]
  },
  {
   "cell_type": "code",
   "execution_count": 57,
   "id": "328c3c2d",
   "metadata": {},
   "outputs": [],
   "source": [
    "#### Your code here"
   ]
  },
  {
   "cell_type": "code",
   "execution_count": 58,
   "id": "a02ae8dd",
   "metadata": {},
   "outputs": [
    {
     "data": {
      "text/plain": [
       "<AxesSubplot:xlabel='same', ylabel='log_rt'>"
      ]
     },
     "execution_count": 58,
     "metadata": {},
     "output_type": "execute_result"
    },
    {
     "data": {
      "image/png": "[encoded data removed]",
      "text/plain": [
       "<Figure size 432x288 with 1 Axes>"
      ]
     },
     "metadata": {
      "image/png": {
       "height": 261,
       "width": 392
      },
      "needs_background": "light"
     },
     "output_type": "display_data"
    }
   ],
   "source": [
    "sns.pointplot(data = df_polysemy, x = 'same', y = 'log_rt', alpha = .2)"
   ]
  },
  {
   "cell_type": "markdown",
   "id": "90e18d9d",
   "metadata": {},
   "source": [
    "##### Now, build a ordinary regression model predicting `log_rt` from `same`."
   ]
  },
  {
   "cell_type": "code",
   "execution_count": 59,
   "id": "bdd5024d",
   "metadata": {},
   "outputs": [],
   "source": [
    "#### Your code here"
   ]
  },
  {
   "cell_type": "code",
   "execution_count": 60,
   "id": "05432dac",
   "metadata": {},
   "outputs": [
    {
     "data": {
      "text/html": [
       "<table class=\"simpletable\">\n",
       "<caption>OLS Regression Results</caption>\n",
       "<tr>\n",
       "  <th>Dep. Variable:</th>         <td>log_rt</td>      <th>  R-squared:         </th> <td>   0.011</td>\n",
       "</tr>\n",
       "<tr>\n",
       "  <th>Model:</th>                   <td>OLS</td>       <th>  Adj. R-squared:    </th> <td>   0.011</td>\n",
       "</tr>\n",
       "<tr>\n",
       "  <th>Method:</th>             <td>Least Squares</td>  <th>  F-statistic:       </th> <td>   111.1</td>\n",
       "</tr>\n",
       "<tr>\n",
       "  <th>Date:</th>             <td>Sun, 14 Aug 2022</td> <th>  Prob (F-statistic):</th> <td>7.60e-26</td>\n",
       "</tr>\n",
       "<tr>\n",
       "  <th>Time:</th>                 <td>20:51:53</td>     <th>  Log-Likelihood:    </th> <td> -4987.5</td>\n",
       "</tr>\n",
       "<tr>\n",
       "  <th>No. Observations:</th>      <td> 10146</td>      <th>  AIC:               </th> <td>   9979.</td>\n",
       "</tr>\n",
       "<tr>\n",
       "  <th>Df Residuals:</th>          <td> 10144</td>      <th>  BIC:               </th> <td>   9993.</td>\n",
       "</tr>\n",
       "<tr>\n",
       "  <th>Df Model:</th>              <td>     1</td>      <th>                     </th>     <td> </td>   \n",
       "</tr>\n",
       "<tr>\n",
       "  <th>Covariance Type:</th>      <td>nonrobust</td>    <th>                     </th>     <td> </td>   \n",
       "</tr>\n",
       "</table>\n",
       "<table class=\"simpletable\">\n",
       "<tr>\n",
       "        <td></td>          <th>coef</th>     <th>std err</th>      <th>t</th>      <th>P>|t|</th>  <th>[0.025</th>    <th>0.975]</th>  \n",
       "</tr>\n",
       "<tr>\n",
       "  <th>Intercept</th>    <td>    7.0381</td> <td>    0.005</td> <td> 1473.084</td> <td> 0.000</td> <td>    7.029</td> <td>    7.047</td>\n",
       "</tr>\n",
       "<tr>\n",
       "  <th>same[T.True]</th> <td>   -0.0885</td> <td>    0.008</td> <td>  -10.541</td> <td> 0.000</td> <td>   -0.105</td> <td>   -0.072</td>\n",
       "</tr>\n",
       "</table>\n",
       "<table class=\"simpletable\">\n",
       "<tr>\n",
       "  <th>Omnibus:</th>       <td>2079.141</td> <th>  Durbin-Watson:     </th> <td>   1.855</td>\n",
       "</tr>\n",
       "<tr>\n",
       "  <th>Prob(Omnibus):</th>  <td> 0.000</td>  <th>  Jarque-Bera (JB):  </th> <td>6885.798</td>\n",
       "</tr>\n",
       "<tr>\n",
       "  <th>Skew:</th>           <td> 1.029</td>  <th>  Prob(JB):          </th> <td>    0.00</td>\n",
       "</tr>\n",
       "<tr>\n",
       "  <th>Kurtosis:</th>       <td> 6.471</td>  <th>  Cond. No.          </th> <td>    2.41</td>\n",
       "</tr>\n",
       "</table><br/><br/>Notes:<br/>[1] Standard Errors assume that the covariance matrix of the errors is correctly specified."
      ],
      "text/plain": [
       "<class 'statsmodels.iolib.summary.Summary'>\n",
       "\"\"\"\n",
       "                            OLS Regression Results                            \n",
       "==============================================================================\n",
       "Dep. Variable:                 log_rt   R-squared:                       0.011\n",
       "Model:                            OLS   Adj. R-squared:                  0.011\n",
       "Method:                 Least Squares   F-statistic:                     111.1\n",
       "Date:                Sun, 14 Aug 2022   Prob (F-statistic):           7.60e-26\n",
       "Time:                        20:51:53   Log-Likelihood:                -4987.5\n",
       "No. Observations:               10146   AIC:                             9979.\n",
       "Df Residuals:                   10144   BIC:                             9993.\n",
       "Df Model:                           1                                         \n",
       "Covariance Type:            nonrobust                                         \n",
       "================================================================================\n",
       "                   coef    std err          t      P>|t|      [0.025      0.975]\n",
       "--------------------------------------------------------------------------------\n",
       "Intercept        7.0381      0.005   1473.084      0.000       7.029       7.047\n",
       "same[T.True]    -0.0885      0.008    -10.541      0.000      -0.105      -0.072\n",
       "==============================================================================\n",
       "Omnibus:                     2079.141   Durbin-Watson:                   1.855\n",
       "Prob(Omnibus):                  0.000   Jarque-Bera (JB):             6885.798\n",
       "Skew:                           1.029   Prob(JB):                         0.00\n",
       "Kurtosis:                       6.471   Cond. No.                         2.41\n",
       "==============================================================================\n",
       "\n",
       "Notes:\n",
       "[1] Standard Errors assume that the covariance matrix of the errors is correctly specified.\n",
       "\"\"\""
      ]
     },
     "execution_count": 60,
     "metadata": {},
     "output_type": "execute_result"
    }
   ],
   "source": [
    "mod_ols = smf.ols(data = df_polysemy, formula = 'log_rt ~ same').fit()\n",
    "mod_ols.summary()"
   ]
  },
  {
   "cell_type": "markdown",
   "id": "4a4781f5",
   "metadata": {},
   "source": [
    "##### Inspect the parameters. How would you interpret the coefficient for `same`?"
   ]
  },
  {
   "cell_type": "code",
   "execution_count": 61,
   "id": "9ed81cae",
   "metadata": {},
   "outputs": [],
   "source": [
    "#### Your code here"
   ]
  },
  {
   "cell_type": "code",
   "execution_count": 63,
   "id": "04de8c4e",
   "metadata": {},
   "outputs": [
    {
     "data": {
      "text/plain": [
       "Intercept    0.057158\n",
       "hard        -2.696216\n",
       "dtype: float64"
      ]
     },
     "execution_count": 63,
     "metadata": {},
     "output_type": "execute_result"
    }
   ],
   "source": [
    "mod.params"
   ]
  },
  {
   "cell_type": "markdown",
   "id": "ab5e7e0d",
   "metadata": {},
   "source": [
    "##### Are there any sources of non-independence in this dataset? If so, what are they?"
   ]
  },
  {
   "cell_type": "code",
   "execution_count": 46,
   "id": "6ca7de1b",
   "metadata": {},
   "outputs": [],
   "source": [
    "#### Your code here"
   ]
  },
  {
   "cell_type": "code",
   "execution_count": 65,
   "id": "c68cf5a7",
   "metadata": {},
   "outputs": [
    {
     "data": {
      "text/plain": [
       "6g6ama8qck    56\n",
       "gl71hqusr0    56\n",
       "4suqxr8zom    56\n",
       "lpduruhrnk    56\n",
       "lt0kapj5fz    56\n",
       "              ..\n",
       "gtj74gj1hs    47\n",
       "o40xglp55j    47\n",
       "2r8jyhe7un    46\n",
       "epkefl89q5    45\n",
       "phcg9go4je    35\n",
       "Name: subject, Length: 187, dtype: int64"
      ]
     },
     "execution_count": 65,
     "metadata": {},
     "output_type": "execute_result"
    }
   ],
   "source": [
    "df_polysemy['subject'].value_counts()"
   ]
  },
  {
   "cell_type": "markdown",
   "id": "155503d2",
   "metadata": {},
   "source": [
    "**Answer**: Yes, `subject` has multiple observations per group."
   ]
  },
  {
   "cell_type": "markdown",
   "id": "0f7497b6",
   "metadata": {},
   "source": [
    "##### Build a `mixedlm` model accounting for `subject`-level non-independence (i.e., random intercepts for subjects)."
   ]
  },
  {
   "cell_type": "code",
   "execution_count": 68,
   "id": "fe12d4b9",
   "metadata": {},
   "outputs": [],
   "source": [
    "#### Your code here"
   ]
  },
  {
   "cell_type": "code",
   "execution_count": 71,
   "id": "bd3d5357",
   "metadata": {},
   "outputs": [
    {
     "data": {
      "text/html": [
       "<table class=\"simpletable\">\n",
       "<tr>\n",
       "       <td>Model:</td>       <td>MixedLM</td> <td>Dependent Variable:</td>   <td>log_rt</td>  \n",
       "</tr>\n",
       "<tr>\n",
       "  <td>No. Observations:</td>  <td>10146</td>        <td>Method:</td>          <td>REML</td>   \n",
       "</tr>\n",
       "<tr>\n",
       "     <td>No. Groups:</td>      <td>187</td>         <td>Scale:</td>          <td>0.1137</td>  \n",
       "</tr>\n",
       "<tr>\n",
       "  <td>Min. group size:</td>    <td>35</td>      <td>Log-Likelihood:</td>   <td>-3661.7286</td>\n",
       "</tr>\n",
       "<tr>\n",
       "  <td>Max. group size:</td>    <td>56</td>        <td>Converged:</td>          <td>Yes</td>   \n",
       "</tr>\n",
       "<tr>\n",
       "  <td>Mean group size:</td>   <td>54.3</td>            <td></td>                <td></td>     \n",
       "</tr>\n",
       "</table>\n",
       "<table class=\"simpletable\">\n",
       "<tr>\n",
       "        <td></td>        <th>Coef.</th> <th>Std.Err.</th>    <th>z</th>    <th>P>|z|</th> <th>[0.025</th> <th>0.975]</th>\n",
       "</tr>\n",
       "<tr>\n",
       "  <th>Intercept</th>     <td>7.035</td>   <td>0.016</td>  <td>447.414</td> <td>0.000</td>  <td>7.004</td>  <td>7.066</td>\n",
       "</tr>\n",
       "<tr>\n",
       "  <th>same[T.True]</th> <td>-0.085</td>   <td>0.007</td>  <td>-11.804</td> <td>0.000</td> <td>-0.099</td> <td>-0.071</td>\n",
       "</tr>\n",
       "<tr>\n",
       "  <th>Group Var</th>     <td>0.043</td>   <td>0.014</td>     <td></td>       <td></td>       <td></td>       <td></td>   \n",
       "</tr>\n",
       "</table>"
      ],
      "text/plain": [
       "<class 'statsmodels.iolib.summary2.Summary'>\n",
       "\"\"\"\n",
       "         Mixed Linear Model Regression Results\n",
       "========================================================\n",
       "Model:            MixedLM Dependent Variable: log_rt    \n",
       "No. Observations: 10146   Method:             REML      \n",
       "No. Groups:       187     Scale:              0.1137    \n",
       "Min. group size:  35      Log-Likelihood:     -3661.7286\n",
       "Max. group size:  56      Converged:          Yes       \n",
       "Mean group size:  54.3                                  \n",
       "--------------------------------------------------------\n",
       "             Coef.  Std.Err.    z    P>|z| [0.025 0.975]\n",
       "--------------------------------------------------------\n",
       "Intercept     7.035    0.016 447.414 0.000  7.004  7.066\n",
       "same[T.True] -0.085    0.007 -11.804 0.000 -0.099 -0.071\n",
       "Group Var     0.043    0.014                            \n",
       "========================================================\n",
       "\n",
       "\"\"\""
      ]
     },
     "execution_count": 71,
     "metadata": {},
     "output_type": "execute_result"
    }
   ],
   "source": [
    "md_full = smf.mixedlm(\"log_rt ~ same\", df_polysemy, groups=df_polysemy[\"subject\"]).fit()\n",
    "md_full.summary()"
   ]
  },
  {
   "cell_type": "markdown",
   "id": "6ede4504",
   "metadata": {},
   "source": [
    "##### Now a `mixedlm` model with only `subject`-level random intercepts, omitting the fixed effect of `same`."
   ]
  },
  {
   "cell_type": "code",
   "execution_count": 68,
   "id": "5c7d6d82",
   "metadata": {},
   "outputs": [],
   "source": [
    "#### Your code here"
   ]
  },
  {
   "cell_type": "code",
   "execution_count": 70,
   "id": "b8ae3e57",
   "metadata": {},
   "outputs": [
    {
     "data": {
      "text/html": [
       "<table class=\"simpletable\">\n",
       "<tr>\n",
       "       <td>Model:</td>       <td>MixedLM</td> <td>Dependent Variable:</td>   <td>log_rt</td>  \n",
       "</tr>\n",
       "<tr>\n",
       "  <td>No. Observations:</td>  <td>10146</td>        <td>Method:</td>          <td>REML</td>   \n",
       "</tr>\n",
       "<tr>\n",
       "     <td>No. Groups:</td>      <td>187</td>         <td>Scale:</td>          <td>0.1153</td>  \n",
       "</tr>\n",
       "<tr>\n",
       "  <td>Min. group size:</td>    <td>35</td>      <td>Log-Likelihood:</td>   <td>-3726.9088</td>\n",
       "</tr>\n",
       "<tr>\n",
       "  <td>Max. group size:</td>    <td>56</td>        <td>Converged:</td>          <td>Yes</td>   \n",
       "</tr>\n",
       "<tr>\n",
       "  <td>Mean group size:</td>   <td>54.3</td>            <td></td>                <td></td>     \n",
       "</tr>\n",
       "</table>\n",
       "<table class=\"simpletable\">\n",
       "<tr>\n",
       "      <td></td>      <th>Coef.</th> <th>Std.Err.</th>    <th>z</th>    <th>P>|z|</th> <th>[0.025</th> <th>0.975]</th>\n",
       "</tr>\n",
       "<tr>\n",
       "  <th>Intercept</th> <td>7.008</td>   <td>0.016</td>  <td>449.868</td> <td>0.000</td>  <td>6.977</td>  <td>7.038</td>\n",
       "</tr>\n",
       "<tr>\n",
       "  <th>Group Var</th> <td>0.043</td>   <td>0.014</td>     <td></td>       <td></td>       <td></td>       <td></td>   \n",
       "</tr>\n",
       "</table>"
      ],
      "text/plain": [
       "<class 'statsmodels.iolib.summary2.Summary'>\n",
       "\"\"\"\n",
       "         Mixed Linear Model Regression Results\n",
       "========================================================\n",
       "Model:            MixedLM Dependent Variable: log_rt    \n",
       "No. Observations: 10146   Method:             REML      \n",
       "No. Groups:       187     Scale:              0.1153    \n",
       "Min. group size:  35      Log-Likelihood:     -3726.9088\n",
       "Max. group size:  56      Converged:          Yes       \n",
       "Mean group size:  54.3                                  \n",
       "--------------------------------------------------------\n",
       "              Coef. Std.Err.    z    P>|z| [0.025 0.975]\n",
       "--------------------------------------------------------\n",
       "Intercept     7.008    0.016 449.868 0.000  6.977  7.038\n",
       "Group Var     0.043    0.014                            \n",
       "========================================================\n",
       "\n",
       "\"\"\""
      ]
     },
     "execution_count": 70,
     "metadata": {},
     "output_type": "execute_result"
    }
   ],
   "source": [
    "md_reduced = smf.mixedlm(\"log_rt ~ 1\", df_polysemy, groups=df_polysemy[\"subject\"]).fit()\n",
    "md_reduced.summary()"
   ]
  },
  {
   "cell_type": "markdown",
   "id": "3c59984b",
   "metadata": {},
   "source": [
    "##### How many more parameters does the full model have than the reduced model?"
   ]
  },
  {
   "cell_type": "code",
   "execution_count": 73,
   "id": "a5ac3c47",
   "metadata": {},
   "outputs": [],
   "source": [
    "#### Your code here"
   ]
  },
  {
   "cell_type": "markdown",
   "id": "e28b5c7e",
   "metadata": {},
   "source": [
    "**Answer**: 1 more parameter."
   ]
  },
  {
   "cell_type": "markdown",
   "id": "66ac43de",
   "metadata": {},
   "source": [
    "##### Using the method discussed in class, conduct a LRT comparing the full to reduced model."
   ]
  },
  {
   "cell_type": "code",
   "execution_count": 74,
   "id": "35f60f1f",
   "metadata": {},
   "outputs": [],
   "source": [
    "#### Your code here"
   ]
  },
  {
   "cell_type": "code",
   "execution_count": 75,
   "id": "df7e123f",
   "metadata": {},
   "outputs": [
    {
     "data": {
      "text/plain": [
       "130.3603418480925"
      ]
     },
     "execution_count": 75,
     "metadata": {},
     "output_type": "execute_result"
    }
   ],
   "source": [
    "lrt = -2 * (md_reduced.llf - md_full.llf)\n",
    "lrt "
   ]
  },
  {
   "cell_type": "code",
   "execution_count": 76,
   "id": "1378a2e8",
   "metadata": {},
   "outputs": [
    {
     "data": {
      "text/plain": [
       "3.417502636142147e-30"
      ]
     },
     "execution_count": 76,
     "metadata": {},
     "output_type": "execute_result"
    }
   ],
   "source": [
    "diff_parameters = 1\n",
    "ss.chi2.sf(lrt, df=diff_parameters)"
   ]
  },
  {
   "cell_type": "markdown",
   "id": "addf0be2",
   "metadata": {},
   "source": [
    "##### Based on this result, does the fixed effect of `same` improve the model?"
   ]
  },
  {
   "cell_type": "code",
   "execution_count": 73,
   "id": "b5eab5d5",
   "metadata": {},
   "outputs": [],
   "source": [
    "#### Your code here"
   ]
  },
  {
   "cell_type": "markdown",
   "id": "1517cdaf",
   "metadata": {},
   "source": [
    "**Answer**: Yes, quite a bit."
   ]
  },
  {
   "cell_type": "markdown",
   "id": "96e87f12",
   "metadata": {},
   "source": [
    "# Conclusion\n",
    "\n",
    "Congratulations, you've now gotten some more practice building **logistic regression** models, *and* building mixed models in Python!"
   ]
  }
 ],
 "metadata": {
  "kernelspec": {
   "display_name": "Python 3 (ipykernel)",
   "language": "python",
   "name": "python3"
  },
  "language_info": {
   "codemirror_mode": {
    "name": "ipython",
    "version": 3
   },
   "file_extension": ".py",
   "mimetype": "text/x-python",
   "name": "python",
   "nbconvert_exporter": "python",
   "pygments_lexer": "ipython3",
   "version": "3.9.12"
  }
 },
 "nbformat": 4,
 "nbformat_minor": 5
}
