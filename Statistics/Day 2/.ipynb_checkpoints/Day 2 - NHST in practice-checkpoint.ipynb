{
 "cells": [
  {
   "cell_type": "markdown",
   "id": "4715949c",
   "metadata": {
    "slideshow": {
     "slide_type": "slide"
    }
   },
   "source": [
    "# NHST: Foundations and Practice\n",
    "\n",
    "### Sean Trott\n",
    "\n",
    "### CSS Bootcamp"
   ]
  },
  {
   "cell_type": "code",
   "execution_count": 1,
   "id": "7928d66a",
   "metadata": {
    "slideshow": {
     "slide_type": "skip"
    }
   },
   "outputs": [
    {
     "name": "stderr",
     "output_type": "stream",
     "text": [
      "/opt/anaconda3/lib/python3.9/site-packages/scipy/__init__.py:146: UserWarning: A NumPy version >=1.16.5 and <1.23.0 is required for this version of SciPy (detected version 1.23.1\n",
      "  warnings.warn(f\"A NumPy version >={np_minversion} and <{np_maxversion}\"\n"
     ]
    }
   ],
   "source": [
    "## Imports\n",
    "import math\n",
    "import pandas as pd\n",
    "import numpy as np\n",
    "import matplotlib.pyplot as plt\n",
    "import seaborn as sns\n",
    "import scipy.stats as ss"
   ]
  },
  {
   "cell_type": "code",
   "execution_count": 2,
   "id": "e2bb90a5",
   "metadata": {
    "slideshow": {
     "slide_type": "skip"
    }
   },
   "outputs": [],
   "source": [
    "%matplotlib inline\n",
    "%config InlineBackend.figure_format = 'retina'  # makes figs nicer!"
   ]
  },
  {
   "cell_type": "markdown",
   "id": "31b9b99b",
   "metadata": {
    "slideshow": {
     "slide_type": "slide"
    }
   },
   "source": [
    "# High-level learning outcomes of this week\n",
    "\n",
    "##### [Null Hypothesis Significance Testing (NHST)](https://en.wikipedia.org/wiki/Statistical_hypothesis_testing)\n",
    "\n",
    "- **Explain** the theoretical foundations  \n",
    "- **Implement** a t-test in Python  \n",
    "- **Evaluate** the result of a given test\n",
    "\n",
    "##### [Linear regression](https://en.wikipedia.org/wiki/Linear_regression): \n",
    "\n",
    "- **Implement** using Python\n",
    "- **Interpret** coefficients, **examine** residuals, and **predict** new data  \n",
    "\n",
    "##### [Beyond linear regression](https://en.wikipedia.org/wiki/Generalized_linear_model): \n",
    "\n",
    "- **Explain** the motivation for mixed/multilevel models  \n",
    "- **Implement** other families of regression models (e.g., logistic regression)"
   ]
  },
  {
   "cell_type": "markdown",
   "id": "c7fd30f0",
   "metadata": {
    "slideshow": {
     "slide_type": "slide"
    }
   },
   "source": [
    "# Today's focus\n",
    "\n",
    "- **Explain** the theoretical foundations of NHST   \n",
    "- **Implement** a t-test in Python.  \n",
    "- **Evaluate** the result of a t-test with respect to a research hypothesis.   "
   ]
  },
  {
   "cell_type": "markdown",
   "id": "d3fc9cc9",
   "metadata": {
    "slideshow": {
     "slide_type": "slide"
    }
   },
   "source": [
    "# Part 0: Review\n",
    "\n",
    "The last session had several **key takeaways**:\n",
    "\n",
    "- **Sampling error** means that a sample statistic (e.g., $\\bar{X}$) rarely equals the population parameter (e.g., $\\mu$).  \n",
    "- However, $\\bar{X}$ is an **unbiased estimator**: \n",
    " - The **Central Limit Theorem** states that as $n$ increases, the distribution of **sample means** becomes increasingly normal. \n",
    " - The mean of this distribution is equal to $\\mu$.  \n",
    "- We can use this sampling distribution as our **null distribution** for NHST. "
   ]
  },
  {
   "cell_type": "markdown",
   "id": "47bece41",
   "metadata": {
    "slideshow": {
     "slide_type": "slide"
    }
   },
   "source": [
    "# Part 1: Introduction to NHST\n",
    "\n",
    "[NHST](https://en.wikipedia.org/wiki/Statistical_hypothesis_testing) is an approach to inferential statistics which involves making a **decision** about **rejecting** or **failing to reject** the null hypothesis.\n",
    "\n",
    "We'll break this topic into several components:  \n",
    "\n",
    "- Intuition: null vs. alternate hypotheses  \n",
    "- Connecting to sampling distributions  \n",
    "- The **z-test**: our first hypothesis test"
   ]
  },
  {
   "cell_type": "markdown",
   "id": "092a9a63",
   "metadata": {
    "slideshow": {
     "slide_type": "slide"
    }
   },
   "source": [
    "## 1a. Building intuition\n",
    "\n",
    "Consider the following scenario:\n",
    "\n",
    "> A researcher is interested in whether a new test prep course improves SAT performance. Somehow, we already know population-level mean: it's $520$. We also know that population $\\sigma = 5$. \n",
    "\n",
    "> They randomly assign 10 students to take the course, who then take the SAT. The researcher calculates the average SAT score for those students: it's $530$. \n",
    "\n",
    "Did the test prep work? **How would we know?**"
   ]
  },
  {
   "cell_type": "markdown",
   "id": "a7ea9957",
   "metadata": {
    "slideshow": {
     "slide_type": "slide"
    }
   },
   "source": [
    "## High-level hypothesis space\n",
    "\n",
    "Fundamentally, we're asking whether that **sample mean** ($\\bar{X} = 530$) is:\n",
    "\n",
    "- Higher than the **population mean** ($\\mu = 520$)?\n",
    "- No different (or perhaps lower) than the **population mean** ($\\mu = 520$)?\n",
    "\n",
    "I.e., is it any different from what we'd expect if they *hadn't* taken the course?"
   ]
  },
  {
   "cell_type": "markdown",
   "id": "2183b449",
   "metadata": {
    "slideshow": {
     "slide_type": "slide"
    }
   },
   "source": [
    "## Check-in: Descriptively, $\\bar{X} > \\mu$. Why can't we just conclude that the test prep worked?"
   ]
  },
  {
   "cell_type": "markdown",
   "id": "59ff61c5",
   "metadata": {
    "slideshow": {
     "slide_type": "slide"
    }
   },
   "source": [
    "### Describing the hypothesis space\n",
    "\n",
    "These possibilities correspond to distinct **hypotheses**:\n",
    "\n",
    "- $H_0$ (**Null Hypothesis**): The test prep course did *not* improve performance (the sample is not from a different \"population\").  \n",
    "- $H_1$ (**Alternate Hypothesis**): The test prep course *did* improve performance (the sample is from a different \"population\").\n",
    "\n",
    "We can express these more formally:\n",
    "\n",
    "- $H_0: \\bar{X} = \\mu$  \n",
    "- $H_1: \\bar{X} > \\mu$"
   ]
  },
  {
   "cell_type": "markdown",
   "id": "28a773fc",
   "metadata": {
    "slideshow": {
     "slide_type": "slide"
    }
   },
   "source": [
    "### Note: one-tailed vs. two-tailed\n",
    "\n",
    "Hypothesis tests can be either:\n",
    "\n",
    "- **One-tailed**: I.e., testing a *directional* difference (\"The sample mean is *greater* than population mean.\")\n",
    "- **Two-tailed**: I.e., testing *any* difference (\"The sample mean is *different* from the population mean.\")\n",
    "\n",
    "This will affect exactly how the **p-value** is calculated––i.e., are you sampling from *both* sides of the distribution, or just one?"
   ]
  },
  {
   "cell_type": "markdown",
   "id": "00fdde0b",
   "metadata": {
    "slideshow": {
     "slide_type": "slide"
    }
   },
   "source": [
    "### Contending with sampling error\n",
    "\n",
    "Of course, **sampling error** makes it very likely that $\\bar{X} ≠ \\mu$.\n",
    "\n",
    "- This doesn't mean $H_0$ is false!  \n",
    "- Even two samples drawn from the same population will have different means.  \n",
    "\n",
    "**How different is truly different?**"
   ]
  },
  {
   "cell_type": "markdown",
   "id": "022e4b63",
   "metadata": {
    "slideshow": {
     "slide_type": "slide"
    }
   },
   "source": [
    "## 1b. Connecting to sampling distributions\n",
    "\n",
    "Key insights:\n",
    "\n",
    "- [Central Limit Theorem](https://en.wikipedia.org/wiki/Central_limit_theorem) states that as $n$ increases, distribution of sample means is increasingly normal.  \n",
    "- A normal distribution can be **z-scored** and turned into the **standard normal distribution**.  \n",
    "\n",
    "Because this is a **probability distribution**, we can calculate the *probability* of any given value (e.g., $\\bar{X}$) having been sampled from that distribution!"
   ]
  },
  {
   "cell_type": "markdown",
   "id": "b685ce07",
   "metadata": {
    "slideshow": {
     "slide_type": "slide"
    }
   },
   "source": [
    "### Using cumulative distribution functions\n",
    "\n",
    "To calculate this probability, we use a **cumulative distribution function** (or CDF).\n",
    "\n",
    "- Note: in practice, you won't need to calculate this by hand––most packages will give you a *p-value* automatically.  \n",
    "- But remember: a *p-value* depends on **which** sampling distribution you're assuming as your null hypothesis.  "
   ]
  },
  {
   "cell_type": "markdown",
   "id": "cde1da78",
   "metadata": {
    "slideshow": {
     "slide_type": "slide"
    }
   },
   "source": [
    "#### Defining the standard normal distribution  "
   ]
  },
  {
   "cell_type": "code",
   "execution_count": 3,
   "id": "48d0d216",
   "metadata": {
    "slideshow": {
     "slide_type": "-"
    }
   },
   "outputs": [
    {
     "data": {
      "text/plain": [
       "<scipy.stats._distn_infrastructure.rv_frozen at 0x7fe1c05a2a30>"
      ]
     },
     "execution_count": 3,
     "metadata": {},
     "output_type": "execute_result"
    }
   ],
   "source": [
    "s_norm = ss.norm(loc = 0, scale = 1)\n",
    "s_norm"
   ]
  },
  {
   "cell_type": "markdown",
   "id": "e91db434",
   "metadata": {
    "slideshow": {
     "slide_type": "slide"
    }
   },
   "source": [
    "#### Now, we can use `s_norm.cdf(X)` to calculate $p(≤X)$\n",
    "\n",
    "**Check-in**: Why is $p(≤X) = .5$?"
   ]
  },
  {
   "cell_type": "code",
   "execution_count": 4,
   "id": "1acf41b7",
   "metadata": {
    "slideshow": {
     "slide_type": "-"
    }
   },
   "outputs": [
    {
     "data": {
      "text/plain": [
       "0.5"
      ]
     },
     "execution_count": 4,
     "metadata": {},
     "output_type": "execute_result"
    }
   ],
   "source": [
    "s_norm.cdf(0)"
   ]
  },
  {
   "cell_type": "code",
   "execution_count": 5,
   "id": "17996ed0",
   "metadata": {
    "slideshow": {
     "slide_type": "-"
    }
   },
   "outputs": [
    {
     "data": {
      "text/plain": [
       "0.8413447460685429"
      ]
     },
     "execution_count": 5,
     "metadata": {},
     "output_type": "execute_result"
    }
   ],
   "source": [
    "s_norm.cdf(1)"
   ]
  },
  {
   "cell_type": "markdown",
   "id": "cd8e97f0",
   "metadata": {
    "slideshow": {
     "slide_type": "slide"
    }
   },
   "source": [
    "#### We can also plot the CDF through some set of points"
   ]
  },
  {
   "cell_type": "code",
   "execution_count": 6,
   "id": "d5d96aba",
   "metadata": {
    "slideshow": {
     "slide_type": "-"
    }
   },
   "outputs": [
    {
     "data": {
      "text/plain": [
       "Text(0, 0.5, 'P(≤X)')"
      ]
     },
     "execution_count": 6,
     "metadata": {},
     "output_type": "execute_result"
    },
    {
     "data": {
      "image/png": "[encoded data removed]",
      "text/plain": [
       "<Figure size 432x288 with 1 Axes>"
      ]
     },
     "metadata": {
      "image/png": {
       "height": 261,
       "width": 385
      },
      "needs_background": "light"
     },
     "output_type": "display_data"
    }
   ],
   "source": [
    "points = np.linspace(-3, 3, 50)\n",
    "points_cdf = s_norm.cdf(points)\n",
    "p = plt.plot(points, points_cdf)\n",
    "plt.xlabel(\"X\")\n",
    "plt.ylabel(\"P(≤X)\")"
   ]
  },
  {
   "cell_type": "markdown",
   "id": "b92aef35",
   "metadata": {
    "slideshow": {
     "slide_type": "slide"
    }
   },
   "source": [
    "## Check-in: How would we calculate $p(>X)$?"
   ]
  },
  {
   "cell_type": "markdown",
   "id": "712c8f22",
   "metadata": {
    "slideshow": {
     "slide_type": "slide"
    }
   },
   "source": [
    "#### To calculate $p(>X)$, simply subtract $1 - p(≤X)$"
   ]
  },
  {
   "cell_type": "code",
   "execution_count": 7,
   "id": "5bbd3948",
   "metadata": {
    "slideshow": {
     "slide_type": "-"
    }
   },
   "outputs": [
    {
     "data": {
      "text/plain": [
       "0.15865525393145707"
      ]
     },
     "execution_count": 7,
     "metadata": {},
     "output_type": "execute_result"
    }
   ],
   "source": [
    "1 - s_norm.cdf(1)"
   ]
  },
  {
   "cell_type": "code",
   "execution_count": 8,
   "id": "dbed7d56",
   "metadata": {
    "slideshow": {
     "slide_type": "-"
    }
   },
   "outputs": [
    {
     "data": {
      "text/plain": [
       "True"
      ]
     },
     "execution_count": 8,
     "metadata": {},
     "output_type": "execute_result"
    }
   ],
   "source": [
    "# Normal distribution is *symmetric*\n",
    "(1 - s_norm.cdf(1)) == s_norm.cdf(-1)"
   ]
  },
  {
   "cell_type": "markdown",
   "id": "6ae63b06",
   "metadata": {
    "slideshow": {
     "slide_type": "slide"
    }
   },
   "source": [
    "## Why does $p$ matter?\n",
    "\n",
    "This **probability** $p$ tells us the likelihood of having sampled a value *at least as extreme* from our sampling distribution.\n",
    "\n",
    "Remember: we want to make a **decision** about whether or not to reject the **null hypothesis**.\n",
    "\n",
    "- If $p$ is very low, we feel more comfortable saying that our sample is unlikely to have come from the original population. \n",
    "- But if $p$ is very high, it suggests we did sample from the sampling distribution."
   ]
  },
  {
   "cell_type": "markdown",
   "id": "edd8474c",
   "metadata": {
    "slideshow": {
     "slide_type": "slide"
    }
   },
   "source": [
    "## Probabilistic truth\n",
    "\n",
    "This notion of scientific truth is a **probabilistic one**.  \n",
    "\n",
    "Concretely, it gives us: $p(≥\\bar{X} | H_0)$.\n",
    "\n",
    "- $p(≥\\bar{X}$ is the probability of obtaining a value at least as large (or as **extreme**) as $\\bar{X}$.  \n",
    "- This is **conditioned** on the null hypothesis ($H_0$) being *true*.\n",
    "\n",
    "If the null hypothesis was true, what is the likelihood of obtaining a sample mean this extreme by chance?"
   ]
  },
  {
   "cell_type": "markdown",
   "id": "2d6e978e",
   "metadata": {
    "slideshow": {
     "slide_type": "slide"
    }
   },
   "source": [
    "## 1c. Z-test\n",
    "\n",
    "Returning to our original example: \n",
    "\n",
    "> A researcher is interested in whether a new test prep course improves SAT performance. Somehow, we already know population-level mean: it's $520$. We also know that population $\\sigma = 5$. \n",
    "\n",
    "> They randomly assign 10 students to take the course, who then take the SAT. The researcher calculates the average SAT score for those students: it's $530$. \n",
    "\n",
    "**Did the test work**?"
   ]
  },
  {
   "cell_type": "markdown",
   "id": "265c6062",
   "metadata": {
    "slideshow": {
     "slide_type": "slide"
    }
   },
   "source": [
    "### Step 1: are sample and population mean different?\n",
    "\n",
    "This is easier to answer:\n",
    "\n",
    "$\\bar{X} - \\mu$"
   ]
  },
  {
   "cell_type": "code",
   "execution_count": 9,
   "id": "a9c86b69",
   "metadata": {
    "slideshow": {
     "slide_type": "-"
    }
   },
   "outputs": [
    {
     "data": {
      "text/plain": [
       "10"
      ]
     },
     "execution_count": 9,
     "metadata": {},
     "output_type": "execute_result"
    }
   ],
   "source": [
    "diff = 530 - 520\n",
    "diff"
   ]
  },
  {
   "cell_type": "markdown",
   "id": "cd42ec14",
   "metadata": {
    "slideshow": {
     "slide_type": "slide"
    }
   },
   "source": [
    "### Step 2: setting up our sampling distribution\n",
    "\n",
    "Recall that our sampling distribution represents the set of **sample means** we'd get if we were sampling from the true population.\n",
    "\n",
    "Thus, our sampling distribution is *parameterized* by:\n",
    "\n",
    "- The standard deviation of the population: $\\sigma = 5$  \n",
    "- The size of our sample: $n = 10$"
   ]
  },
  {
   "cell_type": "markdown",
   "id": "c4c5c680",
   "metadata": {
    "slideshow": {
     "slide_type": "slide"
    }
   },
   "source": [
    "### Calculating the variance of our sampling distribution\n",
    "\n",
    "The **standard error of the mean** can be obtained with a formula we've already seen:\n",
    "\n",
    "$\\sigma_{\\bar{X}} = \\frac{\\sigma}{\\sqrt{n}}$\n",
    "\n",
    "- $\\sigma_{\\bar{X}}$ = standard error of the mean.\n",
    "- $\\sigma$ = standard deviation of the population.  \n",
    "- $n$ = sample size.  "
   ]
  },
  {
   "cell_type": "code",
   "execution_count": 10,
   "id": "55dd7e51",
   "metadata": {
    "slideshow": {
     "slide_type": "-"
    }
   },
   "outputs": [
    {
     "data": {
      "text/plain": [
       "1.5811388300841895"
      ]
     },
     "execution_count": 10,
     "metadata": {},
     "output_type": "execute_result"
    }
   ],
   "source": [
    "se_mean = 5/math.sqrt(10)\n",
    "se_mean"
   ]
  },
  {
   "cell_type": "markdown",
   "id": "8dce75bf",
   "metadata": {
    "slideshow": {
     "slide_type": "slide"
    }
   },
   "source": [
    "### Step 3: Putting it altogether\n",
    "\n",
    "The whole formula for the **z-test** is given by:\n",
    "\n",
    "$Z_\\bar{X} = \\frac{\\bar{X} -\\mu}{\\sigma_{\\bar{X}}}$"
   ]
  },
  {
   "cell_type": "code",
   "execution_count": 11,
   "id": "afc23954",
   "metadata": {
    "slideshow": {
     "slide_type": "-"
    }
   },
   "outputs": [
    {
     "data": {
      "text/plain": [
       "6.324555320336759"
      ]
     },
     "execution_count": 11,
     "metadata": {},
     "output_type": "execute_result"
    }
   ],
   "source": [
    "z = diff / se_mean\n",
    "z"
   ]
  },
  {
   "cell_type": "markdown",
   "id": "9b2ac488",
   "metadata": {
    "slideshow": {
     "slide_type": "slide"
    }
   },
   "source": [
    "### Finding a p-value\n",
    "\n",
    "Now that we have a value for $Z_\\bar{X}$, we want to know how **likely** it is to obtain a value at least that large. \n",
    "\n",
    "And we can use the **standard normal distribution** as our sampling distribution!"
   ]
  },
  {
   "cell_type": "code",
   "execution_count": 12,
   "id": "eb996615",
   "metadata": {
    "slideshow": {
     "slide_type": "-"
    }
   },
   "outputs": [
    {
     "data": {
      "text/plain": [
       "1.269814253745949e-10"
      ]
     },
     "execution_count": 12,
     "metadata": {},
     "output_type": "execute_result"
    }
   ],
   "source": [
    "pop_dist = ss.norm(loc = 0, scale = 1)\n",
    "p = 1 - pop_dist.cdf(z)\n",
    "p"
   ]
  },
  {
   "cell_type": "markdown",
   "id": "a618ca21",
   "metadata": {
    "slideshow": {
     "slide_type": "slide"
    }
   },
   "source": [
    "## Check-in: Why did we calculate $p(>X)$, rather than $p(<X)$? "
   ]
  },
  {
   "cell_type": "markdown",
   "id": "3caf0ca2",
   "metadata": {
    "slideshow": {
     "slide_type": "slide"
    }
   },
   "source": [
    "## Check-in: What would we do if we just wanted to know if the population mean was *different* from the sample mean?"
   ]
  },
  {
   "cell_type": "markdown",
   "id": "2859aecb",
   "metadata": {
    "slideshow": {
     "slide_type": "slide"
    }
   },
   "source": [
    "## Making a decision\n",
    "\n",
    "Typically, we set some **decision threshold** ($\\alpha$), which reflects our tolerance for a false positive.\n",
    "\n",
    "- If $p < \\alpha$, then we **reject** the null hypothesis.  \n",
    "- If $p ≥ \\alpha$, we **fail to reject** the null hypothesis."
   ]
  },
  {
   "cell_type": "markdown",
   "id": "2cee03cb",
   "metadata": {
    "slideshow": {
     "slide_type": "slide"
    }
   },
   "source": [
    "## Check-in: Should we reject the null hypothesis in this case?"
   ]
  },
  {
   "cell_type": "markdown",
   "id": "56f2886d",
   "metadata": {
    "slideshow": {
     "slide_type": "slide"
    }
   },
   "source": [
    "## Check-in: Does this mean we're $100\\%$ confident that the test prep worked? Why or why not?"
   ]
  },
  {
   "cell_type": "markdown",
   "id": "72f94fa8",
   "metadata": {
    "slideshow": {
     "slide_type": "slide"
    }
   },
   "source": [
    "## Decisions can be wrong\n",
    "\n",
    "In [signal detection](https://en.wikipedia.org/wiki/Detection_theory), there's always some possibility that we make the **wrong decision**.\n",
    "\n",
    "- A **false positive** is when we incorrectly reject the null hypothesis––i.e., there's no \"real\" effect, but we conclude that there is.  \n",
    " - Sometimes called **false alarm** \n",
    "- A **false negative** is when we incorrectly *fail* to reject the null––i.e., there is a \"real\" effect, but we miss it.  \n",
    " - Sometimes called **miss**"
   ]
  },
  {
   "cell_type": "markdown",
   "id": "ef36e861",
   "metadata": {
    "slideshow": {
     "slide_type": "slide"
    }
   },
   "source": [
    "## Check-in: What's worse, in your opinion––a false positive or false negative?"
   ]
  },
  {
   "cell_type": "markdown",
   "id": "64c015c9",
   "metadata": {
    "slideshow": {
     "slide_type": "slide"
    }
   },
   "source": [
    "## False positives in published science\n",
    "\n",
    "The [replication crisis](https://en.wikipedia.org/wiki/Replication_crisis) has called attention to the prevalence of **false positive results** in published research.\n",
    "\n",
    "Many causes:  \n",
    "\n",
    "- [Publication bias (\"file drawer problem\")](https://en.wikipedia.org/wiki/Publication_bias). \n",
    "- [\"P-hacking\"](https://en.wikipedia.org/wiki/Data_dredging). "
   ]
  },
  {
   "cell_type": "markdown",
   "id": "8342b92a",
   "metadata": {
    "slideshow": {
     "slide_type": "slide"
    }
   },
   "source": [
    "## Check-in: Why can p-hacking lead to false positives?"
   ]
  },
  {
   "cell_type": "markdown",
   "id": "a71b4f99",
   "metadata": {
    "slideshow": {
     "slide_type": "slide"
    }
   },
   "source": [
    "## P-hacking and false positives\n",
    "\n",
    "Recall that $\\alpha$ is our threshold for rejecting the null hypothesis.\n",
    "\n",
    "- If $\\alpha = .05$, it means that we're accepting a $5\\%$ chance of a false positive.  \n",
    "- And if we run **multiple tests** on the same dataset, this chance can be greatly inflated.  "
   ]
  },
  {
   "cell_type": "markdown",
   "id": "555a2e29",
   "metadata": {
    "slideshow": {
     "slide_type": "slide"
    }
   },
   "source": [
    "## Check-in: What's the probability of obtaining at least one false positive result with two tests?"
   ]
  },
  {
   "cell_type": "markdown",
   "id": "bfbc825c",
   "metadata": {
    "slideshow": {
     "slide_type": "slide"
    }
   },
   "source": [
    "### Answer: $p(≥FP)$ with two tests\n",
    "\n",
    "- Start out by asking: what's the probability of **no false positives**?  \n",
    "- Analogy: what's the probability of getting **HH** with two coin tosses?\n",
    "\n",
    "This is equivalent to:\n",
    "\n",
    "$p(HH) = p(H)^k$ ... where $k$ is the number of tosses."
   ]
  },
  {
   "cell_type": "code",
   "execution_count": 13,
   "id": "ae57ffea",
   "metadata": {
    "slideshow": {
     "slide_type": "-"
    }
   },
   "outputs": [
    {
     "data": {
      "text/plain": [
       "0.25"
      ]
     },
     "execution_count": 13,
     "metadata": {},
     "output_type": "execute_result"
    }
   ],
   "source": [
    "## Assuming a fair coin...\n",
    ".5 ** 2"
   ]
  },
  {
   "cell_type": "markdown",
   "id": "7f79a5a0",
   "metadata": {
    "slideshow": {
     "slide_type": "slide"
    }
   },
   "source": [
    "### Answer: $p(≥FP)$ with two tests\n",
    "\n",
    "- We want to know the **complement** of that probability.  \n",
    "- Analogy: what's the probability of getting **at least one T** with two coin tosses?\n",
    "\n",
    "To calculate this, we **subtract** the probability of $p(HH)$.  \n",
    "\n",
    "$p(≥T) = 1 - p(H)^k$"
   ]
  },
  {
   "cell_type": "code",
   "execution_count": 14,
   "id": "f81d887d",
   "metadata": {
    "slideshow": {
     "slide_type": "-"
    }
   },
   "outputs": [
    {
     "data": {
      "text/plain": [
       "0.75"
      ]
     },
     "execution_count": 14,
     "metadata": {},
     "output_type": "execute_result"
    }
   ],
   "source": [
    "## Assuming a fair coin...\n",
    "1 - (.5 ** 2)"
   ]
  },
  {
   "cell_type": "markdown",
   "id": "b759e16f",
   "metadata": {
    "slideshow": {
     "slide_type": "slide"
    }
   },
   "source": [
    "### Applying this to hypothesis testing"
   ]
  },
  {
   "cell_type": "code",
   "execution_count": 15,
   "id": "91adb5a3",
   "metadata": {
    "slideshow": {
     "slide_type": "-"
    }
   },
   "outputs": [
    {
     "data": {
      "text/plain": [
       "0.09750000000000003"
      ]
     },
     "execution_count": 15,
     "metadata": {},
     "output_type": "execute_result"
    }
   ],
   "source": [
    "alpha = .05  ## p(FP) for a given test\n",
    "num_tests = 2  ## k\n",
    "p_fp = 1 - (1-alpha)**num_tests \n",
    "p_fp"
   ]
  },
  {
   "cell_type": "markdown",
   "id": "4207c541",
   "metadata": {
    "slideshow": {
     "slide_type": "slide"
    }
   },
   "source": [
    "### $p(≥FP)$ gets big quickly!"
   ]
  },
  {
   "cell_type": "code",
   "execution_count": 16,
   "id": "9e3bcc28",
   "metadata": {
    "slideshow": {
     "slide_type": "-"
    }
   },
   "outputs": [
    {
     "data": {
      "text/plain": [
       "0.4012630607616213"
      ]
     },
     "execution_count": 16,
     "metadata": {},
     "output_type": "execute_result"
    }
   ],
   "source": [
    "alpha = .05  ## p(FP) for a given test\n",
    "num_tests = 10  ## k\n",
    "p_fp = 1 - (1-alpha)**num_tests \n",
    "p_fp"
   ]
  },
  {
   "cell_type": "markdown",
   "id": "bac80013",
   "metadata": {
    "slideshow": {
     "slide_type": "slide"
    }
   },
   "source": [
    "## Conclusion: NHST foundations\n",
    "\n",
    "- We want to know whether $\\bar{X} ≠ \\mu$. \n",
    "- Because of **sampling error**, we need to account for the probability that a difference this large could've been obtained given the **null hypothesis**.  \n",
    "- The CLT allows us to make a **probabilistic decision** about whether to reject the null.  \n",
    "- This decision comes with a caveat: there's always *some* probability of a **false positive** or a **false negative**."
   ]
  },
  {
   "cell_type": "markdown",
   "id": "db5efbab",
   "metadata": {
    "slideshow": {
     "slide_type": "slide"
    }
   },
   "source": [
    "# Part 2: One-sample t-test"
   ]
  },
  {
   "cell_type": "markdown",
   "id": "f68cc388",
   "metadata": {
    "slideshow": {
     "slide_type": "slide"
    }
   },
   "source": [
    "## Background: Z-test\n",
    "\n",
    "A key limitation of the **z-test** is that it assumes we know the **population SD** ($\\sigma$). The formula for the standard error of the mean depends on it:\n",
    "\n",
    "$\\sigma_{\\bar{X}} = \\frac{\\sigma}{\\sqrt{n}}$\n",
    "\n",
    "**But this is rarely, if ever, true!**"
   ]
  },
  {
   "cell_type": "markdown",
   "id": "bd3f57e9",
   "metadata": {
    "slideshow": {
     "slide_type": "slide"
    }
   },
   "source": [
    "## One-sample t-test\n",
    "\n",
    "- As with z-test, we want to compare a **sample mean** ($\\bar{X}$) to a population mean ($\\mu$).   \n",
    "- Key difference: We don't know $\\sigma$.  \n",
    "\n",
    "**If we don't know $\\sigma$, we can instead use the sampling distribution of $t$.**\n"
   ]
  },
  {
   "cell_type": "markdown",
   "id": "a26af147",
   "metadata": {
    "slideshow": {
     "slide_type": "slide"
    }
   },
   "source": [
    "## Sampling distribution of $t$\n",
    "\n",
    "- More appropriately termed a *family* of distributions.  \n",
    "- Parameterized by **degrees of freedom**, or $df$.  \n",
    " \n",
    " $df = n - 1$, where $n$ is #observations. \n",
    " \n",
    "\n",
    "- As $n$ increases, sampling distribution becomes increasingly normal.  "
   ]
  },
  {
   "cell_type": "markdown",
   "id": "3918a36d",
   "metadata": {
    "slideshow": {
     "slide_type": "slide"
    }
   },
   "source": [
    "### $t$-distribution in Python\n",
    "\n",
    "We can use `scipy.stats.t` to access different functions related to the sampling distribution of $t$.  \n",
    "\n",
    "- `t.rvs`: generate random variates from a given $t$-distribution. \n",
    "- `t.pdf`: probability density function for a set of points using a given $t$-distribution.  \n",
    "- `t.cdf`: cumulative distribution function for a set of points using a given $t$-distribution. \n",
    "\n",
    "And more!"
   ]
  },
  {
   "cell_type": "markdown",
   "id": "7fabcf1a",
   "metadata": {
    "slideshow": {
     "slide_type": "slide"
    }
   },
   "source": [
    "### Check-in: What do we notice about the distribution where $df = 1$?\n",
    "\n",
    "(For comparison, let's also look at the standard normal distribution.)"
   ]
  },
  {
   "cell_type": "code",
   "execution_count": 29,
   "id": "c038ee56",
   "metadata": {
    "slideshow": {
     "slide_type": "-"
    }
   },
   "outputs": [
    {
     "data": {
      "text/plain": [
       "<matplotlib.legend.Legend at 0x7fe1e2453730>"
      ]
     },
     "execution_count": 29,
     "metadata": {},
     "output_type": "execute_result"
    },
    {
     "data": {
      "image/png": "[encoded data removed]",
      "text/plain": [
       "<Figure size 432x288 with 1 Axes>"
      ]
     },
     "metadata": {
      "image/png": {
       "height": 248,
       "width": 568
      },
      "needs_background": "light"
     },
     "output_type": "display_data"
    }
   ],
   "source": [
    "points =  np.linspace(-4, 4, num = 50)\n",
    "s_norm = ss.norm(loc = 0, scale = 1)\n",
    "points_pdf_norm = s_norm.pdf(points)\n",
    "points_pdf =  ss.t.pdf(points, df = 1)\n",
    "p = plt.plot(points, points_pdf, label = \"t-distribution (df = 1)\")\n",
    "p2 = plt.plot(points, points_pdf_norm, label = \"Standard Normal Distribution\")\n",
    "plt.legend(bbox_to_anchor=(1.02, 1), loc='upper left', borderaxespad=0)"
   ]
  },
  {
   "cell_type": "markdown",
   "id": "9d717685",
   "metadata": {
    "slideshow": {
     "slide_type": "slide"
    }
   },
   "source": [
    "### Check-in: What do we notice about the distribution where $df = 10$?\n",
    "\n",
    "(For comparison, let's also look at the standard normal distribution.)"
   ]
  },
  {
   "cell_type": "code",
   "execution_count": 34,
   "id": "40311861",
   "metadata": {
    "slideshow": {
     "slide_type": "-"
    }
   },
   "outputs": [
    {
     "data": {
      "text/plain": [
       "<matplotlib.legend.Legend at 0x7fe1d12882e0>"
      ]
     },
     "execution_count": 34,
     "metadata": {},
     "output_type": "execute_result"
    },
    {
     "data": {
      "image/png": "[encoded data removed]",
      "text/plain": [
       "<Figure size 432x288 with 1 Axes>"
      ]
     },
     "metadata": {
      "image/png": {
       "height": 248,
       "width": 568
      },
      "needs_background": "light"
     },
     "output_type": "display_data"
    }
   ],
   "source": [
    "points_pdf =  ss.t.pdf(points, df = 10)\n",
    "p = plt.plot(points, points_pdf, label = \"t-distribution (df = 10)\")\n",
    "p2 = plt.plot(points, points_pdf_norm, label = \"Standard Normal Distribution\")\n",
    "plt.legend(bbox_to_anchor=(1.02, 1), loc='upper left', borderaxespad=0)"
   ]
  },
  {
   "cell_type": "markdown",
   "id": "4c6b0b90",
   "metadata": {
    "slideshow": {
     "slide_type": "slide"
    }
   },
   "source": [
    "## The role of $n$ \n",
    "\n",
    "- For smaller $n$, the *tails* of $t$-distribution are inflated relative to standard normal distribution. \n",
    "- As $n \\to \\infty$, $t$-distribution approximates standard normal distribution.  \n",
    "- This means the same **value** of $t$ (e.g., $t = 4$) is *differentially likely* given different values of $n$.  "
   ]
  },
  {
   "cell_type": "markdown",
   "id": "5f59deb2",
   "metadata": {
    "slideshow": {
     "slide_type": "slide"
    }
   },
   "source": [
    "## Check-in: Is an extreme value of $t$ *more* or *less* likely for $n = 5$ vs. $n = 20$? Why?"
   ]
  },
  {
   "cell_type": "markdown",
   "id": "b0dcf938",
   "metadata": {
    "slideshow": {
     "slide_type": "slide"
    }
   },
   "source": [
    "## Check-in: Is an extreme value of $t$ *more* or *less* likely for $n = 5$ vs. $n = 20$? Why?\n",
    "\n",
    "**Answer**: Extreme values are *more* likely under the sampling distribution when $n$ is smaller.  \n",
    "\n",
    "- This is because the *tails* (i.e., extreme values) are **inflated** for smaller values of $n$.  \n",
    "- On a practical level, this is one reason **sample size** really matters––you're less likely to **miss** a true positive with a larger sample.\n",
    " - I.e., less likely to *incorrectly* reject the null."
   ]
  },
  {
   "cell_type": "markdown",
   "id": "729f1ef6",
   "metadata": {
    "slideshow": {
     "slide_type": "slide"
    }
   },
   "source": [
    "## So what is the $t$-test?  \n",
    "\n",
    "The formula ends up quite similar to the $z$-test:\n",
    "\n",
    "$t_{\\bar{X}} = \\frac{\\bar{X} -\\mu}{s_{\\bar{X}}}$\n",
    "\n",
    "Compare to the $z$-test formula:\n",
    "\n",
    "$z_{\\bar{X}} = \\frac{\\bar{X} -\\mu}{\\sigma_{\\bar{X}}}$\n",
    "\n",
    "**What's the key difference between these?**"
   ]
  },
  {
   "cell_type": "markdown",
   "id": "edd949b4",
   "metadata": {
    "slideshow": {
     "slide_type": "slide"
    }
   },
   "source": [
    "## So what is the $t$-test?  \n",
    "\n",
    "The formula ends up quite similar to the $z$-test:\n",
    "\n",
    "$t_{\\bar{X}} = \\frac{\\bar{X} -\\mu}{s_{\\bar{X}}}$\n",
    "\n",
    "Compare to the $z$-test formula:\n",
    "\n",
    "$z_{\\bar{X}} = \\frac{\\bar{X} -\\mu}{\\sigma_{\\bar{X}}}$\n",
    "\n",
    "**What's the key difference between these?**\n",
    "\n",
    "- $s$ vs. $\\sigma$ for calculating **standard error of the mean** "
   ]
  },
  {
   "cell_type": "markdown",
   "id": "1cecbd14",
   "metadata": {
    "slideshow": {
     "slide_type": "slide"
    }
   },
   "source": [
    "## $t$-test in Python\n",
    "\n",
    "Let's start with a scenario:\n",
    "\n",
    "> On average, people spend about 150 minutes a day on their iPhone. Suppose that Apple develops a new system to help people monitor and reduce screen time (if they want). A group of 10 participants demos this software, and their screen time is recorded..."
   ]
  },
  {
   "cell_type": "code",
   "execution_count": 82,
   "id": "b0e405bb",
   "metadata": {
    "slideshow": {
     "slide_type": "slide"
    }
   },
   "outputs": [
    {
     "data": {
      "text/plain": [
       "<matplotlib.lines.Line2D at 0x7fe1a0092820>"
      ]
     },
     "execution_count": 82,
     "metadata": {},
     "output_type": "execute_result"
    },
    {
     "data": {
      "image/png": "[encoded data removed]",
      "text/plain": [
       "<Figure size 432x288 with 1 Axes>"
      ]
     },
     "metadata": {
      "image/png": {
       "height": 248,
       "width": 373
      },
      "needs_background": "light"
     },
     "output_type": "display_data"
    }
   ],
   "source": [
    "## generate a sample, with mean = 145 and SD = 5\n",
    "np.random.seed(10)\n",
    "sample = np.random.normal(loc = 145, scale = 5, size = 10)\n",
    "p = plt.hist(sample, alpha = .5)\n",
    "plt.axvline(x = 150, linestyle = \"dotted\", color = \"red\")"
   ]
  },
  {
   "cell_type": "markdown",
   "id": "cb3a5e59",
   "metadata": {
    "slideshow": {
     "slide_type": "slide"
    }
   },
   "source": [
    "## $t$-test in Python\n",
    "\n",
    "Now, we can ask whether the sample **deviates** from the population. For a **one-sample t-test**, we can use:\n",
    "\n",
    "```\n",
    "ss.ttest_1samp(\n",
    "    a = ... # sample observations\n",
    "    popmean = ... # number indicating population mean\n",
    "    alternative = ... # two-sided vs. less/greater (i.e. two vs. one tailed)\n",
    ")\n",
    "```"
   ]
  },
  {
   "cell_type": "code",
   "execution_count": 79,
   "id": "59bac90a",
   "metadata": {
    "slideshow": {
     "slide_type": "-"
    }
   },
   "outputs": [
    {
     "name": "stdout",
     "output_type": "stream",
     "text": [
      "t = -3.75, p = 0.0023\n"
     ]
    }
   ],
   "source": [
    "t = ss.ttest_1samp(sample, popmean = 150, alternative=\"less\")\n",
    "print(\"t = {t}, p = {p}\".format(t = round(t.statistic, 2), p = round(t.pvalue, 4)))"
   ]
  },
  {
   "cell_type": "markdown",
   "id": "7aa76199",
   "metadata": {
    "slideshow": {
     "slide_type": "slide"
    }
   },
   "source": [
    "## Check-in: Did the software reduce screen time?"
   ]
  },
  {
   "cell_type": "markdown",
   "id": "0802844c",
   "metadata": {
    "slideshow": {
     "slide_type": "slide"
    }
   },
   "source": [
    "# Part 3: Two-sample $t$-tests\n",
    "\n",
    "- Typically, we're not comparing a **sample** to a **population**.  \n",
    "- Instead, we're often interested in comparing **two samples**.  \n",
    " - **Independent samples**: `Treatment` vs. `Placebo`.\n",
    " - **Paired samples**: `Pre` vs. `Post`. \n",
    "\n",
    "**Conceptual logic: are these samples drawn from different populations?**"
   ]
  },
  {
   "cell_type": "markdown",
   "id": "febf0448",
   "metadata": {
    "slideshow": {
     "slide_type": "slide"
    }
   },
   "source": [
    "## Independent samples $t$-test\n",
    "\n",
    "- An **independent samples $t$-test** is used when we're comparing two experimental groups. \n",
    "- E.g., two groups of people **randomly** assigned to different conditions\n",
    "\n",
    "Recall the formula for the one-sample $t$-test:\n",
    "\n",
    "$t_{\\bar{X}} = \\frac{\\bar{X} -\\mu}{s_{\\bar{X}}}$\n",
    "\n",
    "The independent samples $t$-test is conceptually similar:\n",
    "\n",
    "$t_{\\bar{X}} = \\frac{\\bar{X_1} -\\bar{X_2}}{s_{\\bar{X}}}$"
   ]
  },
  {
   "cell_type": "markdown",
   "id": "04988aaa",
   "metadata": {
    "slideshow": {
     "slide_type": "slide"
    }
   },
   "source": [
    "## A new formula for standard error\n",
    "\n",
    "The **standard error of the difference between means** is calculated by **pooling the variance** from our two samples.\n",
    "\n",
    "$s_{\\bar{X_1} - \\bar{X_2}} = \\sqrt{\\frac{s_1^2}{n_1} + \\frac{s_2^2}{n_2}}$\n",
    "\n",
    "From Witte & Witte (11th edition, pg. 250):\n",
    "\n",
    "> \"...**the value of the new standard error always will be larger than that of the original one**...The original standard error reflects only the variability of single sample means about the mean of their sampling distribution. But the new standard error reflects extra variability when, as a result of random pairings, large differences between pairs of sample means occur, just by chance, because they happen to deviate in opposite directions.\""
   ]
  },
  {
   "cell_type": "markdown",
   "id": "e076e797",
   "metadata": {
    "slideshow": {
     "slide_type": "slide"
    }
   },
   "source": [
    "## Independent samples $t$-test in Python\n",
    "\n",
    "Let's adapt the scenario we used before:\n",
    "\n",
    "> Apple develops a new software to reduce screen time. They run an experiment, in which 10 participants are assigned to the Control condition (they use their phones as normal), and 10 are assigned to the Treatment condition (they use the new monitoring system). The screen times of both groups are  recorded..."
   ]
  },
  {
   "cell_type": "code",
   "execution_count": 83,
   "id": "ed523fc6",
   "metadata": {
    "slideshow": {
     "slide_type": "slide"
    }
   },
   "outputs": [
    {
     "data": {
      "text/plain": [
       "<matplotlib.legend.Legend at 0x7fe1c3c1caf0>"
      ]
     },
     "execution_count": 83,
     "metadata": {},
     "output_type": "execute_result"
    },
    {
     "data": {
      "image/png": "[encoded data removed]",
      "text/plain": [
       "<Figure size 432x288 with 1 Axes>"
      ]
     },
     "metadata": {
      "image/png": {
       "height": 248,
       "width": 376
      },
      "needs_background": "light"
     },
     "output_type": "display_data"
    }
   ],
   "source": [
    "np.random.seed(10)\n",
    "control = np.random.normal(loc = 148, scale = 5, size = 10)\n",
    "treatment = np.random.normal(loc = 142, scale = 5, size = 10)\n",
    "plt.hist(control, label = \"Control\", alpha = .5)\n",
    "plt.hist(treatment, label = \"Treatment\", alpha = .5)\n",
    "plt.legend()"
   ]
  },
  {
   "cell_type": "markdown",
   "id": "57b644dc",
   "metadata": {
    "slideshow": {
     "slide_type": "slide"
    }
   },
   "source": [
    "## Independent samples $t$-test in Python\n",
    "\n",
    "We can ask whether the samples differ using:\n",
    "\n",
    "```\n",
    "scipy.stats.ttest_ind(\n",
    "    a = .... # group 1\n",
    "    b = .... # group 2\n",
    "    alternative = .... # two-sided vs. less vs. greater\n",
    ")\n",
    "\n",
    "```"
   ]
  },
  {
   "cell_type": "markdown",
   "id": "a204248a",
   "metadata": {
    "slideshow": {
     "slide_type": "slide"
    }
   },
   "source": [
    "## Check-in: is there a difference between groups?"
   ]
  },
  {
   "cell_type": "code",
   "execution_count": 96,
   "id": "7f532c01",
   "metadata": {
    "slideshow": {
     "slide_type": "-"
    }
   },
   "outputs": [
    {
     "name": "stdout",
     "output_type": "stream",
     "text": [
      "t = -2.75, p = 0.0065\n"
     ]
    }
   ],
   "source": [
    "t = ss.ttest_ind(treatment, control, alternative = \"less\")\n",
    "print(\"t = {t}, p = {p}\".format(t = round(t.statistic, 2), p = round(t.pvalue, 4)))"
   ]
  },
  {
   "cell_type": "markdown",
   "id": "f5175254",
   "metadata": {
    "slideshow": {
     "slide_type": "slide"
    }
   },
   "source": [
    "## Paired samples $t$-test\n",
    "\n",
    "- Often, our study involves some kind of **repeated measure**. \n",
    "- E.g., same subjects take a test `before` and `after` an intervention. \n",
    "- One advantage of this is we effectively *control* for individual differences. \n"
   ]
  },
  {
   "cell_type": "markdown",
   "id": "0efcc35c",
   "metadata": {
    "slideshow": {
     "slide_type": "slide"
    }
   },
   "source": [
    "### Check-in: should this make the standard error larger or smaller?"
   ]
  },
  {
   "cell_type": "markdown",
   "id": "e28d2682",
   "metadata": {
    "slideshow": {
     "slide_type": "slide"
    }
   },
   "source": [
    "## Paired samples $t$-test\n",
    "\n",
    "Rather than comparing the means of two independent samples, we calculate **within-subject differences** across conditions.\n",
    "\n",
    "$D = X_1 - X_2$\n",
    "\n",
    "This allows us to calculate a **mean difference score**:\n",
    "\n",
    "$\\bar{D} = \\frac{\\sum{D}}{n}$"
   ]
  },
  {
   "cell_type": "markdown",
   "id": "ab4bcd7d",
   "metadata": {
    "slideshow": {
     "slide_type": "slide"
    }
   },
   "source": [
    "## Standard error of *difference scores*\n",
    "\n",
    "- A big advantages of repeated-measures design is that it reduces our variance estimates.  \n",
    "- In fact, the formula for $\\sigma_\\bar{D}$ (or $s_\\bar{D}$ is more similar to the formulas we use for a z-test or one-sample t-test.\n",
    "\n",
    "$s_\\bar{D} = \\frac{s_D}{\\sqrt{n}}$\n",
    "\n",
    "Where $s_D = \\sqrt{\\frac{SS_{D}}{n-1}}$"
   ]
  },
  {
   "cell_type": "markdown",
   "id": "0e7ffae0",
   "metadata": {
    "slideshow": {
     "slide_type": "slide"
    }
   },
   "source": [
    "## Paired sample $t$-test in Python\n",
    "\n",
    "Let's adapt our scenario once more:\n",
    "\n",
    "> Apple develops a new software to reduce screen time. They run an experiment: first, the screen time of 10 participants is measured before using the software. Then, once the software is installed, the screen times for those participants are measured again..."
   ]
  },
  {
   "cell_type": "code",
   "execution_count": 94,
   "id": "aa409d04",
   "metadata": {
    "slideshow": {
     "slide_type": "slide"
    }
   },
   "outputs": [
    {
     "data": {
      "text/plain": [
       "<matplotlib.legend.Legend at 0x7fe190164f10>"
      ]
     },
     "execution_count": 94,
     "metadata": {},
     "output_type": "execute_result"
    },
    {
     "data": {
      "image/png": "[encoded data removed]",
      "text/plain": [
       "<Figure size 432x288 with 1 Axes>"
      ]
     },
     "metadata": {
      "image/png": {
       "height": 248,
       "width": 376
      },
      "needs_background": "light"
     },
     "output_type": "display_data"
    }
   ],
   "source": [
    "np.random.seed(10)\n",
    "control = np.random.normal(loc = 148, scale = 5, size = 10)\n",
    "treatment = np.random.normal(loc = 142, scale = 5, size = 10)\n",
    "plt.hist(control, label = \"Pre\", alpha = .5)\n",
    "plt.hist(treatment, label = \"Post\", alpha = .5)\n",
    "plt.legend()"
   ]
  },
  {
   "cell_type": "markdown",
   "id": "5fe7fdae",
   "metadata": {
    "slideshow": {
     "slide_type": "slide"
    }
   },
   "source": [
    "## Independent samples $t$-test in Python\n",
    "\n",
    "We can ask whether the samples differ using:\n",
    "\n",
    "```\n",
    "scipy.stats.ttest_ind(\n",
    "    a = .... # group 1 (e.g., pre)\n",
    "    b = .... # group 2 (e.g., post)\n",
    "    alternative = .... # two-sided vs. less vs. greater\n",
    ")\n",
    "```\n",
    "\n",
    "Note that `a` and `b` *must* have the same shape (e.g., same number of observations)."
   ]
  },
  {
   "cell_type": "markdown",
   "id": "cc202666",
   "metadata": {
    "slideshow": {
     "slide_type": "slide"
    }
   },
   "source": [
    "## Check-in: is there a difference between groups?"
   ]
  },
  {
   "cell_type": "code",
   "execution_count": 99,
   "id": "aa43c948",
   "metadata": {
    "slideshow": {
     "slide_type": "-"
    }
   },
   "outputs": [
    {
     "name": "stdout",
     "output_type": "stream",
     "text": [
      "t = -3.46, p = 0.0036\n"
     ]
    }
   ],
   "source": [
    "t = ss.ttest_rel(treatment, control, alternative = \"less\")\n",
    "print(\"t = {t}, p = {p}\".format(t = round(t.statistic, 2), p = round(t.pvalue, 4)))"
   ]
  },
  {
   "cell_type": "markdown",
   "id": "3c46ad4a",
   "metadata": {
    "slideshow": {
     "slide_type": "slide"
    }
   },
   "source": [
    "## Check-in: Is this value of $t$ larger or smaller than when we used independent samples (assuming the same exact numbers?)"
   ]
  },
  {
   "cell_type": "markdown",
   "id": "c04a7fa0",
   "metadata": {
    "slideshow": {
     "slide_type": "slide"
    }
   },
   "source": [
    "## Check-in: Is this value of $t$ larger or smaller than when we used independent samples (assuming the same exact numbers?)\n",
    "\n",
    "- **Answer**: It's *larger*. \n",
    "\n",
    "- This is because the variance estimate in the denominator is *smaller*.  "
   ]
  },
  {
   "cell_type": "markdown",
   "id": "c36dee06",
   "metadata": {
    "slideshow": {
     "slide_type": "slide"
    }
   },
   "source": [
    "# Conclusion: NHST in practice\n",
    "\n",
    "#### Goals for today:\n",
    "\n",
    "- **Explain** the theoretical foundations of NHST   \n",
    "- **Implement** a t-test in Python.  \n",
    "- **Evaluate** the result of a t-test with respect to a research hypothesis.   \n",
    "\n",
    "#### Other tests\n",
    "\n",
    "- No time to cover **ANOVA** or **chi-squared test**, etc. \n",
    "- But same intuitions apply––in each case, we always want to compare some **test statistic** to a theorized **sampling distribution**. "
   ]
  }
 ],
 "metadata": {
  "celltoolbar": "Slideshow",
  "kernelspec": {
   "display_name": "Python 3 (ipykernel)",
   "language": "python",
   "name": "python3"
  },
  "language_info": {
   "codemirror_mode": {
    "name": "ipython",
    "version": 3
   },
   "file_extension": ".py",
   "mimetype": "text/x-python",
   "name": "python",
   "nbconvert_exporter": "python",
   "pygments_lexer": "ipython3",
   "version": "3.9.12"
  }
 },
 "nbformat": 4,
 "nbformat_minor": 5
}
