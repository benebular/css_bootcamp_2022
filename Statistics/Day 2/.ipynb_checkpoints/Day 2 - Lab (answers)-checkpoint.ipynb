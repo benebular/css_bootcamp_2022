{
 "cells": [
  {
   "cell_type": "markdown",
   "id": "dbde9975",
   "metadata": {},
   "source": [
    "# CSS Bootcamp\n",
    "\n",
    "## Day 2 (NHST in practice): Lab\n",
    "\n",
    "This lab is intended to accompany **Day 2** of the week on **Statistics**, which focuses on:\n",
    "\n",
    "- The conceptual foundations of **NHST** \n",
    "- How a **independent sample t-test** works  \n",
    "- Using a **t-test** in Python (using `scipy.stats`)\n",
    "\n",
    "This lab has some \"free response\" questions, in which you are asked to describe or make some inference from a graph. \n",
    "\n",
    "It also has questions requiring you to program answers in Python. In some cases, this will use built-in functions we've discussed in class (either today, or previous weeks). In others, there'll be a built-in function that we *haven't* discussed, which you will have to look up in the documentation. And in other cases, you'll be asked to write an original function.\n",
    "\n",
    "Please reach out for help if anything is unclear!"
   ]
  },
  {
   "cell_type": "markdown",
   "id": "ce07302c",
   "metadata": {},
   "source": [
    "#### Key imports\n",
    "\n",
    "Here, we import some of the libraries that will be critical for the lab."
   ]
  },
  {
   "cell_type": "code",
   "execution_count": 5,
   "id": "b524033e",
   "metadata": {},
   "outputs": [],
   "source": [
    "import matplotlib.pyplot as plt\n",
    "import math\n",
    "import numpy as np\n",
    "import seaborn as sns\n",
    "import scipy.stats as ss\n",
    "import pandas as pd"
   ]
  },
  {
   "cell_type": "code",
   "execution_count": 6,
   "id": "8c97ea6f",
   "metadata": {},
   "outputs": [],
   "source": [
    "%matplotlib inline\n",
    "%config InlineBackend.figure_format = 'retina'  # makes figs nicer!"
   ]
  },
  {
   "cell_type": "markdown",
   "id": "d7a9f50c",
   "metadata": {},
   "source": [
    "## Part 1: Philosophy of NHST\n",
    "\n",
    "The notion of a sampling distribution is central to **Null Hypothesis Significance Testing**, or **NHST**. Combined with probability theory, this allows us to make inferences about the probability of obtaining a particular result (e.g., a test statistic), under some sampling distribution (which usually represents the null hypothesis).\n",
    "\n",
    "In this section, the exercises will focus on a couple topics:\n",
    "\n",
    "- Basic probability (with an emphasis on probability *functions*)  \n",
    "- The philosophical nuts and bolts of NHST: null vs. alternate hypotheses  \n",
    "- Signal detection theory"
   ]
  },
  {
   "cell_type": "markdown",
   "id": "da2cf029",
   "metadata": {},
   "source": [
    "### 1A. Probability and normal distributions\n",
    "\n",
    "Recall that the **standard normal distribution** is the result of **z-scoring** an already normal distribution. This results in a distribution with the following parameters:\n",
    "\n",
    "- The **mean** ($\\mu$) is 0.  \n",
    "- The **standard deviation** ($\\sigma$) is 1."
   ]
  },
  {
   "cell_type": "code",
   "execution_count": 7,
   "id": "e342d356",
   "metadata": {},
   "outputs": [],
   "source": [
    "## Creates a standard normal distribution object\n",
    "sn_dist = ss.norm(0, 1) "
   ]
  },
  {
   "cell_type": "markdown",
   "id": "84d90d95",
   "metadata": {},
   "source": [
    "###### Use the `cdf` function to calculate the cumulative probability density of a set of points using `sn_dist`."
   ]
  },
  {
   "cell_type": "code",
   "execution_count": 8,
   "id": "35f1d9d3",
   "metadata": {},
   "outputs": [],
   "source": [
    "#### Your code here\n",
    "points =  np.linspace(-3, 3, num = 50)\n",
    "### ...."
   ]
  },
  {
   "cell_type": "code",
   "execution_count": 9,
   "id": "44b8cf10",
   "metadata": {},
   "outputs": [],
   "source": [
    "points_cdf = sn_dist.cdf(points)"
   ]
  },
  {
   "cell_type": "markdown",
   "id": "96123b3d",
   "metadata": {},
   "source": [
    "###### Plot the cumulative density of those points relative to the points themselves."
   ]
  },
  {
   "cell_type": "code",
   "execution_count": 10,
   "id": "a6b7d749",
   "metadata": {},
   "outputs": [],
   "source": [
    "#### Your code here"
   ]
  },
  {
   "cell_type": "code",
   "execution_count": 11,
   "id": "28002f84",
   "metadata": {},
   "outputs": [
    {
     "data": {
      "text/plain": [
       "[<matplotlib.lines.Line2D at 0x7fa3a2585640>]"
      ]
     },
     "execution_count": 11,
     "metadata": {},
     "output_type": "execute_result"
    },
    {
     "data": {
      "image/png": "[encoded data removed]",
      "text/plain": [
       "<Figure size 432x288 with 1 Axes>"
      ]
     },
     "metadata": {
      "image/png": {
       "height": 248,
       "width": 372
      },
      "needs_background": "light"
     },
     "output_type": "display_data"
    }
   ],
   "source": [
    "plt.plot(points, points_cdf)"
   ]
  },
  {
   "cell_type": "markdown",
   "id": "19d5d255",
   "metadata": {},
   "source": [
    "###### What is the probability of obtaining a value less than or equal to -1?"
   ]
  },
  {
   "cell_type": "code",
   "execution_count": 12,
   "id": "5402e16b",
   "metadata": {},
   "outputs": [],
   "source": [
    "#### Your code here"
   ]
  },
  {
   "cell_type": "code",
   "execution_count": 13,
   "id": "782dc36e",
   "metadata": {},
   "outputs": [
    {
     "data": {
      "text/plain": [
       "0.15865525393145707"
      ]
     },
     "execution_count": 13,
     "metadata": {},
     "output_type": "execute_result"
    }
   ],
   "source": [
    "sn_dist.cdf(-1)"
   ]
  },
  {
   "cell_type": "markdown",
   "id": "49ede1c7",
   "metadata": {},
   "source": [
    "###### What is the probability of obtaining a value less than or equal to 1?"
   ]
  },
  {
   "cell_type": "code",
   "execution_count": 14,
   "id": "9dda0107",
   "metadata": {},
   "outputs": [],
   "source": [
    "#### Your code here"
   ]
  },
  {
   "cell_type": "code",
   "execution_count": 15,
   "id": "0e73d33c",
   "metadata": {},
   "outputs": [
    {
     "data": {
      "text/plain": [
       "0.8413447460685429"
      ]
     },
     "execution_count": 15,
     "metadata": {},
     "output_type": "execute_result"
    }
   ],
   "source": [
    "sn_dist.cdf(1)"
   ]
  },
  {
   "cell_type": "markdown",
   "id": "8be32654",
   "metadata": {},
   "source": [
    "###### What is the probability of obtaining a value between 0 and 1?"
   ]
  },
  {
   "cell_type": "code",
   "execution_count": 16,
   "id": "0a9db9cb",
   "metadata": {},
   "outputs": [],
   "source": [
    "#### Your code here"
   ]
  },
  {
   "cell_type": "code",
   "execution_count": 17,
   "id": "46da5f72",
   "metadata": {},
   "outputs": [
    {
     "data": {
      "text/plain": [
       "0.3413447460685429"
      ]
     },
     "execution_count": 17,
     "metadata": {},
     "output_type": "execute_result"
    }
   ],
   "source": [
    "sn_dist.cdf(1) - sn_dist.cdf(0)"
   ]
  },
  {
   "cell_type": "markdown",
   "id": "3e52334d",
   "metadata": {},
   "source": [
    "###### What is the probability of obtaining a value between -1 and 1?"
   ]
  },
  {
   "cell_type": "code",
   "execution_count": 16,
   "id": "f4af4eab",
   "metadata": {},
   "outputs": [],
   "source": [
    "#### Your code here"
   ]
  },
  {
   "cell_type": "code",
   "execution_count": 20,
   "id": "5d10128d",
   "metadata": {},
   "outputs": [
    {
     "data": {
      "text/plain": [
       "0.6826894921370859"
      ]
     },
     "execution_count": 20,
     "metadata": {},
     "output_type": "execute_result"
    }
   ],
   "source": [
    "sn_dist.cdf(1) - sn_dist.cdf(-1)"
   ]
  },
  {
   "cell_type": "markdown",
   "id": "a5b01117",
   "metadata": {},
   "source": [
    "###### What is the probability of obtaining a value larger than 1?"
   ]
  },
  {
   "cell_type": "code",
   "execution_count": 21,
   "id": "bb651667",
   "metadata": {},
   "outputs": [],
   "source": [
    "#### Your code here"
   ]
  },
  {
   "cell_type": "code",
   "execution_count": 22,
   "id": "ee23ff98",
   "metadata": {},
   "outputs": [
    {
     "data": {
      "text/plain": [
       "0.15865525393145707"
      ]
     },
     "execution_count": 22,
     "metadata": {},
     "output_type": "execute_result"
    }
   ],
   "source": [
    "1 - sn_dist.cdf(1)"
   ]
  },
  {
   "cell_type": "markdown",
   "id": "2f4e4f74",
   "metadata": {},
   "source": [
    "###### What is the probability of obtaining a value larger than 2 or smaller than -2? (This is called a two-tailed test.)"
   ]
  },
  {
   "cell_type": "code",
   "execution_count": 23,
   "id": "ad0919b8",
   "metadata": {},
   "outputs": [],
   "source": [
    "#### Your code here"
   ]
  },
  {
   "cell_type": "code",
   "execution_count": 24,
   "id": "8c264481",
   "metadata": {},
   "outputs": [
    {
     "data": {
      "text/plain": [
       "0.0455002638963584"
      ]
     },
     "execution_count": 24,
     "metadata": {},
     "output_type": "execute_result"
    }
   ],
   "source": [
    "(1 - sn_dist.cdf(2)) + sn_dist.cdf(-2)"
   ]
  },
  {
   "cell_type": "markdown",
   "id": "6237bf11",
   "metadata": {},
   "source": [
    "### 1B. Null vs. alternate hypotheses\n",
    "\n",
    "Now that you've had some hands-on practice with the underlying distributions, we'll turn to the theoretical or philosophical foundations of NHST.\n",
    "\n",
    "NHST is centered around the contrasting notions of a **null hypothesis** vs. an **alternate hypothesis**.\n",
    "\n",
    "Consider the following scenario:\n",
    "\n",
    "> A researcher is interested in whether a new drug decreases blood pressure. They give the drug to 10 individuals, and find that after taking the drug their blood pressure is 75. The hypothesized **population mean** is 80, with a standard deviation of 4.5. Did the drug work?"
   ]
  },
  {
   "cell_type": "markdown",
   "id": "820b059c",
   "metadata": {},
   "source": [
    "###### First, what is the null hypothesis? "
   ]
  },
  {
   "cell_type": "code",
   "execution_count": 26,
   "id": "2e883ca8",
   "metadata": {},
   "outputs": [],
   "source": [
    "#### Your response here"
   ]
  },
  {
   "cell_type": "markdown",
   "id": "15182c42",
   "metadata": {},
   "source": [
    "$H_0: \\mu ≤ \\bar{X}$"
   ]
  },
  {
   "cell_type": "markdown",
   "id": "bc98e27b",
   "metadata": {},
   "source": [
    "###### What is the alternative hypothesis?"
   ]
  },
  {
   "cell_type": "code",
   "execution_count": 27,
   "id": "dc3c43e6",
   "metadata": {},
   "outputs": [],
   "source": [
    "#### Your response here"
   ]
  },
  {
   "cell_type": "markdown",
   "id": "65854bf7",
   "metadata": {},
   "source": [
    "$H_0: \\mu > \\bar{X}$"
   ]
  },
  {
   "cell_type": "markdown",
   "id": "8deb8586",
   "metadata": {},
   "source": [
    "###### Is this a two-tailed or one-tailed test?"
   ]
  },
  {
   "cell_type": "code",
   "execution_count": 28,
   "id": "c9b77135",
   "metadata": {},
   "outputs": [],
   "source": [
    "#### Your response here"
   ]
  },
  {
   "cell_type": "markdown",
   "id": "0a71af57",
   "metadata": {},
   "source": [
    "One-tailed: we're primarily asking whether blood pressure is lower."
   ]
  },
  {
   "cell_type": "markdown",
   "id": "385b4eec",
   "metadata": {},
   "source": [
    "###### What is the difference between the sample mean and population mean?"
   ]
  },
  {
   "cell_type": "code",
   "execution_count": 29,
   "id": "ba464094",
   "metadata": {},
   "outputs": [],
   "source": [
    "#### Your response here"
   ]
  },
  {
   "cell_type": "code",
   "execution_count": 30,
   "id": "860a33a2",
   "metadata": {},
   "outputs": [
    {
     "data": {
      "text/plain": [
       "-5"
      ]
     },
     "execution_count": 30,
     "metadata": {},
     "output_type": "execute_result"
    }
   ],
   "source": [
    "diff_sample = 75 - 80\n",
    "diff_sample"
   ]
  },
  {
   "cell_type": "markdown",
   "id": "043b5143",
   "metadata": {},
   "source": [
    "###### What is the standard error of the mean?"
   ]
  },
  {
   "cell_type": "code",
   "execution_count": 31,
   "id": "e0242260",
   "metadata": {},
   "outputs": [],
   "source": [
    "#### Your response here"
   ]
  },
  {
   "cell_type": "code",
   "execution_count": 32,
   "id": "6235157f",
   "metadata": {},
   "outputs": [
    {
     "data": {
      "text/plain": [
       "1.4230249470757705"
      ]
     },
     "execution_count": 32,
     "metadata": {},
     "output_type": "execute_result"
    }
   ],
   "source": [
    "se_mean = 4.5 / math.sqrt(10)\n",
    "se_mean"
   ]
  },
  {
   "cell_type": "markdown",
   "id": "45687af4",
   "metadata": {},
   "source": [
    "###### What is the z-statistic?"
   ]
  },
  {
   "cell_type": "code",
   "execution_count": 33,
   "id": "b5f80a04",
   "metadata": {},
   "outputs": [],
   "source": [
    "#### Your response here"
   ]
  },
  {
   "cell_type": "code",
   "execution_count": 34,
   "id": "a9df8376",
   "metadata": {},
   "outputs": [
    {
     "data": {
      "text/plain": [
       "-3.513641844631533"
      ]
     },
     "execution_count": 34,
     "metadata": {},
     "output_type": "execute_result"
    }
   ],
   "source": [
    "z_stat = diff_sample / se_mean\n",
    "z_stat"
   ]
  },
  {
   "cell_type": "markdown",
   "id": "78a74aab",
   "metadata": {},
   "source": [
    "###### What is the probability of obtaining a z-statistic less than or equal to this value?"
   ]
  },
  {
   "cell_type": "code",
   "execution_count": 35,
   "id": "5086cdd3",
   "metadata": {},
   "outputs": [],
   "source": [
    "#### Your response here"
   ]
  },
  {
   "cell_type": "code",
   "execution_count": 36,
   "id": "7b0ce9eb",
   "metadata": {},
   "outputs": [
    {
     "data": {
      "text/plain": [
       "0.00022100417451771965"
      ]
     },
     "execution_count": 36,
     "metadata": {},
     "output_type": "execute_result"
    }
   ],
   "source": [
    "sn_dist.cdf(z_stat)"
   ]
  },
  {
   "cell_type": "markdown",
   "id": "93974003",
   "metadata": {},
   "source": [
    "###### Assuming an alpha of 0.05, would we reject the null hypothesis?"
   ]
  },
  {
   "cell_type": "code",
   "execution_count": 37,
   "id": "ad6a0362",
   "metadata": {},
   "outputs": [],
   "source": [
    "#### Your response here"
   ]
  },
  {
   "cell_type": "markdown",
   "id": "8fa4ac4d",
   "metadata": {},
   "source": [
    "Yes, $p < .05$, so we reject the null hypothesis."
   ]
  },
  {
   "cell_type": "markdown",
   "id": "fd427994",
   "metadata": {},
   "source": [
    "### 1C. Signal detection: false alarms and misses\n",
    "\n",
    "NHST involves making relatively discrete **decisions**: do we **Reject** or **Fail to Reject** the null hypothesis?\n",
    "\n",
    "As the last question implies, central to this decision is our value of **alpha**: essentially, our tolerance threshold for getting a false positive."
   ]
  },
  {
   "cell_type": "markdown",
   "id": "17a60c31",
   "metadata": {},
   "source": [
    "###### Suppose you run 5 hypothesis tests, where the true underlying effect is zero (but of course, you don't know this yet). Given an alpha of .05, what is the probability that at least one of them will be a false positive?"
   ]
  },
  {
   "cell_type": "code",
   "execution_count": 38,
   "id": "1f016035",
   "metadata": {},
   "outputs": [],
   "source": [
    "#### Your response here"
   ]
  },
  {
   "cell_type": "code",
   "execution_count": 39,
   "id": "e559efda",
   "metadata": {},
   "outputs": [
    {
     "data": {
      "text/plain": [
       "0.22621906250000023"
      ]
     },
     "execution_count": 39,
     "metadata": {},
     "output_type": "execute_result"
    }
   ],
   "source": [
    "num_tests = 5\n",
    "1 - .95**num_tests"
   ]
  },
  {
   "cell_type": "markdown",
   "id": "34a9af50",
   "metadata": {},
   "source": [
    "###### Create a graph showing that the probability of obtaining at least one false positive result increases with the number of tests that you run (from `1` to `100`), given three alpha levels: `.05`, `.01`, and `.001`."
   ]
  },
  {
   "cell_type": "code",
   "execution_count": 40,
   "id": "250ca9b5",
   "metadata": {},
   "outputs": [],
   "source": [
    "#### Your response here"
   ]
  },
  {
   "cell_type": "code",
   "execution_count": 41,
   "id": "fc8758d4",
   "metadata": {},
   "outputs": [
    {
     "data": {
      "text/plain": [
       "Text(0, 0.5, 'P(at least one FP)')"
      ]
     },
     "execution_count": 41,
     "metadata": {},
     "output_type": "execute_result"
    },
    {
     "data": {
      "image/png": "[encoded data removed]",
      "text/plain": [
       "<Figure size 432x288 with 1 Axes>"
      ]
     },
     "metadata": {
      "image/png": {
       "height": 261,
       "width": 385
      },
      "needs_background": "light"
     },
     "output_type": "display_data"
    }
   ],
   "source": [
    "num_tests = np.array(list(range(1, 100)))\n",
    "\n",
    "results = []\n",
    "for alpha in [0.05, .01, .001]:\n",
    "    curve = 1 - (1 - alpha)**num_tests\n",
    "    results.append({alpha: curve})\n",
    "    plt.plot(num_tests, curve, label = \"Alpha = {x}\".format(x=str(alpha)))\n",
    "\n",
    "plt.legend()\n",
    "plt.xlabel(\"#Tests run\")\n",
    "plt.ylabel(\"P(at least one FP)\")"
   ]
  },
  {
   "cell_type": "markdown",
   "id": "faccc431",
   "metadata": {},
   "source": [
    "## Part 2: The t-distribution(s)\n",
    "\n",
    "Central to a **t-test** is the notion of the [**t-distribution**](https://en.wikipedia.org/wiki/Student%27s_t-distribution).\n",
    "\n",
    "Like the normal distribution, the t-distribution has a symmetric bell shape. Importantly, the tails are usually slightly heavier––but as the **degrees of freedom** increases and approaches infinity, the distribution approximates a normal distribution."
   ]
  },
  {
   "cell_type": "markdown",
   "id": "4cc706c9",
   "metadata": {},
   "source": [
    "#### Use the `t.pdf` function to calculate the probability density for a set of points between `[-4, 4]`, with $df = 1$."
   ]
  },
  {
   "cell_type": "code",
   "execution_count": 42,
   "id": "8207f992",
   "metadata": {},
   "outputs": [],
   "source": [
    "points =  np.linspace(-4, 4, num = 50)"
   ]
  },
  {
   "cell_type": "code",
   "execution_count": 43,
   "id": "c6706ca9",
   "metadata": {},
   "outputs": [],
   "source": [
    "#### Your code here\n",
    "points_pdf =  ss.t.pdf(points, df = 1)"
   ]
  },
  {
   "cell_type": "markdown",
   "id": "9206966e",
   "metadata": {},
   "source": [
    "#### Use `matplotlib.pyplot.plot` to plot the probability density of these points against the points themselves."
   ]
  },
  {
   "cell_type": "code",
   "execution_count": 44,
   "id": "81a8ccf7",
   "metadata": {},
   "outputs": [
    {
     "data": {
      "image/png": "[encoded data removed]",
      "text/plain": [
       "<Figure size 432x288 with 1 Axes>"
      ]
     },
     "metadata": {
      "image/png": {
       "height": 248,
       "width": 378
      },
      "needs_background": "light"
     },
     "output_type": "display_data"
    }
   ],
   "source": [
    "#### Your code here\n",
    "p = plt.plot(points, points_pdf)"
   ]
  },
  {
   "cell_type": "markdown",
   "id": "b6acfbe7",
   "metadata": {},
   "source": [
    "#### Now calculate (and plot) the probability density for that same set of points, using several different values of $df$ (e.g., `[1, 5, 10]`).  \n",
    "\n",
    "**Hint**: Run the code in a for loop (iterating over values of $df$), and call `plt.plot` with each iteration of the loop."
   ]
  },
  {
   "cell_type": "code",
   "execution_count": 45,
   "id": "384837c5",
   "metadata": {},
   "outputs": [
    {
     "data": {
      "text/plain": [
       "<matplotlib.legend.Legend at 0x7fa3b06e4520>"
      ]
     },
     "execution_count": 45,
     "metadata": {},
     "output_type": "execute_result"
    },
    {
     "data": {
      "image/png": "[encoded data removed]",
      "text/plain": [
       "<Figure size 432x288 with 1 Axes>"
      ]
     },
     "metadata": {
      "image/png": {
       "height": 248,
       "width": 378
      },
      "needs_background": "light"
     },
     "output_type": "display_data"
    }
   ],
   "source": [
    "#### Your code here\n",
    "for df in [1, 5, 10]:\n",
    "    plt.plot(points, ss.t.pdf(points, df = df), label = \"df = {x}\".format(x=df))\n",
    "    \n",
    "plt.legend()"
   ]
  },
  {
   "cell_type": "markdown",
   "id": "abb83752",
   "metadata": {},
   "source": [
    "#### What do you notice about the shape of these distributions?"
   ]
  },
  {
   "cell_type": "code",
   "execution_count": 46,
   "id": "3314d9ba",
   "metadata": {},
   "outputs": [],
   "source": [
    "#### Your answer here"
   ]
  },
  {
   "cell_type": "markdown",
   "id": "e9fc9a02",
   "metadata": {},
   "source": [
    "#### Use `cdf` to calculate the probability of obtaining $t ≤ -2$ with $df = 1$.  "
   ]
  },
  {
   "cell_type": "code",
   "execution_count": 47,
   "id": "db7d6994",
   "metadata": {},
   "outputs": [
    {
     "data": {
      "text/plain": [
       "0.1475836176504332"
      ]
     },
     "execution_count": 47,
     "metadata": {},
     "output_type": "execute_result"
    }
   ],
   "source": [
    "#### Your code here\n",
    "ss.t.cdf(-2, df = 1)"
   ]
  },
  {
   "cell_type": "markdown",
   "id": "6b86beec",
   "metadata": {},
   "source": [
    "#### Use `cdf` to calculate the probability of obtaining $t ≤ -2$ with $df = 20$.  "
   ]
  },
  {
   "cell_type": "code",
   "execution_count": 48,
   "id": "82c9440a",
   "metadata": {},
   "outputs": [
    {
     "data": {
      "text/plain": [
       "0.029632767723285252"
      ]
     },
     "execution_count": 48,
     "metadata": {},
     "output_type": "execute_result"
    }
   ],
   "source": [
    "#### Your code here\n",
    "ss.t.cdf(-2, df = 20)"
   ]
  },
  {
   "cell_type": "markdown",
   "id": "c35c60e9",
   "metadata": {},
   "source": [
    "#### Use `cdf` to calculate the probability of obtaining $t > 2$ with $df = 20$.  "
   ]
  },
  {
   "cell_type": "code",
   "execution_count": 49,
   "id": "421792ef",
   "metadata": {},
   "outputs": [
    {
     "data": {
      "text/plain": [
       "0.02963276772328527"
      ]
     },
     "execution_count": 49,
     "metadata": {},
     "output_type": "execute_result"
    }
   ],
   "source": [
    "#### Your code here\n",
    "1 - ss.t.cdf(2, df = 20)"
   ]
  },
  {
   "cell_type": "markdown",
   "id": "955e1767",
   "metadata": {},
   "source": [
    "#### Now plot the change in $p(t < -2)$ for $df \\in [1, 20]$."
   ]
  },
  {
   "cell_type": "code",
   "execution_count": 52,
   "id": "07531ac0",
   "metadata": {},
   "outputs": [
    {
     "data": {
      "text/plain": [
       "Text(0, 0.5, 'P(t < -2)')"
      ]
     },
     "execution_count": 52,
     "metadata": {},
     "output_type": "execute_result"
    },
    {
     "data": {
      "image/png": "[encoded data removed]",
      "text/plain": [
       "<Figure size 432x288 with 1 Axes>"
      ]
     },
     "metadata": {
      "image/png": {
       "height": 261,
       "width": 391
      },
      "needs_background": "light"
     },
     "output_type": "display_data"
    }
   ],
   "source": [
    "#### Your code here\n",
    "df = np.arange(1, 21) #### Setting up degrees of freedom...\n",
    "probs = ss.t.cdf(-2, df = df)\n",
    "p = plt.plot(df, probs)\n",
    "plt.xlabel(\"Degrees of freedom\")\n",
    "plt.ylabel(\"P(t < -2)\")"
   ]
  },
  {
   "cell_type": "markdown",
   "id": "81b2389f",
   "metadata": {},
   "source": [
    "#### What do you notice about the relative probability of obtaining a given value of $t$, given different $df$?  "
   ]
  },
  {
   "cell_type": "code",
   "execution_count": 42,
   "id": "243f311d",
   "metadata": {},
   "outputs": [],
   "source": [
    "#### Your code here"
   ]
  },
  {
   "cell_type": "markdown",
   "id": "ea114e37",
   "metadata": {},
   "source": [
    "#### What implications does this have for sample size? Is it easier or harder to detect an effect with a larger sample?"
   ]
  },
  {
   "cell_type": "code",
   "execution_count": 53,
   "id": "adbade8d",
   "metadata": {},
   "outputs": [],
   "source": [
    "#### Your code here"
   ]
  },
  {
   "cell_type": "markdown",
   "id": "e78af5da",
   "metadata": {},
   "source": [
    "## Part 3: T-tests from scratch\n",
    "\n",
    "Although `scipy.stats` has a very handy set of functions for running a t-test, it's also useful to learn how to code the test from scratch. That's what this part of the lab will focus on."
   ]
  },
  {
   "cell_type": "markdown",
   "id": "9a32de62",
   "metadata": {},
   "source": [
    "### Experimental scenario\n",
    "\n",
    "Suppose a new curriculum for **reading comprehension** is developed. 10 students are assigned to the **Treatment** group and 10 are assigned to the **Control** group (which uses the previous curriculum). \n",
    "\n",
    "After the course, their scores on a reading test are collected, resulting in the following distributions.\n",
    "\n",
    "We want to know: **Is the mean score in the Treatment population higher than the mean score in the Control population?**"
   ]
  },
  {
   "cell_type": "code",
   "execution_count": 54,
   "id": "4243571e",
   "metadata": {},
   "outputs": [],
   "source": [
    "np.random.seed(10)\n",
    "T = np.random.normal(loc = 7, scale = 1, size = 10)\n",
    "C = np.random.normal(loc = 5, scale = 1, size = 10)"
   ]
  },
  {
   "cell_type": "markdown",
   "id": "38fa0c7c",
   "metadata": {},
   "source": [
    "### 3A. Understanding the distributions"
   ]
  },
  {
   "cell_type": "markdown",
   "id": "f1b5fab7",
   "metadata": {},
   "source": [
    "##### Plot each distribution using a histogram.\n",
    "\n",
    "(Note: You can either plot these in the same graph, making each distribution transparent with the `alpha` parameter; or you can plot them in separate cells.) "
   ]
  },
  {
   "cell_type": "code",
   "execution_count": 55,
   "id": "50581d8a",
   "metadata": {},
   "outputs": [
    {
     "data": {
      "text/plain": [
       "<matplotlib.legend.Legend at 0x7fa3a36909d0>"
      ]
     },
     "execution_count": 55,
     "metadata": {},
     "output_type": "execute_result"
    },
    {
     "data": {
      "image/png": "[encoded data removed]",
      "text/plain": [
       "<Figure size 432x288 with 1 Axes>"
      ]
     },
     "metadata": {
      "image/png": {
       "height": 248,
       "width": 372
      },
      "needs_background": "light"
     },
     "output_type": "display_data"
    }
   ],
   "source": [
    "#### Your code here\n",
    "t = plt.hist(T, alpha = .5, label = \"Treatment\")\n",
    "c = plt.hist(C, alpha = .5, label = \"Control\")\n",
    "plt.legend()"
   ]
  },
  {
   "cell_type": "markdown",
   "id": "82545839",
   "metadata": {},
   "source": [
    "##### What is the mean of each distribution?"
   ]
  },
  {
   "cell_type": "code",
   "execution_count": 56,
   "id": "5ff54d4d",
   "metadata": {},
   "outputs": [
    {
     "data": {
      "text/plain": [
       "7.05980830814079"
      ]
     },
     "execution_count": 56,
     "metadata": {},
     "output_type": "execute_result"
    }
   ],
   "source": [
    "#### Your code here\n",
    "T.mean()"
   ]
  },
  {
   "cell_type": "code",
   "execution_count": 57,
   "id": "d9afcd03",
   "metadata": {},
   "outputs": [
    {
     "data": {
      "text/plain": [
       "5.1776306496855655"
      ]
     },
     "execution_count": 57,
     "metadata": {},
     "output_type": "execute_result"
    }
   ],
   "source": [
    "#### Your code here\n",
    "C.mean()"
   ]
  },
  {
   "cell_type": "markdown",
   "id": "6abf71fc",
   "metadata": {},
   "source": [
    "##### What is the difference in means between the distributions?"
   ]
  },
  {
   "cell_type": "code",
   "execution_count": 58,
   "id": "ae1b9847",
   "metadata": {},
   "outputs": [
    {
     "data": {
      "text/plain": [
       "1.8821776584552241"
      ]
     },
     "execution_count": 58,
     "metadata": {},
     "output_type": "execute_result"
    }
   ],
   "source": [
    "#### Your code here\n",
    "diff = T.mean() - C.mean()\n",
    "diff"
   ]
  },
  {
   "cell_type": "markdown",
   "id": "85ed140a",
   "metadata": {},
   "source": [
    "##### What is the sum of squares (SS) for the treatment group?"
   ]
  },
  {
   "cell_type": "code",
   "execution_count": 59,
   "id": "9ec761b5",
   "metadata": {},
   "outputs": [
    {
     "data": {
      "text/plain": [
       "5.654673085463365"
      ]
     },
     "execution_count": 59,
     "metadata": {},
     "output_type": "execute_result"
    }
   ],
   "source": [
    "#### Your code here\n",
    "SS_treatment = sum((T - T.mean())**2)\n",
    "SS_treatment"
   ]
  },
  {
   "cell_type": "markdown",
   "id": "dc293f0d",
   "metadata": {},
   "source": [
    "##### What is the sum of squares (SS) for the control group?"
   ]
  },
  {
   "cell_type": "code",
   "execution_count": 60,
   "id": "880982d7",
   "metadata": {},
   "outputs": [
    {
     "data": {
      "text/plain": [
       "8.238357950559585"
      ]
     },
     "execution_count": 60,
     "metadata": {},
     "output_type": "execute_result"
    }
   ],
   "source": [
    "#### Your code here\n",
    "SS_control = sum((C - C.mean())**2)\n",
    "SS_control"
   ]
  },
  {
   "cell_type": "markdown",
   "id": "7d6d683d",
   "metadata": {},
   "source": [
    "### 3B. Components of the t-test. "
   ]
  },
  {
   "cell_type": "markdown",
   "id": "0ef8b59d",
   "metadata": {},
   "source": [
    "##### What is the pooled variance of our samples?\n",
    "\n",
    "Recall the formula:\n",
    "\n",
    "$s_p^2 = \\frac{SS_1}{n_1-1} + \\frac{SS_2}{n_2-1}$"
   ]
  },
  {
   "cell_type": "code",
   "execution_count": 61,
   "id": "2e6bfada",
   "metadata": {},
   "outputs": [
    {
     "data": {
      "text/plain": [
       "0.7718350575568306"
      ]
     },
     "execution_count": 61,
     "metadata": {},
     "output_type": "execute_result"
    }
   ],
   "source": [
    "#### Your code here\n",
    "SS_pooled = (SS_treatment + SS_control) / (len(T) + len(C) - 2)\n",
    "SS_pooled"
   ]
  },
  {
   "cell_type": "markdown",
   "id": "76919656",
   "metadata": {},
   "source": [
    "##### What is the standard error of the mean?\n",
    "\n",
    "Recall the formula:\n",
    "\n",
    "$S_{\\bar{X_1} - \\bar{X_2}} = \\sqrt{\\frac{s_1^2}{n_1} + \\frac{s_2^2}{n_2}}$"
   ]
  },
  {
   "cell_type": "code",
   "execution_count": 62,
   "id": "e5a34f54",
   "metadata": {},
   "outputs": [
    {
     "data": {
      "text/plain": [
       "0.39289567509883094"
      ]
     },
     "execution_count": 62,
     "metadata": {},
     "output_type": "execute_result"
    }
   ],
   "source": [
    "#### Your code here\n",
    "SEM = math.sqrt((SS_pooled/len(T)) + (SS_pooled/len(C)))\n",
    "SEM"
   ]
  },
  {
   "cell_type": "markdown",
   "id": "67c7828f",
   "metadata": {},
   "source": [
    "##### What is our value of $t$?  \n",
    "\n",
    "Recall the formula:\n",
    "\n",
    "$t = \\frac{\\bar{X_1} - \\bar{X_2}}{S_{\\bar{X_1} - \\bar{X_2}}}$"
   ]
  },
  {
   "cell_type": "code",
   "execution_count": 63,
   "id": "df3bd9bc",
   "metadata": {},
   "outputs": [
    {
     "data": {
      "text/plain": [
       "4.79052781118492"
      ]
     },
     "execution_count": 63,
     "metadata": {},
     "output_type": "execute_result"
    }
   ],
   "source": [
    "#### Your code here\n",
    "t = diff/SEM\n",
    "t"
   ]
  },
  {
   "cell_type": "markdown",
   "id": "62e1d9aa",
   "metadata": {},
   "source": [
    "### 2C. NHST"
   ]
  },
  {
   "cell_type": "markdown",
   "id": "c3189ab2",
   "metadata": {},
   "source": [
    "##### How many degrees of freedom do we have in this sample?"
   ]
  },
  {
   "cell_type": "code",
   "execution_count": 64,
   "id": "6f110779",
   "metadata": {},
   "outputs": [
    {
     "data": {
      "text/plain": [
       "18"
      ]
     },
     "execution_count": 64,
     "metadata": {},
     "output_type": "execute_result"
    }
   ],
   "source": [
    "#### Your code here\n",
    "df_sample = len(T) + len(C) - 2\n",
    "df_sample"
   ]
  },
  {
   "cell_type": "markdown",
   "id": "5f2c89ef",
   "metadata": {},
   "source": [
    "##### Is this a one-tailed or two-tailed test?\n",
    "\n",
    "**Hint**: Think about whether the question is asking you if the scores are *different* or if one group is higher than the other."
   ]
  },
  {
   "cell_type": "code",
   "execution_count": 65,
   "id": "7d7fb592",
   "metadata": {},
   "outputs": [],
   "source": [
    "#### Your code here"
   ]
  },
  {
   "cell_type": "markdown",
   "id": "1ef60e52",
   "metadata": {},
   "source": [
    "##### What is the probability of obtaining a value of $t$ at least that large, under the null hypothesis?"
   ]
  },
  {
   "cell_type": "code",
   "execution_count": 66,
   "id": "c4226bce",
   "metadata": {},
   "outputs": [
    {
     "data": {
      "text/plain": [
       "7.319694191709747e-05"
      ]
     },
     "execution_count": 66,
     "metadata": {},
     "output_type": "execute_result"
    }
   ],
   "source": [
    "#### Your code here\n",
    "p_val = 1 - ss.t.cdf(t, df = df_sample)\n",
    "p_val"
   ]
  },
  {
   "cell_type": "markdown",
   "id": "547f4774",
   "metadata": {},
   "source": [
    "##### Based on this p-value, should we reject or fail to reject the null hypothesis?"
   ]
  },
  {
   "cell_type": "code",
   "execution_count": 67,
   "id": "98018f6a",
   "metadata": {},
   "outputs": [
    {
     "data": {
      "text/plain": [
       "True"
      ]
     },
     "execution_count": 67,
     "metadata": {},
     "output_type": "execute_result"
    }
   ],
   "source": [
    "#### Your answer here\n",
    "p_val < .05"
   ]
  },
  {
   "cell_type": "markdown",
   "id": "0404e7bd",
   "metadata": {},
   "source": [
    "## Part 4: T-tests in `scipy.stats`\n",
    "\n",
    "Now we'll replicate the same analysis, but using the `ttest_ind` function in `scipy.stats`."
   ]
  },
  {
   "cell_type": "markdown",
   "id": "9b50dbdf",
   "metadata": {},
   "source": [
    "### 4A. Replicating previous analyses."
   ]
  },
  {
   "cell_type": "markdown",
   "id": "452aaabb",
   "metadata": {},
   "source": [
    "##### Use `scipy.stats.ttest_ind` to calculate $t$ for the independent samples above.\n",
    "\n",
    "**NOTE**: Remember to set the correct value for one-tailed vs. two-tailed."
   ]
  },
  {
   "cell_type": "code",
   "execution_count": 68,
   "id": "9ae3fa5d",
   "metadata": {},
   "outputs": [
    {
     "data": {
      "text/plain": [
       "Ttest_indResult(statistic=4.79052781118492, pvalue=7.319694191705798e-05)"
      ]
     },
     "execution_count": 68,
     "metadata": {},
     "output_type": "execute_result"
    }
   ],
   "source": [
    "#### Your answer here\n",
    "t_result = ss.ttest_ind(T, C, alternative = \"greater\")\n",
    "t_result"
   ]
  },
  {
   "cell_type": "markdown",
   "id": "6f0044bc",
   "metadata": {},
   "source": [
    "##### Now assume we are simply asking whether the samples are *different* (as opposed to whether one is larger than the other). What is $t$ now?\n",
    "\n",
    "**NOTE**: Remember to set the correct value for one-tailed vs. two-tailed."
   ]
  },
  {
   "cell_type": "code",
   "execution_count": 69,
   "id": "6d64aae8",
   "metadata": {},
   "outputs": [
    {
     "data": {
      "text/plain": [
       "Ttest_indResult(statistic=4.79052781118492, pvalue=0.00014639388383411595)"
      ]
     },
     "execution_count": 69,
     "metadata": {},
     "output_type": "execute_result"
    }
   ],
   "source": [
    "#### Your answer here\n",
    "t_result = ss.ttest_ind(T, C, alternative = \"two-sided\")\n",
    "t_result"
   ]
  },
  {
   "cell_type": "markdown",
   "id": "f6d7da16",
   "metadata": {},
   "source": [
    "### 4B. Paired samples."
   ]
  },
  {
   "cell_type": "markdown",
   "id": "a3cced0c",
   "metadata": {},
   "source": [
    "##### Let's switch up the scenario, and instead assume that this is a pre/post measure––the \"control\" group is just the same students before the intervention, and the \"treatment\" group is the same students after the intervention. What kind of t-test should we use for this?"
   ]
  },
  {
   "cell_type": "code",
   "execution_count": 70,
   "id": "db782049",
   "metadata": {},
   "outputs": [],
   "source": [
    "#### Your answer here"
   ]
  },
  {
   "cell_type": "markdown",
   "id": "224cd146",
   "metadata": {},
   "source": [
    "##### Calculate $t$ using this t-test. (Assume that we're asking whether `T > C`, as in the original calculation.)"
   ]
  },
  {
   "cell_type": "code",
   "execution_count": 71,
   "id": "f88cec7d",
   "metadata": {},
   "outputs": [
    {
     "data": {
      "text/plain": [
       "Ttest_relResult(statistic=6.016810886822942, pvalue=9.918544117048619e-05)"
      ]
     },
     "execution_count": 71,
     "metadata": {},
     "output_type": "execute_result"
    }
   ],
   "source": [
    "#### Your answer here\n",
    "t_result = ss.ttest_rel(T, C, alternative = \"greater\")\n",
    "t_result"
   ]
  },
  {
   "cell_type": "markdown",
   "id": "f212567e",
   "metadata": {},
   "source": [
    "##### Is this $t$ statistic larger or smaller than when we assumed the samples were independent? Why?"
   ]
  },
  {
   "cell_type": "code",
   "execution_count": 73,
   "id": "aa60ee61",
   "metadata": {},
   "outputs": [],
   "source": [
    "#### Your answer here"
   ]
  },
  {
   "cell_type": "markdown",
   "id": "0bb328a4",
   "metadata": {},
   "source": [
    "##### Now calculate $t$ again assuming a paired/repeated samples design, but if we were instead just asking if `T ≠ C`. "
   ]
  },
  {
   "cell_type": "code",
   "execution_count": 74,
   "id": "8620bc19",
   "metadata": {},
   "outputs": [
    {
     "data": {
      "text/plain": [
       "Ttest_relResult(statistic=6.016810886822942, pvalue=0.00019837088234097238)"
      ]
     },
     "execution_count": 74,
     "metadata": {},
     "output_type": "execute_result"
    }
   ],
   "source": [
    "#### Your answer here\n",
    "t_result = ss.ttest_rel(T, C, alternative = \"two-sided\")\n",
    "t_result"
   ]
  },
  {
   "cell_type": "markdown",
   "id": "80f872b2",
   "metadata": {},
   "source": [
    "# Conclusion\n",
    "\n",
    "Congratulations, you've now implemented several key hypothesis tests in Python!"
   ]
  }
 ],
 "metadata": {
  "kernelspec": {
   "display_name": "Python 3 (ipykernel)",
   "language": "python",
   "name": "python3"
  },
  "language_info": {
   "codemirror_mode": {
    "name": "ipython",
    "version": 3
   },
   "file_extension": ".py",
   "mimetype": "text/x-python",
   "name": "python",
   "nbconvert_exporter": "python",
   "pygments_lexer": "ipython3",
   "version": "3.9.12"
  }
 },
 "nbformat": 4,
 "nbformat_minor": 5
}
