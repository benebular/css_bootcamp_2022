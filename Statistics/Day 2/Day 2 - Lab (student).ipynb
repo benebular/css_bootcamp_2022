{
 "cells": [
  {
   "cell_type": "markdown",
   "id": "dbde9975",
   "metadata": {},
   "source": [
    "# CSS Bootcamp\n",
    "\n",
    "## Day 2 (NHST in practice): Lab\n",
    "\n",
    "This lab is intended to accompany **Day 2** of the week on **Statistics**, which focuses on:\n",
    "\n",
    "- **Explaining** the motivation for building statistical models in general.  \n",
    "- **Explaining** the concept of *prediction error* and why it matters for statistics.\n",
    "- **Describing** the basic assumptions (and limitations) of linear regression.  \n",
    "- **Implementing** linear regression in Python using `statmodels`.  \n",
    "\n",
    "This lab has some \"free response\" questions, in which you are asked to describe or make some inference from a graph. \n",
    "\n",
    "It also has questions requiring you to program answers in Python. In some cases, this will use built-in functions we've discussed in class (either today, or previous weeks). In others, there'll be a built-in function that we *haven't* discussed, which you will have to look up in the documentation. \n",
    "\n",
    "Please reach out for help if anything is unclear!"
   ]
  },
  {
   "cell_type": "markdown",
   "id": "ce07302c",
   "metadata": {},
   "source": [
    "#### Key imports\n",
    "\n",
    "Here, we import some of the libraries that will be critical for the lab."
   ]
  },
  {
   "cell_type": "code",
   "execution_count": 1,
   "id": "b524033e",
   "metadata": {},
   "outputs": [
    {
     "name": "stderr",
     "output_type": "stream",
     "text": [
      "/opt/anaconda3/lib/python3.9/site-packages/scipy/__init__.py:146: UserWarning: A NumPy version >=1.16.5 and <1.23.0 is required for this version of SciPy (detected version 1.23.1\n",
      "  warnings.warn(f\"A NumPy version >={np_minversion} and <{np_maxversion}\"\n"
     ]
    }
   ],
   "source": [
    "import matplotlib.pyplot as plt\n",
    "import math\n",
    "import numpy as np\n",
    "import seaborn as sns\n",
    "import scipy.stats as ss\n",
    "import pandas as pd"
   ]
  },
  {
   "cell_type": "code",
   "execution_count": 2,
   "id": "8c97ea6f",
   "metadata": {},
   "outputs": [],
   "source": [
    "%matplotlib inline\n",
    "%config InlineBackend.figure_format = 'retina'  # makes figs nicer!"
   ]
  },
  {
   "cell_type": "markdown",
   "id": "d7a9f50c",
   "metadata": {},
   "source": [
    "## Part 1: Philosophy of NHST\n",
    "\n",
    "The notion of a sampling distribution is central to **Null Hypothesis Significance Testing**, or **NHST**. Combined with probability theory, this allows us to make inferences about the probability of obtaining a particular result (e.g., a test statistic), under some sampling distribution (which usually represents the null hypothesis).\n",
    "\n",
    "In this section, the exercises will focus on a couple topics:\n",
    "\n",
    "- Basic probability (with an emphasis on probability *functions*)  \n",
    "- The philosophical nuts and bolts of NHST: null vs. alternate hypotheses  \n",
    "- Signal detection theory"
   ]
  },
  {
   "cell_type": "markdown",
   "id": "da2cf029",
   "metadata": {},
   "source": [
    "### 1A. Probability and normal distributions\n",
    "\n",
    "Recall that the **standard normal distribution** is the result of **z-scoring** an already normal distribution. This results in a distribution with the following parameters:\n",
    "\n",
    "- The **mean** ($\\mu$) is 0.  \n",
    "- The **standard deviation** ($\\sigma$) is 1."
   ]
  },
  {
   "cell_type": "code",
   "execution_count": 7,
   "id": "e342d356",
   "metadata": {},
   "outputs": [],
   "source": [
    "## Creates a standard normal distribution object\n",
    "sn_dist = ss.norm(0, 1) "
   ]
  },
  {
   "cell_type": "markdown",
   "id": "84d90d95",
   "metadata": {},
   "source": [
    "###### Use the `cdf` function to calculate the cumulative probability density of a set of points using `sn_dist`."
   ]
  },
  {
   "cell_type": "code",
   "execution_count": 8,
   "id": "35f1d9d3",
   "metadata": {},
   "outputs": [],
   "source": [
    "#### Your code here\n",
    "points =  np.linspace(-3, 3, num = 50)\n",
    "### ...."
   ]
  },
  {
   "cell_type": "markdown",
   "id": "96123b3d",
   "metadata": {},
   "source": [
    "###### Plot the cumulative density of those points relative to the points themselves."
   ]
  },
  {
   "cell_type": "code",
   "execution_count": 10,
   "id": "a6b7d749",
   "metadata": {},
   "outputs": [],
   "source": [
    "#### Your code here"
   ]
  },
  {
   "cell_type": "markdown",
   "id": "19d5d255",
   "metadata": {},
   "source": [
    "###### What is the probability of obtaining a value less than or equal to -1?"
   ]
  },
  {
   "cell_type": "code",
   "execution_count": 12,
   "id": "5402e16b",
   "metadata": {},
   "outputs": [],
   "source": [
    "#### Your code here"
   ]
  },
  {
   "cell_type": "markdown",
   "id": "49ede1c7",
   "metadata": {},
   "source": [
    "###### What is the probability of obtaining a value less than or equal to 1?"
   ]
  },
  {
   "cell_type": "code",
   "execution_count": 14,
   "id": "9dda0107",
   "metadata": {},
   "outputs": [],
   "source": [
    "#### Your code here"
   ]
  },
  {
   "cell_type": "markdown",
   "id": "8be32654",
   "metadata": {},
   "source": [
    "###### What is the probability of obtaining a value between 0 and 1?"
   ]
  },
  {
   "cell_type": "code",
   "execution_count": 16,
   "id": "0a9db9cb",
   "metadata": {},
   "outputs": [],
   "source": [
    "#### Your code here"
   ]
  },
  {
   "cell_type": "markdown",
   "id": "3e52334d",
   "metadata": {},
   "source": [
    "###### What is the probability of obtaining a value between -1 and 1?"
   ]
  },
  {
   "cell_type": "code",
   "execution_count": 16,
   "id": "f4af4eab",
   "metadata": {},
   "outputs": [],
   "source": [
    "#### Your code here"
   ]
  },
  {
   "cell_type": "markdown",
   "id": "a5b01117",
   "metadata": {},
   "source": [
    "###### What is the probability of obtaining a value larger than 1?"
   ]
  },
  {
   "cell_type": "code",
   "execution_count": 21,
   "id": "bb651667",
   "metadata": {},
   "outputs": [],
   "source": [
    "#### Your code here"
   ]
  },
  {
   "cell_type": "markdown",
   "id": "2f4e4f74",
   "metadata": {},
   "source": [
    "###### What is the probability of obtaining a value larger than 2 or smaller than -2? (This is called a two-tailed test.)"
   ]
  },
  {
   "cell_type": "code",
   "execution_count": 23,
   "id": "ad0919b8",
   "metadata": {},
   "outputs": [],
   "source": [
    "#### Your code here"
   ]
  },
  {
   "cell_type": "markdown",
   "id": "6237bf11",
   "metadata": {},
   "source": [
    "### 1B. Null vs. alternate hypotheses\n",
    "\n",
    "Now that you've had some hands-on practice with the underlying distributions, we'll turn to the theoretical or philosophical foundations of NHST.\n",
    "\n",
    "NHST is centered around the contrasting notions of a **null hypothesis** vs. an **alternate hypothesis**.\n",
    "\n",
    "Consider the following scenario:\n",
    "\n",
    "> A researcher is interested in whether a new drug decreases blood pressure. They give the drug to 10 individuals, and find that after taking the drug their blood pressure is 75. The hypothesized **population mean** is 80, with a standard deviation of 4.5. Did the drug work?"
   ]
  },
  {
   "cell_type": "markdown",
   "id": "820b059c",
   "metadata": {},
   "source": [
    "###### First, what is the null hypothesis? "
   ]
  },
  {
   "cell_type": "code",
   "execution_count": 26,
   "id": "2e883ca8",
   "metadata": {},
   "outputs": [],
   "source": [
    "#### Your response here"
   ]
  },
  {
   "cell_type": "markdown",
   "id": "bc98e27b",
   "metadata": {},
   "source": [
    "###### What is the alternative hypothesis?"
   ]
  },
  {
   "cell_type": "code",
   "execution_count": 27,
   "id": "dc3c43e6",
   "metadata": {},
   "outputs": [],
   "source": [
    "#### Your response here"
   ]
  },
  {
   "cell_type": "markdown",
   "id": "8deb8586",
   "metadata": {},
   "source": [
    "###### Is this a two-tailed or one-tailed test?"
   ]
  },
  {
   "cell_type": "code",
   "execution_count": 28,
   "id": "c9b77135",
   "metadata": {},
   "outputs": [],
   "source": [
    "#### Your response here"
   ]
  },
  {
   "cell_type": "markdown",
   "id": "385b4eec",
   "metadata": {},
   "source": [
    "###### What is the difference between the sample mean and population mean?"
   ]
  },
  {
   "cell_type": "code",
   "execution_count": 29,
   "id": "ba464094",
   "metadata": {},
   "outputs": [],
   "source": [
    "#### Your response here"
   ]
  },
  {
   "cell_type": "markdown",
   "id": "043b5143",
   "metadata": {},
   "source": [
    "###### What is the standard error of the mean?"
   ]
  },
  {
   "cell_type": "code",
   "execution_count": 31,
   "id": "e0242260",
   "metadata": {},
   "outputs": [],
   "source": [
    "#### Your response here"
   ]
  },
  {
   "cell_type": "markdown",
   "id": "45687af4",
   "metadata": {},
   "source": [
    "###### What is the z-statistic?"
   ]
  },
  {
   "cell_type": "code",
   "execution_count": 33,
   "id": "b5f80a04",
   "metadata": {},
   "outputs": [],
   "source": [
    "#### Your response here"
   ]
  },
  {
   "cell_type": "markdown",
   "id": "78a74aab",
   "metadata": {},
   "source": [
    "###### What is the probability of obtaining a z-statistic less than or equal to this value?"
   ]
  },
  {
   "cell_type": "code",
   "execution_count": 35,
   "id": "5086cdd3",
   "metadata": {},
   "outputs": [],
   "source": [
    "#### Your response here"
   ]
  },
  {
   "cell_type": "markdown",
   "id": "93974003",
   "metadata": {},
   "source": [
    "###### Assuming an alpha of 0.05, would we reject the null hypothesis?"
   ]
  },
  {
   "cell_type": "code",
   "execution_count": 37,
   "id": "ad6a0362",
   "metadata": {},
   "outputs": [],
   "source": [
    "#### Your response here"
   ]
  },
  {
   "cell_type": "markdown",
   "id": "fd427994",
   "metadata": {},
   "source": [
    "### 1C. Signal detection: false alarms and misses\n",
    "\n",
    "NHST involves making relatively discrete **decisions**: do we **Reject** or **Fail to Reject** the null hypothesis?\n",
    "\n",
    "As the last question implies, central to this decision is our value of **alpha**: essentially, our tolerance threshold for getting a false positive."
   ]
  },
  {
   "cell_type": "markdown",
   "id": "17a60c31",
   "metadata": {},
   "source": [
    "###### Suppose you run 5 hypothesis tests, where the true underlying effect is zero (but of course, you don't know this yet). Given an alpha of .05, what is the probability that at least one of them will be a false positive?"
   ]
  },
  {
   "cell_type": "code",
   "execution_count": 38,
   "id": "1f016035",
   "metadata": {},
   "outputs": [],
   "source": [
    "#### Your response here"
   ]
  },
  {
   "cell_type": "markdown",
   "id": "34a9af50",
   "metadata": {},
   "source": [
    "###### Create a graph showing that the probability of obtaining at least one false positive result increases with the number of tests that you run (from `1` to `100`), given three alpha levels: `.05`, `.01`, and `.001`."
   ]
  },
  {
   "cell_type": "code",
   "execution_count": 40,
   "id": "250ca9b5",
   "metadata": {},
   "outputs": [],
   "source": [
    "#### Your response here"
   ]
  },
  {
   "cell_type": "markdown",
   "id": "faccc431",
   "metadata": {},
   "source": [
    "## Part 2: The t-distribution(s)\n",
    "\n",
    "Central to a **t-test** is the notion of the [**t-distribution**](https://en.wikipedia.org/wiki/Student%27s_t-distribution).\n",
    "\n",
    "Like the normal distribution, the t-distribution has a symmetric bell shape. Importantly, the tails are usually slightly heavier––but as the **degrees of freedom** increases and approaches infinity, the distribution approximates a normal distribution."
   ]
  },
  {
   "cell_type": "markdown",
   "id": "4cc706c9",
   "metadata": {},
   "source": [
    "#### Use the `t.pdf` function to calculate the probability density for a set of points between `[-4, 4]`, with $df = 1$."
   ]
  },
  {
   "cell_type": "code",
   "execution_count": 42,
   "id": "8207f992",
   "metadata": {},
   "outputs": [],
   "source": [
    "points =  np.linspace(-4, 4, num = 50)"
   ]
  },
  {
   "cell_type": "code",
   "execution_count": 3,
   "id": "c6706ca9",
   "metadata": {},
   "outputs": [],
   "source": [
    "#### Your code here"
   ]
  },
  {
   "cell_type": "markdown",
   "id": "9206966e",
   "metadata": {},
   "source": [
    "#### Use `matplotlib.pyplot.plot` to plot the probability density of these points against the points themselves."
   ]
  },
  {
   "cell_type": "code",
   "execution_count": 4,
   "id": "81a8ccf7",
   "metadata": {},
   "outputs": [],
   "source": [
    "#### Your code here"
   ]
  },
  {
   "cell_type": "markdown",
   "id": "b6acfbe7",
   "metadata": {},
   "source": [
    "#### Now calculate (and plot) the probability density for that same set of points, using several different values of $df$ (e.g., `[1, 5, 10]`).  \n",
    "\n",
    "**Hint**: Run the code in a for loop (iterating over values of $df$), and call `plt.plot` with each iteration of the loop."
   ]
  },
  {
   "cell_type": "code",
   "execution_count": 5,
   "id": "384837c5",
   "metadata": {},
   "outputs": [],
   "source": [
    "#### Your code here"
   ]
  },
  {
   "cell_type": "markdown",
   "id": "abb83752",
   "metadata": {},
   "source": [
    "#### What do you notice about the shape of these distributions?"
   ]
  },
  {
   "cell_type": "code",
   "execution_count": 46,
   "id": "3314d9ba",
   "metadata": {},
   "outputs": [],
   "source": [
    "#### Your answer here"
   ]
  },
  {
   "cell_type": "markdown",
   "id": "e9fc9a02",
   "metadata": {},
   "source": [
    "#### Use `cdf` to calculate the probability of obtaining $t ≤ -2$ with $df = 1$.  "
   ]
  },
  {
   "cell_type": "code",
   "execution_count": 6,
   "id": "db7d6994",
   "metadata": {},
   "outputs": [],
   "source": [
    "#### Your code here"
   ]
  },
  {
   "cell_type": "markdown",
   "id": "6b86beec",
   "metadata": {},
   "source": [
    "#### Use `cdf` to calculate the probability of obtaining $t ≤ -2$ with $df = 20$.  "
   ]
  },
  {
   "cell_type": "code",
   "execution_count": 7,
   "id": "82c9440a",
   "metadata": {},
   "outputs": [],
   "source": [
    "#### Your code here"
   ]
  },
  {
   "cell_type": "markdown",
   "id": "c35c60e9",
   "metadata": {},
   "source": [
    "#### Use `cdf` to calculate the probability of obtaining $t > 2$ with $df = 20$.  "
   ]
  },
  {
   "cell_type": "code",
   "execution_count": 8,
   "id": "421792ef",
   "metadata": {},
   "outputs": [],
   "source": [
    "#### Your code here"
   ]
  },
  {
   "cell_type": "markdown",
   "id": "955e1767",
   "metadata": {},
   "source": [
    "#### Now plot the change in $p(t < -2)$ for $df \\in [1, 20]$."
   ]
  },
  {
   "cell_type": "code",
   "execution_count": 9,
   "id": "07531ac0",
   "metadata": {},
   "outputs": [],
   "source": [
    "#### Your code here"
   ]
  },
  {
   "cell_type": "markdown",
   "id": "81b2389f",
   "metadata": {},
   "source": [
    "#### What do you notice about the relative probability of obtaining a given value of $t$, given different $df$?  "
   ]
  },
  {
   "cell_type": "code",
   "execution_count": 42,
   "id": "243f311d",
   "metadata": {},
   "outputs": [],
   "source": [
    "#### Your code here"
   ]
  },
  {
   "cell_type": "markdown",
   "id": "ea114e37",
   "metadata": {},
   "source": [
    "#### What implications does this have for sample size? Is it easier or harder to detect an effect with a larger sample?"
   ]
  },
  {
   "cell_type": "code",
   "execution_count": 53,
   "id": "adbade8d",
   "metadata": {},
   "outputs": [],
   "source": [
    "#### Your code here"
   ]
  },
  {
   "cell_type": "markdown",
   "id": "e78af5da",
   "metadata": {},
   "source": [
    "## Part 3: T-tests from scratch\n",
    "\n",
    "Although `scipy.stats` has a very handy set of functions for running a t-test, it's also useful to learn how to code the test from scratch. That's what this part of the lab will focus on."
   ]
  },
  {
   "cell_type": "markdown",
   "id": "9a32de62",
   "metadata": {},
   "source": [
    "### Experimental scenario\n",
    "\n",
    "Suppose a new curriculum for **reading comprehension** is developed. 10 students are assigned to the **Treatment** group and 10 are assigned to the **Control** group (which uses the previous curriculum). \n",
    "\n",
    "After the course, their scores on a reading test are collected, resulting in the following distributions.\n",
    "\n",
    "We want to know: **Is the mean score in the Treatment population higher than the mean score in the Control population?**"
   ]
  },
  {
   "cell_type": "code",
   "execution_count": 54,
   "id": "4243571e",
   "metadata": {},
   "outputs": [],
   "source": [
    "np.random.seed(10)\n",
    "T = np.random.normal(loc = 7, scale = 1, size = 10)\n",
    "C = np.random.normal(loc = 5, scale = 1, size = 10)"
   ]
  },
  {
   "cell_type": "markdown",
   "id": "38fa0c7c",
   "metadata": {},
   "source": [
    "### 3A. Understanding the distributions"
   ]
  },
  {
   "cell_type": "markdown",
   "id": "f1b5fab7",
   "metadata": {},
   "source": [
    "##### Plot each distribution using a histogram.\n",
    "\n",
    "(Note: You can either plot these in the same graph, making each distribution transparent with the `alpha` parameter; or you can plot them in separate cells.) "
   ]
  },
  {
   "cell_type": "code",
   "execution_count": 10,
   "id": "50581d8a",
   "metadata": {},
   "outputs": [],
   "source": [
    "#### Your code here"
   ]
  },
  {
   "cell_type": "markdown",
   "id": "82545839",
   "metadata": {},
   "source": [
    "##### What is the mean of each distribution?"
   ]
  },
  {
   "cell_type": "code",
   "execution_count": 11,
   "id": "5ff54d4d",
   "metadata": {},
   "outputs": [],
   "source": [
    "#### Your code here\n"
   ]
  },
  {
   "cell_type": "code",
   "execution_count": 12,
   "id": "d9afcd03",
   "metadata": {},
   "outputs": [],
   "source": [
    "#### Your code here\n"
   ]
  },
  {
   "cell_type": "markdown",
   "id": "6abf71fc",
   "metadata": {},
   "source": [
    "##### What is the difference in means between the distributions?"
   ]
  },
  {
   "cell_type": "code",
   "execution_count": 13,
   "id": "ae1b9847",
   "metadata": {},
   "outputs": [],
   "source": [
    "#### Your code here\n"
   ]
  },
  {
   "cell_type": "markdown",
   "id": "85ed140a",
   "metadata": {},
   "source": [
    "##### What is the sum of squares (SS) for the treatment group?"
   ]
  },
  {
   "cell_type": "code",
   "execution_count": 14,
   "id": "9ec761b5",
   "metadata": {},
   "outputs": [],
   "source": [
    "#### Your code here\n"
   ]
  },
  {
   "cell_type": "markdown",
   "id": "dc293f0d",
   "metadata": {},
   "source": [
    "##### What is the sum of squares (SS) for the control group?"
   ]
  },
  {
   "cell_type": "code",
   "execution_count": 15,
   "id": "880982d7",
   "metadata": {},
   "outputs": [],
   "source": [
    "#### Your code here\n"
   ]
  },
  {
   "cell_type": "markdown",
   "id": "7d6d683d",
   "metadata": {},
   "source": [
    "### 3B. Components of the t-test. "
   ]
  },
  {
   "cell_type": "markdown",
   "id": "0ef8b59d",
   "metadata": {},
   "source": [
    "##### What is the pooled variance of our samples?\n",
    "\n",
    "Recall the formula:\n",
    "\n",
    "$s_p^2 = \\frac{SS_1}{n_1-1} + \\frac{SS_2}{n_2-1}$"
   ]
  },
  {
   "cell_type": "code",
   "execution_count": 16,
   "id": "2e6bfada",
   "metadata": {},
   "outputs": [],
   "source": [
    "#### Your code here\n"
   ]
  },
  {
   "cell_type": "markdown",
   "id": "76919656",
   "metadata": {},
   "source": [
    "##### What is the standard error of the mean?\n",
    "\n",
    "Recall the formula:\n",
    "\n",
    "$S_{\\bar{X_1} - \\bar{X_2}} = \\sqrt{\\frac{s_1^2}{n_1} + \\frac{s_2^2}{n_2}}$"
   ]
  },
  {
   "cell_type": "code",
   "execution_count": 17,
   "id": "e5a34f54",
   "metadata": {},
   "outputs": [],
   "source": [
    "#### Your code here\n"
   ]
  },
  {
   "cell_type": "markdown",
   "id": "67c7828f",
   "metadata": {},
   "source": [
    "##### What is our value of $t$?  \n",
    "\n",
    "Recall the formula:\n",
    "\n",
    "$t = \\frac{\\bar{X_1} - \\bar{X_2}}{S_{\\bar{X_1} - \\bar{X_2}}}$"
   ]
  },
  {
   "cell_type": "code",
   "execution_count": 18,
   "id": "df3bd9bc",
   "metadata": {},
   "outputs": [],
   "source": [
    "#### Your code here\n"
   ]
  },
  {
   "cell_type": "markdown",
   "id": "62e1d9aa",
   "metadata": {},
   "source": [
    "### 2C. NHST"
   ]
  },
  {
   "cell_type": "markdown",
   "id": "c3189ab2",
   "metadata": {},
   "source": [
    "##### How many degrees of freedom do we have in this sample?"
   ]
  },
  {
   "cell_type": "code",
   "execution_count": 19,
   "id": "6f110779",
   "metadata": {},
   "outputs": [],
   "source": [
    "#### Your code here\n"
   ]
  },
  {
   "cell_type": "markdown",
   "id": "5f2c89ef",
   "metadata": {},
   "source": [
    "##### Is this a one-tailed or two-tailed test?\n",
    "\n",
    "**Hint**: Think about whether the question is asking you if the scores are *different* or if one group is higher than the other."
   ]
  },
  {
   "cell_type": "code",
   "execution_count": 65,
   "id": "7d7fb592",
   "metadata": {},
   "outputs": [],
   "source": [
    "#### Your code here"
   ]
  },
  {
   "cell_type": "markdown",
   "id": "1ef60e52",
   "metadata": {},
   "source": [
    "##### What is the probability of obtaining a value of $t$ at least that large, under the null hypothesis?"
   ]
  },
  {
   "cell_type": "code",
   "execution_count": 20,
   "id": "c4226bce",
   "metadata": {},
   "outputs": [],
   "source": [
    "#### Your code here\n"
   ]
  },
  {
   "cell_type": "markdown",
   "id": "547f4774",
   "metadata": {},
   "source": [
    "##### Based on this p-value, should we reject or fail to reject the null hypothesis?"
   ]
  },
  {
   "cell_type": "code",
   "execution_count": 21,
   "id": "98018f6a",
   "metadata": {},
   "outputs": [],
   "source": [
    "#### Your answer here\n"
   ]
  },
  {
   "cell_type": "markdown",
   "id": "0404e7bd",
   "metadata": {},
   "source": [
    "## Part 4: T-tests in `scipy.stats`\n",
    "\n",
    "Now we'll replicate the same analysis, but using the `ttest_ind` function in `scipy.stats`."
   ]
  },
  {
   "cell_type": "markdown",
   "id": "9b50dbdf",
   "metadata": {},
   "source": [
    "### 4A. Replicating previous analyses."
   ]
  },
  {
   "cell_type": "markdown",
   "id": "452aaabb",
   "metadata": {},
   "source": [
    "##### Use `scipy.stats.ttest_ind` to calculate $t$ for the independent samples above.\n",
    "\n",
    "**NOTE**: Remember to set the correct value for one-tailed vs. two-tailed."
   ]
  },
  {
   "cell_type": "code",
   "execution_count": 22,
   "id": "9ae3fa5d",
   "metadata": {},
   "outputs": [],
   "source": [
    "#### Your answer here\n"
   ]
  },
  {
   "cell_type": "markdown",
   "id": "6f0044bc",
   "metadata": {},
   "source": [
    "##### Now assume we are simply asking whether the samples are *different* (as opposed to whether one is larger than the other). What is $t$ now?\n",
    "\n",
    "**NOTE**: Remember to set the correct value for one-tailed vs. two-tailed."
   ]
  },
  {
   "cell_type": "code",
   "execution_count": 23,
   "id": "6d64aae8",
   "metadata": {},
   "outputs": [],
   "source": [
    "#### Your answer here\n"
   ]
  },
  {
   "cell_type": "markdown",
   "id": "f6d7da16",
   "metadata": {},
   "source": [
    "### 4B. Paired samples."
   ]
  },
  {
   "cell_type": "markdown",
   "id": "a3cced0c",
   "metadata": {},
   "source": [
    "##### Let's switch up the scenario, and instead assume that this is a pre/post measure––the \"control\" group is just the same students before the intervention, and the \"treatment\" group is the same students after the intervention. What kind of t-test should we use for this?"
   ]
  },
  {
   "cell_type": "code",
   "execution_count": 70,
   "id": "db782049",
   "metadata": {},
   "outputs": [],
   "source": [
    "#### Your answer here"
   ]
  },
  {
   "cell_type": "markdown",
   "id": "224cd146",
   "metadata": {},
   "source": [
    "##### Calculate $t$ using this t-test. (Assume that we're asking whether `T > C`, as in the original calculation.)"
   ]
  },
  {
   "cell_type": "code",
   "execution_count": 24,
   "id": "f88cec7d",
   "metadata": {},
   "outputs": [],
   "source": [
    "#### Your answer here\n"
   ]
  },
  {
   "cell_type": "markdown",
   "id": "f212567e",
   "metadata": {},
   "source": [
    "##### Is this $t$ statistic larger or smaller than when we assumed the samples were independent? Why?"
   ]
  },
  {
   "cell_type": "code",
   "execution_count": 73,
   "id": "aa60ee61",
   "metadata": {},
   "outputs": [],
   "source": [
    "#### Your answer here"
   ]
  },
  {
   "cell_type": "markdown",
   "id": "0bb328a4",
   "metadata": {},
   "source": [
    "##### Now calculate $t$ again assuming a paired/repeated samples design, but if we were instead just asking if `T ≠ C`. "
   ]
  },
  {
   "cell_type": "code",
   "execution_count": 25,
   "id": "8620bc19",
   "metadata": {},
   "outputs": [],
   "source": [
    "#### Your answer here\n"
   ]
  },
  {
   "cell_type": "markdown",
   "id": "80f872b2",
   "metadata": {},
   "source": [
    "# Conclusion\n",
    "\n",
    "Congratulations, you've now implemented several key hypothesis tests in Python!"
   ]
  }
 ],
 "metadata": {
  "kernelspec": {
   "display_name": "Python 3 (ipykernel)",
   "language": "python",
   "name": "python3"
  },
  "language_info": {
   "codemirror_mode": {
    "name": "ipython",
    "version": 3
   },
   "file_extension": ".py",
   "mimetype": "text/x-python",
   "name": "python",
   "nbconvert_exporter": "python",
   "pygments_lexer": "ipython3",
   "version": "3.9.12"
  }
 },
 "nbformat": 4,
 "nbformat_minor": 5
}
