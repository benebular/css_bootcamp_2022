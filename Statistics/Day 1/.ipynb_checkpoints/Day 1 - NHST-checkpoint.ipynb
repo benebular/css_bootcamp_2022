{
 "cells": [
  {
   "cell_type": "markdown",
   "id": "3bb4c144",
   "metadata": {
    "slideshow": {
     "slide_type": "slide"
    }
   },
   "source": [
    "# Day 1: Introduction to statistics \n",
    "\n",
    "### Sean Trott\n",
    "\n",
    "### CSS Bootcamp"
   ]
  },
  {
   "cell_type": "code",
   "execution_count": 2,
   "id": "5e22995c",
   "metadata": {
    "slideshow": {
     "slide_type": "skip"
    }
   },
   "outputs": [
    {
     "name": "stderr",
     "output_type": "stream",
     "text": [
      "/opt/anaconda3/lib/python3.9/site-packages/scipy/__init__.py:146: UserWarning: A NumPy version >=1.16.5 and <1.23.0 is required for this version of SciPy (detected version 1.23.1\n",
      "  warnings.warn(f\"A NumPy version >={np_minversion} and <{np_maxversion}\"\n"
     ]
    }
   ],
   "source": [
    "## Imports\n",
    "import math\n",
    "import pandas as pd\n",
    "import numpy as np\n",
    "import matplotlib.pyplot as plt\n",
    "import seaborn as sns\n",
    "import scipy.stats as ss"
   ]
  },
  {
   "cell_type": "code",
   "execution_count": 3,
   "id": "3b895a4c",
   "metadata": {
    "slideshow": {
     "slide_type": "skip"
    }
   },
   "outputs": [],
   "source": [
    "%matplotlib inline\n",
    "%config InlineBackend.figure_format = 'retina'  # makes figs nicer!"
   ]
  },
  {
   "cell_type": "markdown",
   "id": "42adbbe3",
   "metadata": {
    "slideshow": {
     "slide_type": "slide"
    }
   },
   "source": [
    "# Who Am I?\n",
    "\n",
    "- [Assistant Teaching Professor in Cognitive Science + CSS](https://seantrott.github.io/)\n",
    "- [Teaching: statistics, programming, language and cognition](https://seantrott.github.io/teaching/)\n",
    "- [Research interests: language evolution, psycholinguistics, NLP](https://seantrott.github.io/research/)  "
   ]
  },
  {
   "cell_type": "markdown",
   "id": "8528887f",
   "metadata": {
    "slideshow": {
     "slide_type": "slide"
    }
   },
   "source": [
    "# High-level learning outcomes of this week\n",
    "\n",
    "##### [Null Hypothesis Significance Testing (NHST)](https://en.wikipedia.org/wiki/Statistical_hypothesis_testing)\n",
    "\n",
    "- **Explain** the theoretical foundations  \n",
    "- **Implement** a t-test in Python  \n",
    "- **Evaluate** the result of a given test\n",
    "\n",
    "##### [Linear regression](https://en.wikipedia.org/wiki/Linear_regression): \n",
    "\n",
    "- **Implement** using Python\n",
    "- **Interpret** coefficients, **examine** residuals, and **predict** new data  \n",
    "\n",
    "##### [Beyond linear regression](https://en.wikipedia.org/wiki/Generalized_linear_model): \n",
    "\n",
    "- **Explain** the motivation for mixed/multilevel models  \n",
    "- **Implement** other families of regression models (e.g., logistic regression)"
   ]
  },
  {
   "cell_type": "markdown",
   "id": "dc9be468",
   "metadata": {
    "slideshow": {
     "slide_type": "slide"
    }
   },
   "source": [
    "# Today's focus\n",
    "\n",
    "- **Implement** several basic descriptive statistics in Python.\n",
    "- **Calculate** a confidence interval.\n",
    "- **Describe** properties of a distribution (e.g., skew, etc.)  \n"
   ]
  },
  {
   "cell_type": "markdown",
   "id": "8100d1be",
   "metadata": {
    "slideshow": {
     "slide_type": "slide"
    }
   },
   "source": [
    "# Part 1: Background on Statistics"
   ]
  },
  {
   "cell_type": "markdown",
   "id": "02eaa1dc",
   "metadata": {
    "slideshow": {
     "slide_type": "slide"
    }
   },
   "source": [
    "# What is statistics?\n",
    "\n",
    "**Statistics** is all about quantifying and interpreting *variation*.\n",
    "\n",
    "- **Descriptive statistics**: tools for *summarizing* and *organizing* a set of observations.  \n",
    " - Examples: mean, standard deviation\n",
    "- **Inferential statistics**: tools for making *generalizations* from (i.e, \"going beyond\") a set of observations. \n",
    " - Usually, this means extrapolating from a **sample** to a **population**.\n",
    " - Examples: t-test, chi-squared test\n",
    "\n"
   ]
  },
  {
   "cell_type": "markdown",
   "id": "d0e86722",
   "metadata": {
    "slideshow": {
     "slide_type": "slide"
    }
   },
   "source": [
    "# Check-in\n",
    "\n",
    "Which of the following are examples of *inferential* vs. *descriptive* statements?\n",
    "\n",
    "- The average height of Sean Trott's immediate family is 5'5\".\n",
    "- Based on a survey of 5,000 people, the average height of California residents is 5'4\".  \n",
    "- In a recent global survey, job satisfaction was positively correlated with self-reported happiness. \n",
    "- Job satisfaction leads to increased happiness.\n"
   ]
  },
  {
   "cell_type": "markdown",
   "id": "1f7c7cd3",
   "metadata": {
    "slideshow": {
     "slide_type": "slide"
    }
   },
   "source": [
    "# Populations vs. samples\n",
    "\n",
    "A **population** is a set of observations (or more often, *potential* observations) we're interested in.\n",
    "\n",
    "- Examples: all residents of San Diego.  \n",
    "- A **parameter** is a value reflecting the entire population of interest (e.g., average height).  \n",
    "\n",
    "A **sample** is an *actual* set of observations, from which we make **generalizations** about a population.\n",
    "\n",
    "- Examples: a sample of 100 UCSD undergraduates.  \n",
    "- A **statistic** is a value reflecting the sample (e.g., average height). "
   ]
  },
  {
   "cell_type": "markdown",
   "id": "19435944",
   "metadata": {
    "slideshow": {
     "slide_type": "slide"
    }
   },
   "source": [
    "# Check-in\n",
    "\n",
    "Will the **sample statistic** always be equal to the underlying **population parameter**? Why or why not?\n"
   ]
  },
  {
   "cell_type": "markdown",
   "id": "d4144c97",
   "metadata": {
    "slideshow": {
     "slide_type": "slide"
    }
   },
   "source": [
    "# Sampling Error\n",
    "\n",
    "A sample statistic will rarely be *identical* to the population parameter.\n",
    "\n",
    "- Sometimes a given sample *over*estimates, sometimes it *under*estimates.  \n",
    "- We'll return to this later with the Central Limit Theorem (CLT).  \n",
    "\n",
    "\n",
    "The difference between the sample vs. population is sometimes called [**sampling error**](https://en.wikipedia.org/wiki/Sampling_error).\n",
    "\n"
   ]
  },
  {
   "cell_type": "code",
   "execution_count": 4,
   "id": "8f08e04b",
   "metadata": {
    "slideshow": {
     "slide_type": "slide"
    }
   },
   "outputs": [
    {
     "data": {
      "image/png": "[encoded data removed]",
      "text/plain": [
       "<Figure size 432x288 with 1 Axes>"
      ]
     },
     "metadata": {
      "image/png": {
       "height": 248,
       "width": 388
      },
      "needs_background": "light"
     },
     "output_type": "display_data"
    }
   ],
   "source": [
    "# First, let's simulate a \"population\" of 5K heights\n",
    "np.random.seed(seed=10)\n",
    "pop = np.random.normal(loc = 65, \n",
    "                       scale = 3,\n",
    "                       size = 5000)\n",
    "\n",
    "p = sns.histplot(x = pop)"
   ]
  },
  {
   "cell_type": "code",
   "execution_count": 5,
   "id": "727a2f0c",
   "metadata": {
    "slideshow": {
     "slide_type": "-"
    }
   },
   "outputs": [
    {
     "data": {
      "text/plain": [
       "64.91"
      ]
     },
     "execution_count": 5,
     "metadata": {},
     "output_type": "execute_result"
    }
   ],
   "source": [
    "# The true mean of this population is as follows\n",
    "round(pop.mean(), 2)"
   ]
  },
  {
   "cell_type": "markdown",
   "id": "eb97671c",
   "metadata": {
    "slideshow": {
     "slide_type": "slide"
    }
   },
   "source": [
    "### Sampling error in action\n",
    "\n",
    "We can take a small sample from the population, and compare the mean of that sample (usually denoted with $\\bar{X}$) to the mean of the population (usually denoted with $\\mu$). "
   ]
  },
  {
   "cell_type": "code",
   "execution_count": 6,
   "id": "9ce26427",
   "metadata": {
    "slideshow": {
     "slide_type": "-"
    }
   },
   "outputs": [
    {
     "name": "stdout",
     "output_type": "stream",
     "text": [
      "Sample mean: 65.31\n",
      "Population mean: 64.91\n"
     ]
    }
   ],
   "source": [
    "# Now, let's take a small \"sample\" from that population.\n",
    "sample = np.random.choice(pop, 100, replace = False)\n",
    "# And let's look at the mean of the sample...\n",
    "print(\"Sample mean: {X}\".format(X = round(sample.mean(), 2)))\n",
    "print(\"Population mean: {X}\".format(X = round(pop.mean(), 2)))"
   ]
  },
  {
   "cell_type": "markdown",
   "id": "2aa3779b",
   "metadata": {
    "slideshow": {
     "slide_type": "slide"
    }
   },
   "source": [
    "### Preview: random variables and sampling\n",
    "\n",
    "- Depending on **sample**, there are many possible values that $\\bar{X}$ could take on.  \n",
    " - Thus, $\\bar{X}$ is a **random variable**, which is sampled from a distribution of possible sample means. \n",
    " - $\\bar{X}$ is also an **unbiased estimator** of $\\mu$.\n",
    "- This will become relevant for the Central Limit Theorem later on."
   ]
  },
  {
   "cell_type": "markdown",
   "id": "5385cd11",
   "metadata": {
    "slideshow": {
     "slide_type": "slide"
    }
   },
   "source": [
    "# Part 2: Descriptive Statistics\n",
    "\n",
    "**Descriptive statistics**: tools for *summarizing* and *organizing* a set of observations.\n",
    "\n",
    "This includes:\n",
    "\n",
    "- Measures of **central tendency** \n",
    "- Measures of **dispersion** \n",
    "\n",
    "Here, we'll also be discussing qualitative assessments of the **shape** of a distribution."
   ]
  },
  {
   "cell_type": "markdown",
   "id": "e562d2f0",
   "metadata": {
    "slideshow": {
     "slide_type": "slide"
    }
   },
   "source": [
    "# Measures of central tendency\n",
    "\n",
    "The three most common measures of central tendency are:\n",
    "\n",
    "- Mean  \n",
    "- Median  \n",
    "- Mode"
   ]
  },
  {
   "cell_type": "markdown",
   "id": "7cf66820",
   "metadata": {
    "slideshow": {
     "slide_type": "slide"
    }
   },
   "source": [
    "## Computing the *mean*\n",
    "\n",
    "The **mean** is defined as the sum of all values, divided by the number of observations.\n",
    "\n",
    "$\\mu = \\frac{1}{n} * \\sum_{i=1}^{n}{x_i}$\n",
    "\n",
    "Properties of the mean:\n",
    "\n",
    "- Can only be used with *quantitative* data.  \n",
    "- Sum of deviations from the mean = 0.  \n",
    "- Most affected by outliers / distribution *shape*.  "
   ]
  },
  {
   "cell_type": "markdown",
   "id": "46c7359d",
   "metadata": {
    "slideshow": {
     "slide_type": "slide"
    }
   },
   "source": [
    "## Q: How would we calculate the mean of this list?"
   ]
  },
  {
   "cell_type": "code",
   "execution_count": 6,
   "id": "3366dee3",
   "metadata": {
    "slideshow": {
     "slide_type": "-"
    }
   },
   "outputs": [
    {
     "data": {
      "text/plain": [
       "[2, 4, 3, 3, 7, 10]"
      ]
     },
     "execution_count": 6,
     "metadata": {},
     "output_type": "execute_result"
    }
   ],
   "source": [
    "observations = [2, 4, 3, 3, 7, 10]\n",
    "observations"
   ]
  },
  {
   "cell_type": "markdown",
   "id": "77b8086e",
   "metadata": {
    "slideshow": {
     "slide_type": "slide"
    }
   },
   "source": [
    "### Use `sum` to calculate the sum, then `len` to get the number of observations."
   ]
  },
  {
   "cell_type": "code",
   "execution_count": 7,
   "id": "fc6bcde7",
   "metadata": {
    "slideshow": {
     "slide_type": "-"
    }
   },
   "outputs": [
    {
     "data": {
      "text/plain": [
       "4.833333333333333"
      ]
     },
     "execution_count": 7,
     "metadata": {},
     "output_type": "execute_result"
    }
   ],
   "source": [
    "sum(observations) / len(observations)"
   ]
  },
  {
   "cell_type": "markdown",
   "id": "79fc3d30",
   "metadata": {
    "slideshow": {
     "slide_type": "slide"
    }
   },
   "source": [
    "### With `numpy`, we can call `np.mean(ARRAY)`."
   ]
  },
  {
   "cell_type": "code",
   "execution_count": 8,
   "id": "65166815",
   "metadata": {
    "slideshow": {
     "slide_type": "-"
    }
   },
   "outputs": [
    {
     "data": {
      "text/plain": [
       "4.833333333333333"
      ]
     },
     "execution_count": 8,
     "metadata": {},
     "output_type": "execute_result"
    }
   ],
   "source": [
    "np.mean(observations)"
   ]
  },
  {
   "cell_type": "markdown",
   "id": "e168f846",
   "metadata": {
    "slideshow": {
     "slide_type": "slide"
    }
   },
   "source": [
    "### We can also convert it to a `numpy array`."
   ]
  },
  {
   "cell_type": "code",
   "execution_count": 9,
   "id": "8a82546d",
   "metadata": {
    "slideshow": {
     "slide_type": "-"
    }
   },
   "outputs": [
    {
     "data": {
      "text/plain": [
       "4.833333333333333"
      ]
     },
     "execution_count": 9,
     "metadata": {},
     "output_type": "execute_result"
    }
   ],
   "source": [
    "observations_np = np.array(observations)\n",
    "observations_np.mean()"
   ]
  },
  {
   "cell_type": "markdown",
   "id": "51c89048",
   "metadata": {
    "slideshow": {
     "slide_type": "slide"
    }
   },
   "source": [
    "## Computing the *median*\n",
    "\n",
    "The **median** is defined as the value separating the upper 50% from the lower 50% of a distribution.\n",
    "\n",
    "- Order all observations from least to greatest  \n",
    "- Find the value in the middle  \n",
    "\n",
    "If there's an *even* number of observations, we take the average of the *middle two*.\n",
    "\n",
    "The median is **less affected by outliers** (or distribution **skew**) than the mean."
   ]
  },
  {
   "cell_type": "markdown",
   "id": "20b8e643",
   "metadata": {
    "slideshow": {
     "slide_type": "slide"
    }
   },
   "source": [
    "### With `numpy`, we can call `np.median(ARRAY)`."
   ]
  },
  {
   "cell_type": "code",
   "execution_count": 10,
   "id": "3b6e2595",
   "metadata": {
    "slideshow": {
     "slide_type": "-"
    }
   },
   "outputs": [
    {
     "data": {
      "text/plain": [
       "3.5"
      ]
     },
     "execution_count": 10,
     "metadata": {},
     "output_type": "execute_result"
    }
   ],
   "source": [
    "np.median(observations_np)"
   ]
  },
  {
   "cell_type": "markdown",
   "id": "c11e081c",
   "metadata": {
    "slideshow": {
     "slide_type": "slide"
    }
   },
   "source": [
    "## Computing the *mode*\n",
    "\n",
    "The **mode** is defined as the most frequent value in a distribution.\n",
    "\n",
    "Unlike `mean` and `median`, it can be used with qualitative/categorical data. "
   ]
  },
  {
   "cell_type": "markdown",
   "id": "5c3d2542",
   "metadata": {
    "slideshow": {
     "slide_type": "slide"
    }
   },
   "source": [
    "### Approach 1: `numpy.unique` "
   ]
  },
  {
   "cell_type": "code",
   "execution_count": 11,
   "id": "c7d5807b",
   "metadata": {
    "slideshow": {
     "slide_type": "-"
    }
   },
   "outputs": [
    {
     "name": "stdout",
     "output_type": "stream",
     "text": [
      "[ 2  3  4  7 10]\n",
      "[1 2 1 1 1]\n"
     ]
    }
   ],
   "source": [
    "# First, get COUNTS of each value\n",
    "vals, counts = np.unique(observations_np, return_counts=True)\n",
    "print(vals)\n",
    "print(counts)"
   ]
  },
  {
   "cell_type": "code",
   "execution_count": 12,
   "id": "09af9492",
   "metadata": {
    "slideshow": {
     "slide_type": "-"
    }
   },
   "outputs": [
    {
     "name": "stdout",
     "output_type": "stream",
     "text": [
      "3\n"
     ]
    }
   ],
   "source": [
    "index = np.argmax(counts)\n",
    "print(vals[index])"
   ]
  },
  {
   "cell_type": "markdown",
   "id": "6895ef77",
   "metadata": {
    "slideshow": {
     "slide_type": "slide"
    }
   },
   "source": [
    "### With `scipy.stats`, we can call `scipy.stats.mode(ARRAY)`."
   ]
  },
  {
   "cell_type": "code",
   "execution_count": 13,
   "id": "3dd5996b",
   "metadata": {
    "slideshow": {
     "slide_type": "-"
    }
   },
   "outputs": [
    {
     "name": "stdout",
     "output_type": "stream",
     "text": [
      "[3]\n",
      "[2]\n"
     ]
    }
   ],
   "source": [
    "mode = ss.mode(observations_np)\n",
    "print(mode.mode)\n",
    "print(mode.count)"
   ]
  },
  {
   "cell_type": "markdown",
   "id": "d767aa13",
   "metadata": {
    "slideshow": {
     "slide_type": "slide"
    }
   },
   "source": [
    "## Central Tendency and distribution shape\n",
    "\n",
    "Some measures of central tendency are more affected by **distribution shape** than others.\n",
    "\n",
    "Which measure of central tendency would be largest for the distribution below?"
   ]
  },
  {
   "cell_type": "code",
   "execution_count": 14,
   "id": "3ff1e4fb",
   "metadata": {
    "slideshow": {
     "slide_type": "-"
    }
   },
   "outputs": [
    {
     "data": {
      "text/plain": [
       "<AxesSubplot:ylabel='Count'>"
      ]
     },
     "execution_count": 14,
     "metadata": {},
     "output_type": "execute_result"
    },
    {
     "data": {
      "image/png": "[encoded data removed]",
      "text/plain": [
       "<Figure size 432x288 with 1 Axes>"
      ]
     },
     "metadata": {
      "image/png": {
       "height": 248,
       "width": 392
      },
      "needs_background": "light"
     },
     "output_type": "display_data"
    }
   ],
   "source": [
    "## Generate a skewed distribution\n",
    "obs_skewed = ss.skewnorm.rvs(10, size = 1000)\n",
    "sns.histplot(obs_skewed)"
   ]
  },
  {
   "cell_type": "markdown",
   "id": "48f8fc82",
   "metadata": {
    "slideshow": {
     "slide_type": "slide"
    }
   },
   "source": [
    "#### The mean is more affected than the median."
   ]
  },
  {
   "cell_type": "code",
   "execution_count": 15,
   "id": "1a63ba14",
   "metadata": {
    "slideshow": {
     "slide_type": "-"
    }
   },
   "outputs": [
    {
     "data": {
      "text/plain": [
       "<matplotlib.lines.Line2D at 0x7fc938b283a0>"
      ]
     },
     "execution_count": 15,
     "metadata": {},
     "output_type": "execute_result"
    },
    {
     "data": {
      "image/png": "[encoded data removed]",
      "text/plain": [
       "<Figure size 432x288 with 1 Axes>"
      ]
     },
     "metadata": {
      "image/png": {
       "height": 248,
       "width": 392
      },
      "needs_background": "light"
     },
     "output_type": "display_data"
    }
   ],
   "source": [
    "## Plot MEAN vs. MEDIAN of distribution\n",
    "sns.histplot(obs_skewed)\n",
    "plt.axvline(obs_skewed.mean(), linestyle = \"dotted\", color = \"red\")\n",
    "plt.axvline(np.median(obs_skewed), linestyle = \"dashed\", color = \"green\")"
   ]
  },
  {
   "cell_type": "markdown",
   "id": "06207a3f",
   "metadata": {
    "slideshow": {
     "slide_type": "slide"
    }
   },
   "source": [
    "# Distribution Shape\n",
    "\n",
    "Frequency distributions can have different **shapes**. \n",
    "\n",
    "- **Normal Distribution** is very common  \n",
    "- But many distributions are **skewed**  \n",
    "- And some distributions are **bimodal** (or trimodal, etc.)"
   ]
  },
  {
   "cell_type": "markdown",
   "id": "99abc575",
   "metadata": {
    "slideshow": {
     "slide_type": "slide"
    }
   },
   "source": [
    "## Normal Distribution\n",
    "\n",
    "- As we'll see, this distribution is very important for inferential statistics.  \n",
    "- Defined by a mean ($\\mu$) and standard deviation ($\\sigma$)  \n",
    "- The distribution is **symmetric**"
   ]
  },
  {
   "cell_type": "code",
   "execution_count": 16,
   "id": "dc941fb7",
   "metadata": {
    "slideshow": {
     "slide_type": "-"
    }
   },
   "outputs": [
    {
     "data": {
      "text/plain": [
       "<AxesSubplot:ylabel='Count'>"
      ]
     },
     "execution_count": 16,
     "metadata": {},
     "output_type": "execute_result"
    },
    {
     "data": {
      "image/png": "[encoded data removed]",
      "text/plain": [
       "<Figure size 432x288 with 1 Axes>"
      ]
     },
     "metadata": {
      "image/png": {
       "height": 248,
       "width": 389
      },
      "needs_background": "light"
     },
     "output_type": "display_data"
    }
   ],
   "source": [
    "# We can use np.random.normal to make a normal distribution\n",
    "pop = np.random.normal(loc = 0, scale = 1,size = 5000)\n",
    "\n",
    "sns.histplot(x = pop)"
   ]
  },
  {
   "cell_type": "markdown",
   "id": "15a5d240",
   "metadata": {
    "slideshow": {
     "slide_type": "slide"
    }
   },
   "source": [
    "## Distribution skew\n",
    "\n",
    "**Skew** is when extreme values elongate the \"tail\" of a distribution.\n",
    "\n",
    "- Positive skew (\"right-skewed\"): extreme values on the right tail  \n",
    "- Negative skew (\"left-skewed\"): extreme values on the left tail"
   ]
  },
  {
   "cell_type": "code",
   "execution_count": 17,
   "id": "1ab3bb25",
   "metadata": {
    "slideshow": {
     "slide_type": "-"
    }
   },
   "outputs": [
    {
     "data": {
      "image/png": "[encoded data removed]",
      "text/plain": [
       "<Figure size 432x288 with 2 Axes>"
      ]
     },
     "metadata": {
      "image/png": {
       "height": 248,
       "width": 375
      },
      "needs_background": "light"
     },
     "output_type": "display_data"
    }
   ],
   "source": [
    "## Generate a skewed distribution\n",
    "rskew = ss.skewnorm.rvs(100, size = 1000)\n",
    "lskew = ss.skewnorm.rvs(-100, size = 1000)\n",
    "\n",
    "f, (ax1, ax2) = plt.subplots(1, 2, sharey=True)\n",
    "L = ax1.hist(rskew, alpha = .5)\n",
    "R = ax2.hist(lskew, alpha = .5)"
   ]
  },
  {
   "cell_type": "markdown",
   "id": "4f503652",
   "metadata": {
    "slideshow": {
     "slide_type": "slide"
    }
   },
   "source": [
    "## Multimodal distribution\n",
    "\n",
    "- A **multimodal distribution** (as the name implies) has multiple **modes** or peaks. \n",
    "- Sometimes suggests distinct **generative processes** giving rise to data."
   ]
  },
  {
   "cell_type": "code",
   "execution_count": 18,
   "id": "317b5a14",
   "metadata": {
    "slideshow": {
     "slide_type": "-"
    }
   },
   "outputs": [
    {
     "data": {
      "text/plain": [
       "<AxesSubplot:ylabel='Count'>"
      ]
     },
     "execution_count": 18,
     "metadata": {},
     "output_type": "execute_result"
    },
    {
     "data": {
      "image/png": "[encoded data removed]",
      "text/plain": [
       "<Figure size 432x288 with 1 Axes>"
      ]
     },
     "metadata": {
      "image/png": {
       "height": 248,
       "width": 388
      },
      "needs_background": "light"
     },
     "output_type": "display_data"
    }
   ],
   "source": [
    "# Make two normal distributions, then put them together.\n",
    "pop1 = np.random.normal(loc = 0, scale = 1,size = 5000)\n",
    "pop2 = np.random.normal(loc = 5, scale = 1,size = 5000)\n",
    "pop_all = np.concatenate((pop1, pop2))\n",
    "\n",
    "sns.histplot(x = pop_all)"
   ]
  },
  {
   "cell_type": "markdown",
   "id": "b594cf76",
   "metadata": {
    "slideshow": {
     "slide_type": "slide"
    }
   },
   "source": [
    "# Measures of dispersion\n",
    "\n",
    "**Dispersion** (or **variability**) is the degree to which measures in a distribution are \"spread out\" or **dispersed**.\n",
    "\n",
    "- Averages only tell part of the story!  \n",
    "- Common measures:  \n",
    " - Range  \n",
    " - Standard deviation"
   ]
  },
  {
   "cell_type": "markdown",
   "id": "b2780a30",
   "metadata": {
    "slideshow": {
     "slide_type": "slide"
    }
   },
   "source": [
    "## Range\n",
    "\n",
    "**Range** is defined as the difference between the maximum and minimum values in a distribution.\n",
    "\n",
    "- Advantage: Very intuitive.\n",
    "- Limitation: Only accounts for *two scores* in a distribution.  "
   ]
  },
  {
   "cell_type": "code",
   "execution_count": 19,
   "id": "05c253d9",
   "metadata": {
    "slideshow": {
     "slide_type": "-"
    }
   },
   "outputs": [
    {
     "name": "stdout",
     "output_type": "stream",
     "text": [
      "Range: 8\n"
     ]
    }
   ],
   "source": [
    "rng = max(observations_np) - min(observations_np)\n",
    "print(\"Range: {X}\".format(X=rng))"
   ]
  },
  {
   "cell_type": "markdown",
   "id": "b0fe1934",
   "metadata": {
    "slideshow": {
     "slide_type": "slide"
    }
   },
   "source": [
    "## Standard Deviation\n",
    "\n",
    "**Standard Deviation** is the typical amount that scores **deviate** from the mean of a distribution.\n",
    "\n",
    "- Critical for both descriptive and inferential statistics  \n",
    "- As with mean, different notation for sample ($s$ or $SD$) vs. population ($\\sigma$)"
   ]
  },
  {
   "cell_type": "markdown",
   "id": "e8de1c90",
   "metadata": {
    "slideshow": {
     "slide_type": "slide"
    }
   },
   "source": [
    "## Calculating SD \n",
    "\n",
    "Two distinct formulas, depending on whether you're measuring **population** or **sample**. \n",
    "\n",
    "Let's start with population SD:\n",
    "\n",
    "$\\sigma = \\sqrt{\\frac{SS_{X}}{N}}$\n",
    "\n",
    "Where:\n",
    "\n",
    "- $SS_X$ is the **sum of squares** of X.  \n",
    "- $N$ is the number of observations."
   ]
  },
  {
   "cell_type": "markdown",
   "id": "6764c168",
   "metadata": {
    "slideshow": {
     "slide_type": "slide"
    }
   },
   "source": [
    "### Understanding Sum of Squares\n",
    "\n",
    "The **sum of squares** is the sum of *squared deviations* between each score in $X$ and the mean of $X$.\n",
    "\n",
    "$SS_X = \\sum_{i}^{N}(x_i - \\mu)^2$"
   ]
  },
  {
   "cell_type": "code",
   "execution_count": 20,
   "id": "0e5a6b47",
   "metadata": {
    "slideshow": {
     "slide_type": "-"
    }
   },
   "outputs": [
    {
     "data": {
      "text/plain": [
       "46.833333333333336"
      ]
     },
     "execution_count": 20,
     "metadata": {},
     "output_type": "execute_result"
    }
   ],
   "source": [
    "ssx = sum((observations_np - observations_np.mean())**2)\n",
    "ssx"
   ]
  },
  {
   "cell_type": "code",
   "execution_count": 21,
   "id": "ce42e781",
   "metadata": {
    "slideshow": {
     "slide_type": "-"
    }
   },
   "outputs": [
    {
     "data": {
      "text/plain": [
       "2.793842435706702"
      ]
     },
     "execution_count": 21,
     "metadata": {},
     "output_type": "execute_result"
    }
   ],
   "source": [
    "## Then divide SSX by N and take SQRT\n",
    "pop_SD = math.sqrt(ssx/observations_np.size)\n",
    "pop_SD"
   ]
  },
  {
   "cell_type": "markdown",
   "id": "3ac35ab2",
   "metadata": {
    "slideshow": {
     "slide_type": "slide"
    }
   },
   "source": [
    "### Calling `np.std`\n",
    "\n",
    "Note that this will by default calculate the **population standard deviation**!"
   ]
  },
  {
   "cell_type": "code",
   "execution_count": 22,
   "id": "dc1438f3",
   "metadata": {
    "slideshow": {
     "slide_type": "-"
    }
   },
   "outputs": [
    {
     "data": {
      "text/plain": [
       "2.793842435706702"
      ]
     },
     "execution_count": 22,
     "metadata": {},
     "output_type": "execute_result"
    }
   ],
   "source": [
    "observations_np.std()"
   ]
  },
  {
   "cell_type": "markdown",
   "id": "5cb9a739",
   "metadata": {
    "slideshow": {
     "slide_type": "slide"
    }
   },
   "source": [
    "### Sample SD\n",
    "\n",
    "If we use the same formula on a **sample**, we'll tend to *underestimate* the population standard deviation ($\\sigma$).\n",
    "\n",
    "- I.e., this formula is a **biased estimator** of $\\sigma$.\n",
    "- Instead, we add a **correction* ($n-1$) for this bias.  \n",
    "\n",
    "$SD = \\sqrt{\\frac{SS_{X}}{n-1}}$\n",
    "\n",
    "See [this paper](https://www.tandfonline.com/doi/pdf/10.1080/00494925.1979.11972378?casa_token=8-_5sCulE1QAAAAA:8NZORA5O9N-hPW7C6rjA2MtIfOXApotz5blAzqjU94SWhrqxFvnwsmjPOJMLpBU7BgyExrzvH0c) and more for details on why $n-1$."
   ]
  },
  {
   "cell_type": "code",
   "execution_count": 23,
   "id": "857412a6",
   "metadata": {
    "slideshow": {
     "slide_type": "slide"
    }
   },
   "outputs": [
    {
     "data": {
      "text/plain": [
       "3.0605010483034745"
      ]
     },
     "execution_count": 23,
     "metadata": {},
     "output_type": "execute_result"
    }
   ],
   "source": [
    "## For sample. divide by n - 1 instead\n",
    "sample_SD = math.sqrt(ssx/(observations_np.size-1))\n",
    "sample_SD"
   ]
  },
  {
   "cell_type": "code",
   "execution_count": 24,
   "id": "297094dc",
   "metadata": {
    "slideshow": {
     "slide_type": "-"
    }
   },
   "outputs": [
    {
     "data": {
      "text/plain": [
       "3.0605010483034745"
      ]
     },
     "execution_count": 24,
     "metadata": {},
     "output_type": "execute_result"
    }
   ],
   "source": [
    "## Compare to numpy output\n",
    "np.std(observations_np, ddof=1)"
   ]
  },
  {
   "cell_type": "markdown",
   "id": "5556593e",
   "metadata": {
    "slideshow": {
     "slide_type": "slide"
    }
   },
   "source": [
    "### Check-in: what does it mean to say something is a \"biased\" estimator?"
   ]
  },
  {
   "cell_type": "markdown",
   "id": "96d295b8",
   "metadata": {
    "slideshow": {
     "slide_type": "slide"
    }
   },
   "source": [
    "# Introducing the z-score\n",
    "\n",
    "A **z-score** is a standardized measure of how many any given point deviates from the mean:\n",
    "\n",
    "$Z = \\frac{X - \\mu}{\\sigma}$\n",
    "\n",
    "This allows us to quantify the **distance** (in standardized units) between a point and the mean."
   ]
  },
  {
   "cell_type": "code",
   "execution_count": 25,
   "id": "a25f4bb1",
   "metadata": {
    "slideshow": {
     "slide_type": "-"
    }
   },
   "outputs": [
    {
     "data": {
      "text/plain": [
       "array([-1.01413498, -0.29827499, -0.65620498, -0.65620498,  0.77551498,\n",
       "        1.84930496])"
      ]
     },
     "execution_count": 25,
     "metadata": {},
     "output_type": "execute_result"
    }
   ],
   "source": [
    "observations_z = (observations_np - observations_np.mean())/observations_np.std()\n",
    "observations_z"
   ]
  },
  {
   "cell_type": "markdown",
   "id": "84589cb3",
   "metadata": {
    "slideshow": {
     "slide_type": "slide"
    }
   },
   "source": [
    "### Check-in:\n",
    "\n",
    "- What can we infer about an observation if its z-score $>0$?\n",
    "- What about if its z-score $<0$?"
   ]
  },
  {
   "cell_type": "markdown",
   "id": "31cdde68",
   "metadata": {
    "slideshow": {
     "slide_type": "slide"
    }
   },
   "source": [
    "## Standard normal distribution\n",
    "\n",
    "The **standard normal distribution** is the result of **z-scoring** a normal distribution, which yields a distribution with the following parameters:  \n",
    "\n",
    "- $\\mu = 0$\n",
    "- $\\sigma = 1$"
   ]
  },
  {
   "cell_type": "code",
   "execution_count": 26,
   "id": "ba875e57",
   "metadata": {
    "slideshow": {
     "slide_type": "slide"
    }
   },
   "outputs": [
    {
     "data": {
      "image/png": "[encoded data removed]",
      "text/plain": [
       "<Figure size 432x288 with 2 Axes>"
      ]
     },
     "metadata": {
      "image/png": {
       "height": 248,
       "width": 381
      },
      "needs_background": "light"
     },
     "output_type": "display_data"
    }
   ],
   "source": [
    "# First, make a normal distribution\n",
    "pop = np.random.normal(loc = 5000, scale = 50,size = 5000)\n",
    "# Now, z-score it \n",
    "pop_z = (pop - pop.mean()) / pop.std()\n",
    "\n",
    "f, (ax1, ax2) = plt.subplots(1, 2, sharey=True)\n",
    "og = ax1.hist(pop, alpha = .5)\n",
    "og_z = ax2.hist(pop_z, alpha = .5)"
   ]
  },
  {
   "cell_type": "markdown",
   "id": "3b3d45eb",
   "metadata": {
    "slideshow": {
     "slide_type": "slide"
    }
   },
   "source": [
    "### The standard normal distribution and probabilities\n",
    "\n",
    "\n",
    "The standard normal distribution is well-defined in terms of the **probability** of different values of $z$. \n",
    "\n",
    "- I.e., most ($68.2\\%$ of points fall within $z = [-1, 1]$)  \n",
    "- Very few ($<5\\%$ of points fall beyond $z > 3$ or $z < -3$.) \n",
    "\n",
    "This is relevant for: \n",
    "\n",
    "- Confidence intervals.\n",
    "- Inferential statistics."
   ]
  },
  {
   "cell_type": "markdown",
   "id": "c5a2a7fd",
   "metadata": {
    "slideshow": {
     "slide_type": "slide"
    }
   },
   "source": [
    "#### Defining the standard normal distribution  "
   ]
  },
  {
   "cell_type": "code",
   "execution_count": 27,
   "id": "48b4b242",
   "metadata": {
    "slideshow": {
     "slide_type": "-"
    }
   },
   "outputs": [
    {
     "data": {
      "text/plain": [
       "<scipy.stats._distn_infrastructure.rv_frozen at 0x7fc91a45b5e0>"
      ]
     },
     "execution_count": 27,
     "metadata": {},
     "output_type": "execute_result"
    }
   ],
   "source": [
    "s_norm = ss.norm(loc = 0, scale = 1)\n",
    "s_norm"
   ]
  },
  {
   "cell_type": "markdown",
   "id": "d0931a64",
   "metadata": {
    "slideshow": {
     "slide_type": "slide"
    }
   },
   "source": [
    "#### Now, we can use `s_norm.cdf(X)` to calculate $p(≤X)$\n",
    "\n",
    "**Check-in**: Why is $p(≤X) = .5$?"
   ]
  },
  {
   "cell_type": "code",
   "execution_count": 28,
   "id": "127b7c60",
   "metadata": {
    "slideshow": {
     "slide_type": "-"
    }
   },
   "outputs": [
    {
     "data": {
      "text/plain": [
       "0.5"
      ]
     },
     "execution_count": 28,
     "metadata": {},
     "output_type": "execute_result"
    }
   ],
   "source": [
    "s_norm.cdf(0)"
   ]
  },
  {
   "cell_type": "markdown",
   "id": "ddc37679",
   "metadata": {
    "slideshow": {
     "slide_type": "slide"
    }
   },
   "source": [
    "### Check-in: how would we calculate the probability *between* $-1$ and $1$?"
   ]
  },
  {
   "cell_type": "markdown",
   "id": "bd1123bb",
   "metadata": {
    "slideshow": {
     "slide_type": "slide"
    }
   },
   "source": [
    "### Answer\n",
    "\n",
    "Subtract the probability of obtaining $p(X ≤-1)$ from $p(X ≤ 1)$. "
   ]
  },
  {
   "cell_type": "code",
   "execution_count": 29,
   "id": "c53d5f19",
   "metadata": {
    "scrolled": true,
    "slideshow": {
     "slide_type": "-"
    }
   },
   "outputs": [
    {
     "data": {
      "text/plain": [
       "0.6826894921370859"
      ]
     },
     "execution_count": 29,
     "metadata": {},
     "output_type": "execute_result"
    }
   ],
   "source": [
    "s_norm.cdf(1) - s_norm.cdf(-1)"
   ]
  },
  {
   "cell_type": "markdown",
   "id": "0213f1ae",
   "metadata": {
    "slideshow": {
     "slide_type": "slide"
    }
   },
   "source": [
    "### This concept will be very important later on!"
   ]
  },
  {
   "cell_type": "markdown",
   "id": "2accbf18",
   "metadata": {
    "slideshow": {
     "slide_type": "slide"
    }
   },
   "source": [
    "# Part 3: Sampling Distributions"
   ]
  },
  {
   "cell_type": "markdown",
   "id": "021222f5",
   "metadata": {
    "slideshow": {
     "slide_type": "slide"
    }
   },
   "source": [
    "## Samples and Estimators\n",
    "\n",
    "- Often, we're interested in more than just *describing a sample*.  \n",
    "- Rather, we want to **generalize** from a sample to a population.\n",
    "- More formally: we **estimate** the *population parameter* ($\\mu$) from a *sample statistic* ($\\bar{X}$)"
   ]
  },
  {
   "cell_type": "markdown",
   "id": "c5af0123",
   "metadata": {
    "slideshow": {
     "slide_type": "slide"
    }
   },
   "source": [
    "## Check-in\n",
    "\n",
    "What does it mean for $\\bar{X}$ to be an **unbiased estimate** of $\\mu$?"
   ]
  },
  {
   "cell_type": "markdown",
   "id": "321129fb",
   "metadata": {
    "slideshow": {
     "slide_type": "slide"
    }
   },
   "source": [
    "## Sampling distributions\n",
    "\n",
    "- $\\bar{X}$ is not *identical* to $\\mu$  \n",
    "- But if we took many samples from $\\mu$, the distribution of **sample means** would be **normally distributed** around $\\mu$. \n",
    " - Hence, on average, it's *unbiased*: the **mean** of this distribution is equal to $\\mu$.  \n",
    "- The distribution of *all possible* samples of size $n$ is called a **sampling distribution**."
   ]
  },
  {
   "cell_type": "markdown",
   "id": "5a6a5e6a",
   "metadata": {
    "slideshow": {
     "slide_type": "slide"
    }
   },
   "source": [
    "#### Illustration of sampling distribution\n",
    "\n",
    "First, we simulate a ground gruth population."
   ]
  },
  {
   "cell_type": "code",
   "execution_count": 30,
   "id": "28ac37b6",
   "metadata": {
    "slideshow": {
     "slide_type": "-"
    }
   },
   "outputs": [
    {
     "data": {
      "image/png": "[encoded data removed]",
      "text/plain": [
       "<Figure size 432x288 with 1 Axes>"
      ]
     },
     "metadata": {
      "image/png": {
       "height": 248,
       "width": 388
      },
      "needs_background": "light"
     },
     "output_type": "display_data"
    }
   ],
   "source": [
    "np.random.seed(seed=10)\n",
    "pop = np.random.normal(loc = 65, scale = 3, size = 5000)\n",
    "g = sns.histplot(pop)"
   ]
  },
  {
   "cell_type": "markdown",
   "id": "58a1b864",
   "metadata": {
    "slideshow": {
     "slide_type": "slide"
    }
   },
   "source": [
    "#### Illustration of sampling distribution\n",
    "\n",
    "Now, we sample from that population 300 times, with each sample size $n = 5$. What do we notice about the distribution of those sample means? (Note this is not a \"true\" sampling distribution in that it's not every possible sample.)"
   ]
  },
  {
   "cell_type": "code",
   "execution_count": 31,
   "id": "4e3773c4",
   "metadata": {
    "slideshow": {
     "slide_type": "-"
    }
   },
   "outputs": [
    {
     "data": {
      "text/plain": [
       "Text(0.5, 0, 'Sample mean (n = 5)')"
      ]
     },
     "execution_count": 31,
     "metadata": {},
     "output_type": "execute_result"
    },
    {
     "data": {
      "image/png": "[encoded data removed]",
      "text/plain": [
       "<Figure size 432x288 with 1 Axes>"
      ]
     },
     "metadata": {
      "image/png": {
       "height": 261,
       "width": 382
      },
      "needs_background": "light"
     },
     "output_type": "display_data"
    }
   ],
   "source": [
    "sample_means_n5 = []\n",
    "for _ in range(300):\n",
    "    sample = np.random.choice(pop, size = 5, replace = False)\n",
    "    sample_means_n5.append(sample.mean())\n",
    "    \n",
    "g = sns.histplot(sample_means_n5)\n",
    "plt.xlabel(\"Sample mean (n = 5)\")"
   ]
  },
  {
   "cell_type": "markdown",
   "id": "1ef3b77f",
   "metadata": {
    "slideshow": {
     "slide_type": "slide"
    }
   },
   "source": [
    "## Why $n$ matters\n",
    "\n",
    "Now let's compare several distributions:  \n",
    "\n",
    "- The original population  \n",
    "- Sampling distribution with $n = 15$  \n",
    "- Sampling distribution with $n = 40$"
   ]
  },
  {
   "cell_type": "markdown",
   "id": "30fabef6",
   "metadata": {
    "slideshow": {
     "slide_type": "slide"
    }
   },
   "source": [
    "### Collecting sample means with $n=40$"
   ]
  },
  {
   "cell_type": "code",
   "execution_count": 32,
   "id": "c94cac76",
   "metadata": {
    "slideshow": {
     "slide_type": "-"
    }
   },
   "outputs": [],
   "source": [
    "sample_means_n40 = []\n",
    "for _ in range(300):\n",
    "    sample = np.random.choice(pop, size = 40, replace = False)\n",
    "    sample_means_n40.append(sample.mean())"
   ]
  },
  {
   "cell_type": "code",
   "execution_count": 33,
   "id": "e82332f9",
   "metadata": {
    "slideshow": {
     "slide_type": "slide"
    }
   },
   "outputs": [
    {
     "data": {
      "image/png": "[encoded data removed]",
      "text/plain": [
       "<Figure size 648x288 with 3 Axes>"
      ]
     },
     "metadata": {
      "image/png": {
       "height": 263,
       "width": 549
      },
      "needs_background": "light"
     },
     "output_type": "display_data"
    }
   ],
   "source": [
    "## Now, we visualize them altogether\n",
    "f, (ax1, ax2, ax3) = plt.subplots(1, 3, sharex = True)\n",
    "f.set_figwidth(9)\n",
    "og = ax1.hist(pop, alpha = .5)\n",
    "ax1.title.set_text(\"Population\")\n",
    "og_s1 = ax2.hist(sample_means_n5, alpha = .5)\n",
    "ax2.title.set_text(\"Sample means (n = 5)\")\n",
    "og_s2 = ax3.hist(sample_means_n40, alpha = .5)\n",
    "ax3.title.set_text(\"Sample means (n = 40)\")"
   ]
  },
  {
   "cell_type": "markdown",
   "id": "1d1f2c5b",
   "metadata": {
    "slideshow": {
     "slide_type": "slide"
    }
   },
   "source": [
    "## Why $n$ matters\n",
    "\n",
    "As $n$ increases: \n",
    "\n",
    "- Sampling distribution looks increasingly **normal**  \n",
    "- The variance of our sampling distribution **decreases**. \n",
    "\n",
    "This is, in essence, the [Central Limit Theorem](https://en.wikipedia.org/wiki/Central_limit_theorem)."
   ]
  },
  {
   "cell_type": "markdown",
   "id": "bdf3d697",
   "metadata": {
    "slideshow": {
     "slide_type": "slide"
    }
   },
   "source": [
    "## Check-in\n",
    "\n",
    "Would this apply to non-normal distributions, such as a right-skewed distribution?"
   ]
  },
  {
   "cell_type": "markdown",
   "id": "c68ad8ef",
   "metadata": {
    "slideshow": {
     "slide_type": "slide"
    }
   },
   "source": [
    "## Answer: Yes! \n",
    "\n",
    "Even for a skewed population, the distribution of sample means will be normal (and increasingly so as $n$ increases).\n",
    "\n",
    "- See today's lab for more examples of sampling distributions"
   ]
  },
  {
   "cell_type": "markdown",
   "id": "ec9ef83a",
   "metadata": {
    "slideshow": {
     "slide_type": "slide"
    }
   },
   "source": [
    "### Why do sampling distributions matter?\n",
    "\n",
    "As we'll see, the notion of a **sampling distribution**––and the Central Limit Theorem––is central to:\n",
    "\n",
    "- Calculating confidence intervals.\n",
    "- Null Hypothesis Significance Testing.\n"
   ]
  },
  {
   "cell_type": "markdown",
   "id": "d76cd5b2",
   "metadata": {
    "slideshow": {
     "slide_type": "slide"
    }
   },
   "source": [
    "# Part 4: Confidence intervals\n",
    "\n",
    "So far, we've primarily discussed **point estimates**.\n",
    "\n",
    "- A single-value estimate of a **parameter**.  \n",
    "- Mean, median, etc.\n",
    "\n",
    "But we can also give an **interval**, within which the true parameter might lie. \n",
    "- Example: $\\bar{X} = 5$, with a $95\\%$ confidence interval of $[3, 7]$. "
   ]
  },
  {
   "cell_type": "markdown",
   "id": "f3d36873",
   "metadata": {
    "slideshow": {
     "slide_type": "slide"
    }
   },
   "source": [
    "## Introducing standard error\n",
    "\n",
    "- To calculate a confidence interval, we need to know the **standard error** of the mean.  \n",
    "- This tells us (roughly) how different $\\mu$ is likely to be from $\\sigma$.\n",
    "- **Standard error** is defined as:\n",
    "\n",
    "$SE = \\frac{\\sigma}{\\sqrt{n}}$\n",
    "\n",
    "(If $\\sigma$ is unknown, use sample $SD$ instead.)"
   ]
  },
  {
   "cell_type": "markdown",
   "id": "9307875e",
   "metadata": {
    "slideshow": {
     "slide_type": "slide"
    }
   },
   "source": [
    "### Check-in: What is one important way in which SE is different from $\\sigma$?"
   ]
  },
  {
   "cell_type": "markdown",
   "id": "a9a17c57",
   "metadata": {
    "slideshow": {
     "slide_type": "slide"
    }
   },
   "source": [
    "### Answer 1\n",
    "\n",
    "- $SD$ is a measure of variability within a sample.  \n",
    "- $SE$ is a measure of variability *across samples*, i.e., variability within your **sampling distribution**.  \n",
    "\n"
   ]
  },
  {
   "cell_type": "markdown",
   "id": "ff02a308",
   "metadata": {
    "slideshow": {
     "slide_type": "slide"
    }
   },
   "source": [
    "### Answer 2: Unlike $\\sigma$, SE depends on $n$.\n",
    "\n",
    "- As $n$ increases, $SE$ decreases (whereas $\\sigma$ does not).  \n",
    "- This is directly rooted in the **Central Limit Theorem**!\n",
    "\n"
   ]
  },
  {
   "cell_type": "code",
   "execution_count": 34,
   "id": "ed30358c",
   "metadata": {
    "slideshow": {
     "slide_type": "slide"
    }
   },
   "outputs": [
    {
     "data": {
      "text/plain": [
       "Text(0, 0.5, 'Standard Error')"
      ]
     },
     "execution_count": 34,
     "metadata": {},
     "output_type": "execute_result"
    },
    {
     "data": {
      "image/png": "[encoded data removed]",
      "text/plain": [
       "<Figure size 432x288 with 1 Axes>"
      ]
     },
     "metadata": {
      "image/png": {
       "height": 261,
       "width": 382
      },
      "needs_background": "light"
     },
     "output_type": "display_data"
    }
   ],
   "source": [
    "Ns = np.linspace(1, 100, num = 100)\n",
    "for sigma in [10, 20, 30, 40]:\n",
    "    se = sigma / np.sqrt(Ns)\n",
    "    plt.plot(Ns, se, label = \"$\\sigma$ = {x}\".format(x=sigma))\n",
    "plt.legend()\n",
    "plt.xlabel(\"N\")\n",
    "plt.ylabel(\"Standard Error\")"
   ]
  },
  {
   "cell_type": "markdown",
   "id": "799e1f90",
   "metadata": {
    "slideshow": {
     "slide_type": "slide"
    }
   },
   "source": [
    "## How to use standard error? (Pt. 1)\n",
    "\n",
    "A common way to use standard error is to **report** it alongside the sample mean:\n",
    "\n",
    "> The mean of our sample was $25$, $\\pm 3.5$ (SE).  \n",
    "\n",
    "That \"$\\pm$\" symbol just indicates some **uncertainty** about our sample statistic.  "
   ]
  },
  {
   "cell_type": "markdown",
   "id": "d7745e5e",
   "metadata": {
    "slideshow": {
     "slide_type": "slide"
    }
   },
   "source": [
    "## How to use standard error? (Pt. 2)\n",
    "\n",
    "You can also use standard error to calculate a **confidence interval** (or **CI**). \n",
    "\n",
    "- Note: there are *many* ways to calculate a CI\n",
    " - Also much [debate](https://www.bmj.com/content/366/bmj.l5381.full) about the term itself; some prefer \"uncertainty interval\".    \n",
    " - Also [many](http://www.ejwagenmakers.com/inpress/HoekstraEtAlPBR.pdf) misconceptions about what it means.  \n",
    " - So if this is confusing, you're in good company!\n",
    "- For today, we will focus on a **frequentist** definition.  \n",
    " - What it **is** and what it **is not**.  "
   ]
  },
  {
   "cell_type": "markdown",
   "id": "c8be8daf",
   "metadata": {
    "slideshow": {
     "slide_type": "slide"
    }
   },
   "source": [
    "## So what is a confidence interval?\n",
    "\n",
    "From [Hoekstra et al (2014)](http://www.ejwagenmakers.com/inpress/HoekstraEtAlPBR.pdf):\n",
    "\n",
    ">  A CI is a numerical interval constructed around the estimate of a parameter...we may find that a particular procedure, when used repeatedly across a series of hypothetical data sets (i.e., the sample space), yields intervals that contain the true parameter value in 95 % of the cases. When such a procedure is applied to a particular dataset, the resulting interval is said to be a 95 % CI.\n",
    "\n",
    "Put another way:\n",
    "\n",
    "- Across *all* possible samples constructed this way (e.g., with a particular value of $n$)...\n",
    "- ...what **proportion** of CIs calculated for those samples would contain the true population parameter?"
   ]
  },
  {
   "cell_type": "markdown",
   "id": "d43d0821",
   "metadata": {
    "slideshow": {
     "slide_type": "slide"
    }
   },
   "source": [
    "## Calculating a confidence interval\n",
    "\n",
    "The confidence interval (CI) for a particular \"confidence\" level is defined as:\n",
    "\n",
    "$CI = [\\bar{X} - z\\frac{SD}{\\sqrt{n}}, \\bar{X} + z\\frac{SD}{\\sqrt{n}}]$\n",
    "\n",
    "A couple things to notice:\n",
    "\n",
    "- $\\frac{SD}{\\sqrt{n}}$ is just **standard error**.  \n",
    "- $\\bar{X}$ is our sample mean: this formula gives us an **interval** around the sample mean.  \n",
    "- The value of $z$ will depend on our desired \"confidence\" level.  "
   ]
  },
  {
   "cell_type": "markdown",
   "id": "7bace774",
   "metadata": {
    "slideshow": {
     "slide_type": "slide"
    }
   },
   "source": [
    "## Choosing a value of $z$ \n",
    "\n",
    "The value of $z$ can be derived from our **standard normal distribution**.  \n",
    "\n",
    "Example:\n",
    "\n",
    "- $68.2\\%$ of values fall between $[-1, 1]$.\n",
    "- Thus, a $68.2\\%$ CI would use $z = 1$.  "
   ]
  },
  {
   "cell_type": "markdown",
   "id": "59f2e26c",
   "metadata": {
    "slideshow": {
     "slide_type": "slide"
    }
   },
   "source": [
    "### The 95% CI\n",
    "\n",
    "Often, researchers use a $95\\%$ CI. In this case, $z = 1.96$."
   ]
  },
  {
   "cell_type": "code",
   "execution_count": 35,
   "id": "c08e2cf9",
   "metadata": {
    "slideshow": {
     "slide_type": "skip"
    }
   },
   "outputs": [
    {
     "data": {
      "text/plain": [
       "0.950004209703559"
      ]
     },
     "execution_count": 35,
     "metadata": {},
     "output_type": "execute_result"
    }
   ],
   "source": [
    "s_norm.cdf(1.96) - s_norm.cdf(-1.96)"
   ]
  },
  {
   "cell_type": "markdown",
   "id": "447548f9",
   "metadata": {
    "slideshow": {
     "slide_type": "slide"
    }
   },
   "source": [
    "### Check-in:\n",
    "\n",
    "Construct a 95% confidence interval using the following information:\n",
    "\n",
    "- Our sample mean is $10$.  \n",
    "- Our sample standard deviation is 2.  \n",
    "- Our sample size is 20.  "
   ]
  },
  {
   "cell_type": "markdown",
   "id": "0538cbfc",
   "metadata": {
    "slideshow": {
     "slide_type": "slide"
    }
   },
   "source": [
    "### Answer\n",
    "\n",
    "- We want 95% CI, so we use $z = 1.96$.  \n",
    "- Calculate $SE = \\frac{SD}{\\sqrt{n}}$  \n",
    "- Use the formula provided:\n",
    "\n",
    "$CI = [\\bar{X} - z*SE, \\bar{X} + z*SE]$\n",
    "\n"
   ]
  },
  {
   "cell_type": "code",
   "execution_count": 37,
   "id": "cefcb4c5",
   "metadata": {
    "slideshow": {
     "slide_type": "slide"
    }
   },
   "outputs": [
    {
     "name": "stdout",
     "output_type": "stream",
     "text": [
      "CI is [9.12, 10.88]\n"
     ]
    }
   ],
   "source": [
    "#### Example code\n",
    "x_bar = 10\n",
    "se = 2 / math.sqrt(20)\n",
    "z = 1.96\n",
    "ci_lower = round(x_bar - z*se, 2)\n",
    "ci_upper = round(x_bar + z*se, 2)\n",
    "\n",
    "print(\"CI is [{l}, {h}]\".format(l = ci_lower, h = ci_upper))"
   ]
  },
  {
   "cell_type": "markdown",
   "id": "3de44ba0",
   "metadata": {
    "slideshow": {
     "slide_type": "slide"
    }
   },
   "source": [
    "## What this is *not*\n",
    "\n",
    "There are many [common misconceptions](http://www.ejwagenmakers.com/inpress/HoekstraEtAlPBR.pdf) about what a CI means.\n",
    "\n",
    "A CI is **not**:\n",
    "\n",
    "- A statement about the *range* of observed scores in the sample.  \n",
    "- A statement about the *probability* that the true mean lies within some interval.\n",
    "\n",
    "Much more we could discuss, but hopefully this is a good start!"
   ]
  },
  {
   "cell_type": "markdown",
   "id": "fe29f27d",
   "metadata": {
    "slideshow": {
     "slide_type": "slide"
    }
   },
   "source": [
    "# Conclusion\n",
    "\n",
    "This concludes the introduction to NHST! Hopefully now, you can:\n",
    "\n",
    "- **Implement** several basic descriptive statistics in Python  \n",
    "- **Describe** properties of a distribution (e.g., skew, etc.)  \n",
    "- **Calculate** a confidence interval.  \n"
   ]
  }
 ],
 "metadata": {
  "celltoolbar": "Slideshow",
  "kernelspec": {
   "display_name": "Python 3 (ipykernel)",
   "language": "python",
   "name": "python3"
  },
  "language_info": {
   "codemirror_mode": {
    "name": "ipython",
    "version": 3
   },
   "file_extension": ".py",
   "mimetype": "text/x-python",
   "name": "python",
   "nbconvert_exporter": "python",
   "pygments_lexer": "ipython3",
   "version": "3.9.12"
  }
 },
 "nbformat": 4,
 "nbformat_minor": 5
}
