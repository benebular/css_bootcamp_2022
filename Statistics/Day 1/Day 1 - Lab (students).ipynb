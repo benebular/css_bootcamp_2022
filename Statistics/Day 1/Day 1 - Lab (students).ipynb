{
 "cells": [
  {
   "cell_type": "markdown",
   "id": "074b9528",
   "metadata": {},
   "source": [
    "# CSS Bootcamp\n",
    "\n",
    "## Day 1 (NHST): Lab\n",
    "\n",
    "This lab is intended to accompany **Day 1** of the week on **Statistics**, which focuses on:\n",
    "\n",
    "- Basic descriptive statistics  \n",
    "- Sampling error and the Central Limit Theorem  \n",
    "\n",
    "This lab has some \"free response\" questions, in which you are asked to describe or make some inference from a graph. \n",
    "\n",
    "It also has questions requiring you to program answers in Python. In some cases, this will use built-in functions we've discussed in class (either today, or previous weeks). In others, there'll be a built-in function that we *haven't* discussed, which you will have to look up in the documentation. And in other cases, you'll be asked to write an original function.\n",
    "\n",
    "Please reach out for help if anything is unclear!"
   ]
  },
  {
   "cell_type": "markdown",
   "id": "678c7b8b",
   "metadata": {},
   "source": [
    "#### Key imports\n",
    "\n",
    "Here, we import some of the libraries that will be critical for the lab."
   ]
  },
  {
   "cell_type": "code",
   "execution_count": 1,
   "id": "ffb60af5",
   "metadata": {},
   "outputs": [
    {
     "name": "stderr",
     "output_type": "stream",
     "text": [
      "/opt/anaconda3/lib/python3.9/site-packages/scipy/__init__.py:146: UserWarning: A NumPy version >=1.16.5 and <1.23.0 is required for this version of SciPy (detected version 1.23.1\n",
      "  warnings.warn(f\"A NumPy version >={np_minversion} and <{np_maxversion}\"\n"
     ]
    }
   ],
   "source": [
    "import matplotlib.pyplot as plt\n",
    "import math\n",
    "import numpy as np\n",
    "import seaborn as sns\n",
    "import scipy.stats as ss\n",
    "import pandas as pd"
   ]
  },
  {
   "cell_type": "code",
   "execution_count": 2,
   "id": "d8671fc4",
   "metadata": {},
   "outputs": [],
   "source": [
    "%matplotlib inline\n",
    "%config InlineBackend.figure_format = 'retina'  # makes figs nicer!"
   ]
  },
  {
   "cell_type": "markdown",
   "id": "08ac697a",
   "metadata": {},
   "source": [
    "We're also going to be working with one of the datasets found in `seaborn`."
   ]
  },
  {
   "cell_type": "code",
   "execution_count": 3,
   "id": "4abd56bb",
   "metadata": {},
   "outputs": [
    {
     "data": {
      "text/html": [
       "<div>\n",
       "<style scoped>\n",
       "    .dataframe tbody tr th:only-of-type {\n",
       "        vertical-align: middle;\n",
       "    }\n",
       "\n",
       "    .dataframe tbody tr th {\n",
       "        vertical-align: top;\n",
       "    }\n",
       "\n",
       "    .dataframe thead th {\n",
       "        text-align: right;\n",
       "    }\n",
       "</style>\n",
       "<table border=\"1\" class=\"dataframe\">\n",
       "  <thead>\n",
       "    <tr style=\"text-align: right;\">\n",
       "      <th></th>\n",
       "      <th>total_bill</th>\n",
       "      <th>tip</th>\n",
       "      <th>sex</th>\n",
       "      <th>smoker</th>\n",
       "      <th>day</th>\n",
       "      <th>time</th>\n",
       "      <th>size</th>\n",
       "    </tr>\n",
       "  </thead>\n",
       "  <tbody>\n",
       "    <tr>\n",
       "      <th>0</th>\n",
       "      <td>16.99</td>\n",
       "      <td>1.01</td>\n",
       "      <td>Female</td>\n",
       "      <td>No</td>\n",
       "      <td>Sun</td>\n",
       "      <td>Dinner</td>\n",
       "      <td>2</td>\n",
       "    </tr>\n",
       "    <tr>\n",
       "      <th>1</th>\n",
       "      <td>10.34</td>\n",
       "      <td>1.66</td>\n",
       "      <td>Male</td>\n",
       "      <td>No</td>\n",
       "      <td>Sun</td>\n",
       "      <td>Dinner</td>\n",
       "      <td>3</td>\n",
       "    </tr>\n",
       "  </tbody>\n",
       "</table>\n",
       "</div>"
      ],
      "text/plain": [
       "   total_bill   tip     sex smoker  day    time  size\n",
       "0       16.99  1.01  Female     No  Sun  Dinner     2\n",
       "1       10.34  1.66    Male     No  Sun  Dinner     3"
      ]
     },
     "execution_count": 3,
     "metadata": {},
     "output_type": "execute_result"
    }
   ],
   "source": [
    "df_tips = sns.load_dataset(\"tips\")\n",
    "df_tips.head(2)"
   ]
  },
  {
   "cell_type": "markdown",
   "id": "484fcf18",
   "metadata": {},
   "source": [
    "## Part 1: Descriptive Statistics\n",
    "\n",
    "In this section, you'll plot data, then calculate basic descriptive statistics for different sets of observations."
   ]
  },
  {
   "cell_type": "markdown",
   "id": "48a0caaf",
   "metadata": {},
   "source": [
    "### 1A. Plotting data"
   ]
  },
  {
   "cell_type": "markdown",
   "id": "ddd42f04",
   "metadata": {},
   "source": [
    "##### Plot the distribution of tip amounts from the `df_tips` dataframe (the correct column is `tip`)."
   ]
  },
  {
   "cell_type": "code",
   "execution_count": 4,
   "id": "74610452",
   "metadata": {},
   "outputs": [],
   "source": [
    "#### Your code here"
   ]
  },
  {
   "cell_type": "markdown",
   "id": "cff374bd",
   "metadata": {},
   "source": [
    "##### How would you describe the **shape** of this distribution? Is it normal or skewed? If skewed, in what direction?"
   ]
  },
  {
   "cell_type": "code",
   "execution_count": 4,
   "id": "184c2b6f",
   "metadata": {},
   "outputs": [],
   "source": [
    "#### Your response here"
   ]
  },
  {
   "cell_type": "markdown",
   "id": "aae9c69a",
   "metadata": {},
   "source": [
    "##### Create a new variable, called `tip_pct`. This is the `tip` amount divided by the `total_bill` amount"
   ]
  },
  {
   "cell_type": "code",
   "execution_count": 7,
   "id": "d714cb52",
   "metadata": {},
   "outputs": [],
   "source": [
    "#### Your code here"
   ]
  },
  {
   "cell_type": "markdown",
   "id": "e1c47622",
   "metadata": {},
   "source": [
    "##### Now plot a histogram of this variable. Is it normal or skewed? If skewed, in what direction?"
   ]
  },
  {
   "cell_type": "code",
   "execution_count": 9,
   "id": "a05f7cd0",
   "metadata": {},
   "outputs": [],
   "source": [
    "#### Your code here"
   ]
  },
  {
   "cell_type": "markdown",
   "id": "5fd8e796",
   "metadata": {},
   "source": [
    "### 1B. Central Tendency"
   ]
  },
  {
   "cell_type": "markdown",
   "id": "899c08df",
   "metadata": {},
   "source": [
    "##### What is the `mean` tip proportion (`tip_pct`)?"
   ]
  },
  {
   "cell_type": "code",
   "execution_count": 11,
   "id": "8205f53d",
   "metadata": {},
   "outputs": [],
   "source": [
    "#### Your code here"
   ]
  },
  {
   "cell_type": "markdown",
   "id": "f56329f5",
   "metadata": {},
   "source": [
    "##### What is the `median` tip proportion (`tip_pct`)?"
   ]
  },
  {
   "cell_type": "code",
   "execution_count": 13,
   "id": "2892479f",
   "metadata": {},
   "outputs": [],
   "source": [
    "#### Your code here"
   ]
  },
  {
   "cell_type": "markdown",
   "id": "213ee503",
   "metadata": {},
   "source": [
    "##### What's higher, the mean or the median? Explain why, using the graph of `tip_pct` from above as justification."
   ]
  },
  {
   "cell_type": "code",
   "execution_count": 15,
   "id": "3dc092b0",
   "metadata": {},
   "outputs": [],
   "source": [
    "#### Your response here"
   ]
  },
  {
   "cell_type": "markdown",
   "id": "bc45cd0a",
   "metadata": {},
   "source": [
    "##### Plot the distribution of `tip_pct` values again, this time with a dotted vertical line representing the `mean` proportion."
   ]
  },
  {
   "cell_type": "code",
   "execution_count": 16,
   "id": "38135abe",
   "metadata": {},
   "outputs": [],
   "source": [
    "#### Your code here"
   ]
  },
  {
   "cell_type": "markdown",
   "id": "f93bd6fa",
   "metadata": {},
   "source": [
    "### 1C. Dispersion"
   ]
  },
  {
   "cell_type": "markdown",
   "id": "fe978833",
   "metadata": {},
   "source": [
    "##### What is the minimum and maximum tip proportion (`tip_pct`)?"
   ]
  },
  {
   "cell_type": "code",
   "execution_count": 18,
   "id": "7d79f9b7",
   "metadata": {},
   "outputs": [],
   "source": [
    "#### Your code here"
   ]
  },
  {
   "cell_type": "markdown",
   "id": "0240567a",
   "metadata": {},
   "source": [
    "##### Calculate the distribution of squared errors for `tip_pct`\n",
    "\n",
    "The formula is as follows:\n",
    "\n",
    "$\\epsilon = (x_i - \\mu)^2$\n",
    "\n",
    "Where $\\mu$ is the mean of $x$, and each $x_i$ is one of the observations of $x$."
   ]
  },
  {
   "cell_type": "code",
   "execution_count": 21,
   "id": "c3fec73b",
   "metadata": {},
   "outputs": [],
   "source": [
    "#### Your code here"
   ]
  },
  {
   "cell_type": "markdown",
   "id": "98db5ec6",
   "metadata": {},
   "source": [
    "##### Create a scatterplot comparing the `squared error` (y-axis) for a given datapoint to the original `tip_pct` (x-axis).\n",
    "\n",
    "**Hint**: You can use `sns.scatterplot`, e.g.,:\n",
    "\n",
    "```\n",
    "sns.scatterplot(x = ...,\n",
    "                y = ...)\n",
    "```"
   ]
  },
  {
   "cell_type": "code",
   "execution_count": 23,
   "id": "dc4cabac",
   "metadata": {},
   "outputs": [],
   "source": [
    "#### Your code here"
   ]
  },
  {
   "cell_type": "markdown",
   "id": "a33fd56d",
   "metadata": {},
   "source": [
    "##### Write a function to calculate sample standard deviation of an input vector `x`."
   ]
  },
  {
   "cell_type": "code",
   "execution_count": 27,
   "id": "46929dcc",
   "metadata": {},
   "outputs": [],
   "source": [
    "#### Starter function\n",
    "def calculate_sample_sd(x):\n",
    "    \"\"\"Calculate sample standard deviation of x. Assume x is a numpy array or pd.Series\"\"\"\n",
    "    #### Your code here\n",
    "    pass"
   ]
  },
  {
   "cell_type": "markdown",
   "id": "28a550ee",
   "metadata": {},
   "source": [
    "##### Compare the output of your function to calling `std` on the `tip_pct` column of the `pandas` dataframe."
   ]
  },
  {
   "cell_type": "code",
   "execution_count": 29,
   "id": "308882d5",
   "metadata": {},
   "outputs": [],
   "source": [
    "#### Your code here"
   ]
  },
  {
   "cell_type": "markdown",
   "id": "306589cc",
   "metadata": {},
   "source": [
    "##### Convert the values in `tip_pct` to z-scores.\n",
    "\n",
    "Recall that a **z-score** is defined as:\n",
    "\n",
    "$Z = \\frac{x - \\mu}{\\sigma}$\n",
    "\n",
    "Where:\n",
    "\n",
    "- $mu$ = mean of distribution  \n",
    "- $\\sigma$ = standard deviation of distribution"
   ]
  },
  {
   "cell_type": "code",
   "execution_count": 32,
   "id": "9bbd1a05",
   "metadata": {},
   "outputs": [],
   "source": [
    "#### Your code here"
   ]
  },
  {
   "cell_type": "markdown",
   "id": "35b30d32",
   "metadata": {},
   "source": [
    "##### Plot a histogram of those z-scores."
   ]
  },
  {
   "cell_type": "code",
   "execution_count": 34,
   "id": "4f352e15",
   "metadata": {},
   "outputs": [],
   "source": [
    "#### Your code here"
   ]
  },
  {
   "cell_type": "markdown",
   "id": "a91bc184",
   "metadata": {},
   "source": [
    "### 1D. Standard error"
   ]
  },
  {
   "cell_type": "markdown",
   "id": "c5b84948",
   "metadata": {},
   "source": [
    "##### What is the standard error of `tip_pct`?"
   ]
  },
  {
   "cell_type": "code",
   "execution_count": 34,
   "id": "316d89ce",
   "metadata": {},
   "outputs": [],
   "source": [
    "#### Your code here"
   ]
  },
  {
   "cell_type": "markdown",
   "id": "502a131e",
   "metadata": {},
   "source": [
    "##### Calculate the 95% confidence interval around the mean of `tip_pct`.  (Round each number to three decimal places.)"
   ]
  },
  {
   "cell_type": "code",
   "execution_count": 52,
   "id": "ee426c2c",
   "metadata": {},
   "outputs": [],
   "source": [
    "#### Your code here"
   ]
  },
  {
   "cell_type": "markdown",
   "id": "d46d051f",
   "metadata": {},
   "source": [
    "## Part 2: Sampling Error and CLT\n",
    "\n",
    "Now that you've had some practice with basic descriptive statistics, we'll put them into action as we tackle **inferential statistics**.\n",
    "\n",
    "The notion of **sampling error** is at the heart of inferential statistics. We can almost never observe an entire population of interest, so we rely on random, representative samples instead. Using these samples, we calculate **sample statistics**, which we use to try to *estimate* the underlying **population parameter**."
   ]
  },
  {
   "cell_type": "markdown",
   "id": "90b0afbe",
   "metadata": {},
   "source": [
    "### 2A. Sampling"
   ]
  },
  {
   "cell_type": "markdown",
   "id": "dec370a4",
   "metadata": {},
   "source": [
    "##### Use `numpy.random.choice` to take a random sample of size 10 of the `tip_pct` column.\n",
    "\n",
    "**Note (1)**: Set `replace = False` to make sure you don't sample the same observation twice.\n",
    "\n",
    "**Note (2)**: You can also sample directly from the `pandas` column using the [`sample` function](https://pandas.pydata.org/docs/reference/api/pandas.DataFrame.sample.html)."
   ]
  },
  {
   "cell_type": "code",
   "execution_count": 54,
   "id": "aa25e5df",
   "metadata": {},
   "outputs": [],
   "source": [
    "#### Your code here"
   ]
  },
  {
   "cell_type": "markdown",
   "id": "422eeede",
   "metadata": {},
   "source": [
    "##### Calculate the mean of this sample."
   ]
  },
  {
   "cell_type": "code",
   "execution_count": 56,
   "id": "f656cfb6",
   "metadata": {},
   "outputs": [],
   "source": [
    "#### Your code here"
   ]
  },
  {
   "cell_type": "markdown",
   "id": "19052d83",
   "metadata": {},
   "source": [
    "##### How does this compare to the true mean of the distribution? Is it equal? Larger or smaller?\n",
    "\n",
    "**Note**: Try running the *sample* multiple times to get an intuitive sense for how much this value varies."
   ]
  },
  {
   "cell_type": "code",
   "execution_count": 58,
   "id": "92babadf",
   "metadata": {},
   "outputs": [],
   "source": [
    "#### Your response here"
   ]
  },
  {
   "cell_type": "markdown",
   "id": "d0592a74",
   "metadata": {},
   "source": [
    "##### Calculate the root mean squared error (RMSE) of one of these sample means with respect to the true mean.\n",
    "\n",
    "MSE is defined as:\n",
    "\n",
    "$\\epsilon = \\sqrt{(\\bar{x} - \\mu)^2}$\n",
    "\n",
    "Where $\\mu$ is the true mean, and $\\bar{x}$ is the mean of our sample."
   ]
  },
  {
   "cell_type": "code",
   "execution_count": 59,
   "id": "214ffd72",
   "metadata": {},
   "outputs": [],
   "source": [
    "#### Your response here"
   ]
  },
  {
   "cell_type": "markdown",
   "id": "b4b1f5f9",
   "metadata": {},
   "source": [
    "### 2B. Sampling error"
   ]
  },
  {
   "cell_type": "markdown",
   "id": "9b2d06cd",
   "metadata": {},
   "source": [
    "##### Now write a function to take `N` samples of size `size` from an input vector `x` (without replacement), and return the distribution of sample means."
   ]
  },
  {
   "cell_type": "code",
   "execution_count": 63,
   "id": "d3ba5de3",
   "metadata": {},
   "outputs": [],
   "source": [
    "#### Starter function\n",
    "def sampling_distribution(x, N, size):\n",
    "    \"\"\"Take N samples from x of size 'size', and calculate the mean of each sample.\"\"\"\n",
    "    #### Your code here\n",
    "    pass"
   ]
  },
  {
   "cell_type": "markdown",
   "id": "160c9b9c",
   "metadata": {},
   "source": [
    "##### Use this function to take 50 samples of size 20 from `tip_pct`. What's the mean of this distribution of sample means?"
   ]
  },
  {
   "cell_type": "code",
   "execution_count": 65,
   "id": "857830a7",
   "metadata": {},
   "outputs": [],
   "source": [
    "#### Your code here"
   ]
  },
  {
   "cell_type": "markdown",
   "id": "3cb213eb",
   "metadata": {},
   "source": [
    "##### Create a histogram of these sample means. Plot the true population mean as a vertical line."
   ]
  },
  {
   "cell_type": "code",
   "execution_count": 71,
   "id": "c3f7b00f",
   "metadata": {},
   "outputs": [],
   "source": [
    "#### Your code here"
   ]
  },
  {
   "cell_type": "markdown",
   "id": "d43f2953",
   "metadata": {},
   "source": [
    "### This next problem will involve multiple steps.\n",
    "\n",
    "Steps:\n",
    "\n",
    "1. Use a `for` loop to iterate through each size from the `sample_sizes` list below. These are our **sample sizes**.\n",
    "2. For each **sample size**, take **50** samples of that size from `tip_pct` (using the `sampling_distribution`) function you've just defined).  \n",
    "3. For each of those sampling distributions, calculate the RMSE between the *mean* of that sampling distribution and the true mean of `tip_pct`.  \n",
    "4. Store all these RMSE values in a list. "
   ]
  },
  {
   "cell_type": "code",
   "execution_count": 75,
   "id": "509be5c1",
   "metadata": {},
   "outputs": [
    {
     "data": {
      "text/plain": [
       "150"
      ]
     },
     "execution_count": 75,
     "metadata": {},
     "output_type": "execute_result"
    }
   ],
   "source": [
    "sample_sizes = list(range(1, 151))\n",
    "max(sample_sizes)"
   ]
  },
  {
   "cell_type": "code",
   "execution_count": 76,
   "id": "bd5fed37",
   "metadata": {},
   "outputs": [],
   "source": [
    "#### Your code here"
   ]
  },
  {
   "cell_type": "markdown",
   "id": "cf5bd798",
   "metadata": {},
   "source": [
    "##### Create a `scatterplot` comparing `sample_sizes` to `avg_error`. "
   ]
  },
  {
   "cell_type": "code",
   "execution_count": 78,
   "id": "9812380f",
   "metadata": {},
   "outputs": [],
   "source": [
    "#### Your code here"
   ]
  },
  {
   "cell_type": "markdown",
   "id": "5c54ede9",
   "metadata": {},
   "source": [
    "##### What do you notice? Is there a trend here at all?"
   ]
  },
  {
   "cell_type": "code",
   "execution_count": 81,
   "id": "6fd77bf3",
   "metadata": {},
   "outputs": [],
   "source": [
    "#### Your response here"
   ]
  },
  {
   "cell_type": "markdown",
   "id": "49efaea5",
   "metadata": {},
   "source": [
    "### 2C. Central Limit Theorem\n",
    "\n",
    "Now we're going to apply these insights to several different distributions (and distribution shapes)."
   ]
  },
  {
   "cell_type": "markdown",
   "id": "39da4a6e",
   "metadata": {},
   "source": [
    "##### First, consider this highly right-skewed distribution."
   ]
  },
  {
   "cell_type": "code",
   "execution_count": 82,
   "id": "a551a1a8",
   "metadata": {},
   "outputs": [
    {
     "data": {
      "text/plain": [
       "<AxesSubplot:ylabel='Count'>"
      ]
     },
     "execution_count": 82,
     "metadata": {},
     "output_type": "execute_result"
    },
    {
     "data": {
      "image/png": "[encoded data removed]",
      "text/plain": [
       "<Figure size 432x288 with 1 Axes>"
      ]
     },
     "metadata": {
      "image/png": {
       "height": 248,
       "width": 388
      },
      "needs_background": "light"
     },
     "output_type": "display_data"
    }
   ],
   "source": [
    "obs_skewed = ss.skewnorm.rvs(100, size = 1000)\n",
    "sns.histplot(obs_skewed)"
   ]
  },
  {
   "cell_type": "markdown",
   "id": "a621b7ed",
   "metadata": {},
   "source": [
    "##### Use your `sampling_distribution` function to create a distribution of sample means: `50` samples of size `1`. Create a histogram of this distribution."
   ]
  },
  {
   "cell_type": "code",
   "execution_count": 83,
   "id": "193006e3",
   "metadata": {},
   "outputs": [],
   "source": [
    "#### Your code here"
   ]
  },
  {
   "cell_type": "markdown",
   "id": "8f4071c3",
   "metadata": {},
   "source": [
    "##### Use your `sampling_distribution` function to create a distribution of sample means: `50` samples of size `10`. Create a histogram of this distribution."
   ]
  },
  {
   "cell_type": "code",
   "execution_count": 85,
   "id": "353b61a0",
   "metadata": {},
   "outputs": [],
   "source": [
    "#### Your code here"
   ]
  },
  {
   "cell_type": "markdown",
   "id": "87545b36",
   "metadata": {},
   "source": [
    "##### Use your `sampling_distribution` function to create a distribution of sample means: `50` samples of size `20`. Create a histogram of this distribution."
   ]
  },
  {
   "cell_type": "code",
   "execution_count": 87,
   "id": "11cc1479",
   "metadata": {},
   "outputs": [],
   "source": [
    "#### Your code here"
   ]
  },
  {
   "cell_type": "markdown",
   "id": "0044c957",
   "metadata": {},
   "source": [
    "##### What do you notice about these distributions of sample means? \n",
    "\n",
    "As you write your answer, think about both:\n",
    "\n",
    "1. The **shape** of the distribution of sample means.  \n",
    "2. The **variance** of the distribution of sample means."
   ]
  },
  {
   "cell_type": "code",
   "execution_count": 89,
   "id": "3c45239b",
   "metadata": {},
   "outputs": [],
   "source": [
    "#### Your response here"
   ]
  },
  {
   "cell_type": "markdown",
   "id": "7c793d49",
   "metadata": {},
   "source": [
    "##### How does this relate to the `RMSE ~ sample_size` plot we looked at earlier?"
   ]
  },
  {
   "cell_type": "code",
   "execution_count": 90,
   "id": "8b2576f3",
   "metadata": {},
   "outputs": [],
   "source": [
    "#### Your response here"
   ]
  },
  {
   "cell_type": "markdown",
   "id": "2d06aa34",
   "metadata": {},
   "source": [
    "### Congratulations!\n",
    "\n",
    "These insights are the conceptual foundation of the **Central Limit Theorem**."
   ]
  }
 ],
 "metadata": {
  "kernelspec": {
   "display_name": "Python 3 (ipykernel)",
   "language": "python",
   "name": "python3"
  },
  "language_info": {
   "codemirror_mode": {
    "name": "ipython",
    "version": 3
   },
   "file_extension": ".py",
   "mimetype": "text/x-python",
   "name": "python",
   "nbconvert_exporter": "python",
   "pygments_lexer": "ipython3",
   "version": "3.9.12"
  }
 },
 "nbformat": 4,
 "nbformat_minor": 5
}
